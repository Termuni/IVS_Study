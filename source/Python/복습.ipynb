{
 "cells": [
  {
   "cell_type": "markdown",
   "id": "35569ff1-2128-4272-8e18-1ca5a9480799",
   "metadata": {},
   "source": [
    "헷갈리는 것들\n",
    "1. list\n",
    "2. input\n",
    "3. 슬라이싱\n",
    "4. format 함수 -> [인덱스]:[공백대체문자][정렬방법][자릿수][타입]}\n",
    "5. 문자열 관련 함수(split, join)\n",
    "6. enumerate, append, extend\n",
    "7. list comprehension"
   ]
  },
  {
   "cell_type": "code",
   "execution_count": 4,
   "id": "3aad28f8-0b02-4608-be6d-6ebf9c2d8ef6",
   "metadata": {},
   "outputs": [
    {
     "name": "stdin",
     "output_type": "stream",
     "text": [
      "최대한 큰 숫자를 입력해주세요 1ㅇㄴㄹ\n"
     ]
    },
    {
     "name": "stdout",
     "output_type": "stream",
     "text": [
      "입력된 값이 유효하지 않아, 0으로 대체합니다.\n",
      "[0]\n",
      "[5, 103, 123, 54, 30, 40, 75, 2, 5, 423, 0]\n"
     ]
    }
   ],
   "source": [
    "numbers = [5, 103, 123, 54, 30, 40, 75, 2, 5, 423]\n",
    "try:\n",
    "    inputNum = int(input(\"최대한 큰 숫자를 입력해주세요\"))\n",
    "except:\n",
    "    print(\"입력된 값이 유효하지 않아, 0으로 대체합니다.\")\n",
    "    inputNum = 0\n",
    "newListNumbers = []\n",
    "while inputNum >= 1000:\n",
    "    inNum = inputNum % 1000\n",
    "    newListNumbers = newListNumbers + [inNum]\n",
    "    inputNum //= 1000\n",
    "newListNumbers = newListNumbers + [inputNum]\n",
    "print(newListNumbers)\n",
    "numbers = numbers + newListNumbers\n",
    "print(numbers)"
   ]
  },
  {
   "cell_type": "code",
   "execution_count": 2,
   "id": "ad717116-691c-4f6f-9c02-660c98d17a1b",
   "metadata": {},
   "outputs": [
    {
     "name": "stdout",
     "output_type": "stream",
     "text": [
      "[5, 432, 514, 423, 5, 2, 75]\n",
      "[432, 423]\n",
      "[514, 2, 30, 103]\n"
     ]
    }
   ],
   "source": [
    "print(numbers[-1:5:-1]) # 끝에서부터 5번지 앞까지 한개씩 \n",
    "print(numbers[-2:7:-2])\n",
    "print(numbers[-3:0:-3])"
   ]
  },
  {
   "cell_type": "code",
   "execution_count": 10,
   "id": "e1fd6d38-14fa-4f0f-8f26-65af2e8d2c2c",
   "metadata": {},
   "outputs": [
    {
     "name": "stdout",
     "output_type": "stream",
     "text": [
      "025530405475103123423\n",
      "25534547513123423\n",
      "0:2\t1:5\t1\n",
      "2:5\t2\n",
      "3:3\t3\n",
      "4:4\t4\n",
      "5:5\t5\n",
      "6:4\t6\n",
      "7:7\t7\n",
      "8:5\t0\n",
      "9:1\t1\n",
      "10:3\t2\n",
      "11:1\t3\n",
      "12:2\t4\n",
      "13:3\t5\n",
      "14:4\t6\n",
      "15:2\t7\n",
      "16:3\t0\n"
     ]
    }
   ],
   "source": [
    "numbers.sort()\n",
    "numberString = ''.join(map(str, numbers))   #map에 대한 이해 필요\n",
    "finalStr = ''.join([num for num in numberString.split('0')])\n",
    "print(numberString)\n",
    "finalStr = ''.join([num for num in numberString.split('0')])\n",
    "print(finalStr)\n",
    "for idx, num in enumerate(finalStr):\n",
    "    print(\"{}:{}\\t\".format(idx, num), end = '')\n",
    "    if idx != 0 & idx % 8 == 0:\n",
    "        print(idx%8)  #왜 줄넘김이 안 되지?"
   ]
  },
  {
   "cell_type": "code",
   "execution_count": null,
   "id": "fef59060-ae04-4064-80e0-8c2b59fb7332",
   "metadata": {},
   "outputs": [],
   "source": []
  },
  {
   "cell_type": "code",
   "execution_count": null,
   "id": "b3a93bd2-be68-4437-8609-3cd9b8a2a1ad",
   "metadata": {},
   "outputs": [],
   "source": []
  }
 ],
 "metadata": {
  "kernelspec": {
   "display_name": "Python 3 (ipykernel)",
   "language": "python",
   "name": "python3"
  },
  "language_info": {
   "codemirror_mode": {
    "name": "ipython",
    "version": 3
   },
   "file_extension": ".py",
   "mimetype": "text/x-python",
   "name": "python",
   "nbconvert_exporter": "python",
   "pygments_lexer": "ipython3",
   "version": "3.11.7"
  }
 },
 "nbformat": 4,
 "nbformat_minor": 5
}
