{
 "cells": [
  {
   "cell_type": "markdown",
   "id": "a1e8b943-8c2e-4cf7-a2a8-c623a6f73d3a",
   "metadata": {},
   "source": [
    "CH07 객체지향 프로그래밍"
   ]
  },
  {
   "cell_type": "markdown",
   "id": "58172c89-54e7-46de-8eee-4ba6e464724a",
   "metadata": {},
   "source": [
    "# 1절 객체와 클래스\n",
    "```\n",
    "class 클래스명(상속받을 클래스명):\n",
    "    변수나 함수들을 선언\n",
    "\n",
    "클래스는 구조체랑 변수 초기화가 좀 다름\n",
    "```"
   ]
  },
  {
   "cell_type": "code",
   "execution_count": 1,
   "id": "9b78e2e3-b498-4b7d-927b-b772ada35274",
   "metadata": {},
   "outputs": [
    {
     "name": "stdout",
     "output_type": "stream",
     "text": [
      "<class '__main__.Person'>\n"
     ]
    }
   ],
   "source": [
    "class Person: #이름 대문자로 시작\n",
    "    \"\"\"\n",
    "    Person 클래스는 ~~~ \n",
    "    DocString 추가 가능\n",
    "    \"\"\"\n",
    "    pass\n",
    "p1 = Person()\n",
    "print(type(p1))"
   ]
  },
  {
   "cell_type": "code",
   "execution_count": 11,
   "id": "0f37b356-786d-4591-b707-c67f1010ce6d",
   "metadata": {},
   "outputs": [],
   "source": [
    "class Person:   \n",
    "    \"\"\"\n",
    "    Person은 이름, 성별 멤버변수가 있는 객체 타입입니다.\n",
    "    Default name과 gender -> X\n",
    "    \"\"\"\n",
    "    #멤버변수\n",
    "    def __init__(self, name='X', gender = 'X'):   #생성자 함수(호출하면서 실행됨), 반드시 __init__\n",
    "        #이때 self는 사용자에 의해 초기화간 입력되지 않음\n",
    "        self.name = name     #내 객체의 이름 = 받은 이름\n",
    "        self.gender = gender #내 객체의 성별 = 받은 성별\n",
    "        #self.age = 20  -> age라는 멤버변수에 무조건 20이 들어감\n",
    "        print(\"{}, {} Person 객체가 생성되었습니다.\".format(self.name, self.gender))\n",
    "\n",
    "    #클래스는 생성시 __str__라는 함수가 숨겨져 있음! (print 할시 오류가 없도록)\n",
    "    \n",
    "    #매개변수 없는 메소드\n",
    "    def print_info(self):    #함수 정의간 self를 안 넣으면 함수 작동 안 함\n",
    "                             #함수 사용간 self는 안 넣어도 됨\n",
    "        print(\"{}님은 {}입니다.\".format(self.name, self.gender))\n",
    "    #매개변수 있는 메소드\n",
    "    def printCnt(self, cnt): #self는 무시하고 cnt만 넣으면 됨\n",
    "        for i in range(cnt):\n",
    "            print(self.name, end='\\t')"
   ]
  },
  {
   "cell_type": "code",
   "execution_count": 12,
   "id": "fbe8864c-4b2c-4ebe-9921-8959508ef4b1",
   "metadata": {},
   "outputs": [
    {
     "name": "stdout",
     "output_type": "stream",
     "text": [
      "강선민, 남자 Person 객체가 생성되었습니다.\n"
     ]
    }
   ],
   "source": [
    "p1 = Person(\"강선민\", \"남자\")   #이렇게 하면 자동으로 __init__ 함수가 실행됨"
   ]
  },
  {
   "cell_type": "code",
   "execution_count": 13,
   "id": "52557249-3195-4e67-8257-b77016ad2e2e",
   "metadata": {},
   "outputs": [
    {
     "name": "stdout",
     "output_type": "stream",
     "text": [
      "강선민 남자\n"
     ]
    }
   ],
   "source": [
    "print(p1.name, p1.gender)"
   ]
  },
  {
   "cell_type": "code",
   "execution_count": 14,
   "id": "66d9d2bb-4818-4432-ab48-709bc5c7e37d",
   "metadata": {},
   "outputs": [
    {
     "name": "stdout",
     "output_type": "stream",
     "text": [
      "강선민님은 남자입니다.\n"
     ]
    }
   ],
   "source": [
    "p1.print_info()"
   ]
  },
  {
   "cell_type": "code",
   "execution_count": 15,
   "id": "34c0605d-be83-4c58-b535-96e6fa95a093",
   "metadata": {},
   "outputs": [
    {
     "name": "stdout",
     "output_type": "stream",
     "text": [
      "강선민\t강선민\t강선민\t강선민\t강선민\t"
     ]
    }
   ],
   "source": [
    "p1.printCnt(5) "
   ]
  },
  {
   "cell_type": "code",
   "execution_count": null,
   "id": "411289dc-6f6f-44a1-bb42-cb06ae255fe4",
   "metadata": {},
   "outputs": [],
   "source": [
    "print(p1) # 이대로 하면 무언가 설명하는 값 출력됨\n",
    "print(p1.__str__()) #이것과 같은 값이 나옴"
   ]
  },
  {
   "cell_type": "code",
   "execution_count": null,
   "id": "c6b63f46-02a9-45b2-9435-fa89fd221179",
   "metadata": {},
   "outputs": [],
   "source": []
  },
  {
   "cell_type": "code",
   "execution_count": null,
   "id": "8aacc817-35b6-4e59-88ec-2eac7f89d83d",
   "metadata": {},
   "outputs": [],
   "source": []
  },
  {
   "cell_type": "code",
   "execution_count": null,
   "id": "c9865a89-a989-442f-979b-64c3d3d6b350",
   "metadata": {},
   "outputs": [],
   "source": []
  },
  {
   "cell_type": "code",
   "execution_count": null,
   "id": "ab3e2177-f3ca-42ab-ba84-179bcbb2201a",
   "metadata": {},
   "outputs": [],
   "source": []
  },
  {
   "cell_type": "code",
   "execution_count": null,
   "id": "becd8891-9ea6-49fd-9cdd-317e85781fd3",
   "metadata": {},
   "outputs": [],
   "source": []
  },
  {
   "cell_type": "code",
   "execution_count": null,
   "id": "8ff4bcb4-7575-4da1-94bd-7a2287de848c",
   "metadata": {},
   "outputs": [],
   "source": []
  }
 ],
 "metadata": {
  "kernelspec": {
   "display_name": "Python 3 (ipykernel)",
   "language": "python",
   "name": "python3"
  },
  "language_info": {
   "codemirror_mode": {
    "name": "ipython",
    "version": 3
   },
   "file_extension": ".py",
   "mimetype": "text/x-python",
   "name": "python",
   "nbconvert_exporter": "python",
   "pygments_lexer": "ipython3",
   "version": "3.11.7"
  }
 },
 "nbformat": 4,
 "nbformat_minor": 5
}
