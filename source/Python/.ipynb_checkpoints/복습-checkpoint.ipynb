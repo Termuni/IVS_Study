{
 "cells": [
  {
   "cell_type": "markdown",
   "id": "35569ff1-2128-4272-8e18-1ca5a9480799",
   "metadata": {},
   "source": [
    "헷갈리는 것들\n",
    "1. list\n",
    "2. input\n",
    "3. 슬라이싱\n",
    "4. format 함수 -> [인덱스]:[공백대체문자][정렬방법][자릿수][타입]}\n",
    "5. 문자열 관련 함수(split, join)\n",
    "6. enumerate, append, extend\n",
    "7. list comprehension"
   ]
  },
  {
   "cell_type": "code",
   "execution_count": 46,
   "id": "3aad28f8-0b02-4608-be6d-6ebf9c2d8ef6",
   "metadata": {},
   "outputs": [
    {
     "name": "stdin",
     "output_type": "stream",
     "text": [
      "최대한 큰 숫자를 입력해주세요 34534756867856\n"
     ]
    },
    {
     "name": "stdout",
     "output_type": "stream",
     "text": [
      "[856, 867, 756, 534, 34]\n",
      "[5, 103, 123, 54, 30, 40, 75, 2, 5, 423, 856, 867, 756, 534, 34]\n"
     ]
    }
   ],
   "source": [
    "numbers = [5, 103, 123, 54, 30, 40, 75, 2, 5, 423]\n",
    "inputNum = int(input(\"최대한 큰 숫자를 입력해주세요\"))\n",
    "newListNumbers = []\n",
    "while inputNum >= 1000:\n",
    "    inNum = inputNum % 1000\n",
    "    newListNumbers = newListNumbers + [inNum]\n",
    "    inputNum //= 1000\n",
    "newListNumbers = newListNumbers + [inputNum]\n",
    "print(newListNumbers)\n",
    "numbers = numbers + newListNumbers\n",
    "print(numbers)"
   ]
  },
  {
   "cell_type": "code",
   "execution_count": 44,
   "id": "ad717116-691c-4f6f-9c02-660c98d17a1b",
   "metadata": {},
   "outputs": [
    {
     "name": "stdout",
     "output_type": "stream",
     "text": [
      "[673, 564, 423, 357, 345, 123, 103, 75, 54]\n",
      "[564, 357, 123]\n",
      "[423, 123, 54, 5]\n"
     ]
    }
   ],
   "source": [
    "print(numbers[-1:5:-1]) # 끝에서부터 5번지 앞까지 한개씩 \n",
    "print(numbers[-2:7:-2])\n",
    "print(numbers[-3:0:-3])"
   ]
  },
  {
   "cell_type": "code",
   "execution_count": 61,
   "id": "e1fd6d38-14fa-4f0f-8f26-65af2e8d2c2c",
   "metadata": {},
   "outputs": [
    {
     "name": "stdout",
     "output_type": "stream",
     "text": [
      "2553034405475103123423534756856867\n",
      "2553344547513123423534756856867\n",
      "0 : 2   \n",
      "1 : 5   \n",
      "2 : 5   \n",
      "3 : 3   \n",
      "4 : 3   \n",
      "5 : 4   \n",
      "6 : 4   \n",
      "7 : 5   \n",
      "8 : 4   \n",
      "9 : 7   \n",
      "10 : 5   \n",
      "11 : 1   \n",
      "12 : 3   \n",
      "13 : 1   \n",
      "14 : 2   \n",
      "15 : 3   \n",
      "16 : 4   \n",
      "17 : 2   \n",
      "18 : 3   \n",
      "19 : 5   \n",
      "20 : 3   \n",
      "21 : 4   \n",
      "22 : 7   \n",
      "23 : 5   \n",
      "24 : 6   \n",
      "25 : 8   \n",
      "26 : 5   \n",
      "27 : 6   \n",
      "28 : 8   \n",
      "29 : 6   \n",
      "30 : 7   \n"
     ]
    }
   ],
   "source": [
    "numbers.sort()\n",
    "numberString = ''.join(map(str, numbers))   #map에 대한 이해 필요\n",
    "finalStr = ''.join([num for num in numberString.split('0')])\n",
    "print(numberString)\n",
    "finalStr = ''.join([num for num in numberString.split('0')])\n",
    "print(finalStr)\n",
    "for idx, num in enumerate(finalStr):\n",
    "    print(\"{} : {}\".format(idx, num), '', ' ')  #왜 안 되지?"
   ]
  },
  {
   "cell_type": "code",
   "execution_count": null,
   "id": "fef59060-ae04-4064-80e0-8c2b59fb7332",
   "metadata": {},
   "outputs": [],
   "source": []
  },
  {
   "cell_type": "code",
   "execution_count": null,
   "id": "b3a93bd2-be68-4437-8609-3cd9b8a2a1ad",
   "metadata": {},
   "outputs": [],
   "source": []
  }
 ],
 "metadata": {
  "kernelspec": {
   "display_name": "Python 3 (ipykernel)",
   "language": "python",
   "name": "python3"
  },
  "language_info": {
   "codemirror_mode": {
    "name": "ipython",
    "version": 3
   },
   "file_extension": ".py",
   "mimetype": "text/x-python",
   "name": "python",
   "nbconvert_exporter": "python",
   "pygments_lexer": "ipython3",
   "version": "3.11.9"
  }
 },
 "nbformat": 4,
 "nbformat_minor": 5
}
