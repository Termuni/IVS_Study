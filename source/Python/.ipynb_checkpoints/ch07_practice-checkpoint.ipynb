{
 "cells": [
  {
   "cell_type": "markdown",
   "id": "7414654b-7110-4122-9ad2-0be87b37f594",
   "metadata": {},
   "source": [
    "```\n",
    "1. 다음조건을만족하는클래스를작성하세요\r\n",
    " 도형(Shape)클래스와삼각형(Triangle) 클래스를만들어야합니다.\r\n",
    "  도형(Shape)클래스\r\n",
    "• 생성자를통해width, height를초기화할수있습니다. width, height의기본값은0, 0\r\n",
    "입니다.\r\n",
    " • width, height를 조절할수있는modify 함수가있습니다.\r\n",
    " • width, height 값 정보를 문자열로리턴하는__str__ 함수가있습니다\r\n",
    "• 도형의면적을구하는함수(calc_area)가있습니다. \r\n",
    " ‘삼각형(Triangle)클래스는도형(Shape)클래스이다’관계가성립해야합니다\r\n",
    " 생성자를통해, width, height, x, y좌표를 초기화하고x, y 좌표의 기본값은0, 0입니다\r\n",
    " 삼각형의면적을구하는메소드calc_area를재정의합니다\r\n",
    " 삼각형의정보를문자열로반환하는__str__\n",
    "```() 함수가있습니다."
   ]
  },
  {
   "cell_type": "markdown",
   "id": "118f66f7-0a5d-4b56-a384-b5d29c7f7e72",
   "metadata": {},
   "source": [
    "s1 = Shape(2,3)  #정의용 함수\n",
    "s1.modify(-1,1)  #값 조절하는 함수\n",
    "__str__\n",
    "s1.calc_area()        #넓이 반환하는 함수\n",
    "\n",
    "triangle은 Shape 클래스이다 라는 관계가 성립해야함\n",
    "width, height, x, y\n",
    "t1 = Triangle(2,3,0,0)\n",
    "t1.area()\n",
    "__str__ 도 상속받아야함"
   ]
  }
 ],
 "metadata": {
  "kernelspec": {
   "display_name": "Python 3 (ipykernel)",
   "language": "python",
   "name": "python3"
  },
  "language_info": {
   "codemirror_mode": {
    "name": "ipython",
    "version": 3
   },
   "file_extension": ".py",
   "mimetype": "text/x-python",
   "name": "python",
   "nbconvert_exporter": "python",
   "pygments_lexer": "ipython3",
   "version": "3.11.7"
  }
 },
 "nbformat": 4,
 "nbformat_minor": 5
}
