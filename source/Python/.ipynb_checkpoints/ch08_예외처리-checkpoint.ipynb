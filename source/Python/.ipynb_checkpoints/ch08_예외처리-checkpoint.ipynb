{
 "cells": [
  {
   "cell_type": "markdown",
   "id": "e31be069-64b1-4459-9df6-b348a3beb0c0",
   "metadata": {},
   "source": [
    "CH08 예외처리"
   ]
  },
  {
   "cell_type": "markdown",
   "id": "8cbe2f68-9192-4942-afff-619024492e59",
   "metadata": {},
   "source": [
    "# 1절 예외처리(Exception Handling)\n",
    "- 예외가 날 가능성이 있는 부분을 미리 예상, 그에 대한 처리를 프로그래밍 하는 것 (이유 : 예외 발생되더라도 안정적으로 실행될 수 있도록)\n",
    "- "
   ]
  },
  {
   "cell_type": "code",
   "execution_count": null,
   "id": "350bc5e3-1d4d-4cf1-9178-c041783b57ab",
   "metadata": {},
   "outputs": [],
   "source": [
    "#data 안의 ch08.txt에 있는 파일 불러오기 \n",
    "#있는 파일의 경우 예외 발생 안함\n",
    "filename = input('파일명?')\n",
    "f = open('data/'+filename, 'r', encoding = 'utf-8')  #'r' -> read mode,  encoding은 default가 컴퓨터 세팅 따라감\n",
    "f.readlines()"
   ]
  },
  {
   "cell_type": "code",
   "execution_count": null,
   "id": "be7fc9a2-5e5f-4519-b7ca-55240f6e051e",
   "metadata": {},
   "outputs": [],
   "source": [
    "f.close()"
   ]
  },
  {
   "cell_type": "markdown",
   "id": "d1e193ad-84f4-4665-8dd7-5d34507a9801",
   "metadata": {},
   "source": [
    "#없는 파일의 경우 예외 발생\n",
    "filename = input('파일명?')\n",
    "f = open('data/'+filename, 'r', encoding = 'utf-8')  #'r' -> read mode,  encoding은 default가 컴퓨터 세팅 따라감\n",
    "f.readlines()\n",
    "\n",
    "예외 발생된 경우 예외 객체 생성, \n",
    "Type : FileNotFoundError\n",
    "예외 객체 생성과 함께 예외 메세지 생성"
   ]
  },
  {
   "cell_type": "code",
   "execution_count": null,
   "id": "e0c33d95-2010-4efe-a8a7-34873332f89d",
   "metadata": {},
   "outputs": [],
   "source": [
    "num = int(input('나눌 숫자를 입력하세요 >>'))\n",
    "100 / num\n",
    "#ValueError 예외 객체 : 숫자가 아닌 문자를 입력한 경우\n",
    "#ZeroDivisionError 예외 객체 : 0을 입력한 경우"
   ]
  },
  {
   "cell_type": "code",
   "execution_count": null,
   "id": "12a3f2fc-25e2-451a-82c9-6f446e051b37",
   "metadata": {},
   "outputs": [],
   "source": [
    "#인덱스를 벗어났을 경우\n",
    "a = [1,2,3]\n",
    "#a[3]\n",
    "#IndexError 예외 객체"
   ]
  },
  {
   "cell_type": "markdown",
   "id": "04485dc7-91f8-4798-be08-a41199f38c4b",
   "metadata": {},
   "source": [
    "# 2절 try ~ except\n",
    "```\n",
    "try: \n",
    "    예외 발생 가능성이 있는 명령어...\n",
    "except:\n",
    "    예외 발생한 경우 수행할 명령어\n",
    "\n",
    "※ 예외 객체 타입을 특정할 수 있음\n",
    "\n",
    "except [예외 타입[as 예외객체 변수명]]:\n",
    "    예외 발생한 경우 수행하는 명령어\n",
    "\n",
    "[else: -> 잘 안 씀\n",
    "    예외가 발생되지 않을 경우 수행 명령어]\n",
    "\n",
    "[finally:\n",
    "    예외가 발생되든 안 되든 반드시 실행할 명령어]\n",
    "```"
   ]
  },
  {
   "cell_type": "code",
   "execution_count": null,
   "id": "d30603d9-d6dd-4afb-a796-f3ab50315dc8",
   "metadata": {},
   "outputs": [],
   "source": [
    "#100을 입력받은 정수값으로 나눠 출력하는 프로그램\n",
    "#ValueError\n",
    "#ZeroDivisionError\n",
    "try:\n",
    "    x = int(input(\"100을 나눌 정수를 입력 >>\"))\n",
    "    print(\"입력한 수는 {}\".format(x))\n",
    "    print(\"100을 입력한 정수로 나누면 {:.2f}입니다.\".format(100/x))\n",
    "except:\n",
    "    print(\"유효한 정수가 아닙니다\")"
   ]
  },
  {
   "cell_type": "code",
   "execution_count": null,
   "id": "c61a6ae7-c3db-4fa2-8e9a-0ef5ec37a762",
   "metadata": {},
   "outputs": [],
   "source": [
    "#예외타입(2가지) 지정한 프로그램 : ValueError, ZeroDivisionError\n",
    "try:\n",
    "    x = int(input(\"100을 나눌 정수를 입력 >>\"))\n",
    "    print(\"입력한 수는 {}\".format(x))\n",
    "    print(\"100을 입력한 정수로 나누면 {:.2f}입니다.\".format(100/x))\n",
    "except ValueError:\n",
    "    print(\"유효한 숫자를 입력하세요\")\n",
    "except ZeroDivisionError:\n",
    "    print(\"0은 입력하지 마세요\")\n",
    "except Exception:   #except 절이 많은 경우 --> 상위 클래스를 아래에 명시!\n",
    "                    #Exception은 ZeroDivisionError or ValueError의 부모이기 때문에 대체가능\n",
    "                    #다만 Exception을 맨 위에 두면?? \n",
    "                    #-> ValueError의 부모이기도, ZeroDivisionError의 부모이기도 때문에 ValueError도 잡아냄!!!\n",
    "                    #그 이유는 except 에서 isistance(대상명, 객체종류) 로 해서 True/False 체킹하기때문\n",
    "    print(\"알 수 없는 혹시 모를 예외입니다.\")\n",
    "    "
   ]
  },
  {
   "cell_type": "code",
   "execution_count": null,
   "id": "9b8a5ba3-6a2f-471c-b704-e6c86323f5fe",
   "metadata": {},
   "outputs": [],
   "source": [
    "#pdf p.24 매우 많은 에러들 정리해둠\n",
    "#이때 예를 들어 IndexError의 경우 LookUpError를 상속받고, LookUpError는 Exception을 상속받은 것임!"
   ]
  },
  {
   "cell_type": "code",
   "execution_count": null,
   "id": "52effaf4-a501-4bcc-992d-cc6729757b97",
   "metadata": {},
   "outputs": [],
   "source": [
    "#유효한 숫자를 입력할 때까지 수를 입력받음\n",
    "while True:\n",
    "    try:\n",
    "        x = int(input(\"100을 나눌 정수를 입력 >>\"))\n",
    "        print(\"입력한 수는 {}\".format(x))\n",
    "        print(\"100을 입력한 정수로 나누면 {:.2f}입니다.\".format(100/x))\n",
    "        break\n",
    "    except (ValueError, ZeroDivisionError):\n",
    "        print(\"제대로 입력좀 하세요\")\n",
    "    except ValueError:\n",
    "        print(\"유효한 숫자를 입력하세요\")\n",
    "    except ZeroDivisionError:\n",
    "        print(\"0은 입력하지 마세요\")\n",
    "    except Exception:\n",
    "        print(\"알 수 없는 혹시 모를 예외입니다.\")"
   ]
  },
  {
   "cell_type": "markdown",
   "id": "1fc337d6-eef7-421a-bd39-9ed9635e6c01",
   "metadata": {},
   "source": [
    "### try ~ except [예외타입 [as 예외객체 변수명]] "
   ]
  },
  {
   "cell_type": "code",
   "execution_count": null,
   "id": "94173b7f-3243-427f-9ccb-0bcf407ccdc7",
   "metadata": {},
   "outputs": [],
   "source": [
    "#유효한 숫자를 입력할 때까지 수를 입력받음\n",
    "while True:\n",
    "    try:\n",
    "        x = int(input(\"100을 나눌 정수를 입력 >>\"))\n",
    "        print(\"입력한 수는 {}\".format(x))\n",
    "        print(\"100을 입력한 정수로 나누면 {:.2f}입니다.\".format(100/x))\n",
    "        break\n",
    "    except (ValueError, ZeroDivisionError) as e:  #예외 발생한 경우 변수 명이 e로 들어감\n",
    "        #print(e.__str__())와 아래와 같은 결과가 나옴\n",
    "        print(e) \n",
    "        print(\"예외 메세지 e.args :\", e.args) #print(e)와 같은 내용 나옴\n",
    "        print(\"예외 객체의 타입 :\", type(e))"
   ]
  },
  {
   "cell_type": "markdown",
   "id": "569b32e0-ea9d-47f9-9938-b8f3e0d12b6e",
   "metadata": {},
   "source": [
    "### try ~ except ~ else ~ finally"
   ]
  },
  {
   "cell_type": "code",
   "execution_count": null,
   "id": "804d1a64-96b4-49ca-9b46-f989de6fd3c0",
   "metadata": {},
   "outputs": [],
   "source": [
    "#Try ~ Except ~ Finally\n",
    "try:\n",
    "    f = open('data/ch08.txt', 'r', encoding = 'utf-8')   #f는 파일 객체\n",
    "    data = f.read() #파일을 끝까지 text 형태로 읽어서 반환\n",
    "    print(data)\n",
    "except FileNotFoundError as e:\n",
    "    print(e)\n",
    "finally:\n",
    "    f.close()   #중요! 안 하면 저장 안 됨"
   ]
  },
  {
   "cell_type": "code",
   "execution_count": null,
   "id": "64e71b92-1932-4a5f-8980-435bfe7b720d",
   "metadata": {},
   "outputs": [],
   "source": [
    "#Try ~ Except ~ else ~ Finally\n",
    "try:\n",
    "    f = open('data/ch08.txt', 'r', encoding = 'utf-8')   #f는 파일 객체\n",
    "    data = f.read() #파일을 끝까지 text 형태로 읽어서 반환\n",
    "except FileNotFoundError as e:\n",
    "    print(e)\n",
    "else:\n",
    "    print(data)\n",
    "finally:\n",
    "    f.close()   #중요! 안 하면 저장 안 됨"
   ]
  },
  {
   "cell_type": "markdown",
   "id": "38378477-c9db-4e56-91f9-8f0706c0e61b",
   "metadata": {},
   "source": [
    "# 3절 강제로 예외 발생(raise)"
   ]
  },
  {
   "cell_type": "code",
   "execution_count": 1,
   "id": "35c31c18-3b25-42d2-9b1c-691dda64e6a4",
   "metadata": {},
   "outputs": [
    {
     "ename": "Exception",
     "evalue": "예외가 발생했습니다",
     "output_type": "error",
     "traceback": [
      "\u001b[1;31m---------------------------------------------------------------------------\u001b[0m",
      "\u001b[1;31mException\u001b[0m                                 Traceback (most recent call last)",
      "Cell \u001b[1;32mIn[1], line 2\u001b[0m\n\u001b[0;32m      1\u001b[0m \u001b[38;5;66;03m# p = Exception()  -> exception 타입을 메모리에 하나 올리는 것,\u001b[39;00m\n\u001b[1;32m----> 2\u001b[0m \u001b[38;5;28;01mraise\u001b[39;00m \u001b[38;5;167;01mException\u001b[39;00m(\u001b[38;5;124m\"\u001b[39m\u001b[38;5;124m예외가 발생했습니다\u001b[39m\u001b[38;5;124m\"\u001b[39m)\n",
      "\u001b[1;31mException\u001b[0m: 예외가 발생했습니다"
     ]
    }
   ],
   "source": [
    "# p = Exception()  -> exception 타입을 메모리에 하나 올리는 것,\n",
    "raise Exception(\"예외가 발생했습니다\")  # exception Type 생성하고 안에 예외타입과 메시지 발생"
   ]
  },
  {
   "cell_type": "code",
   "execution_count": 4,
   "id": "dacef2d4-64b0-4637-8300-e58c8632886a",
   "metadata": {},
   "outputs": [],
   "source": [
    "#사용자 정의 예외 타입 -> 기존 python에서 제공되는 Exception을 상속받아서 제작됨\n",
    "#보통 이름 끝에 Error 붙임\n",
    "class LengthZeroError(Exception):\n",
    "    \"길이가 0일 때 발생하는 예외\"\n",
    "    pass"
   ]
  },
  {
   "cell_type": "code",
   "execution_count": 3,
   "id": "6e5a4a84-a616-474b-a594-eff8b33c2af3",
   "metadata": {},
   "outputs": [
    {
     "ename": "LengthZeroError",
     "evalue": "매개변수 길이가 0이면 예외",
     "output_type": "error",
     "traceback": [
      "\u001b[1;31m---------------------------------------------------------------------------\u001b[0m",
      "\u001b[1;31mLengthZeroError\u001b[0m                           Traceback (most recent call last)",
      "Cell \u001b[1;32mIn[3], line 1\u001b[0m\n\u001b[1;32m----> 1\u001b[0m \u001b[38;5;28;01mraise\u001b[39;00m LengthZeroError(\u001b[38;5;124m\"\u001b[39m\u001b[38;5;124m매개변수 길이가 0이면 예외\u001b[39m\u001b[38;5;124m\"\u001b[39m)\n",
      "\u001b[1;31mLengthZeroError\u001b[0m: 매개변수 길이가 0이면 예외"
     ]
    }
   ],
   "source": [
    "raise LengthZeroError(\"매개변수 길이가 0이면 예외\")"
   ]
  },
  {
   "cell_type": "code",
   "execution_count": 8,
   "id": "b5cfb6d8-d384-4a23-8c49-3aa4c31d5931",
   "metadata": {},
   "outputs": [],
   "source": [
    "#생성자 넣기\n",
    "class LengthZeroError(Exception):\n",
    "    \"길이가 0일 때 발생하는 예외\"\n",
    "    def __init__(self):#, message):\n",
    "        super().__init__(\"매개변수 길이가 0이면 예외\")"
   ]
  },
  {
   "cell_type": "code",
   "execution_count": 7,
   "id": "daff733c-9803-4860-b9da-bd69a861d2b3",
   "metadata": {},
   "outputs": [
    {
     "ename": "LengthZeroError",
     "evalue": "매개변수 길이가 0이면 예외",
     "output_type": "error",
     "traceback": [
      "\u001b[1;31m---------------------------------------------------------------------------\u001b[0m",
      "\u001b[1;31mLengthZeroError\u001b[0m                           Traceback (most recent call last)",
      "Cell \u001b[1;32mIn[7], line 1\u001b[0m\n\u001b[1;32m----> 1\u001b[0m \u001b[38;5;28;01mraise\u001b[39;00m LengthZeroError()\n",
      "\u001b[1;31mLengthZeroError\u001b[0m: 매개변수 길이가 0이면 예외"
     ]
    }
   ],
   "source": [
    "raise LengthZeroError()"
   ]
  },
  {
   "cell_type": "code",
   "execution_count": 22,
   "id": "95a27653-6133-471f-a72a-c4e1197474b1",
   "metadata": {},
   "outputs": [
    {
     "name": "stdout",
     "output_type": "stream",
     "text": [
      "2 3 4 등을 입력하셨습니다\n"
     ]
    }
   ],
   "source": [
    "def insert(*data):  #튜플 매개변수\n",
    "    if len(data) == 0:\n",
    "        raise LengthZeroError()\n",
    "    for item in data:\n",
    "        print(item, end = ' ')\n",
    "    print(\"등을 입력하셨습니다\")\n",
    "\n",
    "insert(2, 3, 4)\n",
    "#insert()"
   ]
  },
  {
   "cell_type": "code",
   "execution_count": 21,
   "id": "e79889d6-4040-46ef-8fbe-b5ffafbf282e",
   "metadata": {},
   "outputs": [
    {
     "name": "stdout",
     "output_type": "stream",
     "text": [
      "1 2 3 등을 입력하셨습니다\n"
     ]
    }
   ],
   "source": [
    "l = (1,2,3)\n",
    "insert(*l)  #언패킹"
   ]
  },
  {
   "cell_type": "markdown",
   "id": "0de63d85-ca5e-4ddc-99e8-9dd2022c30be",
   "metadata": {},
   "source": [
    "# 4절 파일 정리작업(with절 이용)\n",
    "- finally를 안 쓰고 해결하려고 하는 것\n",
    "- 파일 입출력시 자원 반납이 필수 (close문)"
   ]
  },
  {
   "cell_type": "code",
   "execution_count": 24,
   "id": "caf5c296-b46f-49b8-aaf7-1bc2ba16cf9d",
   "metadata": {},
   "outputs": [
    {
     "name": "stdout",
     "output_type": "stream",
     "text": [
      "['THIS IS TEST FILE\\n', 'Hello, Python\\n', '테스트 파일입니다.']\n"
     ]
    }
   ],
   "source": [
    "try:\n",
    "    f = open('data/ch08.txt', 'r', encoding = 'utf-8')\n",
    "    #data = f.read()\n",
    "    lines = f.readlines()  #한 줄 한 줄 모든 줄을 list 형태로 반환\n",
    "    #print(data)\n",
    "    print(lines)\n",
    "except exception:\n",
    "    print(\"없는 파일이거나 encoding 확인 요망\", e)\n",
    "finally:\n",
    "    f.close()"
   ]
  },
  {
   "cell_type": "markdown",
   "id": "b1863a62-8593-4b97-afd1-eefceed014be",
   "metadata": {},
   "source": [
    "### with를 통한 파일 열기\n",
    "-> with 사용시 자동 close() 실행"
   ]
  },
  {
   "cell_type": "code",
   "execution_count": 25,
   "id": "0d4420a8-d215-48da-9d28-378ee5a89c22",
   "metadata": {},
   "outputs": [
    {
     "name": "stdout",
     "output_type": "stream",
     "text": [
      "['THIS IS TEST FILE\\n', 'Hello, Python\\n', '테스트 파일입니다.']\n"
     ]
    }
   ],
   "source": [
    "with open('data/ch08.txt', 'r', encoding = 'utf-8') as f:   #f는 지역변수, with에서만 사용\n",
    "    lines = f.readlines()\n",
    "print(lines) # lines는 with에서 빠져나오면 사용 가능"
   ]
  },
  {
   "cell_type": "code",
   "execution_count": null,
   "id": "cb52407b-f87d-441d-989f-42e74e0a46aa",
   "metadata": {},
   "outputs": [],
   "source": []
  },
  {
   "cell_type": "markdown",
   "id": "cc71bac1-6686-4e0c-94d9-cf7dbf0cfe77",
   "metadata": {},
   "source": [
    "# 연습문제 -> 따로 실시"
   ]
  },
  {
   "cell_type": "code",
   "execution_count": null,
   "id": "ccdb8a88-0f7f-43a8-9de8-46d58b4f895f",
   "metadata": {},
   "outputs": [],
   "source": []
  },
  {
   "cell_type": "code",
   "execution_count": null,
   "id": "2e28e85b-b230-4930-b69e-cd4d1b4cacfc",
   "metadata": {},
   "outputs": [],
   "source": []
  },
  {
   "cell_type": "code",
   "execution_count": null,
   "id": "d148d40c-2854-44a5-92e5-8aab54b89547",
   "metadata": {},
   "outputs": [],
   "source": []
  }
 ],
 "metadata": {
  "kernelspec": {
   "display_name": "Python 3 (ipykernel)",
   "language": "python",
   "name": "python3"
  },
  "language_info": {
   "codemirror_mode": {
    "name": "ipython",
    "version": 3
   },
   "file_extension": ".py",
   "mimetype": "text/x-python",
   "name": "python",
   "nbconvert_exporter": "python",
   "pygments_lexer": "ipython3",
   "version": "3.11.7"
  }
 },
 "nbformat": 4,
 "nbformat_minor": 5
}
