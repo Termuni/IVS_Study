{
 "cells": [
  {
   "cell_type": "markdown",
   "id": "21f3661a-e582-4347-b13a-7f7e4df07036",
   "metadata": {},
   "source": [
    "CH04.제어문\n",
    "- if 문\n",
    "- for in 문\n",
    "- while 문"
   ]
  },
  {
   "cell_type": "markdown",
   "id": "11261dd9-0304-4272-973e-70896fc60c3b",
   "metadata": {},
   "source": [
    "# 1절 if문"
   ]
  },
  {
   "cell_type": "code",
   "execution_count": null,
   "id": "90ac6c52-d8ce-46c9-b6c8-6c3b7f49e7f1",
   "metadata": {},
   "outputs": [],
   "source": [
    "#점수 입력, 학점 출력\n",
    "name = \"강선민\"\n",
    "try:\n",
    "    score = int(input(\"sir \" + name + \", Please Enter your score >>\")) #input에는 문자만 사용 가능, format 사용 불가\n",
    "    #score = int(input(\"sir {}, Please Enter your score >>\".format(name)) --> 불가능!! \n",
    "except:\n",
    "    print(\"ERROR!\")\n",
    "if 90 <= score <= 100:\n",
    "    grade = 'A'   #이건 이제 할당, if문 내부라도 선언하면 생성은 무조건 되는 것\n",
    "elif 80 <= score < 90:\n",
    "    grade = 'B'\n",
    "elif 70 <= score < 80:\n",
    "    grade = 'C'\n",
    "elif 60 <= score < 70:\n",
    "    grade = 'D'\n",
    "elif 0 <= score < 60:\n",
    "    grade = 'F'\n",
    "else:\n",
    "    grade = '유효하지 않은 '\n",
    "print(\"입력하신 점수는 {}점이고, 등급은 {}등급입니다.\".format(score, grade))"
   ]
  },
  {
   "cell_type": "markdown",
   "id": "74fcf66d-e7be-42a6-8ef4-db060edafc32",
   "metadata": {},
   "source": [
    "# 2절 for-in문\n",
    "\n",
    "```\n",
    "※나열 가능한 자료형 -> list, tuple, set, dictionary, range 등※\n",
    "\n",
    "for 변수 in (나열이 가능한 자료형):   \n",
    "    \"반복할 문장 1\"\n",
    "    \"반복할 문장 2\"\n",
    "else:   -> for문 마지막까지 전부 다 수행을 완료한 뒤, 끝나고 딱 한번만 실행\n",
    "    \"변수에 값이 할당되지 않은 경우 한번 실행할 문장(else구문 선택사항)\"\n",
    "\n",
    "☆★☆for문 안에 break가 있는 경우 else 블럭 수행되지 않음!☆★☆\n",
    "```"
   ]
  },
  {
   "cell_type": "code",
   "execution_count": null,
   "id": "c21c9ea7-1940-476e-b93c-cc1310f0a454",
   "metadata": {},
   "outputs": [],
   "source": [
    "print(range(10))\n",
    "print(list(range(1,10)))\n",
    "print(list(range(1,10,2)))"
   ]
  },
  {
   "cell_type": "code",
   "execution_count": null,
   "id": "3f5275ab-ca18-4a3b-99fe-06fe5dca7573",
   "metadata": {},
   "outputs": [],
   "source": [
    "for i in range(1, 10, 2):\n",
    "    print(i, end=' ')\n",
    "    #만약 어디선가 break 되면 아래 else는 실행 안 됨\n",
    "else:\n",
    "    print(\"\\nDONE\")"
   ]
  },
  {
   "cell_type": "code",
   "execution_count": null,
   "id": "49542089-9f23-4e08-805b-8ffe74651c99",
   "metadata": {},
   "outputs": [],
   "source": [
    "#1부터 100까지 짝수 합 계산\n",
    "sum = 0\n",
    "for i in range(2, 102, 2): #2부터 101까지의 짝수 합\n",
    "    sum += i\n",
    "else:\n",
    "    print(\"1부터 100까지의 짝수의 합은 {}입니다.\".format(sum))"
   ]
  },
  {
   "cell_type": "markdown",
   "id": "9649eb77-385d-4972-9c75-0e5deb8f83a1",
   "metadata": {},
   "source": [
    "# 3절 while문\n",
    "```\n",
    "while 조건:\n",
    "    \"반복될 문장 1\"\n",
    "    \"반복될 문장 2\"\n",
    "else:\n",
    "    \"조건이 거짓일 경우 한번 수행할 문장(else는 선택사항)\"\n",
    "    -> while문 내에서 break 통해 빠져나올 때 else는 수행하지 않음\n",
    "```"
   ]
  },
  {
   "cell_type": "code",
   "execution_count": 6,
   "id": "4b47d709-f87a-42df-bcf0-da903a0c0791",
   "metadata": {},
   "outputs": [
    {
     "name": "stdin",
     "output_type": "stream",
     "text": [
      "첫번째(작은) 정수를 입력해주십시오 -34\n",
      "두번째(큰) 정수를 입력해주십시오 215\n"
     ]
    },
    {
     "name": "stdout",
     "output_type": "stream",
     "text": [
      "Calculation Successfully Done\n",
      "-34부터 215까지 홀수들의 누적합은 11375\n"
     ]
    }
   ],
   "source": [
    "#사용자에게 두 수를 입력받아 첫 번째 수(무조건 작은 수)부터 두 번째 입력한 수(반드시 큰 수) 까지 홀수의 합 누적\n",
    "num1 = int(input(\"첫번째(작은) 정수를 입력해주십시오\"))\n",
    "num2 = int(input(\"두번째(큰) 정수를 입력해주십시오\"))\n",
    "sum = 0 #누적 변수\n",
    "idx = num1\n",
    "while idx <= num2:\n",
    "    if idx%2 != 0:\n",
    "        sum += idx\n",
    "    idx += 1\n",
    "else:\n",
    "    print(\"Calculation Successfully Done\")\n",
    "print(\"{}부터 {}까지 홀수들의 누적합은 {}\".format(num1, num2, sum))"
   ]
  },
  {
   "cell_type": "markdown",
   "id": "190f205a-b61e-45e0-92ba-a8da00b45f85",
   "metadata": {},
   "source": [
    "# 4절 break, continue"
   ]
  },
  {
   "cell_type": "code",
   "execution_count": 16,
   "id": "9fad61af-329f-49fa-a970-38eb386e0633",
   "metadata": {},
   "outputs": [
    {
     "name": "stdout",
     "output_type": "stream",
     "text": [
      "num = 1 \tnum = 2 \tnum = 4 \tnum = 5 \tnum = 7 \tnum = 8 \tnum = 10 \tnum = 11 \t"
     ]
    }
   ],
   "source": [
    "num = 0\n",
    "while num <= 10:\n",
    "    num += 1\n",
    "    if num % 3 == 0:\n",
    "        #break\n",
    "        continue\n",
    "    print(\"num = {} \".format(num), end='\\t')"
   ]
  },
  {
   "cell_type": "markdown",
   "id": "d0db17d6-df1e-40d0-8abc-04dd78ab9318",
   "metadata": {},
   "source": [
    "# 5절 이중 loop문"
   ]
  },
  {
   "cell_type": "code",
   "execution_count": 24,
   "id": "d7ccd45f-072b-451a-acc4-c0b4d649bf9d",
   "metadata": {},
   "outputs": [
    {
     "name": "stdout",
     "output_type": "stream",
     "text": [
      "2x1=2   3x1=3   4x1=4   5x1=5   6x1=6   7x1=7   8x1=8   9x1=9   \n",
      "2x2=4   3x2=6   4x2=8   5x2=10  6x2=12  7x2=14  8x2=16  9x2=18  \n",
      "2x3=6   3x3=9   4x3=12  5x3=15  6x3=18  7x3=21  8x3=24  9x3=27  \n",
      "2x4=8   3x4=12  4x4=16  5x4=20  6x4=24  7x4=28  8x4=32  9x4=36  \n",
      "2x5=10  3x5=15  4x5=20  5x5=25  6x5=30  7x5=35  8x5=40  9x5=45  \n",
      "2x6=12  3x6=18  4x6=24  5x6=30  6x6=36  7x6=42  8x6=48  9x6=54  \n",
      "2x7=14  3x7=21  4x7=28  5x7=35  6x7=42  7x7=49  8x7=56  9x7=63  \n",
      "2x8=16  3x8=24  4x8=32  5x8=40  6x8=48  7x8=56  8x8=64  9x8=72  \n",
      "2x9=18  3x9=27  4x9=36  5x9=45  6x9=54  7x9=63  8x9=72  9x9=81  \n"
     ]
    }
   ],
   "source": [
    "for back in range(1, 10): #1~9\n",
    "    for front in range(2, 10): #2~9\n",
    "        print(\"{}x{}={:<2}\".format(front, back, front * back), end = '  ')\n",
    "    print() #개행용 빈 프린트"
   ]
  },
  {
   "cell_type": "code",
   "execution_count": null,
   "id": "e40b713e-9520-420a-9833-4a30918507fa",
   "metadata": {},
   "outputs": [],
   "source": []
  },
  {
   "cell_type": "code",
   "execution_count": null,
   "id": "e25789b7-afbd-4629-81f3-8e6da8120d22",
   "metadata": {},
   "outputs": [],
   "source": []
  },
  {
   "cell_type": "code",
   "execution_count": null,
   "id": "89cf3085-2028-4ed3-a8d5-357f3b624e05",
   "metadata": {},
   "outputs": [],
   "source": []
  }
 ],
 "metadata": {
  "kernelspec": {
   "display_name": "Python 3 (ipykernel)",
   "language": "python",
   "name": "python3"
  },
  "language_info": {
   "codemirror_mode": {
    "name": "ipython",
    "version": 3
   },
   "file_extension": ".py",
   "mimetype": "text/x-python",
   "name": "python",
   "nbconvert_exporter": "python",
   "pygments_lexer": "ipython3",
   "version": "3.11.7"
  }
 },
 "nbformat": 4,
 "nbformat_minor": 5
}
