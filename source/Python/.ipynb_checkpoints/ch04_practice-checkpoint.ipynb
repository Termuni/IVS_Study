{
 "cells": [
  {
   "cell_type": "markdown",
   "id": "ae801e88-bb91-4633-86a8-a7336ec1dac1",
   "metadata": {},
   "source": [
    "# 4장 연습문제"
   ]
  },
  {
   "cell_type": "code",
   "execution_count": 2,
   "id": "8014726d-4c20-446c-94ad-199d049680d4",
   "metadata": {},
   "outputs": [
    {
     "name": "stdout",
     "output_type": "stream",
     "text": [
      "95\n"
     ]
    }
   ],
   "source": [
    "import random\n",
    "#random.seed(7) #-> 시드값 넣어주면 랜덤수가 같음\n",
    "print(random.randint(1,100)) #import 전까지는 shift+tab으로 설명 못 봄"
   ]
  },
  {
   "cell_type": "code",
   "execution_count": null,
   "id": "1042dd7b-c9c2-4f5e-a855-a237f1025222",
   "metadata": {},
   "outputs": [],
   "source": [
    "#1~100 사이의 정수 맞추는 프로그램 구현\n",
    "#방법 1 : 숫자 틀리면 UP / DOWN 알려주고 숫자 맞추면 종료\n",
    "#방법 2 : 숫자 틀리면 min~max 사이 수라고 알려죽 숫자를 맞추면 종료\n",
    "import random\n",
    "randNum = random.randint(1, 100)\n",
    "min = 1\n",
    "max = 100\n",
    "print(randNum)\n",
    "inputNum = int(input(\"1~100 사이의 숫자를 입력하세요\"))\n",
    "while inputNum != randNum:\n",
    "    \n",
    "    if (inputNum < min) | (inputNum > max):\n",
    "        print(\"잘못된 숫자를 입력했습니다\")\n",
    "    elif inputNum > randNum or inputNum < randNum:\n",
    "        print(\"정답이 아닙니다.\")\n",
    "        \n",
    "    if inputNum > randNum:\n",
    "        max = inputNum - 1\n",
    "    elif inputNum < randNum:\n",
    "        min = inputNum + 1\n",
    "    \n",
    "    inputNum = int(input(str(min) + \"~\" + str(max) + \"사이의 숫자를 입력하세요\"))\n",
    "    \n",
    "else:\n",
    "    print(\"정답을 맞추셨습니다!\")"
   ]
  },
  {
   "cell_type": "code",
   "execution_count": null,
   "id": "cfd2917c-91ce-4298-afb0-644286ebc618",
   "metadata": {},
   "outputs": [],
   "source": [
    "#방법 3, 5번만 하고 그 안에서 성공하면 성공메세지, 실패했으면 성공메세지 출력\n",
    "randNum = random.randint(1, 100)\n",
    "min = 1\n",
    "max = 100\n",
    "print(randNum)\n",
    "for i in range(5, 0, -1):\n",
    "    inputNum = int(input(str(min) + \"~\" + str(max) + \"사이의 숫자를 입력하세요(남은 기회는 \"+str(i)+\"번)\"))\n",
    "                   \n",
    "    if (inputNum < min) | (inputNum > max):\n",
    "        print(\"잘못된 숫자를 입력했습니다\")\n",
    "    elif inputNum > randNum or inputNum < randNum:\n",
    "        print(\"정답이 아닙니다.\")\n",
    "        \n",
    "        \n",
    "    if inputNum > randNum:\n",
    "        max = inputNum - 1\n",
    "    elif inputNum < randNum:\n",
    "        min = inputNum + 1\n",
    "    else:\n",
    "        print(\"정답을 맞췄습니다. {}번만에 맞췄습니다!\".format(i))\n",
    "        break\n",
    "else:\n",
    "    print(\"정답을 못 맞췄습니다. 실패했습니다\")"
   ]
  },
  {
   "cell_type": "code",
   "execution_count": 4,
   "id": "03cf159b-5875-4ad1-900c-1e3600cc6712",
   "metadata": {},
   "outputs": [
    {
     "name": "stdout",
     "output_type": "stream",
     "text": [
      "시도한 횟수 : 6\n",
      "정렬 전 로또 번호 :  {1, 2, 33, 5, 15, 19}\n",
      "정렬 후 로또 번호 :  [1, 2, 5, 15, 19, 33]\n"
     ]
    }
   ],
   "source": [
    "#1~45 사이 로또 번호 6개를 생성, 정렬하여 출력\n",
    "#Set 사용하여 정하고 list 이용하여 정렬\n",
    "lottoSet = set()\n",
    "tryCounter = 0\n",
    "while len(lottoSet) < 6:\n",
    "    lottoSet.add(random.randint(1,45))\n",
    "    tryCounter += 1\n",
    "    \n",
    "lotto = list(lottoSet)  #한 번에 지정 가능\n",
    "# for lottoNum in lottoSet:\n",
    "#     lotto.append(lottoNum)\n",
    "\n",
    "lotto.sort()\n",
    "\n",
    "print(\"시도한 횟수 :\", tryCounter)\n",
    "print(\"정렬 전 로또 번호 : \", lottoSet)\n",
    "print(\"정렬 후 로또 번호 : \", lotto)"
   ]
  },
  {
   "cell_type": "code",
   "execution_count": null,
   "id": "b3f11de6-47fb-4346-a32a-a7235da2fd3c",
   "metadata": {},
   "outputs": [],
   "source": []
  }
 ],
 "metadata": {
  "kernelspec": {
   "display_name": "Python 3 (ipykernel)",
   "language": "python",
   "name": "python3"
  },
  "language_info": {
   "codemirror_mode": {
    "name": "ipython",
    "version": 3
   },
   "file_extension": ".py",
   "mimetype": "text/x-python",
   "name": "python",
   "nbconvert_exporter": "python",
   "pygments_lexer": "ipython3",
   "version": "3.11.7"
  }
 },
 "nbformat": 4,
 "nbformat_minor": 5
}
