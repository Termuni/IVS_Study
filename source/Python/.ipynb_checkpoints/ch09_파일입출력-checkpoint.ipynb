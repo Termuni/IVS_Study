{
 "cells": [
  {
   "cell_type": "markdown",
   "id": "b9e01a32-4d06-4a53-8176-7f85b25b0f6c",
   "metadata": {},
   "source": [
    "CH09 파일입출력\n",
    "```\n",
    "※www.data.go.kr 에서 다운로드한 자료 바탕으로 수업 예정\n",
    "```"
   ]
  },
  {
   "cell_type": "markdown",
   "id": "74df4e00-953a-42cd-962a-d91dd8be1690",
   "metadata": {},
   "source": [
    "# 1절 파일에 데이터를 저장하고 불러오기\n",
    "- 보통 csv, json 파일 많이 씀"
   ]
  },
  {
   "cell_type": "markdown",
   "id": "7272b4fd-9246-4429-84bd-2f6ac9151959",
   "metadata": {},
   "source": [
    "```\n",
    "파일로부터 입력받기, 파일로 출력 저장하기\n",
    "키보드는 input썼음\n",
    "파일에 입력전용 스트림(strim) / 출력전용 스트림(strim)을 만든다\n",
    "파일 strim -> 빨대를 꽂는다고 생각하면 편함\n",
    "한 strim으로 입, 출력을 할수는 없음\n",
    "입력전용 빨때, 출력전용 빨때 따로 존재한다고 생각\n",
    "\n",
    "w : 있는 파일은 기존의 파일에 덮어쓰고, 없는 파일은 생성 (쓰기 전용)\n",
    "a : 있는 파일은 추가 / 없는 파일은 생성 (쓰기 전용)\n",
    "r : txt류 읽기 전용 (읽기 전용)\n",
    "```"
   ]
  },
  {
   "cell_type": "code",
   "execution_count": 23,
   "id": "3e43ba0e-519e-472f-925b-ee32d7d6b696",
   "metadata": {},
   "outputs": [
    {
     "name": "stdout",
     "output_type": "stream",
     "text": [
      "True\n"
     ]
    }
   ],
   "source": [
    "f = open('data/ch09.txt', 'w',encoding='utf-8')   # w 로 시작했기때문에 쓰기 가능, 이때 최초에는 파일이 없어서 생성\n",
    "#a로 하면 append되어 입력 가능\n",
    "#encoding 기본값 cp949 (한글 섞이면)\n",
    "print(f.writable())  #True -> 쓸 수 있다는 것"
   ]
  },
  {
   "cell_type": "code",
   "execution_count": 24,
   "id": "3620e4ad-9a40-43d5-8aaf-db0c42f30437",
   "metadata": {},
   "outputs": [
    {
     "data": {
      "text/plain": [
       "10"
      ]
     },
     "execution_count": 24,
     "metadata": {},
     "output_type": "execute_result"
    }
   ],
   "source": [
    "f.write('Hello\\nWorld\\nHello\\nPython\\n') #했을 때 close 안 하면 쓸꺼 다 써도 내용이 안 보임\n",
    "f.write('여러번 입력 가능\\n')\n",
    "#이 cell을 여러번 실행하면 더 중복되어 입력 됨"
   ]
  },
  {
   "cell_type": "code",
   "execution_count": 25,
   "id": "d3071e51-89da-4fc7-bea2-e368aa762680",
   "metadata": {},
   "outputs": [],
   "source": [
    "f.close() #파일 객체 반환, strim close 한다\n"
   ]
  },
  {
   "cell_type": "markdown",
   "id": "75730bfb-d4cb-4597-9689-338c2b57bb13",
   "metadata": {},
   "source": [
    "### 'a' 와 'w' 의 차이점\n",
    "#f를 'a'로 open하면 append해서 입력 가능\n",
    "#f를 'w'로 open하면 내용을 아예 통째로 바꿈"
   ]
  },
  {
   "cell_type": "code",
   "execution_count": 26,
   "id": "76275f4d-2390-4ed5-a415-30f14a97e5a4",
   "metadata": {},
   "outputs": [
    {
     "name": "stdout",
     "output_type": "stream",
     "text": [
      "['Hello\\n', 'World\\n', 'Hello\\n', 'Python\\n', '여러번 입력 가능\\n']\n"
     ]
    }
   ],
   "source": [
    "with open('data/ch09.txt', 'r') as f:\n",
    "    data = f.readlines()\n",
    "    print(data)"
   ]
  },
  {
   "cell_type": "code",
   "execution_count": 28,
   "id": "98c922ed-156d-4a97-9525-a139f2602430",
   "metadata": {},
   "outputs": [],
   "source": [
    "with open('data/ch09.txt', 'w') as f:\n",
    "    print(\"Python is easy\\n\", file = f)"
   ]
  },
  {
   "cell_type": "code",
   "execution_count": 30,
   "id": "7af3e453-1789-4f5c-87a9-2050a385b3e1",
   "metadata": {},
   "outputs": [
    {
     "name": "stdout",
     "output_type": "stream",
     "text": [
      "홍길동,20,hong@hong.com,서울시 강동구\n",
      "박길서,33,park@hong.com,서울시 강서구\n",
      "박길남,23,gil@hong.com,서울시 강남구\n",
      "김길북,20,pkim@hong.com,서울시 강북구\n",
      "신길서,40,gs@hong.com,서울시 강서구\n",
      "신길동,28,gd@hong.com,서울시 강동구\n"
     ]
    }
   ],
   "source": [
    "#UTF-8로 인코딩 된 CSV파일 Read\n",
    "with open('data/ch09_member1.csv', 'r', encoding = \"utf-8\") as f:\n",
    "    data = f.readlines()\n",
    "    for row in data:\n",
    "        print(row, end = '')  #이 상태로 보기에는 구림,.,. data frame을 사용하여 이쁘게 정리 -> Chapter 10에서 진행"
   ]
  },
  {
   "cell_type": "code",
   "execution_count": 38,
   "id": "fe3d30b8-c7f7-4ad8-b5c6-f49e26ee2f69",
   "metadata": {},
   "outputs": [
    {
     "data": {
      "text/html": [
       "<div>\n",
       "<style scoped>\n",
       "    .dataframe tbody tr th:only-of-type {\n",
       "        vertical-align: middle;\n",
       "    }\n",
       "\n",
       "    .dataframe tbody tr th {\n",
       "        vertical-align: top;\n",
       "    }\n",
       "\n",
       "    .dataframe thead th {\n",
       "        text-align: right;\n",
       "    }\n",
       "</style>\n",
       "<table border=\"1\" class=\"dataframe\">\n",
       "  <thead>\n",
       "    <tr style=\"text-align: right;\">\n",
       "      <th></th>\n",
       "      <th>이름</th>\n",
       "      <th>나이</th>\n",
       "      <th>이메일</th>\n",
       "      <th>주소</th>\n",
       "    </tr>\n",
       "  </thead>\n",
       "  <tbody>\n",
       "    <tr>\n",
       "      <th>0</th>\n",
       "      <td>홍길동</td>\n",
       "      <td>20</td>\n",
       "      <td>hong@hong.com</td>\n",
       "      <td>서울시 강동구</td>\n",
       "    </tr>\n",
       "    <tr>\n",
       "      <th>1</th>\n",
       "      <td>박길서</td>\n",
       "      <td>33</td>\n",
       "      <td>park@hong.com</td>\n",
       "      <td>서울시 강서구</td>\n",
       "    </tr>\n",
       "    <tr>\n",
       "      <th>2</th>\n",
       "      <td>박길남</td>\n",
       "      <td>23</td>\n",
       "      <td>gil@hong.com</td>\n",
       "      <td>서울시 강남구</td>\n",
       "    </tr>\n",
       "    <tr>\n",
       "      <th>3</th>\n",
       "      <td>김길북</td>\n",
       "      <td>20</td>\n",
       "      <td>pkim@hong.com</td>\n",
       "      <td>서울시 강북구</td>\n",
       "    </tr>\n",
       "    <tr>\n",
       "      <th>4</th>\n",
       "      <td>신길서</td>\n",
       "      <td>40</td>\n",
       "      <td>gs@hong.com</td>\n",
       "      <td>서울시 강서구</td>\n",
       "    </tr>\n",
       "    <tr>\n",
       "      <th>5</th>\n",
       "      <td>신길동</td>\n",
       "      <td>28</td>\n",
       "      <td>gd@hong.com</td>\n",
       "      <td>서울시 강동구</td>\n",
       "    </tr>\n",
       "  </tbody>\n",
       "</table>\n",
       "</div>"
      ],
      "text/plain": [
       "    이름  나이            이메일       주소\n",
       "0  홍길동  20  hong@hong.com  서울시 강동구\n",
       "1  박길서  33  park@hong.com  서울시 강서구\n",
       "2  박길남  23   gil@hong.com  서울시 강남구\n",
       "3  김길북  20  pkim@hong.com  서울시 강북구\n",
       "4  신길서  40    gs@hong.com  서울시 강서구\n",
       "5  신길동  28    gd@hong.com  서울시 강동구"
      ]
     },
     "execution_count": 38,
     "metadata": {},
     "output_type": "execute_result"
    }
   ],
   "source": [
    "import pandas as pd\n",
    "member1 = pd.read_csv('data/ch09_member1.csv') #csv파일을 여는 것\n",
    "member1  #이대로 하면 맨 윗줄을 헤더로 인식함!\n",
    "member1_noHeader = pd.read_csv('data/ch09_member1.csv', header=None) #csv파일을 여는 것\n",
    "member1_noHeader  #이대로 하면 헤더 없다고 알아서 해줌\n",
    "member1_noHeader.columns = ['이름', '나이', '이메일', '주소'] #이렇게 해서 헤더 특정 가능\n",
    "member1_noHeader"
   ]
  },
  {
   "cell_type": "code",
   "execution_count": 39,
   "id": "71322e6f-d740-4702-937c-e1c12125ded9",
   "metadata": {},
   "outputs": [
    {
     "data": {
      "text/plain": [
       "pandas.core.frame.DataFrame"
      ]
     },
     "execution_count": 39,
     "metadata": {},
     "output_type": "execute_result"
    }
   ],
   "source": [
    "type(member1)  #데이터 프레임은 정형 데이터(정해져있음)"
   ]
  },
  {
   "cell_type": "code",
   "execution_count": null,
   "id": "718bc30e-8c57-4b6c-b29b-56ef6a875127",
   "metadata": {},
   "outputs": [],
   "source": [
    "member2 = pd.read_csv('data/ch09_member2.csv', nrows = )"
   ]
  },
  {
   "cell_type": "code",
   "execution_count": null,
   "id": "f42b5270-f4b1-473c-bf87-66ca5358fcd7",
   "metadata": {},
   "outputs": [],
   "source": []
  },
  {
   "cell_type": "code",
   "execution_count": null,
   "id": "fe03968d-7565-4a52-ac93-260910598cba",
   "metadata": {},
   "outputs": [],
   "source": []
  },
  {
   "cell_type": "code",
   "execution_count": null,
   "id": "94bef21f-6759-4f4f-8bd5-262884b45faa",
   "metadata": {},
   "outputs": [],
   "source": []
  }
 ],
 "metadata": {
  "kernelspec": {
   "display_name": "Python 3 (ipykernel)",
   "language": "python",
   "name": "python3"
  },
  "language_info": {
   "codemirror_mode": {
    "name": "ipython",
    "version": 3
   },
   "file_extension": ".py",
   "mimetype": "text/x-python",
   "name": "python",
   "nbconvert_exporter": "python",
   "pygments_lexer": "ipython3",
   "version": "3.11.7"
  }
 },
 "nbformat": 4,
 "nbformat_minor": 5
}
