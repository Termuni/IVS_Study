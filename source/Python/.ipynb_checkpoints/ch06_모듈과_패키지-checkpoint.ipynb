{
 "cells": [
  {
   "cell_type": "markdown",
   "id": "43a1e8e8-8089-4782-aa31-e0d2441e721c",
   "metadata": {},
   "source": [
    "CH06 모듈과 패키지\n",
    "- 함수 1000개씩 되는 경우 하나하나 배포하기보다 folder로 배포"
   ]
  },
  {
   "cell_type": "markdown",
   "id": "3ef81d00-8721-4e8d-b9ce-1f2d3e1692b2",
   "metadata": {},
   "source": [
    "# 1절 모듈 사용하기\n",
    "- 모듈 : 함수, 변수, 클래스가 담긴 파일(*.py)\n",
    "- 파이썬 표준 모듈 200여개 존재\n",
    "- 표준 모듈 외의 모듈 사용 --> \"pip install 라이브러리명\" 과 같은 명령어를 통해 라이브러리 설치\n",
    "- 아나콘다 다운로드한 경우 \"conda install 라이브러리명\" 과 같이 라이브러리 다운 가능"
   ]
  },
  {
   "cell_type": "code",
   "execution_count": null,
   "id": "464b3503-ebed-42d0-96d0-2c4d6aaa3efa",
   "metadata": {
    "scrolled": true
   },
   "outputs": [],
   "source": [
    "import pandas as pd\n",
    "dir(pd)"
   ]
  },
  {
   "cell_type": "markdown",
   "id": "5c793bb5-37bb-4dfe-982c-62ce5a5806a0",
   "metadata": {},
   "source": [
    "# 2절 사용자 정의 모듈\n",
    "- 모듈을 가져오는 순서\n",
    "  1) 표준모듈\n",
    "  2) sys.path 변수에 저장된 경로"
   ]
  },
  {
   "cell_type": "code",
   "execution_count": 2,
   "id": "b339ee06-6137-450e-9dd0-9b37f84b9de8",
   "metadata": {},
   "outputs": [],
   "source": [
    "import sys\n",
    "sys.path.append('C:\\\\IVS\\\\C_Python\\\\source\\\\Py_lib') # 역슬래시는 2개 붙여야 1개로 인식함\n",
    "#역슬래시 2개 대신 슬래시 하나로 대체가능\n",
    "#실제 sys.path에 추가되지는 않음"
   ]
  },
  {
   "cell_type": "code",
   "execution_count": 3,
   "id": "85b4fdab-309a-4945-a02e-c8fe2587dc81",
   "metadata": {},
   "outputs": [
    {
     "data": {
      "text/plain": [
       "['C:\\\\IVS\\\\C_Python\\\\source\\\\Python',\n",
       " 'C:\\\\Users\\\\USER\\\\anaconda3\\\\python311.zip',\n",
       " 'C:\\\\Users\\\\USER\\\\anaconda3\\\\DLLs',\n",
       " 'C:\\\\Users\\\\USER\\\\anaconda3\\\\Lib',\n",
       " 'C:\\\\Users\\\\USER\\\\anaconda3',\n",
       " '',\n",
       " 'C:\\\\Users\\\\USER\\\\anaconda3\\\\Lib\\\\site-packages',\n",
       " 'C:\\\\Users\\\\USER\\\\anaconda3\\\\Lib\\\\site-packages\\\\win32',\n",
       " 'C:\\\\Users\\\\USER\\\\anaconda3\\\\Lib\\\\site-packages\\\\win32\\\\lib',\n",
       " 'C:\\\\Users\\\\USER\\\\anaconda3\\\\Lib\\\\site-packages\\\\Pythonwin',\n",
       " 'C:\\\\IVS\\\\C_Python\\\\source\\\\Py_lib']"
      ]
     },
     "execution_count": 3,
     "metadata": {},
     "output_type": "execute_result"
    }
   ],
   "source": [
    "\n",
    "sys.path"
   ]
  },
  {
   "cell_type": "markdown",
   "id": "c3f9268b-91cd-480e-8eb8-8cdd6c590b30",
   "metadata": {},
   "source": [
    "### 임포팅 하는 방법"
   ]
  },
  {
   "cell_type": "markdown",
   "id": "7de9e9a3-9506-4db7-a5d9-2074b8ca4bc0",
   "metadata": {},
   "source": [
    "```\n",
    "임포팅 하는 방법\n",
    "1~2번 -> ~~.함수() 해서 사용\n",
    "1. import A : A 모듈을 가져옴\n",
    "2. import A as B : A 모듈을 B 이름으로 가져옴\n",
    "3~4번 -> 함수() 해서 사용\n",
    "3. from A import B(, C, D, ...) : A 모듈 안의 B 함수를 가져옴\n",
    "4. from A import B as C : A 모듈 안의 B 함수를 C 이름으로 가져옴\n",
    "5~6번 -> 패키지 안에 있는 것을 열었다고 생각하면 편함\n",
    "A는 package, B는 .py 파일, C는 함수\n",
    "5. from A.B import C(,D, E, ...) : A 패키지 안 B 모듈의 C 함수를 가져옴\n",
    "6. from A.B import C as D : A 패키지 안 B 모듈의 C 함수를 D이름으로 가져옴\n",
    "```"
   ]
  },
  {
   "cell_type": "code",
   "execution_count": 4,
   "id": "62f2341e-aabb-43e9-9756-1e0051116413",
   "metadata": {},
   "outputs": [],
   "source": [
    "# 1. import A : A 모듈을 가져옴\n",
    "# sys.path에 append 해서 불러올 수 있음\n",
    "import fibonacci_test"
   ]
  },
  {
   "cell_type": "code",
   "execution_count": 7,
   "id": "7af65933-09bc-4ef9-9069-6adc1161ae8f",
   "metadata": {},
   "outputs": [
    {
     "name": "stdout",
     "output_type": "stream",
     "text": [
      "0. 1. 1. 2. 3. 5. 8. 13. 21. 34. 55. 89. \n",
      "fibonacci_test\n"
     ]
    }
   ],
   "source": [
    "fibonacci_test.Fibonacci(100)"
   ]
  },
  {
   "cell_type": "code",
   "execution_count": 8,
   "id": "461f01af-309e-4d58-9724-153fd86bcd94",
   "metadata": {},
   "outputs": [],
   "source": [
    "del fibonacci_test #import 한 거 지우기"
   ]
  },
  {
   "cell_type": "code",
   "execution_count": 9,
   "id": "9c6ff886-e6ae-4de3-a2fe-290698583612",
   "metadata": {},
   "outputs": [],
   "source": [
    "#2. import A as B : A 모듈을 B 이름으로 가져옴\n",
    "import fibonacci_test as fibo"
   ]
  },
  {
   "cell_type": "code",
   "execution_count": 10,
   "id": "c46ad3de-39f1-4e66-aa8a-e0c05eb0ecb7",
   "metadata": {},
   "outputs": [
    {
     "name": "stdout",
     "output_type": "stream",
     "text": [
      "0. 1. 1. 2. 3. 5. 8. 13. 21. 34. 55. 89. \n",
      "fibonacci_test\n"
     ]
    }
   ],
   "source": [
    "fibo.Fibonacci(100)"
   ]
  },
  {
   "cell_type": "code",
   "execution_count": 11,
   "id": "aea5d060-17ad-4a3e-be69-2992638d7c36",
   "metadata": {},
   "outputs": [],
   "source": [
    "del fibo"
   ]
  },
  {
   "cell_type": "code",
   "execution_count": 13,
   "id": "8e517fc2-1849-47e8-b32e-609163658c0c",
   "metadata": {},
   "outputs": [
    {
     "name": "stdout",
     "output_type": "stream",
     "text": [
      "0. 1. 1. 2. 3. 5. 8. 13. 21. 34. 55. 89. \n",
      "fibonacci_test\n"
     ]
    }
   ],
   "source": [
    "# 3. from A import B : A 모듈 안의 B 함수를 가져옴\n",
    "from fibonacci_test import Fibonacci #, a, b, c, ... , afgskdj 함수 해서 다른 함수들도 콤마해서 가져올 수 있음\n",
    "Fibonacci(100)"
   ]
  },
  {
   "cell_type": "code",
   "execution_count": 14,
   "id": "42461896-7ba4-4016-b49c-afb498bb1593",
   "metadata": {},
   "outputs": [],
   "source": [
    "del Fibonacci"
   ]
  },
  {
   "cell_type": "code",
   "execution_count": 15,
   "id": "84594a4d-64bf-4ab9-9828-6fca780c74da",
   "metadata": {},
   "outputs": [],
   "source": [
    "#4. from A import B as C : A 모듈 안의 B 함수를 C 이름으로 가져옴\n",
    "from fibonacci_test import Fibonacci as fibo"
   ]
  },
  {
   "cell_type": "code",
   "execution_count": 16,
   "id": "7c8525fe-7ffa-47ab-ab74-e5b9afd2f9ee",
   "metadata": {},
   "outputs": [
    {
     "name": "stdout",
     "output_type": "stream",
     "text": [
      "0. 1. 1. 2. 3. 5. 8. 13. 21. 34. 55. 89. \n",
      "fibonacci_test\n"
     ]
    }
   ],
   "source": [
    "fibo(100)"
   ]
  },
  {
   "cell_type": "code",
   "execution_count": 17,
   "id": "f4f3caf2-f53d-42ec-a3c0-0b82f89414d3",
   "metadata": {},
   "outputs": [],
   "source": [
    "del fibo"
   ]
  },
  {
   "cell_type": "code",
   "execution_count": 18,
   "id": "5a272583-64e2-4b8c-8a41-f28a590687dc",
   "metadata": {},
   "outputs": [],
   "source": [
    "import fibonacci_test"
   ]
  },
  {
   "cell_type": "code",
   "execution_count": 20,
   "id": "614e5220-5a53-4e9e-9a6d-6b1f3be2035d",
   "metadata": {},
   "outputs": [
    {
     "data": {
      "text/plain": [
       "['Fibonacci',\n",
       " '__builtins__',\n",
       " '__cached__',\n",
       " '__doc__',\n",
       " '__file__',\n",
       " '__loader__',\n",
       " '__name__',\n",
       " '__package__',\n",
       " '__spec__']"
      ]
     },
     "execution_count": 20,
     "metadata": {},
     "output_type": "execute_result"
    }
   ],
   "source": [
    "dir(fibonacci_test)\n",
    "# __ ~~ __ 되어있는 거 말고는 함수임"
   ]
  },
  {
   "cell_type": "code",
   "execution_count": null,
   "id": "7ca70014-3984-4317-9886-ab8cceff3285",
   "metadata": {},
   "outputs": [],
   "source": []
  }
 ],
 "metadata": {
  "kernelspec": {
   "display_name": "Python 3 (ipykernel)",
   "language": "python",
   "name": "python3"
  },
  "language_info": {
   "codemirror_mode": {
    "name": "ipython",
    "version": 3
   },
   "file_extension": ".py",
   "mimetype": "text/x-python",
   "name": "python",
   "nbconvert_exporter": "python",
   "pygments_lexer": "ipython3",
   "version": "3.11.7"
  }
 },
 "nbformat": 4,
 "nbformat_minor": 5
}
