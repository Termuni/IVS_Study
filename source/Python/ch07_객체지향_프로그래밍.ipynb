{
 "cells": [
  {
   "cell_type": "markdown",
   "id": "a1e8b943-8c2e-4cf7-a2a8-c623a6f73d3a",
   "metadata": {},
   "source": [
    "CH07 객체지향 프로그래밍"
   ]
  },
  {
   "cell_type": "markdown",
   "id": "58172c89-54e7-46de-8eee-4ba6e464724a",
   "metadata": {},
   "source": [
    "# 1절 객체와 클래스\n",
    "```\n",
    "class 클래스명(상속받을 클래스명):\n",
    "    변수나 함수들을 선언\n",
    "\n",
    "클래스는 구조체랑 변수 초기화가 좀 다름\n",
    "```"
   ]
  },
  {
   "cell_type": "code",
   "execution_count": 1,
   "id": "9b78e2e3-b498-4b7d-927b-b772ada35274",
   "metadata": {},
   "outputs": [
    {
     "name": "stdout",
     "output_type": "stream",
     "text": [
      "<class '__main__.Person'>\n"
     ]
    }
   ],
   "source": [
    "class Person: #이름 대문자로 시작\n",
    "    \"\"\"\n",
    "    Person 클래스는 ~~~ \n",
    "    DocString 추가 가능\n",
    "    \"\"\"\n",
    "    pass\n",
    "p1 = Person()\n",
    "print(type(p1))"
   ]
  },
  {
   "cell_type": "markdown",
   "id": "7a6d4d15-10a0-409f-b4bf-a1f4a3edd653",
   "metadata": {},
   "source": [
    "### 사람 class 만들기"
   ]
  },
  {
   "cell_type": "code",
   "execution_count": 2,
   "id": "0f37b356-786d-4591-b707-c67f1010ce6d",
   "metadata": {},
   "outputs": [],
   "source": [
    "class Person:   \n",
    "    \"\"\"\n",
    "    Person은 이름, 성별 멤버변수가 있는 객체 타입입니다.\n",
    "    Default name과 gender -> X\n",
    "    \"\"\"\n",
    "    #멤버변수\n",
    "    def __init__(self, name='X', gender = 'X'):   #생성자 함수(호출하면서 실행됨), 반드시 __init__\n",
    "        #이때 self는 사용자에 의해 초기화간 입력되지 않음\n",
    "        self.name = name     #내 객체의 이름 = 받은 이름\n",
    "        self.gender = gender #내 객체의 성별 = 받은 성별\n",
    "        #self.age = 20  -> age라는 멤버변수에 무조건 20이 들어감\n",
    "        print(\"{}, {} Person 객체가 생성되었습니다.\".format(self.name, self.gender))\n",
    "\n",
    "    #클래스는 생성시 __str__라는 함수가 숨겨져 있음! (print 할시 오류가 없도록)\n",
    "    # __str__ 를 상속받은 상태라고 하고, 이를 다시 세팅할 수 있음\n",
    "    def __str__(self):\n",
    "        return \"{}\\t 성별은 {}\".format(self.name, self.gender)\n",
    "    \n",
    "    #매개변수 없는 메소드\n",
    "    def print_info(self):    #함수 정의간 self를 안 넣으면 함수 작동 안 함\n",
    "                             #함수 사용간 self는 안 넣어도 됨\n",
    "        print(\"{}님은 {}입니다.\".format(self.name, self.gender), end = '\\t')\n",
    "    #매개변수 있는 메소드\n",
    "    def printCnt(self, cnt): #self는 무시하고 cnt만 넣으면 됨\n",
    "        for i in range(cnt):\n",
    "            print(self.name, end='\\t')"
   ]
  },
  {
   "cell_type": "code",
   "execution_count": 3,
   "id": "fbe8864c-4b2c-4ebe-9921-8959508ef4b1",
   "metadata": {},
   "outputs": [
    {
     "name": "stdout",
     "output_type": "stream",
     "text": [
      "강선민, 남자 Person 객체가 생성되었습니다.\n"
     ]
    }
   ],
   "source": [
    "p1 = Person(\"강선민\", \"남자\")   #이렇게 하면 자동으로 __init__ 함수가 실행됨"
   ]
  },
  {
   "cell_type": "code",
   "execution_count": 4,
   "id": "52557249-3195-4e67-8257-b77016ad2e2e",
   "metadata": {},
   "outputs": [
    {
     "name": "stdout",
     "output_type": "stream",
     "text": [
      "강선민 남자\n"
     ]
    }
   ],
   "source": [
    "print(p1.name, p1.gender)"
   ]
  },
  {
   "cell_type": "code",
   "execution_count": 5,
   "id": "66d9d2bb-4818-4432-ab48-709bc5c7e37d",
   "metadata": {},
   "outputs": [
    {
     "name": "stdout",
     "output_type": "stream",
     "text": [
      "강선민님은 남자입니다.\t"
     ]
    }
   ],
   "source": [
    "p1.print_info()"
   ]
  },
  {
   "cell_type": "code",
   "execution_count": 6,
   "id": "34c0605d-be83-4c58-b535-96e6fa95a093",
   "metadata": {},
   "outputs": [
    {
     "name": "stdout",
     "output_type": "stream",
     "text": [
      "강선민\t강선민\t강선민\t강선민\t강선민\t"
     ]
    }
   ],
   "source": [
    "p1.printCnt(5) "
   ]
  },
  {
   "cell_type": "code",
   "execution_count": 7,
   "id": "411289dc-6f6f-44a1-bb42-cb06ae255fe4",
   "metadata": {},
   "outputs": [
    {
     "name": "stdout",
     "output_type": "stream",
     "text": [
      "강선민\t 성별은 남자\n",
      "강선민\t 성별은 남자\n"
     ]
    }
   ],
   "source": [
    "print(p1) # 이대로 하면 무언가 설명하는 값 출력됨(__str__를 수정하지 않았다면!!)\n",
    "print(p1.__str__()) #이것과 같은 값이 나옴"
   ]
  },
  {
   "cell_type": "code",
   "execution_count": 8,
   "id": "c6b63f46-02a9-45b2-9435-fa89fd221179",
   "metadata": {
    "scrolled": true
   },
   "outputs": [
    {
     "data": {
      "text/plain": [
       "['__class__',\n",
       " '__delattr__',\n",
       " '__dict__',\n",
       " '__dir__',\n",
       " '__doc__',\n",
       " '__eq__',\n",
       " '__format__',\n",
       " '__ge__',\n",
       " '__getattribute__',\n",
       " '__getstate__',\n",
       " '__gt__',\n",
       " '__hash__',\n",
       " '__init__',\n",
       " '__init_subclass__',\n",
       " '__le__',\n",
       " '__lt__',\n",
       " '__module__',\n",
       " '__ne__',\n",
       " '__new__',\n",
       " '__reduce__',\n",
       " '__reduce_ex__',\n",
       " '__repr__',\n",
       " '__setattr__',\n",
       " '__sizeof__',\n",
       " '__str__',\n",
       " '__subclasshook__',\n",
       " '__weakref__',\n",
       " 'gender',\n",
       " 'name',\n",
       " 'printCnt',\n",
       " 'print_info']"
      ]
     },
     "execution_count": 8,
     "metadata": {},
     "output_type": "execute_result"
    }
   ],
   "source": [
    "dir(p1) # 여기를 보면 기본적으로 가지는 함수 및 요소들을 확인할 수 있음!"
   ]
  },
  {
   "cell_type": "markdown",
   "id": "5aa8acda-0db1-4605-bfc9-66bd2235adc5",
   "metadata": {},
   "source": [
    "# 2절 상속(inheritance)과 재정의(override)"
   ]
  },
  {
   "cell_type": "markdown",
   "id": "583b1b63-2bff-4eb8-bc80-ae9c572bf9d6",
   "metadata": {},
   "source": [
    "### 학생 class 만들기\n",
    "- 학생은 사람과 겹치는 부분이 많음 (이름, 성별)\n",
    "- 여기에 전공, 성적 등을 넣으려고 함"
   ]
  },
  {
   "cell_type": "code",
   "execution_count": 13,
   "id": "c9865a89-a989-442f-979b-64c3d3d6b350",
   "metadata": {},
   "outputs": [],
   "source": [
    "class Student(Person):\n",
    "    \"name, gender, major 멤버 변수를 갖는 Student 타입\"\n",
    "    def __init__(self, name, gender, major):\n",
    "        #self.name = name -> 필요없음!\n",
    "        #부모 클래스의 생성자 함수로 name, gender 초기화 가능\n",
    "        super().__init__(name, gender)  #super -> 부모 클래스의~\n",
    "        #Person.__init__(name, gender) 도 가능\n",
    "        self.major = major\n",
    "\n",
    "    #여기까지만 있는 상태에서 부모의 함수를 사용하면 우리가 추가한 내용을 출력할 수 없음\n",
    "    #그렇기에 내가 추가한걸 포함해서 override 해주면 됨\n",
    "    def __str__(self):\n",
    "        return super().__str__() + \"그리고 전공은 {}\".format(self.major)\n",
    "    def print_info(self):\n",
    "        super().print_info()\n",
    "        print(\"그리고 전공은 {}입니다.\".format(self.major))\n",
    "\n",
    "    #print_cnt 같은 경우 override 하지 않음 -> 부모꺼 그대로 사용 가능\n",
    "        "
   ]
  },
  {
   "cell_type": "code",
   "execution_count": 14,
   "id": "ab3e2177-f3ca-42ab-ba84-179bcbb2201a",
   "metadata": {},
   "outputs": [
    {
     "name": "stdout",
     "output_type": "stream",
     "text": [
      "백승우, 남자 Person 객체가 생성되었습니다.\n"
     ]
    }
   ],
   "source": [
    "s1 = Student(\"백승우\", \"남자\", \"통계학과\")"
   ]
  },
  {
   "cell_type": "code",
   "execution_count": 15,
   "id": "becd8891-9ea6-49fd-9cdd-317e85781fd3",
   "metadata": {},
   "outputs": [
    {
     "data": {
      "text/plain": [
       "('백승우', '남자', '통계학과')"
      ]
     },
     "execution_count": 15,
     "metadata": {},
     "output_type": "execute_result"
    }
   ],
   "source": [
    "s1.name, s1.gender, s1.major"
   ]
  },
  {
   "cell_type": "code",
   "execution_count": 16,
   "id": "af3a7684-04a0-4f54-b40a-e6eac6444ac5",
   "metadata": {},
   "outputs": [
    {
     "name": "stdout",
     "output_type": "stream",
     "text": [
      "백승우님은 남자입니다.\t그리고 전공은 통계학과입니다.\n"
     ]
    }
   ],
   "source": [
    "s1.print_info() "
   ]
  },
  {
   "cell_type": "code",
   "execution_count": 17,
   "id": "448321db-89b9-4c47-adbf-d2c2570e5902",
   "metadata": {},
   "outputs": [
    {
     "name": "stdout",
     "output_type": "stream",
     "text": [
      "백승우\t백승우\t백승우\t백승우\t백승우\t"
     ]
    }
   ],
   "source": [
    "s1.printCnt(5)"
   ]
  },
  {
   "cell_type": "code",
   "execution_count": 18,
   "id": "c72520d7-b03f-49dd-9dcc-12d402b9e237",
   "metadata": {},
   "outputs": [
    {
     "name": "stdout",
     "output_type": "stream",
     "text": [
      "백승우\t 성별은 남자그리고 전공은 통계학과\n"
     ]
    }
   ],
   "source": [
    "print(s1)"
   ]
  },
  {
   "cell_type": "code",
   "execution_count": null,
   "id": "0b27fb56-6e6b-4996-ae93-95c534e7c5da",
   "metadata": {},
   "outputs": [],
   "source": []
  }
 ],
 "metadata": {
  "kernelspec": {
   "display_name": "Python 3 (ipykernel)",
   "language": "python",
   "name": "python3"
  },
  "language_info": {
   "codemirror_mode": {
    "name": "ipython",
    "version": 3
   },
   "file_extension": ".py",
   "mimetype": "text/x-python",
   "name": "python",
   "nbconvert_exporter": "python",
   "pygments_lexer": "ipython3",
   "version": "3.11.7"
  }
 },
 "nbformat": 4,
 "nbformat_minor": 5
}
