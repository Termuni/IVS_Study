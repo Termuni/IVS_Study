





#data 안의 ch08.txt에 있는 파일 불러오기 
#있는 파일의 경우 예외 발생 안함
filename = input('파일명?')
f = open('data/'+filename, 'r', encoding = 'utf-8')  #'r' -> read mode,  encoding은 default가 컴퓨터 세팅 따라감
f.readlines()


f.close()





num = int(input('나눌 숫자를 입력하세요 >>'))
100 / num
#ValueError 예외 객체 : 숫자가 아닌 문자를 입력한 경우
#ZeroDivisionError 예외 객체 : 0을 입력한 경우


#인덱스를 벗어났을 경우
a = [1,2,3]
#a[3]
#IndexError 예외 객체





#100을 입력받은 정수값으로 나눠 출력하는 프로그램
#ValueError
#ZeroDivisionError
try:
    x = int(input("100을 나눌 정수를 입력 >>"))
    print("입력한 수는 {}".format(x))
    print("100을 입력한 정수로 나누면 {:.2f}입니다.".format(100/x))
except:
    print("유효한 정수가 아닙니다")


#예외타입(2가지) 지정한 프로그램 : ValueError, ZeroDivisionError
try:
    x = int(input("100을 나눌 정수를 입력 >>"))
    print("입력한 수는 {}".format(x))
    print("100을 입력한 정수로 나누면 {:.2f}입니다.".format(100/x))
except ValueError:
    print("유효한 숫자를 입력하세요")
except ZeroDivisionError:
    print("0은 입력하지 마세요")
except Exception:   #except 절이 많은 경우 --> 상위 클래스를 아래에 명시!
                    #Exception은 ZeroDivisionError or ValueError의 부모이기 때문에 대체가능
                    #다만 Exception을 맨 위에 두면?? 
                    #-> ValueError의 부모이기도, ZeroDivisionError의 부모이기도 때문에 ValueError도 잡아냄!!!
                    #그 이유는 except 에서 isistance(대상명, 객체종류) 로 해서 True/False 체킹하기때문
    print("알 수 없는 혹시 모를 예외입니다.")
    


#pdf p.24 매우 많은 에러들 정리해둠
#이때 예를 들어 IndexError의 경우 LookUpError를 상속받고, LookUpError는 Exception을 상속받은 것임!


#유효한 숫자를 입력할 때까지 수를 입력받음
while True:
    try:
        x = int(input("100을 나눌 정수를 입력 >>"))
        print("입력한 수는 {}".format(x))
        print("100을 입력한 정수로 나누면 {:.2f}입니다.".format(100/x))
        break
    except (ValueError, ZeroDivisionError):
        print("제대로 입력좀 하세요")
    except ValueError:
        print("유효한 숫자를 입력하세요")
    except ZeroDivisionError:
        print("0은 입력하지 마세요")
    except Exception:
        print("알 수 없는 혹시 모를 예외입니다.")





#유효한 숫자를 입력할 때까지 수를 입력받음
while True:
    try:
        x = int(input("100을 나눌 정수를 입력 >>"))
        print("입력한 수는 {}".format(x))
        print("100을 입력한 정수로 나누면 {:.2f}입니다.".format(100/x))
        break
    except (ValueError, ZeroDivisionError) as e:  #예외 발생한 경우 변수 명이 e로 들어감
        #print(e.__str__())와 아래와 같은 결과가 나옴
        print(e) 
        print("예외 메세지 e.args :", e.args) #print(e)와 같은 내용 나옴
        print("예외 객체의 타입 :", type(e))





#Try ~ Except ~ Finally
try:
    f = open('data/ch08.txt', 'r', encoding = 'utf-8')   #f는 파일 객체
    data = f.read() #파일을 끝까지 text 형태로 읽어서 반환
    print(data)
except FileNotFoundError as e:
    print(e)
finally:
    f.close()   #중요! 안 하면 저장 안 됨


#Try ~ Except ~ else ~ Finally
try:
    f = open('data/ch08.txt', 'r', encoding = 'utf-8')   #f는 파일 객체
    data = f.read() #파일을 끝까지 text 형태로 읽어서 반환
except FileNotFoundError as e:
    print(e)
else:
    print(data)
finally:
    f.close()   #중요! 안 하면 저장 안 됨





# p = Exception()  -> exception 타입을 메모리에 하나 올리는 것,
raise Exception("예외가 발생했습니다")  # exception Type 생성하고 안에 예외타입과 메시지 발생


#사용자 정의 예외 타입 -> 기존 python에서 제공되는 Exception을 상속받아서 제작됨
#보통 이름 끝에 Error 붙임
class LengthZeroError(Exception):
    "길이가 0일 때 발생하는 예외"
    pass


raise LengthZeroError("매개변수 길이가 0이면 예외")


#생성자 넣기
class LengthZeroError(Exception):
    "길이가 0일 때 발생하는 예외"
    def __init__(self):#, message):
        super().__init__("매개변수 길이가 0이면 예외")


raise LengthZeroError()


def insert(*data):  #튜플 매개변수
    if len(data) == 0:
        raise LengthZeroError()
    for item in data:
        print(item, end = ' ')
    print("등을 입력하셨습니다")

insert(2, 3, 4)
#insert()


l = (1,2,3)
insert(*l)  #언패킹





try:
    f = open('data/ch08.txt', 'r', encoding = 'utf-8')
    #data = f.read()
    lines = f.readlines()  #한 줄 한 줄 모든 줄을 list 형태로 반환
    #print(data)
    print(lines)
except exception:
    print("없는 파일이거나 encoding 확인 요망", e)
finally:
    f.close()





with open('data/ch08.txt', 'r', encoding = 'utf-8') as f:   #f는 지역변수, with에서만 사용
    lines = f.readlines()
print(lines) # lines는 with에서 빠져나오면 사용 가능















