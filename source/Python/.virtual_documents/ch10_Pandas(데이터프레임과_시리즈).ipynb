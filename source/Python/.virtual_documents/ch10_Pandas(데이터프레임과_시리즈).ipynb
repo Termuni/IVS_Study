





import numpy as np
np.pi


import pandas as pd
pd.__version__


data = pd.read_json('data/ch10_member1.json', encoding = 'utf-8')  #디폴트가 utf-8, euc-kr 대신 cp949
#read_json -> 알아서 읽고 알아서 다시 닫음
print(type(data))
data


data = pd.read_json('data/ch10_member2.json')
data


member1 = pd.read_csv('data/ch09_member1.csv', header = None, names = ['name', 'age', 'email', 'address'], encoding = 'utf-8')
member1





d = {'name' : ['홍길동', '신길동'], 'age' : [20, 30]} #로 딕셔너리 정의 (열 별로)
df = pd.DataFrame(data=d) #데이터의 프레임화
df





d = [{'name' : '홍길동', 'age' : 20}, {'name' : '신길동', 'age' : 30}]
df = pd.DataFrame(data=d) #데이터 프레임화
df








df = pd.read_csv('data/2013년9월부터2015년8월까지.csv', encoding = 'utf-8')
df.shape  #Row, Column 행&열 출력


df.head() # 상위 5줄만 출력(default)


df.head(2) # 상위 2줄만 출력


pd.options.display.max_columns  #데이터프레임의 최대 출력 가능한 column 수 확인하는 방법


pd.options.display.max_columns = 22
df.sample()





import statsmodels.api as sm
iris = sm.datasets.get_rdataset("iris", package="datasets").data  #이렇게 하면 아이리스 데이터 받아올 수 있음
iris.tail() #뒤에서부터 n행 보는법





member_df = pd.read_csv('data/ch09_member1.csv', header=None)
member_df





member_df.columns = ['name', 'age', 'email', 'address']
member_df








member_df = pd.concat([member_df, member_df])  #일부러 인덱스 조진거 넣기
member_df.index


member_df.index = ['동', '서', '남', '북', '중', '신']*2
member_df


member_df.index = range(1, len(member_df)+1)  #len -> member_df의 행 수를 확인해서 넣음
member_df





member_df.set_index("name") # 하고 할당하면 그걸로 세팅 된 결과를 출력해줌
member_df.set_index("name", inplace=True) # 하고 실행하면 데이터 프레임에 적용됨
member_df


#행 이름을 컬럼에 편입시키기
member_df.reset_index(inplace=True) #reset 적용한 것을 return한 것으로, member_df에는 적용 안 되어있음


member_df


member_df.reset_index(inplace=True)
member_df.reset_index(inplace=True)  #여러번 실행하면 인덱스가 계속 들어감


member_df


member_df['name'] #데이터 프레임의 열 하나를 가져옴, 데이터 형식은 시리즈


name = member_df['name']
print(type(name))
#member_df[0] #이건 안 됨, 오류남





member = member_df.loc[0] #0번 인덱스 행 -> 시리즈
print(type(member))
member


member_df.info()  #결측치 여부 확인(RangeIndex와 아래 Non-Null Count의 숫자 확인 통해), type 확인 가능





member_df['age'] = member_df['age'].astype('float64')  #열의 타입 변경


member_df.info()





import pandas as pd


member = pd.read_csv('data/ch09_member2.csv')
member





#새로 받은 데이터 -> shape, info 사용해서 크기 & 결측치 여부 확인
#확인해서 평균값 or 이전값으로 대체하거나 해당 데이터를 지울수 있음
#가격같은 경우 2,000,000원 같이 되어있는 경우 있음 -> map으로 확인 후 str에서 , 지우기 등을 통해 조정
#독립변수 통한 학습 통해 종속변수 예측
#일반적으로 빅데이터 -> 맨 오른쪽은 종속변수(결과 등)을 제외하려고 함


member['name']  #딕셔너리처럼 응용, 시리즈 형식
member['name'].to_frame() #시리즈를 데이터프레임으로





member.loc[0].to_frame()  #특정 행만 가져옴, series형식


#여러 행
member.loc[0:5] #0행 ~ 5행


#여러 열
# member.loc['name'] --> 에러
member.loc[:, 'name'] 
#여러 열(name열~email열 까지 => age열을 포함)
member.loc[:, 'name':'email'] #~~까지, 슬라이싱 아님!


#여러열(name열과 email열)
member.loc[:, ['name', 'email'] ]


#1행부터 4행까지 name, email을 출력
member.loc[1:4, ['name', 'email']]


#1행과 4행만, name, email, address
member.loc[[1,4],['name','email','address']]


#1행부터 4행까지 name열 ~ email열 출력
member.loc[1:4, 'name':'email']  #name, email 위치에 숫자를 넣고싶은경우 -> iloc
#loc 사용시 index 이름과 column 이름을 사용!





member.iloc[0:4] #슬라이싱임, from:to:step -> from부터 to 앞까지 step씩


member.iloc[0, 0:3] #0열부터 3열 앞까지


# 맨 오른쪽 열을 제외하고 출력
member.iloc[:, :-1]  #-1 넣으면 맨 마지막 앞까지


#0, 2, 4, 6, ... 짝수번째 행의 모든 열
member.iloc[::2]


#member 행 순서 역순 출력(맨 마지막 열 제외)
member.iloc[::-1,:-1]





member.loc[member['age']>30]  #행 넣는 자리에 조건 넣기



#강서구에 사는 사람 뽑기
address = "서울시 강동구"
address.find('강동구')  #이 find 함수 이용 예정





member['address'] #얘는 series임, 여기에 find 쓰기 어려움
#시리즈에 문자 관련 함수 쓰기 위한 URL
#https://pandas.pydata.org/pandas-docs/stable/reference/series.html#string-handling
member['address'].str.find("강서구") != -1   #강서구가 string에 있다는 뜻!


#address가 '강서구'인 데이터의 name, age, address를 출력
member.loc[ member['address'].str.find('강서구') != -1, ['name', 'age', 'address']]





member.info()


member.isna()  #na -> 결측치   /  isna() -> 결측치 여부 띄우는것


member.isna().sum()   #name, age, email, address 끼리 각각 합하는 것 -> 모두 0이라는 것은 결측치가 없다는 뜻





import seaborn as sns
iris_df = sns.load_dataset('iris')
#0 ~ 49 setosa / 50~99 versicolor / 100 ~ 149 virginica
iris_df.loc[0:49] #setosa
iris_df.loc[50:99] #versicolor
iris_df.loc[100:149].head(3) #virginica


#species가 versicolor인 데이터 상위 5개의 모든열 
iris_df[iris_df['species']=='versicolor'].head(5)
#괄호 안에 조건쓰기


#loc 활용한 특정 요소 하 조건 검색
iris_df.loc[iris_df['species']=='versicolor'].head()


#species가 versicolor인 데이터의 맨 마지막 열 제외한 데이터
iris_df.iloc[:, :-1][iris_df['species']=='versicolor'].head()
#iloc쓰고 조건쓰기


#speal_length가 6.2 이상인 경우 & species가 versicolor인 데이터
#iris_df['species'] 와 iris_df.species는 동일한 출력을 뱉음
#iris_df[ (iris_df.species == 'versicolor') and (iris_df.sepal_length > 6.2)]  ->  연산 우선순위 때문에 오류남
iris_df[ (iris_df.species == 'versicolor') & (iris_df.sepal_length > 6.2)]  # -> 그래서 &로 우선순위를 미루고 확인해야함


#speal_length가 6.2 이상인 경우 & species가 versicolor인 데이터의 sepal_length, species, sepal_width 출력
iris_df.loc[ (iris_df.species == 'versicolor') & (iris_df.sepal_length > 6.2) & (iris_df.sepal_width > 3.1),
            ['sepal_length', 'sepal_width', 'species']] 





member  #major라는 행이 없으니 추가 가능, 사람을 한명 더 추가 가능





import numpy as np
member['major'] = np.nan# = ['컴공', '전기', '전자', '기계', 'AI', np.nan]  #일부러 마지막 행에 결측치 넣기


member['major'] = ['컴공', '전기', '전자', '기계', 'AI', np.nan]


member


hobby = pd.DataFrame({'hobby' : ['놀기','자기','읽기','먹기','공부','명상']})  #데이터 프레임으로 선언했으니 데이터 프레임
hobby





#pd.concat([member, hobby])  -> 이렇게 해버리면 열병합임, 기본적으로 axis = 0 이기때문
member = pd.concat([member, hobby], axis = 1)





#열 삭제
member.drop('hobby', axis = 1, inplace=True)
#member.drop(['hobby', 'major'], axis = 1)  List형태 삭제


member


member = pd.read_csv('data/ch09_member2.csv')
member['major'] = ['컴공', '전기', '전자', '기계', 'AI', np.nan]
member


#행 삭제
member_temp = member
type(member_temp['major'].isna())
#member_temp.drop(lambda member_temp['major'].isna() 
nan_rows = member.isna().any(axis=1)
member_temp = member.drop(index=df[nan_rows].index)
member_temp


member = member.drop(1)


member


member.index = range(len(member))
member





member.sort_index() # 인덱스 번호 오름차순 정렬
member.sort_index(ascending = False, axis = 0) # -> 내림차순
#member.sort_index(ascending = False, inplace=True) # inplace True 해야 적용됨, 또는 member = memeber.`~~~~~ 해줘야함





member.sort_values(by=['name', 'age'], ascending=False, inplace = False)  #키워드 인수임, 값 꼭 입력해줘야함








iris_df.min(axis=0) #모든 열의 최솟값


iris_df.iloc[:, :-1].min(axis=1)  #행마다 모든 열의 최소값


iris_df.iloc[:, :-1].min(axis=0)  #행마다 모든 열의 최소값





iris_df.max()  #알파벳 큰게 최대값





iris_df.iloc[:, :-1].mean()  #알파벳 제외


#만약 그룹별 평균 보고싶으면 그룹화 필요





iris_df.iloc[:, :-1].std()





iris_df.describe() #개수, 평균, 표준편차, 최소, 최대, 1~3사분위수


# 범주형 데이터
iris_df['species'].describe()
# 전체 개수 / 답변 가짓수 / 대답 가장 많은것(아마 알파벳 제일 낮은거 우선) / 개수


#수치 + 범주 같이 출력
iris_df.describe(include='all')   #all 넣으면전부 합해서 보여줍니다, 데이터 프레임 형태


iris_df[iris_df['species'].isna()] #species가 결측치인 행을 출력





iris_df.groupby(['species']).mean() #내부에 대괄호 쳐서 리스트로 그룹화 가능
#min, max, median 등등 통계함수 사용 가능
#iris_df.groupby(['species','??','???', ...]).mean()


iris_group = iris_df.groupby(['species'])
iris_group.mean()



