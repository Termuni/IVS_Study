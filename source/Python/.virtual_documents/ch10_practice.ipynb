import seaborn as sns
iris = sns.load_dataset("iris")
iris.sample(1)


#1 
iris.head()


#2
x = iris.iloc[:,:-1]
y = iris.iloc[:,-1:]
x


y


#3
temp = iris.loc[:49]
temp


#4
temp.describe(include='all')


#5 
answer5 = iris.loc[iris['species']=='versicolor']
#iris['species'] == 'versicolor'
#iris.loc[iris['species']=='versicolor']


#6
import pandas as pd


iris_df = pd.concat([x,y], axis = 1)


iris_df


#7
iris.iloc[:,:-1].mean()


#8
r = iris.iloc[:,:-1].corr()
# 결과값 보면 같은 이름끼리는 1임 -> 완벽하게 똑같음
# 1에 가까울 수록 연관관계가 높음을 의미
#아래는 눈에 잘 안 들어옴
r


import seaborn as sns
import matplotlib.pyplot as plt
plt.figure(figsize=(4,3))   #그래프 그림 크기 지정
sns.heatmap(r, annot=True, cmap="Greens")  #annot -> 값 나타냄  cmap=초록색으로만 표현하는것
plt.show()
#이대로 버전이 낮은거 쓰면 annotation 값이 맨 윗줄만 나오고 불완전하게 나옴
#그래서 seaborn 라이브러리 업그레이드 필요
#anaconda prompt에서 pip install seaborn --upgrade 해야함
#그러면 업그레이드 됨
#seaborn 라이브러리 업그레이드 확인 : pip show seaborn


sns.__version__


#9
iris.groupby(['species']).mean()



