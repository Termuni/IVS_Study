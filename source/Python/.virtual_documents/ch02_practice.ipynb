


#1 사용자로부터이름과나이변수를입력받아다음형식으로출력하도록format() 함수를 이용해 형식화하세요
# [출력형식: 홍길동님의나이는23살입니다]
name = input("이름을 입력하세요")
age = input("나이를 입력하세요")
print("{}님의 나이는 {}살입니다".format(name, age))


#2  두정수를입력받아두수의덧셈, 뺄셈, 곱셈, 나눗셈, 몫, 나머지를출력하세요
num1 = int(input("1번 정수 입력 "))
num2 = int(input("2번 정수 입력 "))
print("두 수의 덧셈 : ", num1 + num2)
print("두 수의 뺄셈 : ", num1 - num2)
print("두 수의 곱셈 : ", num1 * num2)
try: #예외가 발생할 수 있는 부분을 try로 감싸줌
    print("두 수의 나눗셈 : ", num1 / num2)
    print("두 수의 몫 : ", num1 // num2)
    print("두 수의 나머지 : ", num1 % num2)
except: #예외가 발생한 경우 나오는 것
    print("입력한 정수를 다시 확인해주십시오")


#3 문자열의분리하기와합치기기능을이용하여‘Hello World’가할당된변수를이용하여 ‘World Hello’로 출력하세요
word = "Hello World"
word_list = word.split()
print(word_list[::-1])


#4 x = 'abcdef＇를 이용하여 ‘bcdefa’로 출력하세요(문자슬라이싱이용).
x = 'abcdef'
print(x[1:]+x[0])
print(x[1:],x[0],sep='')


#5 x = ‘abcdef’를 이용하여 ‘fedcba’로 출력하세요
print(x[::-1])





c = int(input("오늘의 온도를 섭씨로 입력하세요"))
f = (c*1.8) + 32
if f==round(f):
    print('섭씨 {}도는 화씨온도로 바꾸면 {:.0f}도입니다.'.format(c,f))
else:
    print('섭씨 {}도는 화씨온도로 바꾸면 {:.2f}도입니다.'.format(c,f))


#7 -> 1번


#8 


#9  
