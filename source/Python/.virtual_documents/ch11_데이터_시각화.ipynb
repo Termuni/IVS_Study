











# 시작전설정
import matplotlib.pyplot as plt
# %matplotlib inline  버전 업 되가지고 아마 필요 없을 것

# 그래프해상도높임
%config InlineBackend.figure_format='retina'

#한글설정
plt.rc('font', family='Malgun Gothic')  #window os 한글이면 맑은 고딕으로 실행
#plt.rc('font', family='AppleGothic') #mac os 전용
plt.rc('axes', unicode_minus=False) #축에서 - 깨지는 일 없도록 조정하기

# 경고메세지안보이게
import warnings
warnings.filterwarnings(action='ignore')


import seaborn as sns
iris = sns.load_dataset("iris")
iris.shape


iris.plot(kind = "line", figsize=(7,2))  #선그래프가 그려짐
#여기서 어떤 것들을 옮기거나 하는 것 -> doc 보고 따라하기
#예를들어 speal_length같은 범례값을 오른쪽으로 보내거나 밖에 두거나 하는 등 방법을 찾아서 사용
#https://stackoverflow.com/questions/30490740/move-legend-outside-figure-in-seaborn-tsplot
plt.legend(bbox_to_anchor=(1.01, 1), loc=2, borderaxespad=0.)
plt.show()


iris.plot(kind = "box", figsize=(7,2))  #선그래프가 그려짐
#plt.legend(bbox_to_anchor=(1.01, 1), loc=2, borderaxespad=0.)
plt.show()
# box plot으로는 1사분위수/중위수/3사분위수 표현
# 박스의 윗부분 -> 1사분위수
# 박스 중간에 선 -> 중위수
# 박스의 아랫부분 -> 3사분위수
# 박스 위 아래로 T, ㅗ의 위/아래 -> 1사분위 / 3사분위의 1.5배 차이 나는 곳 -> 이상치


iris.plot(kind='scatter',x='petal_length',y='petal_width') #shift+tab 눌러서 kind(종류) 확인가능
plt.title('제목')
plt.show()





plt.plot(iris.petal_length, iris.petal_width, '.')
plt.title('제목')
plt.xlabel('가로설명')
plt.ylabel('세로설명')








#plt.figure(figsize = (10,4))
sns.scatterplot(data=iris, x='petal_length', y='petal_width', hue = "species")  #hue를 통해 종별로 색 구분, 각 범례 색 변경 가능
plt.legend(bbox_to_anchor=(1.01, 1), loc=2, borderaxespad=0.)
#sns.barplot
plt.show()


#plt.figure(figsize = (10,4))
sns.barplot(data=iris, x='species', y='petal_width')  #hue를 통해 종별로 색 구분, 각 범례 색 변경 가능
plt.show()


#plt.figure(figsize = (10,4))
sns.lmplot(data=iris, x='petal_length', y='petal_width', hue = "species")  #hue를 통해 종별로 색 및 선 구분, 각 범례 색 변경 가능
plt.legend(bbox_to_anchor=(1.01, 1), loc=2, borderaxespad=0.)
#sns.barplot
plt.show()





sns.boxplot(data=iris, y='petal_length', hue = "species") # 단점 : 1, 2, 3 사분위수가 분포 어디가 많은지 모름


sns.violinplot(data=iris, y='petal_length', hue = "species") # 단점 : 1, 2, 3 사분위수가 분포 어디가 많은지 모름















