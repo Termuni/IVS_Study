





class Person: #이름 대문자로 시작
    """
    Person 클래스는 ~~~ 
    DocString 추가 가능
    """
    pass
p1 = Person()
print(type(p1))





class Person:   
    """
    Person은 이름, 성별 멤버변수가 있는 객체 타입입니다.
    Default name과 gender -> X
    """
    #멤버변수
    def __init__(self, name='X', gender = 'X'):   #생성자 함수(호출하면서 실행됨), 반드시 __init__
        #이때 self는 사용자에 의해 초기화간 입력되지 않음
        self.name = name     #내 객체의 이름 = 받은 이름
        self.gender = gender #내 객체의 성별 = 받은 성별
        #self.age = 20  -> age라는 멤버변수에 무조건 20이 들어감
        print("{}, {} Person 객체가 생성되었습니다.".format(self.name, self.gender))

    #클래스는 생성시 __str__라는 함수가 숨겨져 있음! (print 할시 오류가 없도록)
    # __str__ 를 상속받은 상태라고 하고, 이를 다시 세팅할 수 있음
    def __str__(self):
        return "{}\t 성별은 {}".format(self.name, self.gender)
    
    #매개변수 없는 메소드
    def print_info(self):    #함수 정의간 self를 안 넣으면 함수 작동 안 함
                             #함수 사용간 self는 안 넣어도 됨
        print("{}님은 {}입니다.".format(self.name, self.gender), end = '\t')
    #매개변수 있는 메소드
    def printCnt(self, cnt): #self는 무시하고 cnt만 넣으면 됨
        for i in range(cnt):
            print(self.name, end='\t')


p1 = Person("강선민", "남자")   #이렇게 하면 자동으로 __init__ 함수가 실행됨


print(p1.name, p1.gender)


p1.print_info()


p1.printCnt(5) 


print(p1) # 이대로 하면 무언가 설명하는 값 출력됨(__str__를 수정하지 않았다면!!)
print(p1.__str__()) #이것과 같은 값이 나옴


dir(p1) # 여기를 보면 기본적으로 가지는 함수 및 요소들을 확인할 수 있음!








class Student(Person):
    "name, gender, major 멤버 변수를 갖는 Student 타입"
    def __init__(self, name, gender, major):
        #self.name = name -> 필요없음!
        #부모 클래스의 생성자 함수로 name, gender 초기화 가능
        super().__init__(name, gender)  #super -> 부모 클래스의~
        #Person.__init__(name, gender) 도 가능
        self.major = major

    #여기까지만 있는 상태에서 부모의 함수를 사용하면 우리가 추가한 내용을 출력할 수 없음
    #그렇기에 내가 추가한걸 포함해서 override 해주면 됨
    def __str__(self):
        return super().__str__() + "그리고 전공은 {}".format(self.major)
    def print_info(self):
        super().print_info()
        print("그리고 전공은 {}입니다.".format(self.major))

    #print_cnt 같은 경우 override 하지 않음 -> 부모꺼 그대로 사용 가능
        


s1 = Student("백승우", "남자", "통계학과")


s1.name, s1.gender, s1.major


s1.print_info() 


s1.printCnt(5)


print(s1)



