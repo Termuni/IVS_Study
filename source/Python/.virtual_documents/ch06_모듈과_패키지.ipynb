





import pandas as pd
dir(pd)





import sys
sys.path.append('C:\\IVS\\C_Python\\source\\Py_lib') # 역슬래시는 2개 붙여야 1개로 인식함
#역슬래시 2개 대신 슬래시 하나로 대체가능
#실제 sys.path에 추가되지는 않음



sys.path











# 1. import A : A 모듈을 가져옴
# sys.path에 append 해서 불러올 수 있음
import fibonacci_test


fibonacci_test.Fibonacci(100)


del fibonacci_test #import 한 거 지우기


#2. import A as B : A 모듈을 B 이름으로 가져옴
import fibonacci_test as fibo


fibo.Fibonacci(100)


del fibo





# 3. from A import B : A 모듈 안의 B 함수를 가져옴
from fibonacci_test import Fibonacci #, a, b, c, ... , afgskdj 함수 해서 다른 함수들도 콤마해서 가져올 수 있음
Fibonacci(100)


del Fibonacci


#4. from A import B as C : A 모듈 안의 B 함수를 C 이름으로 가져옴
from fibonacci_test import Fibonacci as fibo


fibo(100)


del fibo


import fibonacci_test


dir(fibonacci_test)
# __ ~~ __ 되어있는 거 말고는 함수임






