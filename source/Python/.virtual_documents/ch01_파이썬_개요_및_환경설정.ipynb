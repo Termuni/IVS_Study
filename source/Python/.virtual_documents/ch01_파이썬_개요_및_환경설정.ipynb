





#esc + m -> 해당 셀을 마크업 셀로 변경, 해당 셀은 html처럼 변경됨
#esc + b -> 아래로 한 줄 추가
#esc + a -> 위로 한 줄 추가
#shift+enter -> 해당 줄 실행


print('Hello')


print("Hello") #이와 같이 print 안에 '' 도 되고, "" 도 됨


a = 1
b = '2'
a + int(b) # 문자 + 숫자 불가능, 형 변환 필요


#잘못해서 무한 반복문 실행한 경우
#for i in range(10000000000000):  #괄호 대신 ':' 이용해서 들여쓰기 
#    print(i)   #왼쪽의 중지 버튼 눌러서 중지 가능
#               #또는 위의 Kernal Menu에서 Kernal Shut Down 가능











!dir #주피터 노트북에서 '!' 사용 시 cmd 명령어 수행 가능
