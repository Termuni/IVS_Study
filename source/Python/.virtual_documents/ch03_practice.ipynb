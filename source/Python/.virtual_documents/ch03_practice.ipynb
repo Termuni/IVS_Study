





numbers = [1,2,3,4,5,6,7,8,9,10]


#1
#numbers.append(100)
numbers = numbers + [100]
print(numbers)


#2
data = [200, 300, 400, 500]
numbers = numbers + data
print(numbers)


print(numbers[:5:])


print(numbers[::2])


for idx, value in enumerate(numbers):
    if idx % 2 == 0:
        numbers[idx] = 0
print(numbers)


print(numbers[::-1])





member = {'name':"홍길동","age":20,"address":"서울시 금천구","score" : 90}


#7
print(member['address'])


#8
print(member['score'])
del member['score']
print(member)


#9
member['address'] = '서울시 서대문구'
print(member['address'])


#10
member_list = [person for person in member]
member_list



