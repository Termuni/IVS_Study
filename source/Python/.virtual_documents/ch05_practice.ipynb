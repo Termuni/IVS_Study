


#1
list_ = [1,232,3,4,71]
def get_max_min(data_list):
    return max(data_list), min(data_list)
get_max_min(list_)


#2 -> skip


#3
#[1,2,3,4,5,6,7,8,9,13,20,33]
def game_369(num_list):
    return
print(game_369([1,2,3,4,5,6,7,8,9,13,20,33]))


def game_369(*num_list):
    return

game_369(1,2,3,4,5,6,7,8,9,13,20,33)



