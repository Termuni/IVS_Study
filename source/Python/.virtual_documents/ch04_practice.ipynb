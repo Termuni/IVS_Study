


import random
#random.seed(7) #-> 시드값 넣어주면 랜덤수가 같음
print(random.randint(1,100)) #import 전까지는 shift+tab으로 설명 못 봄


#1~100 사이의 정수 맞추는 프로그램 구현
#방법 1 : 숫자 틀리면 UP / DOWN 알려주고 숫자 맞추면 종료
#방법 2 : 숫자 틀리면 min~max 사이 수라고 알려죽 숫자를 맞추면 종료
import random
randNum = random.randint(1, 100)
min = 1
max = 100
print(randNum)
inputNum = int(input("1~100 사이의 숫자를 입력하세요"))
while inputNum != randNum:
    
    if (inputNum < min) | (inputNum > max):
        print("잘못된 숫자를 입력했습니다")
    elif inputNum > randNum or inputNum < randNum:
        print("정답이 아닙니다.")
        
    if inputNum > randNum:
        max = inputNum - 1
    elif inputNum < randNum:
        min = inputNum + 1
    
    inputNum = int(input(str(min) + "~" + str(max) + "사이의 숫자를 입력하세요"))
    
else:
    print("정답을 맞추셨습니다!")


#방법 3, 5번만 하고 그 안에서 성공하면 성공메세지, 실패했으면 성공메세지 출력
randNum = random.randint(1, 100)
min = 1
max = 100
print(randNum)
for i in range(5, 0, -1):
    inputNum = int(input(str(min) + "~" + str(max) + "사이의 숫자를 입력하세요(남은 기회는 "+str(i)+"번)"))
                   
    if (inputNum < min) | (inputNum > max):
        print("잘못된 숫자를 입력했습니다")
    elif inputNum > randNum or inputNum < randNum:
        print("정답이 아닙니다.")
        
        
    if inputNum > randNum:
        max = inputNum - 1
    elif inputNum < randNum:
        min = inputNum + 1
    else:
        print("정답을 맞췄습니다. {}번만에 맞췄습니다!".format(i))
        break
else:
    print("정답을 못 맞췄습니다. 실패했습니다")


#1~45 사이 로또 번호 6개를 생성, 정렬하여 출력
#Set 사용하여 정하고 list 이용하여 정렬
lottoSet = set()
tryCounter = 0
while len(lottoSet) < 6:
    lottoSet.add(random.randint(1,45))
    tryCounter += 1
    
lotto = list(lottoSet)  #한 번에 지정 가능
# for lottoNum in lottoSet:
#     lotto.append(lottoNum)

lotto.sort()

print("시도한 횟수 :", tryCounter)
print("정렬 전 로또 번호 : ", lottoSet)
print("정렬 후 로또 번호 : ", lotto)



