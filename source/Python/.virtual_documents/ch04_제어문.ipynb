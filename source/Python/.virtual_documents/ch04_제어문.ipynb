





#점수 입력, 학점 출력
name = "강선민"
try:
    score = int(input("sir " + name + ", Please Enter your score >>")) #input에는 문자만 사용 가능, format 사용 불가
    #score = int(input("sir {}, Please Enter your score >>".format(name)) --> 불가능!! 
except:
    print("ERROR!")
if 90 <= score <= 100:
    grade = 'A'   #이건 이제 할당, if문 내부라도 선언하면 생성은 무조건 되는 것
elif 80 <= score < 90:
    grade = 'B'
elif 70 <= score < 80:
    grade = 'C'
elif 60 <= score < 70:
    grade = 'D'
elif 0 <= score < 60:
    grade = 'F'
else:
    grade = '유효하지 않은 '
print("입력하신 점수는 {}점이고, 등급은 {}등급입니다.".format(score, grade))





print(range(10))
print(list(range(1,10)))
print(list(range(1,10,2)))


for i in range(1, 10, 2):
    print(i, end=' ')
    #만약 어디선가 break 되면 아래 else는 실행 안 됨
else:
    print("\nDONE")


#1부터 100까지 짝수 합 계산
sum = 0
for i in range(2, 102, 2): #2부터 101까지의 짝수 합
    sum += i
else:
    print("1부터 100까지의 짝수의 합은 {}입니다.".format(sum))





#사용자에게 두 수를 입력받아 첫 번째 수(무조건 작은 수)부터 두 번째 입력한 수(반드시 큰 수) 까지 홀수의 합 누적
num1 = int(input("첫번째(작은) 정수를 입력해주십시오"))
num2 = int(input("두번째(큰) 정수를 입력해주십시오"))
sum = 0 #누적 변수
idx = num1
while idx <= num2:
    if idx%2 != 0:
        sum += idx
    idx += 1
else:
    print("Calculation Successfully Done")
print("{}부터 {}까지 홀수들의 누적합은 {}".format(num1, num2, sum))





num = 0
while num <= 10:
    num += 1
    if num % 3 == 0:
        #break
        continue
    print("num = {} ".format(num), end='\t')





for back in range(1, 10): #1~9
    for front in range(2, 10): #2~9
        print("{}x{}={:<2}".format(front, back, front * back), end = '  ')
    print() #개행용 빈 프린트









