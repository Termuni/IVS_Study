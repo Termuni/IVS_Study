








# 라이브러리 로드
import matplotlib.pyplot as plt
import seaborn as sns
import pandas as pd
import numpy as np  #결측치 확인용

# 시각화를 선명하게 표시되도록
%config InlineBackend.figure_format='retina'

#한글 폰트 설정
plt.rc("font", family="Malgun Gothic") # windows
# plt.rc('font', family='AppleGothic') # Mac
plt.rc("axes", unicode_minus=False) # y축

# 경고 메세지 안 보이게 
import warnings
warnings.filterwarnings(action='ignore')
# warnings.filterwarnings(action='default')





! dir data 
# ! -> cmd 명령어 사용, 경로에 데이터 있는지 확인
# 단 진짜 모두 cmd에 들어가기 때문에 주석달면 안 됨
#결측치는 시간없으니 걍 지울예정





# df_first
df_first = pd.read_csv('data/전국 평균 평당 분양가격(2013년 9월부터 2015년 8월까지).csv', encoding = 'utf-8')
df_first.shape


# df_first 한줄 출력
df_first.sample()


# 출력가능한 최대 컬럼수 출력
pd.options.display.max_columns


# df_first의 모든 열이 나오도록 출력 가능한 최대 컬럼수 조정후 확인
pd.options.display.max_columns = df_first.shape[1]


# df_first 마지막 1줄 출력
df_first.tail(1)


# df_first 열별 데이터 갯수 및 타입 및 메모리 정보
df_first.info()


# 지역 컬럼을 index로 하여
df_first_temp = df_first.set_index('지역')
df_first_temp.sample()


# heatmap 으로 부동산 가격을 시각화한다
plt.figure(figsize=(25,6))
#sns.heatmap(df_first_temp, annot=True) # 색 변화 필요, 교안 p.12 사이트 보기
#sns.heatmap(df_first_temp, annot=True, cmap='plasma') # cmap = colormap
sns.heatmap(df_first_temp, annot=True, cmap='plasma', fmt = 'd') # 지수형태에서 소숫점 없는 정수로 보기
plt.show()





# df_last
df_last = pd.read_csv('data/주택도시보증공사_전국 신규 민간아파트 분양가격 동향_20230630.csv', encoding = 'utf-8')
df_last.shape


# head로 파일을 5개만 미리보기합니다
df_last.head()


# tail로도 미리보기 합니다.
df_last.tail()


# 데이터 요약하기(결측치가 있음) #분양가격(제곱미터)는 문자를 수치형으로 변경하여야 평당분양가격 계산 가능
df_last.info()
#결측치 존재 확인





#버리기로 결정
#df_last.isna() #-> 결측치 여부, True(1) / False(0)
#True인 친구 제거예정
df_last.isna().sum()





# 분양가격(제곱미터) 컬럼이 문자형이라 수치형으로 변경한 후 평당분양가격 추가
df_last.loc[0, '분양가격(제곱미터)'], type(df_last.loc[0, '분양가격(제곱미터)'])


# 결측치가 있는 곳 출력하기
df_last[df_last['분양가격(제곱미터)'].isna()]  # ==np.nan 으로 찾으면 결측치가 nan으로 안 나오는 곳도 있으니 못 찾을 수 있음!


print((df_last.loc[368, '분양가격(제곱미터)']))


# 기본적으로 '분양가격(제곱미터)' 컬럼은 str이지만 결측치가 있는 곳은 float로 나옴
print(type(df_last.loc[368, '분양가격(제곱미터)']))


# df_last['분양가격(제곱미터)'].astype('float64') #특정열 데이터타입변경 에러 이유 : ' ' 땜시
# df_last['분양가격(제곱미터)'].astype('float64')  # 실행시켜보면 '  ' 때문에 못바꿈


# df['월'].astype('int64')에러 나는 이유는 ?
df_last['월'].astype('int64') #-> 얘는 에러 안 남


# 분양가격(제곱미터)컬럼이 공백이나 space인 행의 갯수
print(len(df_last[df_last['분양가격(제곱미터)'].str.strip() == '']))
df_last[df_last['분양가격(제곱미터)'].str.strip() == '']


# 분양가격이 빈스트링인 모든 데이터에 결측치 할당
df_last[df_last['분양가격(제곱미터)'].str.strip() == ''] = np.nan


# 분양가격(제곱미터)컬럼이 공백이나 space인 행을 결측치로 할당한 후 갯수는 0인지 확인
df_last[df_last['분양가격(제곱미터)'].str.strip() == '']


df_last.loc[6443] # 분양가격이 space였던 행 확인


# df_last 요약정보 -> 이전보다 결측치가 엄청 많아짐
print(df_last.info())


# 범주형일 때 기술통계 요약정보
df_last['분양가격(제곱미터)'].describe


# '분양가격(제곱미터)' 컬럼의 타입을 float64로 변경하여 '제곱미터당분양가격'으로 한다
df_last['제곱미터당분양가격'] = df_last['분양가격(제곱미터)'].astype('float64')


# '제곱미터당분양가격' 컬럼의 기술통계 요약 (max가 아주 커서 mean과 중위수 차이남)
df_last['제곱미터당분양가격'].describe()


# '평당분양가격' 컬럼 생성, 1평 = 3.3 제곱미터
df_last['평당분양가격'] = df_last['제곱미터당분양가격'] * 3.3


# df_last head로 데이터 2줄 확인
df_last.head(5)
#df_last.info()


df_last.info()
#불필요 데이터 제거 필요 -> 분양가격(제곱미터관련)
# + 규모구분 이라는 말이 바이트 많이 차지함





df_last['규모구분'].unique()


df_last['전용면적'] = df_last['규모구분'].str.replace('전용면적','')  #전용면적을 지움
df_last['전용면적'] = df_last['전용면적'].str.replace("제곱미터", "㎡")
df_last['전용면적'] = df_last['전용면적'].str.replace('초과','~')
df_last['전용면적'] = df_last['전용면적'].str.replace('이하','')
df_last['전용면적'] = df_last['전용면적'].str.replace(' ','').str.strip()
df_last.head()


df_last.info()





#줄이기 전 : 494.2KB 차지


#axis=1이 없으면 axis=0으로 되어 행제거하나 규모구분,분양가격이라는 행이 없어 에러
# "규모구분","분양가격(제곱미터)","제곱미터당분양가격" 컬럼 제거
df_temp = df_last.drop(["규모구분", "분양가격(제곱미터)", "제곱미터당분양가격"], axis = 1, inplace = False)
df_temp.sample()


# 평당 분양가격이 결측치 값인 행 인덱스 출력
df_temp[df_temp['평당분양가격'].isna()].index # 이걸 전부 drop에 넘겨주면 다 지워줌


# 평당 분양가격이 결측치 값인 행 제거
df_temp.drop(df_temp[df_temp['평당분양가격'].isna()].index, inplace=True)


# 결측치 데이터가 다 없어졌는지 확인
df_temp.isna().sum()


# df_last 열별데이터갯수, 타입, 메모리 정보 확인
df_temp.info()  #494 -> 343으로 줄어들었음


# 전처리 완성된 데이터를 저장
#df_temp를 새로운 파일에 저장하겠음(재실습을위해)
#인덱스는 일부러 재사용할거라 False로 놓음
df_temp.to_csv('data/신규아파트분양가_전처리결과.csv', index=False)





#df_last.groupby(['지역명']).mean() # -> 이러면 연, 월, 전용면적도 평균이 나옴
df_temp.groupby(['지역명'])['연도'].mean() # -> 이러면 연도만 평균


df_last.groupby?  #잘 모르겠으면 docs 하단에는 Example이 있음, 참고하기


# 지역명별 결측치를 제외한 데이터 수
df_temp.groupby(['지역명']).count() #nan값 다 지웠기 때문에 같은 지역이면 같은 숫자임
df_temp.groupby(['지역명'])['평당분양가격'].count().to_frame()


# 지역별 평당분양가격 max값나 min값
df_temp.groupby(['지역명'])['평당분양가격'].max().to_frame()
df_temp.groupby(['지역명'])['평당분양가격'].max().to_frame().sort_values(by='평당분양가격', ascending = False)


# 지역별 평당분양가격(평균)
df_temp.groupby(['지역명'])['평당분양가격'].mean().to_frame()


# 지역별 평당분양가격 min, max, mean, 사분위수
df_temp.groupby(['지역명'])['평당분양가격'].describe()


# 전용면적별 평당분양가격(평균)
df_temp.groupby(['전용면적'])['평당분양가격'].mean().to_frame().sort_values(by='평당분양가격', ascending = False)


# 지역별, 전용면적별 평당분양가격(평균) 
# groupby 2개
# 전용면적가 컬럼값으로 표
df_temp.groupby(['지역명', '전용면적'])['평당분양가격'].mean().unstack().round(2) #unstack -> 가독성 향상용


# 연도별, 지역명별 평당분양가격
r = df_temp.groupby(['지역명','연도'])['평당분양가격'].mean().unstack().round(1)
r2 = df_temp.groupby(['연도','지역명'])['평당분양가격'].mean().unstack().round(1)
df_temp.groupby(['연도','지역명'])['평당분양가격'].mean().unstack().round(1) #연도랑 지역명 가로/세로 바꾸고싶으면 groupby에서 위치 바꾸면 됨


# 위에ㅓ의 연도별, 지역명별 평당분양가격을 heatmap으로 시각화
plt.figure(figsize=(20,7))
sns.heatmap(r, cmap = "Blues", annot=True, fmt='.0f')


plt.figure(figsize=(15,8))
sns.heatmap(r2, cmap = "Blues", annot=True, fmt='.0f')





# 지역별 평균 평당분양가격을 내림차순정렬하여 막대그래프로 시각화
r = df_temp.groupby('지역명')['평당분양가격'].mean().sort_values(ascending=False).to_frame()
df_temp.groupby('지역명')['평당분양가격'].mean().to_frame()
r.plot(kind='bar')


# 지역별 정렬된 평균 평당분양가격 lineplot
r.plot(kind='line')


# 전용면적별 평균  평당분양가격 그래프
df_temp.groupby('전용면적')['평당분양가격'].mean().sort_values(ascending = False).plot(kind='line',rot=45)


# 월별, 연도별 평당분양가격 변동
r = df_temp.groupby(['월','연도'])['평당분양가격'].mean().unstack()
df_temp.groupby(['월','연도'])['평당분양가격'].mean().unstack()





# 위의 월별, 연도별, 평당분양가격 boxplot
r.plot(kind='box')
#2019년도에 차이가 제일 크고, 22년에 상한가 치고 그럼 -> 19~22년도 집값변동 크다


# 위의 월별, 연도별, 평당분양가격 lineplot => 월별, 연도별 분양가 상한선 확인
r.plot(figsize=(2,5))
plt.show()


# boxplot으로 지역별 평당분양가격 시각화
#r = df_temp.groupby('지역명')['평당분양가격'].mean()
#df_temp.groupby('지역명')['평당분양가격'].mean()
plt.figure(figsize=(15,5))
sns.boxplot(data=df_temp, x='지역명', y='평당분양가격')
plt.show()
#제주도가 변동폭이 제일 컸다!








# 지역별 평당 분양가격
plt.figure(figsize=(15,5))
sns.barplot(data=df_temp, x='지역명', y='평당분양가격', ci=None)  #sort할려면 groupby 써야함, ci -> 들쭉날쭉한 직선
plt.show()


# 만약 정렬을 원한다면 groupby후 sort_values()한후 시각화한다.
# 이때 seaborn -> dataframe으로 가져와야함
r = df_temp.groupby('지역명')['평당분양가격'].mean().sort_values(ascending=False).to_frame()
plt.figure(figsize=(15,5))
#sns.barplot(r, x='지역명', y='평당분양가격')
sns.barplot(r, x=r.index, y='평당분양가격', palette="Blues")
plt.show()





# 연도별 평당분양가격 barplot
sns.barplot(data=df_temp, x='연도', y='평당분양가격', ci=None)


# 년도별 평균 평당분양가격의 추이
sns.lineplot(data=df_temp, x='연도', y='평당분양가격')
#얇으면 지역변동 낮은것
#sns.lineplot(data=df_temp, y='지역명', x='평당분양가격')


# 년도별&지역별 평균 평당분양가격
plt.figure(figsize=(15,5))
sns.lineplot(data=df_temp, x='연도', y='평당분양가격', hue = '지역명')
plt.legend(bbox_to_anchor=(1.01, 1), loc=2, borderaxespad=0.)
plt.show()


# 연도별 평당분양가격의 사분위수(boxplot)
plt.figure(figsize=(15,5))
sns.boxplot(data=df_temp, x='연도', y='평당분양가격')
#plt.legend(bbox_to_anchor=(1.01, 1), loc=2, borderaxespad=0.)
plt.show()


# 연도별 평당분양가격의 사분위수와 분포
# 연도별 평당분양가격의 사분위수(boxplot)
plt.figure(figsize=(15,5))
sns.violinplot(data=df_temp, x='연도', y='평당분양가격')
#plt.legend(bbox_to_anchor=(1.01, 1), loc=2, borderaxespad=0.)
plt.show()
#보통은 중위수 근처에 분포가 큼
#2019~23년도 -> 집값의 양극화를 보여줌 (중위수 근처에 분포가 적음)


# 연도별 전용면적별 boxenplot
# 연도별 평당분양가격의 사분위수(boxplot)
plt.figure(figsize=(15,5))
#sns.boxenplot(data=df_temp, x='연도', y='평당분양가격')
sns.boxenplot(data=df_temp, x='연도', y='평당분양가격', hue='전용면적')
#plt.legend(bbox_to_anchor=(1.01, 1), loc=2, borderaxespad=0.)
plt.show()


# boxplot으로 지역별 평당분양가격을 그려봅니다.
# 연도별 평당분양가격의 사분위수(boxplot)
plt.figure(figsize=(15,5))
sns.violinplot(data=df_temp, x='지역명', y='평당분양가격')
#plt.legend(bbox_to_anchor=(1.01, 1), loc=2, borderaxespad=0.)
plt.show()





df_first.sample()


df_temp.sample()





new_first = df_first.melt(id_vars="지역", 
                          var_name="연도월", 
                          value_name="평당분양가격")
print(new_first.info())
new_first.head()

# melt를 통해 녹인 연도월 데이터는 전처리하기 편하게 데이터로 옴





data="2013년12월"
print(data.split("년"))
print(data.split("년")[0])
print(int(data.split("년")[0]))
#year = lambda y : int(data.split("년")[0], y


def parse_year(x):
    return int(x.split("년")[0])  #return 1줄짜리 -> lambda함수화 가능
parse_year("2013년12월")


def parse_month(x):
    return int(x.split("년")[-1].replace("월","")) #return 1줄짜리 -> lambda함수화 가능
parse_month("2013년12월")


# "연도월" 컬럼을 "연도"컬럼과 "월"컬럼으로 분리한다(lambda함수 이용)
# map -> ch05 함수에서 확인
new_first['연도월']
new_first['연도월'].map(lambda x : int(x.split("년")[0])) #연도
new_first['연도'] = new_first['연도월'].map(lambda x : int(x.split("년")[0])) #연도
new_first['연도월'].map(lambda x : int(x.split("년")[-1].replace("월",""))) #월
new_first['월'] = new_first['연도월'].map(lambda x : int(x.split("년")[-1].replace("월",""))) #월
new_first.head()


# "연도월" 컬럼을 제거하고, 컬럼명을 ["지역명","평당분양가격","연도","월"]로 수정
print(new_first.drop("연도월", axis=1))
new_second = new_first.drop("연도월", axis=1)
new_second.columns = ["지역명","평당분양가격","연도","월"]



print(new_second.sample())
print(df_temp.head(2))
#전용면적에서 모든면적 빼고 나머지 다 지우는 작업 필요


#df_last 데이터 중 "전용면적"이 "모든면적"인 데이터만 복사한다(깊은복사)
#df_temp[조건]
new_temp = df_temp[df_temp['전용면적']=='모든면적'] #얕은복사
new_templast = df_temp[df_temp['전용면적']=='모든면적'].copy() #깊은복사
# "전용면적"컬럼 제거
new_last = new_templast.drop('전용면적', axis=1)
new_last.head()


# new_first와 new_last 행병합
df = pd.concat([new_second, new_last]) # 행병합, axis = 0
df.sample()


# index 재조정
df.index = range(df.shape[0])
df.head()


df



