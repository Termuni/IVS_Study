#튜플 -> 데이터 수정 불가
#딕셔러니 -> 구조체 같은 거
#셋 -> 배열 중복데이터 안 넣어짐
#저장방식 : 데이터 변수(+함수)가 따로 잡혀있고, 변수명은 포인터 역할
#리스트에 시간 쓰기








fruits = ['banana', 'apple', 'orange', 'grape', 0]   #늘리고 줄이기 가능, 변수 타입 섞어서 출력 가능
type(fruits)


print(fruits)
print(fruits[0])


fruits[0] = 'mango'
print(fruits[0])


for fruit in fruits:
    print(fruit)


for i in [0, 1, 2, 3, 4]:
    print("{}번째 과일은 {}".format(i, fruits[i]))
for i in range(len(fruits)):
    print(fruits[len(fruits) - 1 - i])










































