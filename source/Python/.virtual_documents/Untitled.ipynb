





import numpy as np
np.pi


import pandas as pd
pd.__version__


data = pd.read_json('data/ch10_member1.json', encoding = 'utf-8')  #디폴트가 utf-8, euc-kr 대신 cp949
#read_json -> 알아서 읽고 알아서 다시 닫음
print(type(data))
data


data = pd.read_json('data/ch10_member2.json')
data


member1 = pd.read_csv('data/ch09_member1.csv', header = None, names = ['name', 'age', 'email', 'address'], encoding = 'utf-8')
member1





d = {'name' : ['홍길동', '신길동'], 'age' : [20, 30]} #로 딕셔너리 정의 (열 별로)
df = pd.DataFrame(data=d) #데이터의 프레임화
df





d = [{'name' : '홍길동', 'age' : 20}, {'name' : '신길동', 'age' : 30}]
df = pd.DataFrame(data=d) #데이터 프레임화
df








df = pd.read_csv('data/2013년9월부터2015년8월까지.csv', encoding = 'utf-8')
df.shape  #Row, Column 행&열 출력


df.head() # 상위 5줄만 출력(default)


df.head(2) # 상위 2줄만 출력


pd.options.display.max_columns  #데이터프레임의 최대 출력 가능한 column 수 확인하는 방법


pd.options.display.max_columns = 22
df.sample()





import statsmodels.api as sm
iris = sm.datasets.get_rdataset("iris", package="datasets").data  #이렇게 하면 아이리스 데이터 받아올 수 있음
iris.tail() #뒤에서부터 n행 보는법





member_df = pd.read_csv('data/ch09_member1.csv', header=None)
member_df





member_df.columns = ['name', 'age', 'email', 'address']
member_df








member_df = pd.concat([member_df, member_df])  #일부러 인덱스 조진거 넣기
member_df.index


member_df.index = ['동', '서', '남', '북', '중', '신']*2
member_df


member_df.index = range(1, len(member_df)+1)  #len -> member_df의 행 수를 확인해서 넣음
member_df





member_df.set_index("name") # 하고 할당하면 그걸로 세팅 된 결과를 출력해줌
member_df.set_index("name", inplace=True) # 하고 실행하면 데이터 프레임에 적용됨
member_df.reset_index(inplace=False)
print(member_df)


#행 이름을 컬럼에 편입시키기
member_df.reset_index() #reset 적용한 것을 return한 것으로, member_df에는 적용 안 되어있음






























