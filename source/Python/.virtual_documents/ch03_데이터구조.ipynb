#튜플 -> 데이터 수정 불가
#딕셔러니 -> 구조체 같은 거
#셋 -> 배열 중복데이터 안 넣어짐
#저장방식 : 데이터 변수(+함수)가 따로 잡혀있고, 변수명은 포인터 역할
#리스트에 시간 쓰기








fruits = ['banana', 'apple', 'orange', 'grape', 0]   #늘리고 줄이기 가능, 변수 타입 섞어서 출력 가능
type(fruits)


print(fruits)
print(fruits[0])


fruits[0] = 'mango'
print(fruits[0])


for fruit in fruits:
    print(fruit)


for i in [0, 1, 2, 3, 4]:
    print("{}번째 과일은 {}".format(i, fruits[i]))
for i in range(len(fruits)):
    print(fruits[len(fruits) - 1 - i])


fruits = ['re', 2, 0]
print(enumerate(fruits))
for idx, value in enumerate(fruits):
    print(idx, value)





#데이터와 함께 함수를 사용 가능
#교안 ch03 p.3에 있음


numbers = [1, 2, 3, 4, 5]
print("요소의 수 :", len(numbers))
print("최소값 :", min(numbers))
print("최대값 :", max(numbers))





# + 통해 두 리스트 연결 가능
# * 통해 리스트를 n만큼 반복 가능
# append() : 요소 뒤에 추가
# extend() : 리스트의 요소별로 뒤에 추가


numbers = [1, 2, 3]
numbers = numbers + numbers
numbers


numbers = [1, 2, 3]
print(numbers * 3)


numbers = [1, 2, 3]
numbers.append(4)
print(numbers)


numbers = [1, 2, 3, 4]
num = [5, 6]
#numbers를 [1,2,3,4, [5,6] ] 으로
numbers.append(num)
numbers


numbers = [1, 2, 3, 4]
num = [5, 6]
#numbers를 [1,2,3,4,5,6]으로
numbers.extend(num)
numbers


numbers = [1, 2, 3, 4]
num = [5, 6]
#numbers를 [1,2,3,4,5,6] 으로
numbers = numbers + num
numbers


numbers = [1, 2, 3, 4]
numbers.append("Hello")
numbers


numbers = [1, 2, 3, 4]
numbers.extend("Hello")
numbers   #문자열로 보고 얻어냄





numbers = [1,2,3,4, [2,3,4], [1,2,3], 1,2,3]
print("2가 몇개인지 : {}".format(numbers.count(2)))
print("5가 몇개인지 : {}".format(numbers.count(5)))


2 in numbers  #


numbers.index(1, 2) #3번째 인덱스부터 2가 처음 나오는 인덱스를 반환
#len(numbers)





numbers = [1,3,5,9,10,12,13,18,19,20]
numbers[::-1]


numbers[::2] #얘는 2개씩 건너뛰면서 원하는 "인덱스"의 값을 가져옴, 즉 인덱스가 짝수인 값을 추출


#리스트 컴프리헨션 -> 인덱스 中 원하는 "값"을 가져옴
result = []
for num in numbers:
    if num%2 == 0:
        result.append(num)
result


#리스트 컴프리헨션
#result = [num for num in numbers] -> append로 그냥 전부 넣는것과 동일함
result = [num for num in numbers if num % 2 == 0] #이러면 if 뒤의 조건문 만족되는 것들만 list로 만들어 줌
result


#numbers 리스트의 제곱값을 리스트로 생성하여라
numbers = [1,3,5]
result = [num**2 for num in numbers]
result


#과일 글자가 5글자 이상인 과일 추출
fruits = ["orange", "apple", "mango", "kiwi"]
result = [fruit for fruit in fruits if len(fruit) >= 5]
result


#과일 글자가 5글자 이상인 과일의 글자수 출력
fruits = ["orange", "apple", "mango", "kiwi"]
result = [len(fruit) for fruit in fruits if len(fruit) >= 5]
result





numbers = [1,2,3,4]
print(numbers.pop())
print(numbers)


numbers.remove(1) #없는 상태에서 삭제하면 에러남
print(numbers)


del numbers[0]
print(numbers)


del numbers
# print(numbers)  -> ERROR!





numbers = [9, 10, 1, 5, 5]
numbers.sort(reverse=True)  #기본 reverse = False, 오름차순 / reverse = True, 오름차순
numbers





numbers = [6,1,2]
new_numbers = numbers; #얕은 복사 (가르키는 주소만 복사)
numbers.sort()
print("정렬 전 데이터? :", new_numbers)
print("정렬 후 데이터 :", numbers)


numbers = [6,1,2]
new_numbers = numbers.copy(); #깊은 복사 (똑같은 리스트를 그대로 복사해서 가져다 놓고, 그 복사된 리스트의 주소를 피킹)
numbers.sort()
print("정렬 전 데이터 :", new_numbers)
print("정렬 후 데이터 :", numbers)





city = ('서울', '부산', '광주', '대전')
print(type(city))
print(city)


'~'.join(city)


t = ('서울')
print(type(t))  #1개짜리 튜플은 위와 같이 그냥 붙이면 안 됨
t = ('서울',)
print(type(t))  #1개짜리 튜플은 뒤에 컴마(,) 필수





dict = {'name':'강선민', 'address':'서울시 강동구'}
print(type(dict))
print(dict)


print("접근 :", dict['name'], dict["address"])
dict['name'], dict["address"]  #이대로 콤마 해서 붙여놓으면 튜플로 인식함 (놀랍게도)


#dict['score'] -> ERROR!
dict.get('name'), dict.get('address'), dict.get('score')


#dictionary -> 얼마든지 수정 가능! score를 까먹었으니 추가하는 예제
dict['score'] = 100      #그냥 추가 가능
dict['sport'] = 'sleep' #그냥 추가 가능
print(dict)
dict.pop('sport')       #제거도 가능
print(dict)


for data in dict:
    print(data)  #data가 아닌 key만 나옴
for idx, value in enumerate(dict):
    print(idx, value) #동일하게 인덱스 번호랑 


print(dict.keys())
print(dict.values())
print(dict.items())  #for문에서는 이 친구를 이용!


for data in dict.values():
    print(data)


for key, value in dict.items():
    print("{} : {}".format(key, value))


l = ['a', 'b', 'c']
'c' in l   #in 연산자 -> 뒤에있는 요소에 앞에있는 대상이 있는지 검색하는 기능


dict = {'name' : '홍길동', 'score' : 100}
print('name' in dict)  #True
print('홍길동' in dict) #False


len(dict) #데이터 갯수





fruits_list = ['apple', 'orange', 'banana', 'banana']
fruits_tuple = ('apple', 'orange', 'banana', 'banana')
fruits_set = {'apple', 'orange', 'banana', 'banana', 0, 0}
print("{}\n{}\n{}".format(fruits_list, fruits_tuple, fruits_set))
print(type(fruits_set))


fruits_set.add('kiwi')
fruits_set.add('banana')
print(fruits_set)


for i, value in enumerate(fruits_set):  #순서 뒤죽박죽임
    print("{}:{}".format(i, value))


for data in fruits_set:
    print(data)
