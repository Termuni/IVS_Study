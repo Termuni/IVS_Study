





def MyHello(x, msg):   #함수 정의, 매개변수 2개짜리임
    for i in range(x):
        print(i, msg)
#파이썬에서 함수는 변수다


MyHello(4, "행복합니다")


type(MyHello)


MyHello = 10
type(MyHello)


def MyHello(x):   #함수 정의, 매개변수 1개짜리로 overwrite
    for i in range(x):
        print(i, "함수는 복습필수")
#파이썬에서 함수는 변수다


#MyHello(4,"함수는?")  #overloading이 안 됨, 덮어씌어짐
MyHello(4)


def MyAdd(num1, num2, num3 = 0): #num3 -> 기본값을 갖는 인수
#def MyAdd(num1, num2 = 0, num3): --> 이렇게 정의하면 컴파일러에서 오류남
    return num1 + num2 + num3
print(MyAdd(1,2,3))
print(MyAdd(1,2))
#기본값을 갖지 않는 인수 -> 순서 인수
#기본값을 갖는 인수 -> 순서 인수 뒤에 와야함





def Fibonacci(n):
    """
    매개변수(인수)로 들어온 n값 미만의 피보나치 수열을 출력하는 함수
    ex. 인수로 10 -> 0, 1, 1, 2, 3, 5, 8
    """
    a, b = 0, 1   #내부적으로 튜플 (a, b) = (0, 1)로 할당됨
    while a < n:
        print(a, end='. ')
        a, b = b, a + b
    print()  #개행용 빈 프린트


type(Fibonacci)


Fibonacci


__name__  #이 변수는 main영역에서 실행된다는 것을 출력, __name__은 기본적으로 존재함


if __name__ == '__main__':
    Fibonacci(100)


import fibonacci #같은 폴더의 fibonacci.py가 해석되서 메모리에 로드


fibonacci.Fibonacci(100)
print(__name__)





global_var = 100 # 전역 변수 -> 커널 종료 전까지 사용 가능
def func1():
    print(global_var)
func1()
print(global_var)


def func2():
    local_var = 100  # 지역 변수 -> 함수 내에서만 사용 가능한 변수
    print(local_var)
func2()
#local_var -> 함수 밖에서는 호출 불가능


g_var = 100
def func3():
    g_var = 200   # 이 g_var --> 지역변수로 선언 된 것
    print(g_var)  
func3()
print(g_var)






# 함수를 해석한 뒤 실행하는데, g_var를 사용할 것이라는 것을 먼저 확인함
# 즉 실행하면서 컴파일러는
# 1. g_var가 함수에 있다는 것을 확인한다
# 2. 함수에 g_var에 필요하다는 것을 확인
# 3. 전역변수가 있는지 확인하는 것보다, 함수에 문제가 있다는 것을 확인했기에 오류가 나옴

g_var = 100       # 전역변수를 선언

def func3():
    #print(g_var)  # 이 g_var --> global g_var를 참조하지 못함, 오류라서 참조로 수정해둠
    g_var = 200   # 이 g_var --> 지역변수로 선언 된 것
    print(g_var)  

func3()
print(g_var)





g_var = 100
def func3():
    global g_var  # 이 함수 내에서 g_var는 전역변수를 사용할 것이라고 미리 얘기하는 것
    print(g_var)
    g_var = 200   # 전역 변수에 값을 할당  
func3()
print(g_var)      # g_var가 바뀜





foo = 'ab'
id(foo)


def func1(f):
    print("Before : {}의 주소는 {}".format(f, id(f)))  #이때 f의 주소값은 foo의 주소값과 동일함
    f *= 3 #매개변수는 지역변수
    print("After : {}의 주소는 {}".format(f, id(f)))   #값을 바꾸면 새로운 주소 사용
func1(foo)
print("함수 호출 후 foo : {}의 주소는 {}".format(foo, id(foo)))





L = [1, 2, 3]
print("L의 내용은 {}, 주소는 {}".format(L, id(L)))


def func2(f):
    print("함수 내 before : L의 내용은 {}, 주소는 {}".format(L, id(L)))
    print("함수 내 before : f의 내용은 {}, 주소는 {}".format(f, id(f)))
    f.append(4)
    print("함수 내 after : L의 내용은 {}, 주소는 {}".format(L, id(L)))
    print("함수 내 after : f의 내용은 {}, 주소는 {}".format(f, id(f)))

func2(L)
print("함수 수행 후 L의 내용은 {}, 주소는 {}".format(L, id(L)))





# return multiple values
def swap(a, b):
    "a와 b를 바꾸는 함수"
    return b, a   # 이렇게 하면 자동으로 튜플로 인식함


x, y = 5, 10   # 이렇게 하면 자동으로 튜플로 인식함
print("함수 실행 전 x={}, y={}".format(x,y))
x, y = swap(x, y)
print("함수 실행 후 x={}, y={}".format(x,y))





def MakeURL(ip, port = 80): #기본값을 가지는 인수 -> 반드시 순서인수 뒤에 와야 함
    #순서인수, 기본값을 갖는 인수 순으로 적어야함
    return "http://{}:{}".format(ip, port)


print(MakeURL("localhost"))
print(MakeURL("localhost", 8090))
print(MakeURL(port=8090, ip="localhost"))





print('hello', 'world')  #인수의 개수가 가변


def add(args):
    sum = 0
    print("전달받은 args : ", args)
    print(type(args))
    for num in args:
        sum = sum + num
    return sum


add((1,))  #함수에 튜플로 넘겨서 동일한 결과 받을 수 있음


# args 앞에 * 붙임 --> args가 튜플로 전달 받음 : 튜플 매개변수
def add(*args):
    sum = 0
    print("전달받은 args : ", args)
    print(type(args))
    for num in args:
        sum = sum + num
    return sum


print(add(1,2,3))
print(add(1,2,3,4,5))
print(add(1))





def concat(*args, sep):    #*args로 받으면 어디서부터 어디까지 args인지 알 수 없음!!
    return sep.join(args)  #맨 뒤의 아이만 sep이고, 나머지는 args이고싶다...


#concat("C", "Python", "Oracle", "~") # 앞의 세개를 "~" 로 연결해주고 싶은 것
#해결책 1
concat("C", "Python", "Oracle", sep = "~")


#해결책 2(강추)
def concat(sep, *args): # 순서인수 > 튜플인수 순서로 설정해주기
    return sep.join(args)
concat("~", "C", "Python", "Oracle")
#concat("~", "C", "Python", "Oracle", sep = " ")    #이렇게 하면 sep을 두개 쓰게되어 오류생김

#문제점
def concat(sep = "/", *args): # 순서인수 > 튜플인수 순서로 설정해주기
    return sep.join(args)
concat("~", "C", "Python", "Oracle") #이와 같이 sep이 덮어씌워짐





#해결책 3
def concat(*args, sep="/"): # 순서인수 > 튜플인수 > 키워드인수(기본값 갖는 매개변수)순서로 설정해주기
    return sep.join(args)
# 키워드인수 --> 넣지 않으면 원하는 결과와 달라지는 경우!!
concat("C", "Python", "Oracle", "~")


concat("C", "Python", "Oracle", sep = "~")





def func(**args):   # ** -> args가 dictionary로 전달 됨
    # print(args)
    # print(type(args))
    for key, value in args.items():
        print("{} : {}".format(key, value))


dict = {"name":"홍길동", "age":20}
#func(dict)  이러면 오류남, 그럴거면 ** 안 썼음
func(name = "홍길동", age = 20)  #마치 키워드 인수처럼 사용


func(gamename = "서바이벌C", year = 2024, price = 33000)





def func(a, b, c, *d, e=10, **f):
    print("a = ", a)
    print("b = ", b)
    print("c = ", c)
    print("d = ", d)
    print("e = ", e)
    print("f = ", f)


func(10, 20, 30, 1, 2, 3, 4, 5, height = 180, name = "홍길동", address = "서울시")
#e를 skip해도 괜찮음
print()
func(10, 20, 30, 1, 2, 3, 4, 5, e = 100 ,height = 180, name = "홍길동", address = "서울시")
#e를 넣어도 괜찮음


#파이썬 -> 모든 변수를 객체 형태로 저장
#파라미터 넘길 때 모두 주소를 넘김
#객체 -> 주소 타고 가면 값이 있는 것





def add(*args):  #매개변수로 튜플을 그냥은 못 받음
    sum = 0
    for num in args:
        sum = sum + num
    return sum


data = (1,2,3)
# add(data) --> 이렇게 쓰면 오류남
add(*data)   #튜플 변수의 언패킹





def func(**args):  #매개변수에 딕셔너리를 못 받음
    for key, value in args.items():
        print("{} : {}".format(key, value))


dict = {"name" : "홍길동", "age" : 30} 
#func(dict) --> ERROR
func(**dict)
#func(name = "홍길동", age = 30)





#일반 함수
def add(a, b):
    return a+b
print(add(3,2))
print(type(add))


#Lambda식
# 아래는 편의상 대입 해준 것
# 함수 = lambda (매개변수1, 변수2, ...) : (return값)
add = lambda a,b : a + b
print(add(3,5))
print(type(add))


(lambda a,b : a + b)(5, 6)





(lambda x : x**2)(3)


def map_template(func, L=[]): #func는 순서인수, L은 기본값을 가짐
    result = []
    for data in L: #두번째 매개변수의 데이터들 하나 하나씩
        result.append(func(data))  #append에 func을 한 데이터를 넣음
    return result


list_data = [1,2,3,4,5]
# f = lambda x : x**2
# map_template(f, list_data)
map_template(lambda x : x**2, list_data)


list(map(lambda x:x*2, list_data))   #map()은 list로 한번 감싸줘야함


#list comprehension과 차이점 확인
[data*2 for data in list_data]


#map 쓰는 이유 --> 엄청 크고 복잡한 데이터는 map 쓰는게 더 편하기 때문!


list_data = [1,2,3,4,5]


def filter_template(func, L=[]):  # func -> filtering 할 조건이 들어가있는 함수 넣어줌
    result = []
    for data in L:
        if func(data):
            result.append(data)
    return result


filter_template(lambda x : x%2 == 0, list_data)


list(filter(lambda x : x%2==0, list_data))


#list comprehension
[data for data in list_data if data%2==0]















