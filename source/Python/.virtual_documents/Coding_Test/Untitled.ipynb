


#미리 minX, minY, maxX, maxY 정의
# minX는 find('#'), maxX('#')
# minY는 최초에 '#' 나오면 그 값 저장, maxY는 최후에 '#'나오면 그 값 저장
def solution(wallpaper):
    #최초에 min, max 값 저장, 이때 길이 1~50임
    minX = 51
    maxX = 0
    minY = 51 
    maxY = 0
    
    for idx, p in enumerate(wallpaper):
        if p.find('#') >= 0:
            minX = min(minX, p.find('#'))
            minY = min(minY, idx)
        if p.rfind('#') >= 0:
            maxX = max(maxX, p.rfind('#'))
            maxY = max(maxY, idx)
    
    mini = [minY, minX]
    maxi = [maxY+1, maxX+1]
    answer = []
    answer.extend(mini)
    answer.extend(maxi)
    return answer
    


solution([".#...", "..#..", "...#."])
solution(["..........", ".....#....", "......##..", "...##.....", "....#....."])
solution([".##...##.", "#..#.#..#", "#...#...#", ".#.....#.", "..#...#..", "...#.#...", "....#...."])



