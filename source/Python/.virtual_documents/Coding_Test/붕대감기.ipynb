








#1. bandage 정보 확인, 값 세팅
#2. 체력 확인
#3. 시간 시작 후 한 줄씩 데미지 입히기
#4. 중간에 체력 다 떨어지면 죽이기
#5. 다 끝나면 return 하기


def solution(bandage, health, attacks):
    #bandage 정보 확인 후 값 세팅
    coolTime, healPerSec, additionalHeal = bandage
    #DEBUG : print(coolTime, healPerSec, additionalHeal)
    answer = health
    #시간 세팅
    time = 0
    healtime = 0
    endTime = attacks[len(attacks)-1][0]

    #모든 시간을 확인하고 그 시간에 따라 한 번씩 데미지?
    #매 초마다 공격 맨 앞의 시간과 일치하는지 확인, 일치하면 데미지 입히고 attacks에서 빼내기
    while time < endTime:
        time += 1
        healtime += 1
        if time == attacks[0][0]: #적 공격하는 시간
            answer -= attacks[0][1]
            del attacks[0]
            healtime = 0
            if answer <= 0:
                return -1
            #print(attacks)
        else:                     #적 공격 없는 시간
            answer += healPerSec  #기본 힐
            if healtime % coolTime == 0:
                answer += additionalHeal
            if answer > health:
                answer = health

        print(answer)
    
    return answer


solution([5,1,5], 10, [[1,1],[2,1],[8,11]])



