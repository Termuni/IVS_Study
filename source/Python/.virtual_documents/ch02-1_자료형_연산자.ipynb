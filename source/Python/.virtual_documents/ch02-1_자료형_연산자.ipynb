





#pi = 3.141592 같이 직접입력하지 않고 라이브러리 이용


# 임포팅을 통해서 stdio.h와 같은 헤더들 추가 가능, as std 와 같이 해서 이름을 붙일 수 있음
# import 해서 추가한 놈 쓰려고하면 그 이름 다 써야하는데, 기니까 사용하는 것
# import stdio.h as std 
# stdio.h.printf() -> std.printf()
import numpy as np
print("제공되는 pi값 : ", np.pi)
r = 5
area = np.pi * r * r
print("계산된 넓이는", area) 
print("area Type : ", type(area))
print("area Address : ", id(area))


area = 10
print("area 값 : ", area)
print("area Changed Type : ", type(area))
print("area Changed Address : ", id(area))


area = '파이썬 좋아요'
print("area 값 : ", area)
print("area Changed Type : ", type(area))
print("area Changed Address : ", id(area))





# 한글 변수는 비추천
불용어 = '북한'
불용어


#if = 4 -> 불가능
#파이썬 변수는 함수 할당 가능
print = 5 #가능하나, print라는 함수가 작동 불가
print(불용어)


#이렇게 겹친 변수를 삭제할 수 있음
del print #print 변수 삭제


print(불용어)


#변수에 복소수 가능
i = 3 + 3j
type(i)


#한 번에 두개 선언 가능 (다중선언)
a, b = 10, 20
a, b


a, b = b, a + b  #a에는 20이 들어갈 '예정', b에는 a와 b 값 합친 값이 들어갈 것
#병렬로 값이 들어감
print("a =", a, "\t b =", b)





help(print)


print?


# 도움말 기능 : 함수 내에서 shift+tab
print('a', 'b', sep = '~') # help 에서 봤을 때 sep 을 space-bar에서 ~로 변경


#함수 맛보기
def make_number(x, y = 0):  #default값 설정 가능
    # " 한개 -> 한줄짜리 도움말 / """ 으로 3개 -> 여러줄 도움말
    """doc string(함수의 도움말)
    매개변수 2개를 이용하여 2자리 정수를 만듦
    x = 10의 자리수
    y = 1의 자리수 (default 값 : 0)
    """
    return x*10 + y


make_number(3, 2)


make_number(5)


make = make_number  # 함수를 변수에 할당


make(6)





del make
make(6)





first = input("첫번째 숫자는?") #숫자 입력해도 문자를 입력받음
second = input("두번째 숫자는?") #괄호 안에는 도움말 입력 가능


print("두 수의 합은", first + second, "입니다")
print("두 수의 합은 {}입니다.".format(first+second)) #문자 + 문자로 이어붙여짐


first = int(input("첫번째 숫자는?")) #숫자 입력하면 숫자 입력됨
second = int(input("두번째 숫자는?")) #숫자를 입력 안 하면 에러남


print("두 수의 합은 {}입니다.".format(first+second)) #숫자 + 숫자로 계산 됨


print("Hello", "World", sep='~', end=' ')
print("Hello", "Python")








import sys
print(sys.maxsize) #윈도우에서 다루는 최대 숫자, 대략 922경, 모든 크기의 정수 처리 가능


a = sys.maxsize + 10
print("값 : {} / 주소 : {}".format(a, id(a)))
print(type(a))


a = 1
print("값 : {} / 주소 : {}".format(a, id(a)))
print(type(a))


a = 3/2 # 정수 / 정수 => 실수
print("값 : {} / 주소 : {}".format(a, id(a)))
print(type(a))


a = int(3/2) # C언어처럼 하기 위해서는 명시적 형 변환 필요
a = 3 // 2   # 또는 몫 연산자를 활용 가능


f = 1.12e20  # 1.12의 10의 20승
f = 1.12e-20 # 1.12의 10의 -20승





name = "홍길동'님'"  # "" 안에 '' 들어갈 수 있음
name = '강선민"님"'  # '' 안에 "" 들어갈 수 있음
address = "서울시 \"강동구\" \
길동 349-7"
# \" \"  를 통해서 직접 넣을 수 있음
# \ 를 통해서 다음줄로 넘길 수 있음
print(name, address)


text = "안녕하세요\n홍길동입니다\n반갑습니다"
print(text)
text = """안녕하세요
강선민입니다
반갑습니다
"""
print(text)


# 문자열 슬라이싱


str_ = "0123456789"
str_[0:3]  #0번 index부터 3번 index 바로 앞까지 slicing


str_[-1]   #음수 인덱스는 뒤에서부터 라는 뜻으로 읽힘


str_[-5:-1] #뒤에서부터 출력


str_[5:] #5번부터 끝까지


str_[:-3] #처음부터 -3번째 앞까지


str_[-3:]


str_[5:19] #슬라이싱에서는 인덱스를 벗어나면 끝까지 라는 뜻이 됨
#하지만 str_[19] 로 출력하려고 하면 오류로 나옴


# str_[from:to:step]
print(str_[0:9:2]) #0번 ~ 9번 앞 까지 2개씩 index 증가하여 프린트
print(str_[::2])   #처음 ~ 끝까지 2개씩 index 증가하여 프린트


#끝부터 처음까지 거꾸로 출력
print(str_[9:0:-1])
print(str_[9:-1:-1])
print(str_[9::-1])
print(str_[::-1])





a = True
print(a)
print(type(a))
print(isinstance(a, bool))  #a가 bool Type의 객체인지 물어보는 것


#False 로 간주하는 것들 : 0, None, ""(빈 스트링), ''(빈 스트링), [](빈 리스트), (), {}(빈 딕셔너리)
#True로 간주하는 것들 : " ", '\0'(NULL문자)


if 0+0j: #false로 감지, 0이기 때문
    print("True다")
else:
    print("False다")





float(True)





name = "강선민"
add = "서울시 강동구"
print("이름은 {1:10}, 주소는 {0}".format(add, name)) # 1, 0 등 넣어서 순서 변경 가능
#1:10 -> 10글자를 확보한 상태에서 작성


print("이름은 %s, 주소는 %s"%(name, add))


print(f"이름은 {name}, 주소는 {add}")





a = 10
s = "Hello"
print("[{0:$>10d}], [{1:*<20.2}]".format(a, s))  #자릿수 뒤에 .숫자 -> 원하는 만큼만 보이게 할 수 있음





print( (10>3) & (10>5) ) #연산자 앞/뒤에 true/false --> 논리연산자 True


print( 12 & 1 )  #연산자 앞/뒤에 비트연산 가능한 것 옴 --> 비트연산자
print( 12 | 1 )





'아' < '하'


'*' < '1' < 'A' < 'a' # 특수문자 < 숫자 < 대문자 < 소문자


score = 85
80 <= score < 90 < 100 # 4항 연산도 가능





#문자열을 다룰 수 있는 함수 목록
dir(str)


temp = 'Python is Haaard. Python is smart. I\'m not smart..'
#       012345678901234567890123456789012345 67890123456789
temp.upper(), len(temp)
#temp 작성하면서 온갖가지 함수들이 같이 딸려있음
#upper, lower, ...


print("첫번째 글자 : {}, 마지막 글자 : {}".format(temp[0], temp[-1]))
print("대문자로:", temp.upper())
print("첫글자만 대문자:", temp.capitalize())
print("title():", temp.title())
print("count():", temp.count('Python'))
print("find():", temp.find('Python'))
print("rfind():", temp.rfind('Python'))
print("replace('Python', '***')", temp.replace('Python', '***'))
print("startswith():", temp.startswith('Py'))
print(temp)


temp = "           Python       "
print("원본 : [{}]".format(temp))
print("strip : [{}]".format(temp.strip()))
print("lstrip : [{}]".format(temp.lstrip()))
print("rstrip : [{}]".format(temp.rstrip()))


temp = 'Python is Haaard. Python is smart. I\'m not smart..'
#문자를 ' ' 단위로 나누어 사전에서 명사 단위로 찾고싶은 경우
print('space단위로 분리하여 list로 반환 : ', temp.split())


temp = "2024-05-30"
temp_list = temp.split('-')
temp_join = '~'.join(temp_list)
print('년/월/일 분리:', temp_list)
print('연결된 temp:', temp_join)
#print('한방에 정리:',temp.split('-').join('~')) -> 에러남





from datetime import date
#python은 라이브러리가 폴더와 파일로 나뉘어있고, datetime이라는 폴더에서 date를 가져옴
#만약 datetime이 파일이면 date라는 함수만 가져올 수 있음


someday = date(2024, 5, 30)
someday


print("{:%Y년%m월%d일 %H시 %M분}".format(someday))


today = date.today() #오늘
print("{:%Y년%m월%d일 %H시 %M분}".format(today))





from datetime import datetime
now = datetime.today()
print("{:%Y년%m월%d일 %H시 %M분}".format(now))















