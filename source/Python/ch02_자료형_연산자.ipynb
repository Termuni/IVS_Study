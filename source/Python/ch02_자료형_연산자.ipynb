{
 "cells": [
  {
   "cell_type": "markdown",
   "id": "16497bc2-fe10-441c-820e-c50cacd0391c",
   "metadata": {},
   "source": [
    "자료형과 연산자"
   ]
  },
  {
   "cell_type": "markdown",
   "id": "9ec3bea5-c375-457c-b04f-c795df8d3021",
   "metadata": {},
   "source": [
    "# 1절 변수\n",
    "## 1-1. 변수선언\n",
    "    - 별도의 변수 자료형 선언 과정 없음\n",
    "## 1-2. 변수 할당\n",
    "    - 대입연산자(=) 사용"
   ]
  },
  {
   "cell_type": "code",
   "execution_count": 1,
   "id": "88ae10df-d795-4aa2-aa95-a0f01e6648f1",
   "metadata": {},
   "outputs": [],
   "source": [
    "#pi = 3.141592 같이 직접입력하지 않고 라이브러리 이용"
   ]
  },
  {
   "cell_type": "code",
   "execution_count": 2,
   "id": "f1ded32b-4f32-41b8-acdb-3c6deca1021a",
   "metadata": {},
   "outputs": [
    {
     "name": "stdout",
     "output_type": "stream",
     "text": [
      "제공되는 pi값 :  3.141592653589793\n",
      "계산된 넓이는 78.53981633974483\n",
      "area Type :  <class 'float'>\n",
      "area Address :  2491283960432\n"
     ]
    }
   ],
   "source": [
    "# 임포팅을 통해서 stdio.h와 같은 헤더들 추가 가능, as std 와 같이 해서 이름을 붙일 수 있음\n",
    "# import 해서 추가한 놈 쓰려고하면 그 이름 다 써야하는데, 기니까 사용하는 것\n",
    "# import stdio.h as std \n",
    "# stdio.h.printf() -> std.printf()\n",
    "import numpy as np\n",
    "print(\"제공되는 pi값 : \", np.pi)\n",
    "r = 5\n",
    "area = np.pi * r * r\n",
    "print(\"계산된 넓이는\", area) \n",
    "print(\"area Type : \", type(area))\n",
    "print(\"area Address : \", id(area))"
   ]
  },
  {
   "cell_type": "code",
   "execution_count": 3,
   "id": "1b4d989c-5a95-4b57-844e-712ad5b8ca08",
   "metadata": {},
   "outputs": [
    {
     "name": "stdout",
     "output_type": "stream",
     "text": [
      "area 값 :  10\n",
      "area Changed Type :  <class 'int'>\n",
      "area Changed Address :  140713362965576\n"
     ]
    }
   ],
   "source": [
    "area = 10\n",
    "print(\"area 값 : \", area)\n",
    "print(\"area Changed Type : \", type(area))\n",
    "print(\"area Changed Address : \", id(area))"
   ]
  },
  {
   "cell_type": "code",
   "execution_count": 4,
   "id": "06e91b48-ff07-4ded-9718-9b607017f4cf",
   "metadata": {},
   "outputs": [
    {
     "name": "stdout",
     "output_type": "stream",
     "text": [
      "area 값 :  파이썬 좋아요\n",
      "area Changed Type :  <class 'str'>\n",
      "area Changed Address :  2491283859344\n"
     ]
    }
   ],
   "source": [
    "area = '파이썬 좋아요'\n",
    "print(\"area 값 : \", area)\n",
    "print(\"area Changed Type : \", type(area))\n",
    "print(\"area Changed Address : \", id(area))"
   ]
  },
  {
   "cell_type": "markdown",
   "id": "da1deb85-e529-40a9-b035-e92d12393cae",
   "metadata": {},
   "source": [
    "## 1.3 변수 이름 규칙\n",
    "    - 문자(특수문자는 _ 만 가능), 숫자, _로 명명\n",
    "    - 문자로 시작\n",
    "    - 파이썬에서 제공되는 기본 함수명은 피하자. 꼭 써야한다면? int_ 식으로 _ 붙이기\n",
    "    - 파이썬 예약어는 변수명 불가 (ex. if)"
   ]
  },
  {
   "cell_type": "code",
   "execution_count": 5,
   "id": "453c6b14-fe09-4381-98c6-67ae117a5a37",
   "metadata": {},
   "outputs": [
    {
     "data": {
      "text/plain": [
       "'북한'"
      ]
     },
     "execution_count": 5,
     "metadata": {},
     "output_type": "execute_result"
    }
   ],
   "source": [
    "# 한글 변수는 비추천\n",
    "불용어 = '북한'\n",
    "불용어"
   ]
  },
  {
   "cell_type": "code",
   "execution_count": 6,
   "id": "0a0b6bd2-4fe3-4212-8d16-60762a737cec",
   "metadata": {},
   "outputs": [],
   "source": [
    "#if = 4 -> 불가능\n",
    "#파이썬 변수는 함수 할당 가능\n",
    "print = 5 #가능하나, print라는 함수가 작동 불가\n",
    "#print(불용어)"
   ]
  },
  {
   "cell_type": "code",
   "execution_count": 7,
   "id": "deb02eac-e3cc-4221-ad43-fc1e70a24fb9",
   "metadata": {},
   "outputs": [],
   "source": [
    "#이렇게 겹친 변수를 삭제할 수 있음\n",
    "del print #print 변수 삭제"
   ]
  },
  {
   "cell_type": "code",
   "execution_count": 8,
   "id": "c68d773f-d841-41c0-a152-ab82406b0b3f",
   "metadata": {},
   "outputs": [
    {
     "name": "stdout",
     "output_type": "stream",
     "text": [
      "북한\n"
     ]
    }
   ],
   "source": [
    "print(불용어)"
   ]
  },
  {
   "cell_type": "code",
   "execution_count": 9,
   "id": "a08a2d5f-9b49-4bd5-b28a-543b02cac60b",
   "metadata": {},
   "outputs": [
    {
     "data": {
      "text/plain": [
       "complex"
      ]
     },
     "execution_count": 9,
     "metadata": {},
     "output_type": "execute_result"
    }
   ],
   "source": [
    "#변수에 복소수 가능\n",
    "i = 3 + 3j\n",
    "type(i)"
   ]
  },
  {
   "cell_type": "code",
   "execution_count": 10,
   "id": "ed2714e0-01a9-4c87-8308-b9ec43b4cfce",
   "metadata": {},
   "outputs": [
    {
     "data": {
      "text/plain": [
       "(10, 20)"
      ]
     },
     "execution_count": 10,
     "metadata": {},
     "output_type": "execute_result"
    }
   ],
   "source": [
    "#한 번에 두개 선언 가능 (다중선언)\n",
    "a, b = 10, 20\n",
    "a, b"
   ]
  },
  {
   "cell_type": "code",
   "execution_count": 11,
   "id": "9dbf41b8-68fc-438a-a6d1-97872d62d9fd",
   "metadata": {},
   "outputs": [
    {
     "name": "stdout",
     "output_type": "stream",
     "text": [
      "a = 20 \t b = 30\n"
     ]
    }
   ],
   "source": [
    "a, b = b, a + b  #a에는 20이 들어갈 '예정', b에는 a와 b 값 합친 값이 들어갈 것\n",
    "#병렬로 값이 들어감\n",
    "print(\"a =\", a, \"\\t b =\", b)"
   ]
  },
  {
   "cell_type": "markdown",
   "id": "602154b7-2ec1-43f0-87d1-5a4b86f5a075",
   "metadata": {},
   "source": [
    "## 1.4 도움말"
   ]
  },
  {
   "cell_type": "code",
   "execution_count": 12,
   "id": "0ceef2d6-bb90-4356-a491-0a335398d217",
   "metadata": {},
   "outputs": [
    {
     "name": "stdout",
     "output_type": "stream",
     "text": [
      "Help on built-in function print in module builtins:\n",
      "\n",
      "print(*args, sep=' ', end='\\n', file=None, flush=False)\n",
      "    Prints the values to a stream, or to sys.stdout by default.\n",
      "    \n",
      "    sep\n",
      "      string inserted between values, default a space.\n",
      "    end\n",
      "      string appended after the last value, default a newline.\n",
      "    file\n",
      "      a file-like object (stream); defaults to the current sys.stdout.\n",
      "    flush\n",
      "      whether to forcibly flush the stream.\n",
      "\n"
     ]
    }
   ],
   "source": [
    "help(print)"
   ]
  },
  {
   "cell_type": "code",
   "execution_count": 13,
   "id": "2afe22f5-3322-4940-8cfb-054c87a19e96",
   "metadata": {},
   "outputs": [
    {
     "data": {
      "text/plain": [
       "\u001b[1;31mSignature:\u001b[0m \u001b[0mprint\u001b[0m\u001b[1;33m(\u001b[0m\u001b[1;33m*\u001b[0m\u001b[0margs\u001b[0m\u001b[1;33m,\u001b[0m \u001b[0msep\u001b[0m\u001b[1;33m=\u001b[0m\u001b[1;34m' '\u001b[0m\u001b[1;33m,\u001b[0m \u001b[0mend\u001b[0m\u001b[1;33m=\u001b[0m\u001b[1;34m'\\n'\u001b[0m\u001b[1;33m,\u001b[0m \u001b[0mfile\u001b[0m\u001b[1;33m=\u001b[0m\u001b[1;32mNone\u001b[0m\u001b[1;33m,\u001b[0m \u001b[0mflush\u001b[0m\u001b[1;33m=\u001b[0m\u001b[1;32mFalse\u001b[0m\u001b[1;33m)\u001b[0m\u001b[1;33m\u001b[0m\u001b[1;33m\u001b[0m\u001b[0m\n",
       "\u001b[1;31mDocstring:\u001b[0m\n",
       "Prints the values to a stream, or to sys.stdout by default.\n",
       "\n",
       "sep\n",
       "  string inserted between values, default a space.\n",
       "end\n",
       "  string appended after the last value, default a newline.\n",
       "file\n",
       "  a file-like object (stream); defaults to the current sys.stdout.\n",
       "flush\n",
       "  whether to forcibly flush the stream.\n",
       "\u001b[1;31mType:\u001b[0m      builtin_function_or_method"
      ]
     },
     "metadata": {},
     "output_type": "display_data"
    }
   ],
   "source": [
    "print?"
   ]
  },
  {
   "cell_type": "code",
   "execution_count": 14,
   "id": "14c6f625-1fa7-4352-8730-a7954c6debb3",
   "metadata": {},
   "outputs": [
    {
     "name": "stdout",
     "output_type": "stream",
     "text": [
      "a~b\n"
     ]
    }
   ],
   "source": [
    "# 도움말 기능 : 함수 내에서 shift+tab\n",
    "print('a', 'b', sep = '~') # help 에서 봤을 때 sep 을 space-bar에서 ~로 변경"
   ]
  },
  {
   "cell_type": "code",
   "execution_count": 15,
   "id": "ebd5e0f8-1267-4ed4-9eee-93df1e8b80e1",
   "metadata": {},
   "outputs": [],
   "source": [
    "#함수 맛보기\n",
    "def make_number(x, y = 0):  #default값 설정 가능\n",
    "    # \" 한개 -> 한줄짜리 도움말 / \"\"\" 으로 3개 -> 여러줄 도움말\n",
    "    \"\"\"doc string(함수의 도움말)\n",
    "    매개변수 2개를 이용하여 2자리 정수를 만듦\n",
    "    x = 10의 자리수\n",
    "    y = 1의 자리수 (default 값 : 0)\n",
    "    \"\"\"\n",
    "    return x*10 + y"
   ]
  },
  {
   "cell_type": "code",
   "execution_count": 16,
   "id": "040a6da2-8071-4c42-a66e-08bd23b8d868",
   "metadata": {},
   "outputs": [
    {
     "data": {
      "text/plain": [
       "32"
      ]
     },
     "execution_count": 16,
     "metadata": {},
     "output_type": "execute_result"
    }
   ],
   "source": [
    "make_number(3, 2)"
   ]
  },
  {
   "cell_type": "code",
   "execution_count": 17,
   "id": "8fb58643-b741-4e5b-89a2-44e6afec7144",
   "metadata": {},
   "outputs": [
    {
     "data": {
      "text/plain": [
       "50"
      ]
     },
     "execution_count": 17,
     "metadata": {},
     "output_type": "execute_result"
    }
   ],
   "source": [
    "make_number(5)"
   ]
  },
  {
   "cell_type": "code",
   "execution_count": 18,
   "id": "7834c893-3342-4d53-a2fe-134c377d152d",
   "metadata": {},
   "outputs": [],
   "source": [
    "make = make_number  # 함수를 변수에 할당"
   ]
  },
  {
   "cell_type": "code",
   "execution_count": 19,
   "id": "c794801e-c6a8-4072-8f17-f4619e25c75c",
   "metadata": {},
   "outputs": [
    {
     "data": {
      "text/plain": [
       "60"
      ]
     },
     "execution_count": 19,
     "metadata": {},
     "output_type": "execute_result"
    }
   ],
   "source": [
    "make(6)"
   ]
  },
  {
   "cell_type": "markdown",
   "id": "b6578921-acc3-446c-a25a-9eabc1981b33",
   "metadata": {},
   "source": [
    "## 1.5 변수삭제\n",
    "함수도 변수, 변수도 변수"
   ]
  },
  {
   "cell_type": "code",
   "execution_count": 20,
   "id": "c418a5fb-1984-4185-9de4-d07f1e51f1a7",
   "metadata": {},
   "outputs": [],
   "source": [
    "del make\n",
    "#make(6)"
   ]
  },
  {
   "cell_type": "markdown",
   "id": "a2aab451-2d43-45bb-a028-8d0fcf6feae8",
   "metadata": {},
   "source": [
    "# 2절 화면 I/O\n",
    "※파일 입출력 아님※"
   ]
  },
  {
   "cell_type": "code",
   "execution_count": 21,
   "id": "a280ed47-836f-47e4-9b60-fa66557d444a",
   "metadata": {},
   "outputs": [
    {
     "name": "stdin",
     "output_type": "stream",
     "text": [
      "첫번째 숫자는? 13\n",
      "두번째 숫자는? 09\n"
     ]
    }
   ],
   "source": [
    "first = input(\"첫번째 숫자는?\") #숫자 입력해도 문자를 입력받음\n",
    "second = input(\"두번째 숫자는?\") #괄호 안에는 도움말 입력 가능"
   ]
  },
  {
   "cell_type": "code",
   "execution_count": 22,
   "id": "0e082b10-dd87-4292-bf44-fd489c58a274",
   "metadata": {},
   "outputs": [
    {
     "name": "stdout",
     "output_type": "stream",
     "text": [
      "두 수의 합은 1309 입니다\n",
      "두 수의 합은 1309입니다.\n"
     ]
    }
   ],
   "source": [
    "print(\"두 수의 합은\", first + second, \"입니다\")\n",
    "print(\"두 수의 합은 {}입니다.\".format(first+second)) #문자 + 문자로 이어붙여짐"
   ]
  },
  {
   "cell_type": "code",
   "execution_count": 23,
   "id": "8c92a2ca-7e38-4fdb-aee0-60522eff9f2a",
   "metadata": {},
   "outputs": [
    {
     "name": "stdin",
     "output_type": "stream",
     "text": [
      "첫번째 숫자는? 13\n",
      "두번째 숫자는? 09\n"
     ]
    }
   ],
   "source": [
    "first = int(input(\"첫번째 숫자는?\")) #숫자 입력하면 숫자 입력됨\n",
    "second = int(input(\"두번째 숫자는?\")) #숫자를 입력 안 하면 에러남"
   ]
  },
  {
   "cell_type": "code",
   "execution_count": 24,
   "id": "7d92ab71-6ee2-4934-acbf-c70712126a00",
   "metadata": {},
   "outputs": [
    {
     "name": "stdout",
     "output_type": "stream",
     "text": [
      "두 수의 합은 22입니다.\n"
     ]
    }
   ],
   "source": [
    "print(\"두 수의 합은 {}입니다.\".format(first+second)) #숫자 + 숫자로 계산 됨"
   ]
  },
  {
   "cell_type": "code",
   "execution_count": 25,
   "id": "92f87192-2602-40f1-87a0-4b7e58b35845",
   "metadata": {},
   "outputs": [
    {
     "name": "stdout",
     "output_type": "stream",
     "text": [
      "Hello~World Hello Python\n"
     ]
    }
   ],
   "source": [
    "print(\"Hello\", \"World\", sep='~', end=' ')\n",
    "print(\"Hello\", \"Python\")"
   ]
  },
  {
   "cell_type": "markdown",
   "id": "5cca6133-1ffc-4218-aef1-4ec5c1dfa83d",
   "metadata": {},
   "source": [
    "# 3절 기본 자료형\n",
    "    - 숫자 : int, float, complex\n",
    "    - 문자 : str\n",
    "    - 논리 : bool\n",
    "    파이썬은 타입을 지칭하는 키워드 없음, 변수 할당시 타입 정해짐"
   ]
  },
  {
   "cell_type": "markdown",
   "id": "aa51b0e8-cd4f-42f1-ad9b-6d9ad4a327cc",
   "metadata": {},
   "source": [
    "## 3.1 숫자형"
   ]
  },
  {
   "cell_type": "code",
   "execution_count": 26,
   "id": "a4032d79-e4dd-43f7-9bf3-ce983084e57b",
   "metadata": {},
   "outputs": [
    {
     "name": "stdout",
     "output_type": "stream",
     "text": [
      "9223372036854775807\n"
     ]
    }
   ],
   "source": [
    "import sys\n",
    "print(sys.maxsize) #윈도우에서 다루는 최대 숫자, 대략 922경, 모든 크기의 정수 처리 가능"
   ]
  },
  {
   "cell_type": "code",
   "execution_count": 27,
   "id": "d7f0fe9e-8c5b-425d-bacb-be6809b17512",
   "metadata": {},
   "outputs": [
    {
     "name": "stdout",
     "output_type": "stream",
     "text": [
      "값 : 9223372036854775817 / 주소 : 2491290583664\n",
      "<class 'int'>\n"
     ]
    }
   ],
   "source": [
    "a = sys.maxsize + 10\n",
    "print(\"값 : {} / 주소 : {}\".format(a, id(a)))\n",
    "print(type(a))"
   ]
  },
  {
   "cell_type": "code",
   "execution_count": 28,
   "id": "1dd1afbd-1872-480b-b824-936facea348d",
   "metadata": {},
   "outputs": [
    {
     "name": "stdout",
     "output_type": "stream",
     "text": [
      "값 : 1 / 주소 : 140713362965288\n",
      "<class 'int'>\n"
     ]
    }
   ],
   "source": [
    "a = 1\n",
    "print(\"값 : {} / 주소 : {}\".format(a, id(a)))\n",
    "print(type(a))"
   ]
  },
  {
   "cell_type": "code",
   "execution_count": 29,
   "id": "ed465968-8f76-420c-afe8-d64d20964e1a",
   "metadata": {},
   "outputs": [
    {
     "name": "stdout",
     "output_type": "stream",
     "text": [
      "값 : 1.5 / 주소 : 2491283953072\n",
      "<class 'float'>\n"
     ]
    }
   ],
   "source": [
    "a = 3/2 # 정수 / 정수 => 실수\n",
    "print(\"값 : {} / 주소 : {}\".format(a, id(a)))\n",
    "print(type(a))"
   ]
  },
  {
   "cell_type": "code",
   "execution_count": 30,
   "id": "20055929-05bc-45ce-a357-335a52ccbba1",
   "metadata": {},
   "outputs": [],
   "source": [
    "a = int(3/2) # C언어처럼 하기 위해서는 명시적 형 변환 필요\n",
    "a = 3 // 2   # 또는 몫 연산자를 활용 가능"
   ]
  },
  {
   "cell_type": "code",
   "execution_count": 31,
   "id": "0eb39664-b155-4fed-8441-b5611cd321e4",
   "metadata": {},
   "outputs": [],
   "source": [
    "f = 1.12e20  # 1.12의 10의 20승\n",
    "f = 1.12e-20 # 1.12의 10의 -20승"
   ]
  },
  {
   "cell_type": "markdown",
   "id": "840a7f63-743f-4f42-9fc2-2c38fd657ea2",
   "metadata": {},
   "source": [
    "## 3.2 문자형"
   ]
  },
  {
   "cell_type": "code",
   "execution_count": 32,
   "id": "29fd258c-4012-4836-88b2-fb88d3d4ca3e",
   "metadata": {},
   "outputs": [
    {
     "name": "stdout",
     "output_type": "stream",
     "text": [
      "강선민\"님\" 서울시 \"강동구\" 길동 349-7\n"
     ]
    }
   ],
   "source": [
    "name = \"홍길동'님'\"  # \"\" 안에 '' 들어갈 수 있음\n",
    "name = '강선민\"님\"'  # '' 안에 \"\" 들어갈 수 있음\n",
    "address = \"서울시 \\\"강동구\\\" \\\n",
    "길동 349-7\"\n",
    "# \\\" \\\"  를 통해서 직접 넣을 수 있음\n",
    "# \\ 를 통해서 다음줄로 넘길 수 있음\n",
    "print(name, address)"
   ]
  },
  {
   "cell_type": "code",
   "execution_count": 33,
   "id": "05042cbb-e0e0-43aa-adb8-4b723500b611",
   "metadata": {},
   "outputs": [
    {
     "name": "stdout",
     "output_type": "stream",
     "text": [
      "안녕하세요\n",
      "홍길동입니다\n",
      "반갑습니다\n",
      "안녕하세요\n",
      "강선민입니다\n",
      "반갑습니다\n",
      "\n"
     ]
    }
   ],
   "source": [
    "text = \"안녕하세요\\n홍길동입니다\\n반갑습니다\"\n",
    "print(text)\n",
    "text = \"\"\"안녕하세요\n",
    "강선민입니다\n",
    "반갑습니다\n",
    "\"\"\"\n",
    "print(text)"
   ]
  },
  {
   "cell_type": "code",
   "execution_count": 34,
   "id": "b6ccef50-000c-4590-af82-ddf89329b253",
   "metadata": {},
   "outputs": [],
   "source": [
    "# 문자열 슬라이싱"
   ]
  },
  {
   "cell_type": "code",
   "execution_count": 35,
   "id": "493ab75b-f6c6-408f-9471-d9279dd6393a",
   "metadata": {},
   "outputs": [
    {
     "data": {
      "text/plain": [
       "'012'"
      ]
     },
     "execution_count": 35,
     "metadata": {},
     "output_type": "execute_result"
    }
   ],
   "source": [
    "str_ = \"0123456789\"\n",
    "str_[0:3]  #0번 index부터 3번 index 바로 앞까지 slicing"
   ]
  },
  {
   "cell_type": "code",
   "execution_count": 36,
   "id": "8578fed9-5a9b-4b4c-a4f2-ab9b9aed32bf",
   "metadata": {},
   "outputs": [
    {
     "data": {
      "text/plain": [
       "'9'"
      ]
     },
     "execution_count": 36,
     "metadata": {},
     "output_type": "execute_result"
    }
   ],
   "source": [
    "str_[-1]   #음수 인덱스는 뒤에서부터 라는 뜻으로 읽힘"
   ]
  },
  {
   "cell_type": "code",
   "execution_count": 37,
   "id": "4bfc5e86-4332-467e-9455-90725f1d2af8",
   "metadata": {},
   "outputs": [
    {
     "data": {
      "text/plain": [
       "'5678'"
      ]
     },
     "execution_count": 37,
     "metadata": {},
     "output_type": "execute_result"
    }
   ],
   "source": [
    "str_[-5:-1] #뒤에서부터 출력"
   ]
  },
  {
   "cell_type": "code",
   "execution_count": 38,
   "id": "356f31bf-4e9a-4734-bbe3-797869dc5c18",
   "metadata": {},
   "outputs": [
    {
     "data": {
      "text/plain": [
       "'56789'"
      ]
     },
     "execution_count": 38,
     "metadata": {},
     "output_type": "execute_result"
    }
   ],
   "source": [
    "str_[5:] #5번부터 끝까지"
   ]
  },
  {
   "cell_type": "code",
   "execution_count": 39,
   "id": "37208145-2386-4944-97c2-fb62ff77ec5e",
   "metadata": {},
   "outputs": [
    {
     "data": {
      "text/plain": [
       "'0123456'"
      ]
     },
     "execution_count": 39,
     "metadata": {},
     "output_type": "execute_result"
    }
   ],
   "source": [
    "str_[:-3] #처음부터 -3번째 앞까지"
   ]
  },
  {
   "cell_type": "code",
   "execution_count": 40,
   "id": "9ec85365-77b4-464d-9dd5-93d6c2911cbd",
   "metadata": {},
   "outputs": [
    {
     "data": {
      "text/plain": [
       "'789'"
      ]
     },
     "execution_count": 40,
     "metadata": {},
     "output_type": "execute_result"
    }
   ],
   "source": [
    "str_[-3:]"
   ]
  },
  {
   "cell_type": "code",
   "execution_count": 41,
   "id": "dd597abd-d769-45f6-aa2a-27f56b4705fd",
   "metadata": {},
   "outputs": [
    {
     "data": {
      "text/plain": [
       "'56789'"
      ]
     },
     "execution_count": 41,
     "metadata": {},
     "output_type": "execute_result"
    }
   ],
   "source": [
    "str_[5:19] #슬라이싱에서는 인덱스를 벗어나면 끝까지 라는 뜻이 됨\n",
    "#하지만 str_[19] 로 출력하려고 하면 오류로 나옴"
   ]
  },
  {
   "cell_type": "code",
   "execution_count": 42,
   "id": "41070e9d-b2a1-41cc-bc9d-66c46313079d",
   "metadata": {},
   "outputs": [
    {
     "name": "stdout",
     "output_type": "stream",
     "text": [
      "02468\n",
      "02468\n"
     ]
    }
   ],
   "source": [
    "# str_[from:to:step]\n",
    "print(str_[0:9:2]) #0번 ~ 9번 앞 까지 2개씩 index 증가하여 프린트\n",
    "print(str_[::2])   #처음 ~ 끝까지 2개씩 index 증가하여 프린트"
   ]
  },
  {
   "cell_type": "code",
   "execution_count": 43,
   "id": "87f7f317-b468-4153-a652-5d12f884951d",
   "metadata": {},
   "outputs": [
    {
     "name": "stdout",
     "output_type": "stream",
     "text": [
      "987654321\n",
      "\n",
      "9876543210\n",
      "9876543210\n"
     ]
    }
   ],
   "source": [
    "#끝부터 처음까지 거꾸로 출력\n",
    "print(str_[9:0:-1])\n",
    "print(str_[9:-1:-1])\n",
    "print(str_[9::-1])\n",
    "print(str_[::-1])"
   ]
  },
  {
   "cell_type": "markdown",
   "id": "b9c103ce-9062-475e-a8a4-bbe18c1e08ad",
   "metadata": {},
   "source": [
    "## 3.3 논리형(True, False)"
   ]
  },
  {
   "cell_type": "code",
   "execution_count": 44,
   "id": "d4784223-bef3-462f-aaa3-07dfa6f80430",
   "metadata": {},
   "outputs": [
    {
     "name": "stdout",
     "output_type": "stream",
     "text": [
      "True\n",
      "<class 'bool'>\n",
      "True\n"
     ]
    }
   ],
   "source": [
    "a = True\n",
    "print(a)\n",
    "print(type(a))\n",
    "print(isinstance(a, bool))  #a가 bool Type의 객체인지 물어보는 것"
   ]
  },
  {
   "cell_type": "code",
   "execution_count": 45,
   "id": "090af023-da4a-411c-9377-6b9a119f0bec",
   "metadata": {},
   "outputs": [],
   "source": [
    "#False 로 간주하는 것들 : 0, None, \"\"(빈 스트링), ''(빈 스트링), [](빈 리스트), (), {}(빈 딕셔너리)\n",
    "#True로 간주하는 것들 : \" \", '\\0'(NULL문자)"
   ]
  },
  {
   "cell_type": "code",
   "execution_count": 46,
   "id": "f640d198-4e16-41cf-8bfe-29f2daeb49d6",
   "metadata": {},
   "outputs": [
    {
     "name": "stdout",
     "output_type": "stream",
     "text": [
      "False다\n"
     ]
    }
   ],
   "source": [
    "if 0+0j: #false로 감지, 0이기 때문\n",
    "    print(\"True다\")\n",
    "else:\n",
    "    print(\"False다\")"
   ]
  },
  {
   "cell_type": "markdown",
   "id": "f7bd7210-889e-4935-9d39-1f507c66b4c1",
   "metadata": {},
   "source": [
    "## 3.4 자료형 확인 및 변환\n",
    "    - type() : 자료형 확인\n",
    "    - int() : 정수형 변환\n",
    "    - float() : 실수형 변환\n",
    "    - str() : 문자로 변환\n",
    "    - bool() : 논리형 변환"
   ]
  },
  {
   "cell_type": "code",
   "execution_count": 47,
   "id": "6f36801a-1216-45b7-9cab-8a0a0c403295",
   "metadata": {},
   "outputs": [
    {
     "data": {
      "text/plain": [
       "1.0"
      ]
     },
     "execution_count": 47,
     "metadata": {},
     "output_type": "execute_result"
    }
   ],
   "source": [
    "float(True)"
   ]
  },
  {
   "cell_type": "markdown",
   "id": "e94a7161-3ed7-4054-b7cc-64eafa01b994",
   "metadata": {},
   "source": [
    "# 4절 포맷팅"
   ]
  },
  {
   "cell_type": "code",
   "execution_count": 48,
   "id": "4e20e0e7-b955-472e-8427-76e55426dd0f",
   "metadata": {},
   "outputs": [
    {
     "name": "stdout",
     "output_type": "stream",
     "text": [
      "이름은 강선민       , 주소는 서울시 강동구\n"
     ]
    }
   ],
   "source": [
    "name = \"강선민\"\n",
    "add = \"서울시 강동구\"\n",
    "print(\"이름은 {1:10}, 주소는 {0}\".format(add, name)) # 1, 0 등 넣어서 순서 변경 가능\n",
    "#1:10 -> 10글자를 확보한 상태에서 작성"
   ]
  },
  {
   "cell_type": "code",
   "execution_count": 49,
   "id": "8d0fef7a-9c7c-42bb-8259-c34cb5fbb434",
   "metadata": {},
   "outputs": [
    {
     "name": "stdout",
     "output_type": "stream",
     "text": [
      "이름은 강선민, 주소는 서울시 강동구\n"
     ]
    }
   ],
   "source": [
    "print(\"이름은 %s, 주소는 %s\"%(name, add))"
   ]
  },
  {
   "cell_type": "code",
   "execution_count": 50,
   "id": "8b913e88-343d-4d93-8736-85079e1c712c",
   "metadata": {},
   "outputs": [
    {
     "name": "stdout",
     "output_type": "stream",
     "text": [
      "이름은 강선민, 주소는 서울시 강동구\n"
     ]
    }
   ],
   "source": [
    "print(f\"이름은 {name}, 주소는 {add}\")"
   ]
  },
  {
   "cell_type": "markdown",
   "id": "52943828-b9f3-4031-8e4d-065ccdcf642e",
   "metadata": {},
   "source": [
    "format()함수\n",
    "- \"{[인덱스]:[공백대체문자][정렬방법][자릿수][타입]}\".format(변수명,...)\n",
    "    - 정렬 방법 : < (왼쪽 정렬), > (오른쪽 정렬), ^ (가운데 정렬)\n",
    "    - 타입 : d(10진수), x(16진수), o(8진수), b(2진수), f(실수), s(문자)"
   ]
  },
  {
   "cell_type": "code",
   "execution_count": 51,
   "id": "97d9af83-36b6-46bb-9220-73909198cfb3",
   "metadata": {},
   "outputs": [
    {
     "name": "stdout",
     "output_type": "stream",
     "text": [
      "[$$$$$$$$10], [He******************]\n"
     ]
    }
   ],
   "source": [
    "a = 10\n",
    "s = \"Hello\"\n",
    "print(\"[{0:$>10d}], [{1:*<20.2}]\".format(a, s))  #자릿수 뒤에 .숫자 -> 원하는 만큼만 보이게 할 수 있음"
   ]
  },
  {
   "cell_type": "markdown",
   "id": "b3fc8c32-9db8-46fb-8eea-f4849fac4b54",
   "metadata": {},
   "source": [
    "# 5절 연산자\n",
    "## 5.1 산술 연산자\n",
    "    -> + - / * //(몫) %(나머지) **(제곱)\n",
    "## 5.2 할당 연산자\n",
    "    -> = += -= /= %= ..\n",
    "## 5.3 논리 연산자\n",
    "    -> &, and, |, or, not (연산자 우선순위가 높음)\n",
    "## 5.4 비트 연산자\n",
    "    -> &, |, ^(XOR) (연산자 우선순위가 높음)"
   ]
  },
  {
   "cell_type": "code",
   "execution_count": 52,
   "id": "2f725529-c524-40b6-9477-c0966e963b72",
   "metadata": {},
   "outputs": [
    {
     "name": "stdout",
     "output_type": "stream",
     "text": [
      "True\n"
     ]
    }
   ],
   "source": [
    "print( (10>3) & (10>5) ) #연산자 앞/뒤에 true/false --> 논리연산자 True"
   ]
  },
  {
   "cell_type": "code",
   "execution_count": 53,
   "id": "faf2657a-87df-4866-bf62-e825c0853b86",
   "metadata": {},
   "outputs": [
    {
     "name": "stdout",
     "output_type": "stream",
     "text": [
      "0\n",
      "13\n"
     ]
    }
   ],
   "source": [
    "print( 12 & 1 )  #연산자 앞/뒤에 비트연산 가능한 것 옴 --> 비트연산자\n",
    "print( 12 | 1 )"
   ]
  },
  {
   "cell_type": "markdown",
   "id": "5cd7db23-61eb-49b7-b3f2-610ffba7713c",
   "metadata": {},
   "source": [
    "## 5.5 비교 연산자\n",
    "    --> > >= < <= == !="
   ]
  },
  {
   "cell_type": "code",
   "execution_count": 54,
   "id": "d78c7da0-bbb2-411f-95d6-532ba46b2b67",
   "metadata": {},
   "outputs": [
    {
     "data": {
      "text/plain": [
       "True"
      ]
     },
     "execution_count": 54,
     "metadata": {},
     "output_type": "execute_result"
    }
   ],
   "source": [
    "'아' < '하'"
   ]
  },
  {
   "cell_type": "code",
   "execution_count": 55,
   "id": "38ef0cdc-bce4-403a-a424-598c7935e0b2",
   "metadata": {},
   "outputs": [
    {
     "data": {
      "text/plain": [
       "True"
      ]
     },
     "execution_count": 55,
     "metadata": {},
     "output_type": "execute_result"
    }
   ],
   "source": [
    "'*' < '1' < 'A' < 'a' # 특수문자 < 숫자 < 대문자 < 소문자"
   ]
  },
  {
   "cell_type": "code",
   "execution_count": 56,
   "id": "c73c30bb-1af4-47ee-9011-f37e196c5752",
   "metadata": {},
   "outputs": [
    {
     "data": {
      "text/plain": [
       "True"
      ]
     },
     "execution_count": 56,
     "metadata": {},
     "output_type": "execute_result"
    }
   ],
   "source": [
    "score = 85\n",
    "80 <= score < 90 < 100 # 4항 연산도 가능"
   ]
  },
  {
   "cell_type": "markdown",
   "id": "45d58bbe-c43e-453d-8c00-079ca7b444a1",
   "metadata": {},
   "source": [
    "# 6절 문자열 다루기\n",
    "    - 문자열 슬라이싱 : 문자변수[from:to:step]\n",
    "    - len(문자열) : 문자 개수\n",
    "    - upper() : 대문자화\n",
    "    - lower() : 소문자화\n",
    "    - title() : 각 단어의 앞글자만 대문자로\n",
    "    - capitalize() : 첫 문자만 대문자로. 그 외는 소문자로\n",
    "    - count('찾을문자열') : 찾을 문자열이 몇개 들어있는지 갯수 반환\n",
    "    - find('찾을문자열') : 찾을 문자열을 왼쪽부터 시작하여 몇번째에 있는지 index 반환\n",
    "    - rfind('찾을문자열') : 찾을 문자열을 오른쪽부터 시작하여 몇번째에 있는지 index 반환\n",
    "    ※ 찾을 문자열이 없으면 -1을 반환 ※\n",
    "    - startswith('특정문자열') : 특정 문자열로 시작하는지 여부 T/F 반환 (starts with)\n",
    "    - endswith('특정문자열') : 특정 문자열로 끝나는지 여부 T/F 반환 (ends with)\n",
    "    - strip() : 좌우 공백 제거\n",
    "    - lstrip() : 왼쪽 공백 제거\n",
    "    - rstrip() : 오른쪽 공백 제거\n",
    "    - isdigit() : 문자열이 숫자 문자열인지 여부 T/F 반환\n",
    "    - islower() : 문자열이 소문자인지 여부 T/F 반환\n",
    "    - isupper() : 문자열이 대문자인지 여부 T/F 반환\n",
    "    - replace(oldStr, newStr) : oldStr을 newStr로 변경  --> 많이 사용함"
   ]
  },
  {
   "cell_type": "code",
   "execution_count": 57,
   "id": "5b08626a-1025-4676-9bad-e30b015cc965",
   "metadata": {
    "scrolled": true
   },
   "outputs": [
    {
     "data": {
      "text/plain": [
       "['__add__',\n",
       " '__class__',\n",
       " '__contains__',\n",
       " '__delattr__',\n",
       " '__dir__',\n",
       " '__doc__',\n",
       " '__eq__',\n",
       " '__format__',\n",
       " '__ge__',\n",
       " '__getattribute__',\n",
       " '__getitem__',\n",
       " '__getnewargs__',\n",
       " '__getstate__',\n",
       " '__gt__',\n",
       " '__hash__',\n",
       " '__init__',\n",
       " '__init_subclass__',\n",
       " '__iter__',\n",
       " '__le__',\n",
       " '__len__',\n",
       " '__lt__',\n",
       " '__mod__',\n",
       " '__mul__',\n",
       " '__ne__',\n",
       " '__new__',\n",
       " '__reduce__',\n",
       " '__reduce_ex__',\n",
       " '__repr__',\n",
       " '__rmod__',\n",
       " '__rmul__',\n",
       " '__setattr__',\n",
       " '__sizeof__',\n",
       " '__str__',\n",
       " '__subclasshook__',\n",
       " 'capitalize',\n",
       " 'casefold',\n",
       " 'center',\n",
       " 'count',\n",
       " 'encode',\n",
       " 'endswith',\n",
       " 'expandtabs',\n",
       " 'find',\n",
       " 'format',\n",
       " 'format_map',\n",
       " 'index',\n",
       " 'isalnum',\n",
       " 'isalpha',\n",
       " 'isascii',\n",
       " 'isdecimal',\n",
       " 'isdigit',\n",
       " 'isidentifier',\n",
       " 'islower',\n",
       " 'isnumeric',\n",
       " 'isprintable',\n",
       " 'isspace',\n",
       " 'istitle',\n",
       " 'isupper',\n",
       " 'join',\n",
       " 'ljust',\n",
       " 'lower',\n",
       " 'lstrip',\n",
       " 'maketrans',\n",
       " 'partition',\n",
       " 'removeprefix',\n",
       " 'removesuffix',\n",
       " 'replace',\n",
       " 'rfind',\n",
       " 'rindex',\n",
       " 'rjust',\n",
       " 'rpartition',\n",
       " 'rsplit',\n",
       " 'rstrip',\n",
       " 'split',\n",
       " 'splitlines',\n",
       " 'startswith',\n",
       " 'strip',\n",
       " 'swapcase',\n",
       " 'title',\n",
       " 'translate',\n",
       " 'upper',\n",
       " 'zfill']"
      ]
     },
     "execution_count": 57,
     "metadata": {},
     "output_type": "execute_result"
    }
   ],
   "source": [
    "#문자열을 다룰 수 있는 함수 목록\n",
    "dir(str)"
   ]
  },
  {
   "cell_type": "code",
   "execution_count": 58,
   "id": "ada322bd-69b0-420a-943e-6a061046aeac",
   "metadata": {},
   "outputs": [
    {
     "data": {
      "text/plain": [
       "(\"PYTHON IS HAAARD. PYTHON IS SMART. I'M NOT SMART..\", 50)"
      ]
     },
     "execution_count": 58,
     "metadata": {},
     "output_type": "execute_result"
    }
   ],
   "source": [
    "temp = 'Python is Haaard. Python is smart. I\\'m not smart..'\n",
    "#       012345678901234567890123456789012345 67890123456789\n",
    "temp.upper(), len(temp)\n",
    "#temp 작성하면서 온갖가지 함수들이 같이 딸려있음\n",
    "#upper, lower, ..."
   ]
  },
  {
   "cell_type": "code",
   "execution_count": 59,
   "id": "c9b03c89-e6e0-415c-80b5-4023f47a89ee",
   "metadata": {},
   "outputs": [
    {
     "name": "stdout",
     "output_type": "stream",
     "text": [
      "첫번째 글자 : P, 마지막 글자 : .\n",
      "대문자로: PYTHON IS HAAARD. PYTHON IS SMART. I'M NOT SMART..\n",
      "첫글자만 대문자: Python is haaard. python is smart. i'm not smart..\n",
      "title(): Python Is Haaard. Python Is Smart. I'M Not Smart..\n",
      "count(): 2\n",
      "find(): 0\n",
      "rfind(): 18\n",
      "replace('Python', '***') *** is Haaard. *** is smart. I'm not smart..\n",
      "startswith(): True\n",
      "Python is Haaard. Python is smart. I'm not smart..\n"
     ]
    }
   ],
   "source": [
    "print(\"첫번째 글자 : {}, 마지막 글자 : {}\".format(temp[0], temp[-1]))\n",
    "print(\"대문자로:\", temp.upper())\n",
    "print(\"첫글자만 대문자:\", temp.capitalize())\n",
    "print(\"title():\", temp.title())\n",
    "print(\"count():\", temp.count('Python'))\n",
    "print(\"find():\", temp.find('Python'))\n",
    "print(\"rfind():\", temp.rfind('Python'))\n",
    "print(\"replace('Python', '***')\", temp.replace('Python', '***'))\n",
    "print(\"startswith():\", temp.startswith('Py'))\n",
    "print(temp)"
   ]
  },
  {
   "cell_type": "code",
   "execution_count": 60,
   "id": "ef9a2cd7-01c2-4e3f-b1d2-f7c86cf3d850",
   "metadata": {},
   "outputs": [
    {
     "name": "stdout",
     "output_type": "stream",
     "text": [
      "원본 : [           Python       ]\n",
      "strip : [Python]\n",
      "lstrip : [Python       ]\n",
      "rstrip : [           Python]\n"
     ]
    }
   ],
   "source": [
    "temp = \"           Python       \"\n",
    "print(\"원본 : [{}]\".format(temp))\n",
    "print(\"strip : [{}]\".format(temp.strip()))\n",
    "print(\"lstrip : [{}]\".format(temp.lstrip()))\n",
    "print(\"rstrip : [{}]\".format(temp.rstrip()))"
   ]
  },
  {
   "cell_type": "code",
   "execution_count": 61,
   "id": "ba583987-c482-4186-831d-07582902890a",
   "metadata": {},
   "outputs": [
    {
     "name": "stdout",
     "output_type": "stream",
     "text": [
      "space단위로 분리하여 list로 반환 :  ['Python', 'is', 'Haaard.', 'Python', 'is', 'smart.', \"I'm\", 'not', 'smart..']\n"
     ]
    }
   ],
   "source": [
    "temp = 'Python is Haaard. Python is smart. I\\'m not smart..'\n",
    "#문자를 ' ' 단위로 나누어 사전에서 명사 단위로 찾고싶은 경우\n",
    "print('space단위로 분리하여 list로 반환 : ', temp.split())"
   ]
  },
  {
   "cell_type": "code",
   "execution_count": 62,
   "id": "c0458dd5-4aa0-4a6a-85ff-edcff49af724",
   "metadata": {},
   "outputs": [
    {
     "name": "stdout",
     "output_type": "stream",
     "text": [
      "년/월/일 분리: ['2024', '05', '30']\n",
      "연결된 temp: 2024~05~30\n"
     ]
    }
   ],
   "source": [
    "temp = \"2024-05-30\"\n",
    "temp_list = temp.split('-')\n",
    "temp_join = '~'.join(temp_list)\n",
    "print('년/월/일 분리:', temp_list)\n",
    "print('연결된 temp:', temp_join)\n",
    "#print('한방에 정리:',temp.split('-').join('~')) -> 에러남"
   ]
  },
  {
   "cell_type": "markdown",
   "id": "7a4ec297-5408-4fec-b0f9-8cdeafc999d5",
   "metadata": {},
   "source": [
    "# 7절 날짜 다루기\n",
    "## 7.1 날짜"
   ]
  },
  {
   "cell_type": "code",
   "execution_count": 63,
   "id": "7576cd3f-80dc-4ff7-987b-8c091011fe18",
   "metadata": {},
   "outputs": [],
   "source": [
    "from datetime import date\n",
    "#python은 라이브러리가 폴더와 파일로 나뉘어있고, datetime이라는 폴더에서 date를 가져옴\n",
    "#만약 datetime이 파일이면 date라는 함수만 가져올 수 있음"
   ]
  },
  {
   "cell_type": "code",
   "execution_count": 64,
   "id": "53739ac0-3ad8-41fd-8446-7a119a71816d",
   "metadata": {},
   "outputs": [
    {
     "data": {
      "text/plain": [
       "datetime.date(2024, 5, 30)"
      ]
     },
     "execution_count": 64,
     "metadata": {},
     "output_type": "execute_result"
    }
   ],
   "source": [
    "someday = date(2024, 5, 30)\n",
    "someday"
   ]
  },
  {
   "cell_type": "code",
   "execution_count": 65,
   "id": "561985dc-a4eb-4dfc-8d5d-e11a84ec50a2",
   "metadata": {},
   "outputs": [
    {
     "name": "stdout",
     "output_type": "stream",
     "text": [
      "2024년05월30일 00시 00분\n"
     ]
    }
   ],
   "source": [
    "print(\"{:%Y년%m월%d일 %H시 %M분}\".format(someday))"
   ]
  },
  {
   "cell_type": "code",
   "execution_count": 66,
   "id": "471e450f-2a28-44be-b68a-709f381a37b8",
   "metadata": {},
   "outputs": [
    {
     "name": "stdout",
     "output_type": "stream",
     "text": [
      "2024년05월30일 00시 00분\n"
     ]
    }
   ],
   "source": [
    "today = date.today() #오늘\n",
    "print(\"{:%Y년%m월%d일 %H시 %M분}\".format(today))"
   ]
  },
  {
   "cell_type": "markdown",
   "id": "a0abf8b2-0fda-4caf-9510-a8a796b05155",
   "metadata": {},
   "source": [
    "## 7.2 시간"
   ]
  },
  {
   "cell_type": "code",
   "execution_count": 67,
   "id": "db1d4f28-43f7-4a22-a745-d60995df3ed5",
   "metadata": {},
   "outputs": [
    {
     "name": "stdout",
     "output_type": "stream",
     "text": [
      "2024년05월30일 16시 49분\n"
     ]
    }
   ],
   "source": [
    "from datetime import datetime\n",
    "now = datetime.today()\n",
    "print(\"{:%Y년%m월%d일 %H시 %M분}\".format(now))"
   ]
  },
  {
   "cell_type": "markdown",
   "id": "616c4543-e857-4239-b40e-cc7b706fbd4c",
   "metadata": {},
   "source": [
    "# 8절 연습문제"
   ]
  },
  {
   "cell_type": "code",
   "execution_count": null,
   "id": "1f934db5-7b6c-4738-96d8-f6c6504cfae0",
   "metadata": {},
   "outputs": [],
   "source": []
  },
  {
   "cell_type": "code",
   "execution_count": null,
   "id": "d3b66cf7-bb5e-45ce-a49e-916819a9e906",
   "metadata": {},
   "outputs": [],
   "source": []
  },
  {
   "cell_type": "code",
   "execution_count": null,
   "id": "44792ed4-81e8-4954-8a30-c87739412154",
   "metadata": {},
   "outputs": [],
   "source": []
  },
  {
   "cell_type": "code",
   "execution_count": null,
   "id": "33d34074-4da9-41fb-a144-558897fab43f",
   "metadata": {},
   "outputs": [],
   "source": []
  }
 ],
 "metadata": {
  "kernelspec": {
   "display_name": "Python 3 (ipykernel)",
   "language": "python",
   "name": "python3"
  },
  "language_info": {
   "codemirror_mode": {
    "name": "ipython",
    "version": 3
   },
   "file_extension": ".py",
   "mimetype": "text/x-python",
   "name": "python",
   "nbconvert_exporter": "python",
   "pygments_lexer": "ipython3",
   "version": "3.11.7"
  }
 },
 "nbformat": 4,
 "nbformat_minor": 5
}
