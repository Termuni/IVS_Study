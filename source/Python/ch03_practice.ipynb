{
 "cells": [
  {
   "cell_type": "markdown",
   "id": "1f21bc57-30ec-4fa8-85b3-e38c2cacf545",
   "metadata": {},
   "source": [
    "# 3장 5절 연습문제"
   ]
  },
  {
   "cell_type": "markdown",
   "id": "ed535c53-bdfc-41e0-bd4b-0ad25ed6d4a2",
   "metadata": {},
   "source": [
    " 다음리스트가주어졌을경우요구사항대로코드를작성하시오\r\n",
    "numbers = \r\n",
    "[\r\n",
    " 1,2,3,4,5,6,7,8,9,10\r\n",
    " ]\r\n",
    " 1. 숫자100을맨뒤에추가하세요\r\n",
    "2. 다음리스트를numbers리스트맨뒤에추가하세요\r\n",
    "data = [200, 300, 400, 500]\r\n",
    " 3. 처음다섯개숫자만출력하세요\r\n",
    "4. 리스트에서짝수번째데이터만출력하세요\r\n",
    "5. 짝수번째데이터를모두0으로바꾸세요\r\n",
    "6. 데이터를역순으로나열하세요(내림차순정렬이아닙니다"
   ]
  },
  {
   "cell_type": "code",
   "execution_count": 7,
   "id": "17efe726-422e-4c66-8c16-c33792c407ae",
   "metadata": {},
   "outputs": [],
   "source": [
    "numbers = [1,2,3,4,5,6,7,8,9,10]"
   ]
  },
  {
   "cell_type": "code",
   "execution_count": 8,
   "id": "2899e064-10a7-48b4-a60e-b6ad36f6a7da",
   "metadata": {},
   "outputs": [
    {
     "name": "stdout",
     "output_type": "stream",
     "text": [
      "[1, 2, 3, 4, 5, 6, 7, 8, 9, 10, 100]\n"
     ]
    }
   ],
   "source": [
    "#1\n",
    "#numbers.append(100)\n",
    "numbers = numbers + [100]\n",
    "print(numbers)"
   ]
  },
  {
   "cell_type": "code",
   "execution_count": 9,
   "id": "79932f99-abfb-4a08-8e7c-478ae17caa96",
   "metadata": {},
   "outputs": [
    {
     "name": "stdout",
     "output_type": "stream",
     "text": [
      "[1, 2, 3, 4, 5, 6, 7, 8, 9, 10, 100, 200, 300, 400, 500]\n"
     ]
    }
   ],
   "source": [
    "#2\n",
    "data = [200, 300, 400, 500]\n",
    "numbers = numbers + data\n",
    "print(numbers)"
   ]
  },
  {
   "cell_type": "code",
   "execution_count": 10,
   "id": "f799f1bb-1cb8-4cc7-8fca-f002e2e91f9b",
   "metadata": {},
   "outputs": [
    {
     "name": "stdout",
     "output_type": "stream",
     "text": [
      "[1, 2, 3, 4, 5]\n"
     ]
    }
   ],
   "source": [
    "print(numbers[:5:])"
   ]
  },
  {
   "cell_type": "code",
   "execution_count": 11,
   "id": "3943b563-0eef-4906-98eb-ce7240b94f5c",
   "metadata": {},
   "outputs": [
    {
     "name": "stdout",
     "output_type": "stream",
     "text": [
      "[1, 3, 5, 7, 9, 100, 300, 500]\n"
     ]
    }
   ],
   "source": [
    "print(numbers[::2])"
   ]
  },
  {
   "cell_type": "code",
   "execution_count": 13,
   "id": "346b2148-b235-4ba0-b79f-5c87df5973bb",
   "metadata": {},
   "outputs": [
    {
     "name": "stdout",
     "output_type": "stream",
     "text": [
      "[0, 2, 0, 4, 0, 6, 0, 8, 0, 10, 0, 200, 0, 400, 0]\n"
     ]
    }
   ],
   "source": [
    "for idx, value in enumerate(numbers):\n",
    "    if idx % 2 == 0:\n",
    "        numbers[idx] = 0\n",
    "print(numbers)"
   ]
  },
  {
   "cell_type": "code",
   "execution_count": 15,
   "id": "37c9d179-d835-4702-94b8-d8d503a9ce66",
   "metadata": {},
   "outputs": [
    {
     "name": "stdout",
     "output_type": "stream",
     "text": [
      "[0, 400, 0, 200, 0, 10, 0, 8, 0, 6, 0, 4, 0, 2, 0]\n"
     ]
    }
   ],
   "source": [
    "print(numbers[::-1])"
   ]
  },
  {
   "cell_type": "markdown",
   "id": "d0852f83-a947-4781-86eb-aa98d0519cba",
   "metadata": {},
   "source": [
    "member = {'name':\"홍길동\n",
    "\",\"age\":20,\"address\":서울시 금천구\",\"score\" : 90}\"\n",
    " 7. address값을 출력하세요\r\n",
    "서울시금천구\r\n",
    "8. score 를 출력하고member 딕셔너리에서삭제하요.\r\n",
    " 9. address를 '서울시 서대문구'로변경세요.\r\n",
    " 10. member 딕셔너리 데이터의값을리스트로출력하세요"
   ]
  },
  {
   "cell_type": "code",
   "execution_count": 23,
   "id": "681142bc-d556-4e22-b9f5-fe137a3b9c45",
   "metadata": {},
   "outputs": [],
   "source": [
    "member = {'name':\"홍길동\",\"age\":20,\"address\":\"서울시 금천구\",\"score\" : 90}"
   ]
  },
  {
   "cell_type": "code",
   "execution_count": 24,
   "id": "24cc7eed-4937-49ad-9a74-d7502015d7ec",
   "metadata": {},
   "outputs": [
    {
     "name": "stdout",
     "output_type": "stream",
     "text": [
      "서울시 금천구\n"
     ]
    }
   ],
   "source": [
    "#7\n",
    "print(member['address'])"
   ]
  },
  {
   "cell_type": "code",
   "execution_count": 25,
   "id": "c29ede12-48cf-49f5-a3d6-235bd5c3ad41",
   "metadata": {},
   "outputs": [
    {
     "name": "stdout",
     "output_type": "stream",
     "text": [
      "90\n",
      "{'name': '홍길동', 'age': 20, 'address': '서울시 금천구'}\n"
     ]
    }
   ],
   "source": [
    "#8\n",
    "print(member['score'])\n",
    "del member['score']\n",
    "print(member)"
   ]
  },
  {
   "cell_type": "code",
   "execution_count": 26,
   "id": "d8626f56-8f5f-479d-b6bb-9a2097b5a423",
   "metadata": {},
   "outputs": [
    {
     "name": "stdout",
     "output_type": "stream",
     "text": [
      "서울시 서대문구\n"
     ]
    }
   ],
   "source": [
    "#9\n",
    "member['address'] = '서울시 서대문구'\n",
    "print(member['address'])"
   ]
  },
  {
   "cell_type": "code",
   "execution_count": 27,
   "id": "8b3dfacd-a84f-43f6-812e-7b063e55e7e5",
   "metadata": {},
   "outputs": [
    {
     "data": {
      "text/plain": [
       "['name', 'age', 'address']"
      ]
     },
     "execution_count": 27,
     "metadata": {},
     "output_type": "execute_result"
    }
   ],
   "source": [
    "#10\n",
    "member_list = [person for person in member]\n",
    "member_list"
   ]
  },
  {
   "cell_type": "code",
   "execution_count": null,
   "id": "03761f79-ed0f-4be9-ad9b-e4633459a4c1",
   "metadata": {},
   "outputs": [],
   "source": []
  }
 ],
 "metadata": {
  "kernelspec": {
   "display_name": "Python 3 (ipykernel)",
   "language": "python",
   "name": "python3"
  },
  "language_info": {
   "codemirror_mode": {
    "name": "ipython",
    "version": 3
   },
   "file_extension": ".py",
   "mimetype": "text/x-python",
   "name": "python",
   "nbconvert_exporter": "python",
   "pygments_lexer": "ipython3",
   "version": "3.11.7"
  }
 },
 "nbformat": 4,
 "nbformat_minor": 5
}
