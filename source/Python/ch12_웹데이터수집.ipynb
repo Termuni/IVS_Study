{
 "cells": [
  {
   "cell_type": "markdown",
   "id": "f1aba4f7-88a8-44e3-b12c-280c8ab96b51",
   "metadata": {},
   "source": [
    "<b><font size=\"6\" color=\"red\">ch14. 웹데이터 수집</font></b>"
   ]
  },
  {
   "cell_type": "markdown",
   "id": "84ebf102-faec-4e1d-adc8-ea5e6505278a",
   "metadata": {},
   "source": [
    "# 1절. BeautifulSoup과 parser\n",
    "`pip install bs4` 아나콘다 설치하면 자동 설치되는 패키지 7500개에 포함\n",
    "\n",
    "`pip install requests_file`\n",
    "\n",
    "공식 사이트 : https://www.crummy.com/software/BeautifulSoup <br>\n",
    "Documentation : https://www.crummy.com/software/BeautifulSoup/bs4/doc"
   ]
  },
  {
   "cell_type": "code",
   "execution_count": 1,
   "id": "bed96709-a2bc-40fe-ab87-4e5b6eb7a768",
   "metadata": {},
   "outputs": [],
   "source": [
    "import requests\n",
    "from requests_file import FileAdapter"
   ]
  },
  {
   "cell_type": "code",
   "execution_count": 2,
   "id": "12eb7a6c-e081-464d-81bf-aa316a993281",
   "metadata": {},
   "outputs": [
    {
     "data": {
      "text/plain": [
       "<Response [200]>"
      ]
     },
     "execution_count": 2,
     "metadata": {},
     "output_type": "execute_result"
    }
   ],
   "source": [
    "s = requests.Session()\n",
    "s.mount(\"file://\", FileAdapter())\n",
    "response = s.get('file:///C:/IVS/C_Python/source/Python/ch12_sample.html')\n",
    "#C:\\IVS\\C_Python\\source\\Pythonch12_sample.html\n",
    "response  #200뜨면 정상, 404뜨면 오류"
   ]
  },
  {
   "cell_type": "code",
   "execution_count": 3,
   "id": "7c73c12b-c854-4398-903a-f870623c4792",
   "metadata": {},
   "outputs": [
    {
     "name": "stdout",
     "output_type": "stream",
     "text": [
      "success!\n"
     ]
    }
   ],
   "source": [
    "if response.status_code == 200:\n",
    "    print('success!')\n",
    "if response.status_code == 404:\n",
    "    print('Not found')"
   ]
  },
  {
   "cell_type": "code",
   "execution_count": 4,
   "id": "1854fc27-49a2-4f0b-813c-b137ed71607d",
   "metadata": {},
   "outputs": [
    {
     "data": {
      "text/plain": [
       "'<html>\\n    <head>\\n        <title>HTML sample</title>\\n        <style>\\n            span {color:red;}\\n        </style>\\n    </head>\\n    <body>\\n        <h1 class=\"greeting css\" id=\"test\">Hello CSS</h1>\\n        <h1 class=\"css\">Hi CSS</h1>\\n        <div id=\"subject\">선택자</div>\\n        <p>CSS 선택자는 다양한 곳에 활용됩니다</p>\\n        <div class=\"contents\">선택자를 어떻게 작성하느냐에 따라 \\n\\t<span>다른 <b>요소가 반환</b></span>됩니다.\\n        </div>\\n        <div>CSS선택자는 다양한 곳에 <b>활용</b>됩니다</div>\\n        <input type=\"text\" name=\"passwd\" id=\"passwd\">\\n    </body>\\n</html>\\n\\n\\n\\n'"
      ]
     },
     "execution_count": 4,
     "metadata": {},
     "output_type": "execute_result"
    }
   ],
   "source": [
    "response.content.decode('utf-8')"
   ]
  },
  {
   "cell_type": "code",
   "execution_count": 5,
   "id": "321efd31-584a-441e-b50f-1e1ec152af49",
   "metadata": {},
   "outputs": [
    {
     "data": {
      "text/plain": [
       "<html>\n",
       "<head>\n",
       "<title>HTML sample</title>\n",
       "<style>\n",
       "            span {color:red;}\n",
       "        </style>\n",
       "</head>\n",
       "<body>\n",
       "<h1 class=\"greeting css\" id=\"test\">Hello CSS</h1>\n",
       "<h1 class=\"css\">Hi CSS</h1>\n",
       "<div id=\"subject\">선택자</div>\n",
       "<p>CSS 선택자는 다양한 곳에 활용됩니다</p>\n",
       "<div class=\"contents\">선택자를 어떻게 작성하느냐에 따라 \n",
       "\t<span>다른 <b>요소가 반환</b></span>됩니다.\n",
       "        </div>\n",
       "<div>CSS선택자는 다양한 곳에 <b>활용</b>됩니다</div>\n",
       "<input id=\"passwd\" name=\"passwd\" type=\"text\"/>\n",
       "</body>\n",
       "</html>"
      ]
     },
     "execution_count": 5,
     "metadata": {},
     "output_type": "execute_result"
    }
   ],
   "source": [
    "# html 파싱\n",
    "from bs4 import BeautifulSoup # 클래스 이름\n",
    "soup=BeautifulSoup(response.content,\"html.parser\") #xml은?\n",
    "soup"
   ]
  },
  {
   "cell_type": "code",
   "execution_count": 6,
   "id": "259de9e2-2c66-4cca-b15f-98174274e495",
   "metadata": {},
   "outputs": [
    {
     "name": "stdout",
     "output_type": "stream",
     "text": [
      "<h1 class=\"greeting css\" id=\"test\">Hello CSS</h1>\n",
      "el.text : Hello CSS\n",
      "el의 속성들 : {'class': ['greeting', 'css'], 'id': 'test'}\n",
      "el의 class속성 : ['greeting', 'css']\n",
      "el의 name : h1\n"
     ]
    }
   ],
   "source": [
    "el = soup.select_one('h1') #처음 하나만 가져옴\n",
    "print(el)\n",
    "print('el.text :', el.text) #모든 태그를 뺀 텍스트만\n",
    "print('el의 속성들 :', el.attrs)\n",
    "print('el의 class속성 :', el.attrs['class'])\n",
    "print('el의 name :', el.name) #태그이름"
   ]
  },
  {
   "cell_type": "code",
   "execution_count": 7,
   "id": "73707a0c-f6cf-4b83-9180-56fabe4d398e",
   "metadata": {},
   "outputs": [
    {
     "name": "stdout",
     "output_type": "stream",
     "text": [
      "el :  [<h1 class=\"greeting css\" id=\"test\">Hello CSS</h1>, <h1 class=\"css\">Hi CSS</h1>]\n",
      "el의 text들 : ['Hello CSS', 'Hi CSS']\n",
      "el의 string : ['Hello CSS', 'Hi CSS']\n",
      "el의 속성들 : [{'class': ['greeting', 'css'], 'id': 'test'}, {'class': ['css']}]\n",
      "el의 class속성들 : [['greeting', 'css'], ['css']]\n"
     ]
    }
   ],
   "source": [
    "# h1태그들 다 : 없는 태그는 빈스트링. 한 엘리먼트만 있어도 리스트로 반환\n",
    "el = soup.select(\"h1\")\n",
    "print('el : ', el)\n",
    "print('el의 text들 :', [e.text for e in el])\n",
    "print('el의 string :', [e.string for e in el])\n",
    "print('el의 속성들 :', [e.attrs for e in el])\n",
    "print('el의 class속성들 :', [e.attrs['class'] for e in el])"
   ]
  },
  {
   "cell_type": "code",
   "execution_count": 8,
   "id": "272ba0d9-17da-4e00-92f6-3f2aa410bcfe",
   "metadata": {},
   "outputs": [
    {
     "name": "stdout",
     "output_type": "stream",
     "text": [
      "el :  [<div class=\"contents\">선택자를 어떻게 작성하느냐에 따라 \n",
      "\t<span>다른 <b>요소가 반환</b></span>됩니다.\n",
      "        </div>]\n",
      "el의 text들 : ['선택자를 어떻게 작성하느냐에 따라 \\n\\t다른 요소가 반환됩니다.\\n        ']\n",
      "el의 string : [None]\n",
      "el의 속성들 : [{'class': ['contents']}]\n",
      "el의 class속성들 : [['contents']]\n"
     ]
    }
   ],
   "source": [
    "# h1태그들 다 : 없는 태그는 빈스트링. 한 엘리먼트만 있어도 리스트로 반환\n",
    "el = soup.select('div.contents')\n",
    "print('el : ', el)\n",
    "print('el의 text들 :', [e.text for e in el])\n",
    "print('el의 string :', [e.string for e in el])\n",
    "print('el의 속성들 :', [e.attrs for e in el])\n",
    "print('el의 class속성들 :', [e.attrs['class'] for e in el])"
   ]
  },
  {
   "cell_type": "code",
   "execution_count": 9,
   "id": "10947951-e908-4105-9c49-f0da26a8de4d",
   "metadata": {},
   "outputs": [
    {
     "name": "stdout",
     "output_type": "stream",
     "text": [
      "선택자를 어떻게 작성하느냐에 따라 \n",
      "\t다른 요소가 반환됩니다.\n",
      "        \n"
     ]
    }
   ],
   "source": [
    "el = soup.select('div.contents')\n",
    "el = soup.select_one('div.contents')\n",
    "print(el.text)"
   ]
  },
  {
   "cell_type": "markdown",
   "id": "bb4451d3-7617-49c8-a501-af2a29a53671",
   "metadata": {},
   "source": [
    "# 2절. 정적 웹 데이터 수집\n",
    "## 2.1 request 모듈 : 네이버 환율정보 가져오기"
   ]
  },
  {
   "cell_type": "code",
   "execution_count": 10,
   "id": "6db84983-5625-450c-8e96-fa11a42faa26",
   "metadata": {},
   "outputs": [
    {
     "name": "stdout",
     "output_type": "stream",
     "text": [
      "1,374.60\n",
      "880.48\n",
      "1,499.14\n",
      "189.42\n",
      "156.1800\n",
      "1.0869\n",
      "1.2771\n",
      "104.0700\n",
      "74.22\n",
      "1667.78\n",
      "2369.3\n",
      "103746.18\n"
     ]
    }
   ],
   "source": [
    "import requests\n",
    "from bs4 import BeautifulSoup\n",
    "from numpy import round\n",
    "url = \"https://finance.naver.com/marketindex\"\n",
    "marketindex = requests.get(url)\n",
    "soup = BeautifulSoup(marketindex.content, \"html.parser\")\n",
    "price = soup.select(\"div.head_info > span.value\")\n",
    "for idx in range(len(price)):\n",
    "    print(price[idx].text)"
   ]
  },
  {
   "cell_type": "code",
   "execution_count": 11,
   "id": "ebcedaf8-e661-4d4c-958b-dcb51c95089d",
   "metadata": {
    "scrolled": true
   },
   "outputs": [
    {
     "data": {
      "text/plain": [
       "b'\\n<script language=javascript src=\"/template/head_js.naver?referer=info.finance.naver.com&menu=marketindex&submenu=market\"></script>\\n<script type=\"text/javascript\" src=\"https://ssl.pstatic.net/imgstock/static.pc/20240530183512/js/info/jindo.min.ns.1.5.3.euckr.js\"></script>\\n<script type=\"text/javascript\" src=\"https://ssl.pstatic.net/imgstock/static.pc/20240530183512/js/jindo.1.5.3.element-text-patch.js\"></script>\\n\\n\\n\\t\\n\\t\\n\\t<div id=\"container\" style=\"padding-bottom:0px;\">\\n\\t\\n\\n\\t\\t\\n\\n\\n\\n\\n\\n\\n\\n\\n\\n\\n\\n\\n\\n\\n\\n\\n\\n\\n\\n\\n\\n\\n\\n\\n\\n\\t\\t<div class=\"market_include\">\\n\\t<div class=\"market_data\">\\n\\t\\t<div class=\"market1\">\\n\\t\\t\\t<div class=\"title\">\\n\\t\\t\\t\\t<h2 class=\"h_market1\"><span>\\xc8\\xaf\\xc0\\xfc \\xb0\\xed\\xbd\\xc3 \\xc8\\xaf\\xc0\\xb2</span></h2>\\n\\t\\t\\t</div>\\n\\t\\t\\t<!-- data -->\\n\\t\\t\\t<div class=\"data\">\\n\\t\\t\\t\\t<ul class=\"data_lst\" id=\"exchangeList\">\\n\\t\\t\\t\\t\\n\\t\\t\\t\\t    \\n\\t\\t\\t\\t         \\n\\t\\t\\t\\t         \\n\\t\\t\\t\\t         \\n\\t\\t\\t\\t         \\t\\t\\t\\t         \\t\\t\\t         \\n\\t\\t\\t\\t        \\n\\t\\t\\t\\t\\t\\n\\t\\t\\t\\t \\t<li class=\"on\">\\n\\t\\t\\t\\t\\t<a href=\"/marketindex/exchangeDetail.naver?marketindexCd=FX_USDKRW\" class=\"head usd\" onClick=\"clickcr(this, \\'fr1.usdt\\', \\'\\', \\'\\', event);\">\\n\\t\\t\\t\\t\\t\\t<h3 class=\"h_lst\"><span class=\"blind\">\\xb9\\xcc\\xb1\\xb9 USD</span></h3>\\n\\t\\t\\t\\t\\t\\t\\n\\t\\t\\t\\t\\t\\t \\n\\t\\t\\t\\t\\t\\t\\n\\t\\t\\t\\t         \\t\\n\\t\\t\\t\\t         \\t\\n\\t\\t\\t\\t         \\t\\t\\t\\t\\t         \\t\\t\\t         \\n\\t\\t\\t\\t     \\t    \\n\\t\\t\\t\\t\\t\\t<div class=\"head_info point_up\">\\n\\t\\t\\t\\t\\t\\t\\t<span class=\"value\">1,374.60</span>\\n\\t\\t\\t\\t\\t\\t\\t<span class=\"txt_krw\"><span class=\"blind\">\\xbf\\xf8</span></span>\\n\\t\\t\\t\\t\\t\\t\\t<span class=\"change\">0.60</span>\\n\\t\\t\\t\\t\\t\\t\\t<span class=\"blind\">\\xbb\\xf3\\xbd\\xc2</span>\\n\\t\\t\\t\\t\\t\\t</div>\\n\\t\\t\\t\\t\\t</a>\\n\\t\\t\\t\\t\\t\\n\\t\\t\\t\\t\\t<a href=\"/marketindex/exchangeDetail.naver?marketindexCd=FX_USDKRW\" class=\"graph_img\" onClick=\"clickcr(this, \\'fr1.usdc\\', \\'\\', \\'\\', event);\">\\n\\t\\t\\t\\t\\t\\t<img src=\"https://ssl.pstatic.net/imgfinance/chart/marketindex/FX_USDKRW.png\" alt=\"\" width=\"295\" height=\"153\">\\n\\t\\t\\t\\t\\t</a>\\n\\t\\t\\t\\t\\t\\n\\t\\t\\t\\t\\t<div class=\"graph_info\">\\n\\t\\t\\t\\t\\t\\t<span class=\"time\">2024.06.04 14:41</span>\\n\\t\\t\\t\\t\\t\\t<span class=\"source\">\\xc7\\xcf\\xb3\\xaa\\xc0\\xba\\xc7\\xe0 \\xb1\\xe2\\xc1\\xd8</span>\\n\\t\\t\\t\\t\\t\\t<span class=\"count\">\\xb0\\xed\\xbd\\xc3\\xc8\\xb8\\xc2\\xf7<span class=\"num\">277</span>\\xc8\\xb8</span>\\n\\t\\t\\t\\t\\t\\t\\t\\t\\t\\t\\t\\t\\t\\t\\n\\t\\t\\t\\t\\t</div>\\t\\t\\t\\t\\t\\t\\t\\t\\t\\t\\n\\t\\t\\t\\t</li>\\n\\t\\t\\t\\t\\n\\t\\t\\t\\t    \\n\\t\\t\\t\\t         \\n\\t\\t\\t\\t         \\n\\t\\t\\t\\t         \\n\\t\\t\\t\\t         \\t\\t\\t\\t         \\t\\t\\t         \\n\\t\\t\\t\\t        \\n\\t\\t\\t\\t\\t\\n\\t\\t\\t\\t \\t<li class=\"\">\\n\\t\\t\\t\\t\\t<a href=\"/marketindex/exchangeDetail.naver?marketindexCd=FX_JPYKRW\" class=\"head jpy\" onClick=\"clickcr(this, \\'fr1.jpyt\\', \\'\\', \\'\\', event);\">\\n\\t\\t\\t\\t\\t\\t<h3 class=\"h_lst\"><span class=\"blind\">\\xc0\\xcf\\xba\\xbb JPY(100\\xbf\\xa3)</span></h3>\\n\\t\\t\\t\\t\\t\\t\\n\\t\\t\\t\\t\\t\\t \\n\\t\\t\\t\\t\\t\\t\\n\\t\\t\\t\\t         \\t\\n\\t\\t\\t\\t         \\t\\n\\t\\t\\t\\t         \\t\\t\\t\\t\\t         \\t\\t\\t         \\n\\t\\t\\t\\t     \\t    \\n\\t\\t\\t\\t\\t\\t<div class=\"head_info point_up\">\\n\\t\\t\\t\\t\\t\\t\\t<span class=\"value\">880.48</span>\\n\\t\\t\\t\\t\\t\\t\\t<span class=\"txt_krw\"><span class=\"blind\">\\xbf\\xf8</span></span>\\n\\t\\t\\t\\t\\t\\t\\t<span class=\"change\">0.87</span>\\n\\t\\t\\t\\t\\t\\t\\t<span class=\"blind\">\\xbb\\xf3\\xbd\\xc2</span>\\n\\t\\t\\t\\t\\t\\t</div>\\n\\t\\t\\t\\t\\t</a>\\n\\t\\t\\t\\t\\t\\n\\t\\t\\t\\t\\t<a href=\"/marketindex/exchangeDetail.naver?marketindexCd=FX_JPYKRW\" class=\"graph_img\" onClick=\"clickcr(this, \\'fr1.jpyc\\', \\'\\', \\'\\', event);\">\\n\\t\\t\\t\\t\\t\\t<img src=\"https://ssl.pstatic.net/imgfinance/chart/marketindex/FX_JPYKRW.png\" alt=\"\" width=\"295\" height=\"153\">\\n\\t\\t\\t\\t\\t</a>\\n\\t\\t\\t\\t\\t\\n\\t\\t\\t\\t\\t<div class=\"graph_info\">\\n\\t\\t\\t\\t\\t\\t<span class=\"time\">2024.06.04 14:41</span>\\n\\t\\t\\t\\t\\t\\t<span class=\"source\">\\xc7\\xcf\\xb3\\xaa\\xc0\\xba\\xc7\\xe0 \\xb1\\xe2\\xc1\\xd8</span>\\n\\t\\t\\t\\t\\t\\t<span class=\"count\">\\xb0\\xed\\xbd\\xc3\\xc8\\xb8\\xc2\\xf7<span class=\"num\">277</span>\\xc8\\xb8</span>\\n\\t\\t\\t\\t\\t\\t\\t\\t\\t\\t\\t\\t\\t\\t\\n\\t\\t\\t\\t\\t</div>\\t\\t\\t\\t\\t\\t\\t\\t\\t\\t\\n\\t\\t\\t\\t</li>\\n\\t\\t\\t\\t\\n\\t\\t\\t\\t    \\n\\t\\t\\t\\t         \\n\\t\\t\\t\\t         \\n\\t\\t\\t\\t         \\n\\t\\t\\t\\t         \\t\\t\\t\\t         \\t\\t\\t         \\n\\t\\t\\t\\t        \\n\\t\\t\\t\\t\\t\\n\\t\\t\\t\\t \\t<li class=\"\">\\n\\t\\t\\t\\t\\t<a href=\"/marketindex/exchangeDetail.naver?marketindexCd=FX_EURKRW\" class=\"head eur\" onClick=\"clickcr(this, \\'fr1.eurt\\', \\'\\', \\'\\', event);\">\\n\\t\\t\\t\\t\\t\\t<h3 class=\"h_lst\"><span class=\"blind\">\\xc0\\xaf\\xb7\\xb4\\xbf\\xac\\xc7\\xd5 EUR</span></h3>\\n\\t\\t\\t\\t\\t\\t\\n\\t\\t\\t\\t\\t\\t \\n\\t\\t\\t\\t\\t\\t\\n\\t\\t\\t\\t         \\t\\n\\t\\t\\t\\t         \\t\\n\\t\\t\\t\\t         \\t\\t\\t\\t\\t         \\t\\t\\t         \\n\\t\\t\\t\\t     \\t    \\n\\t\\t\\t\\t\\t\\t<div class=\"head_info point_up\">\\n\\t\\t\\t\\t\\t\\t\\t<span class=\"value\">1,499.14</span>\\n\\t\\t\\t\\t\\t\\t\\t<span class=\"txt_krw\"><span class=\"blind\">\\xbf\\xf8</span></span>\\n\\t\\t\\t\\t\\t\\t\\t<span class=\"change\">1.27</span>\\n\\t\\t\\t\\t\\t\\t\\t<span class=\"blind\">\\xbb\\xf3\\xbd\\xc2</span>\\n\\t\\t\\t\\t\\t\\t</div>\\n\\t\\t\\t\\t\\t</a>\\n\\t\\t\\t\\t\\t\\n\\t\\t\\t\\t\\t<a href=\"/marketindex/exchangeDetail.naver?marketindexCd=FX_EURKRW\" class=\"graph_img\" onClick=\"clickcr(this, \\'fr1.eurc\\', \\'\\', \\'\\', event);\">\\n\\t\\t\\t\\t\\t\\t<img src=\"https://ssl.pstatic.net/imgfinance/chart/marketindex/FX_EURKRW.png\" alt=\"\" width=\"295\" height=\"153\">\\n\\t\\t\\t\\t\\t</a>\\n\\t\\t\\t\\t\\t\\n\\t\\t\\t\\t\\t<div class=\"graph_info\">\\n\\t\\t\\t\\t\\t\\t<span class=\"time\">2024.06.04 14:41</span>\\n\\t\\t\\t\\t\\t\\t<span class=\"source\">\\xc7\\xcf\\xb3\\xaa\\xc0\\xba\\xc7\\xe0 \\xb1\\xe2\\xc1\\xd8</span>\\n\\t\\t\\t\\t\\t\\t<span class=\"count\">\\xb0\\xed\\xbd\\xc3\\xc8\\xb8\\xc2\\xf7<span class=\"num\">277</span>\\xc8\\xb8</span>\\n\\t\\t\\t\\t\\t\\t\\t\\t\\t\\t\\t\\t\\t\\t\\n\\t\\t\\t\\t\\t</div>\\t\\t\\t\\t\\t\\t\\t\\t\\t\\t\\n\\t\\t\\t\\t</li>\\n\\t\\t\\t\\t\\n\\t\\t\\t\\t    \\n\\t\\t\\t\\t         \\n\\t\\t\\t\\t         \\n\\t\\t\\t\\t         \\n\\t\\t\\t\\t         \\t\\t\\t\\t         \\t\\t\\t         \\n\\t\\t\\t\\t        \\n\\t\\t\\t\\t\\t\\n\\t\\t\\t\\t \\t<li class=\"\">\\n\\t\\t\\t\\t\\t<a href=\"/marketindex/exchangeDetail.naver?marketindexCd=FX_CNYKRW\" class=\"head cny\" onClick=\"clickcr(this, \\'fr1.cnyt\\', \\'\\', \\'\\', event);\">\\n\\t\\t\\t\\t\\t\\t<h3 class=\"h_lst\"><span class=\"blind\">\\xc1\\xdf\\xb1\\xb9 CNY</span></h3>\\n\\t\\t\\t\\t\\t\\t\\n\\t\\t\\t\\t\\t\\t \\n\\t\\t\\t\\t\\t\\t\\n\\t\\t\\t\\t         \\t\\n\\t\\t\\t\\t         \\t\\n\\t\\t\\t\\t         \\t\\t\\t\\t\\t         \\t\\t\\t         \\n\\t\\t\\t\\t     \\t    \\n\\t\\t\\t\\t\\t\\t<div class=\"head_info point_dn\">\\n\\t\\t\\t\\t\\t\\t\\t<span class=\"value\">189.42</span>\\n\\t\\t\\t\\t\\t\\t\\t<span class=\"txt_krw\"><span class=\"blind\">\\xbf\\xf8</span></span>\\n\\t\\t\\t\\t\\t\\t\\t<span class=\"change\"> 0.06</span>\\n\\t\\t\\t\\t\\t\\t\\t<span class=\"blind\">\\xc7\\xcf\\xb6\\xf4</span>\\n\\t\\t\\t\\t\\t\\t</div>\\n\\t\\t\\t\\t\\t</a>\\n\\t\\t\\t\\t\\t\\n\\t\\t\\t\\t\\t<a href=\"/marketindex/exchangeDetail.naver?marketindexCd=FX_CNYKRW\" class=\"graph_img\" onClick=\"clickcr(this, \\'fr1.cnyc\\', \\'\\', \\'\\', event);\">\\n\\t\\t\\t\\t\\t\\t<img src=\"https://ssl.pstatic.net/imgfinance/chart/marketindex/FX_CNYKRW.png\" alt=\"\" width=\"295\" height=\"153\">\\n\\t\\t\\t\\t\\t</a>\\n\\t\\t\\t\\t\\t\\n\\t\\t\\t\\t\\t<div class=\"graph_info\">\\n\\t\\t\\t\\t\\t\\t<span class=\"time\">2024.06.04 14:41</span>\\n\\t\\t\\t\\t\\t\\t<span class=\"source\">\\xc7\\xcf\\xb3\\xaa\\xc0\\xba\\xc7\\xe0 \\xb1\\xe2\\xc1\\xd8</span>\\n\\t\\t\\t\\t\\t\\t<span class=\"count\">\\xb0\\xed\\xbd\\xc3\\xc8\\xb8\\xc2\\xf7<span class=\"num\">277</span>\\xc8\\xb8</span>\\n\\t\\t\\t\\t\\t\\t\\t\\t\\t\\t\\t\\t\\t\\t\\n\\t\\t\\t\\t\\t</div>\\t\\t\\t\\t\\t\\t\\t\\t\\t\\t\\n\\t\\t\\t\\t</li>\\n\\t\\t\\t\\t\\t\\t\\t\\t\\n\\t\\t\\t\\t</ul>\\t\\t\\t\\t\\n\\t\\t\\t</div>\\n\\t\\t\\t<!-- //data -->\\n\\t\\t</div>\\n\\t\\t<div class=\"market2\">\\n\\t\\t\\t<div class=\"title\">\\n\\t\\t\\t\\t<h2 class=\"h_market2\"><span>\\xb1\\xb9\\xc1\\xa6 \\xbd\\xc3\\xc0\\xe5 \\xc8\\xaf\\xc0\\xb2</span></h2>\\n\\t\\t\\t</div>\\n\\t\\t\\t<!-- data -->\\n\\t\\t\\t<div class=\"data\">\\n\\t\\t\\t\\t\\n\\t\\t\\t\\t<ul class=\"data_lst\" id=\"worldExchangeList\">\\n\\t\\t\\t\\t\\n\\t\\t\\t\\t    \\n\\t\\t\\t\\t         \\n\\t\\t\\t\\t         \\n\\t\\t\\t\\t         \\n\\t\\t\\t\\t         \\t\\t\\t         \\n\\t\\t\\t\\t        \\n\\t\\t\\t\\t\\t\\n\\t\\t\\t\\t \\t<li class=\"on\">\\n\\t\\t\\t\\t\\t<a href=\"/marketindex/worldExchangeDetail.naver?marketindexCd=FX_USDJPY\" class=\"head jpy_usd\" onClick=\"clickcr(this, \\'fr2.jpyut\\', \\'\\', \\'\\', event);\">\\n\\t\\t\\t\\t\\t\\t<h3 class=\"h_lst\"><span class=\"blind\">\\xb4\\xde\\xb7\\xaf/\\xc0\\xcf\\xba\\xbb \\xbf\\xa3</span></h3>\\n\\t\\t\\t\\t\\t\\t\\n\\t\\t\\t\\t\\t\\t \\n\\t\\t\\t\\t\\t\\t\\n\\t\\t\\t\\t         \\t\\n\\t\\t\\t\\t         \\t\\n\\t\\t\\t\\t         \\t\\t\\t\\t\\t         \\t\\t\\t         \\n\\t\\t\\t\\t     \\t    \\n\\t\\t\\t\\t\\t\\t<div class=\"head_info point_dn\">\\n\\t\\t\\t\\t\\t\\t\\t<span class=\"value\">156.1800</span>\\n\\t\\t\\t\\t\\t\\t\\t\\n\\t\\t\\t\\t\\t\\t\\t\\t<span class=\"txt_jpy\"><span class=\"blind\">\\xbf\\xa3</span></span>\\n\\t\\t\\t\\t\\t\\t\\t\\n\\t\\t\\t\\t\\t\\t\\t<span class=\"change\"> 1.0600</span>\\n\\t\\t\\t\\t\\t\\t\\t<span class=\"blind\">\\xc7\\xcf\\xb6\\xf4</span>\\n\\t\\t\\t\\t\\t\\t</div>\\n\\t\\t\\t\\t\\t</a>\\n\\t\\t\\t\\t\\t\\n\\t\\t\\t\\t\\t<a href=\"/marketindex/worldExchangeDetail.naver?marketindexCd=FX_USDJPY\" class=\"graph_img\" onClick=\"clickcr(this, \\'fr2.jpyuc\\', \\'\\', \\'\\', event);\">\\n\\t\\t\\t\\t\\t\\t<img src=\"https://ssl.pstatic.net/imgfinance/chart/marketindex/FX_USDJPY.png\" alt=\"\" width=\"295\" height=\"153\">\\n\\t\\t\\t\\t\\t</a>\\n\\t\\t\\t\\t\\t\\n\\t\\t\\t\\t\\t<div class=\"graph_info\">\\n\\t\\t\\t\\t\\t\\t<span class=\"time\">2024.06.03</span>\\n\\t\\t\\t\\t\\t\\t<span class=\"source\">\\xb8\\xf0\\xb4\\xd7\\xbd\\xba\\xc5\\xb8 \\xb1\\xe2\\xc1\\xd8</span>\\n\\t\\t\\t\\t\\t</div>\\t\\t\\t\\t\\t\\t\\t\\t\\t\\t\\n\\t\\t\\t\\t</li>\\n\\t\\t\\t\\t\\n\\t\\t\\t\\t    \\n\\t\\t\\t\\t         \\n\\t\\t\\t\\t         \\n\\t\\t\\t\\t         \\n\\t\\t\\t\\t         \\t\\t\\t         \\n\\t\\t\\t\\t        \\n\\t\\t\\t\\t\\t\\n\\t\\t\\t\\t \\t<li class=\"\">\\n\\t\\t\\t\\t\\t<a href=\"/marketindex/worldExchangeDetail.naver?marketindexCd=FX_EURUSD\" class=\"head usd_eur\" onClick=\"clickcr(this, \\'fr2.eurdt\\', \\'\\', \\'\\', event);\">\\n\\t\\t\\t\\t\\t\\t<h3 class=\"h_lst\"><span class=\"blind\">\\xc0\\xaf\\xb7\\xce/\\xb4\\xde\\xb7\\xaf</span></h3>\\n\\t\\t\\t\\t\\t\\t\\n\\t\\t\\t\\t\\t\\t \\n\\t\\t\\t\\t\\t\\t\\n\\t\\t\\t\\t         \\t\\n\\t\\t\\t\\t         \\t\\n\\t\\t\\t\\t         \\t\\t\\t\\t\\t         \\t\\t\\t         \\n\\t\\t\\t\\t     \\t    \\n\\t\\t\\t\\t\\t\\t<div class=\"head_info point_up\">\\n\\t\\t\\t\\t\\t\\t\\t<span class=\"value\">1.0869</span>\\n\\t\\t\\t\\t\\t\\t\\t\\n\\t\\t\\t\\t\\t\\t\\t\\t<span class=\"txt_usd\"><span class=\"blind\">\\xb4\\xde\\xb7\\xaf</span></span>\\n\\t\\t\\t\\t\\t\\t\\t\\n\\t\\t\\t\\t\\t\\t\\t<span class=\"change\">0.0012</span>\\n\\t\\t\\t\\t\\t\\t\\t<span class=\"blind\">\\xbb\\xf3\\xbd\\xc2</span>\\n\\t\\t\\t\\t\\t\\t</div>\\n\\t\\t\\t\\t\\t</a>\\n\\t\\t\\t\\t\\t\\n\\t\\t\\t\\t\\t<a href=\"/marketindex/worldExchangeDetail.naver?marketindexCd=FX_EURUSD\" class=\"graph_img\" onClick=\"clickcr(this, \\'fr2.eurdc\\', \\'\\', \\'\\', event);\">\\n\\t\\t\\t\\t\\t\\t<img src=\"https://ssl.pstatic.net/imgfinance/chart/marketindex/FX_EURUSD.png\" alt=\"\" width=\"295\" height=\"153\">\\n\\t\\t\\t\\t\\t</a>\\n\\t\\t\\t\\t\\t\\n\\t\\t\\t\\t\\t<div class=\"graph_info\">\\n\\t\\t\\t\\t\\t\\t<span class=\"time\">2024.06.03</span>\\n\\t\\t\\t\\t\\t\\t<span class=\"source\">\\xb8\\xf0\\xb4\\xd7\\xbd\\xba\\xc5\\xb8 \\xb1\\xe2\\xc1\\xd8</span>\\n\\t\\t\\t\\t\\t</div>\\t\\t\\t\\t\\t\\t\\t\\t\\t\\t\\n\\t\\t\\t\\t</li>\\n\\t\\t\\t\\t\\n\\t\\t\\t\\t    \\n\\t\\t\\t\\t         \\n\\t\\t\\t\\t         \\n\\t\\t\\t\\t         \\n\\t\\t\\t\\t         \\t\\t\\t         \\n\\t\\t\\t\\t        \\n\\t\\t\\t\\t\\t\\n\\t\\t\\t\\t \\t<li class=\"\">\\n\\t\\t\\t\\t\\t<a href=\"/marketindex/worldExchangeDetail.naver?marketindexCd=FX_GBPUSD\" class=\"head usd_gbp\" onClick=\"clickcr(this, \\'fr2.gbpdt\\', \\'\\', \\'\\', event);\">\\n\\t\\t\\t\\t\\t\\t<h3 class=\"h_lst\"><span class=\"blind\">\\xbf\\xb5\\xb1\\xb9 \\xc6\\xc4\\xbf\\xee\\xb5\\xe5/\\xb4\\xde\\xb7\\xaf</span></h3>\\n\\t\\t\\t\\t\\t\\t\\n\\t\\t\\t\\t\\t\\t \\n\\t\\t\\t\\t\\t\\t\\n\\t\\t\\t\\t         \\t\\n\\t\\t\\t\\t         \\t\\n\\t\\t\\t\\t         \\t\\t\\t\\t\\t         \\t\\t\\t         \\n\\t\\t\\t\\t     \\t    \\n\\t\\t\\t\\t\\t\\t<div class=\"head_info point_up\">\\n\\t\\t\\t\\t\\t\\t\\t<span class=\"value\">1.2771</span>\\n\\t\\t\\t\\t\\t\\t\\t\\n\\t\\t\\t\\t\\t\\t\\t\\t<span class=\"txt_usd\"><span class=\"blind\">\\xb4\\xde\\xb7\\xaf</span></span>\\n\\t\\t\\t\\t\\t\\t\\t\\n\\t\\t\\t\\t\\t\\t\\t<span class=\"change\">0.0034</span>\\n\\t\\t\\t\\t\\t\\t\\t<span class=\"blind\">\\xbb\\xf3\\xbd\\xc2</span>\\n\\t\\t\\t\\t\\t\\t</div>\\n\\t\\t\\t\\t\\t</a>\\n\\t\\t\\t\\t\\t\\n\\t\\t\\t\\t\\t<a href=\"/marketindex/worldExchangeDetail.naver?marketindexCd=FX_GBPUSD\" class=\"graph_img\" onClick=\"clickcr(this, \\'fr2.gbpdc\\', \\'\\', \\'\\', event);\">\\n\\t\\t\\t\\t\\t\\t<img src=\"https://ssl.pstatic.net/imgfinance/chart/marketindex/FX_GBPUSD.png\" alt=\"\" width=\"295\" height=\"153\">\\n\\t\\t\\t\\t\\t</a>\\n\\t\\t\\t\\t\\t\\n\\t\\t\\t\\t\\t<div class=\"graph_info\">\\n\\t\\t\\t\\t\\t\\t<span class=\"time\">2024.06.03</span>\\n\\t\\t\\t\\t\\t\\t<span class=\"source\">\\xb8\\xf0\\xb4\\xd7\\xbd\\xba\\xc5\\xb8 \\xb1\\xe2\\xc1\\xd8</span>\\n\\t\\t\\t\\t\\t</div>\\t\\t\\t\\t\\t\\t\\t\\t\\t\\t\\n\\t\\t\\t\\t</li>\\n\\t\\t\\t\\t\\n\\t\\t\\t\\t    \\n\\t\\t\\t\\t         \\n\\t\\t\\t\\t         \\n\\t\\t\\t\\t         \\n\\t\\t\\t\\t         \\t\\t\\t         \\n\\t\\t\\t\\t        \\n\\t\\t\\t\\t\\t\\n\\t\\t\\t\\t \\t<li class=\"\">\\n\\t\\t\\t\\t\\t<a href=\"/marketindex/worldExchangeDetail.naver?marketindexCd=FX_USDX\" class=\"head usd_idx\" onClick=\"clickcr(this, \\'fr2.indt\\', \\'\\', \\'\\', event);\">\\n\\t\\t\\t\\t\\t\\t<h3 class=\"h_lst\"><span class=\"blind\">\\xb4\\xde\\xb7\\xaf\\xc0\\xce\\xb5\\xa6\\xbd\\xba</span></h3>\\n\\t\\t\\t\\t\\t\\t\\n\\t\\t\\t\\t\\t\\t \\n\\t\\t\\t\\t\\t\\t\\n\\t\\t\\t\\t         \\t\\n\\t\\t\\t\\t         \\t\\n\\t\\t\\t\\t         \\t\\t\\t\\t\\t         \\t\\t\\t         \\n\\t\\t\\t\\t     \\t    \\n\\t\\t\\t\\t\\t\\t<div class=\"head_info point_dn\">\\n\\t\\t\\t\\t\\t\\t\\t<span class=\"value\">104.0700</span>\\n\\t\\t\\t\\t\\t\\t\\t\\n\\t\\t\\t\\t\\t\\t\\t<span class=\"change\"> 0.5500</span>\\n\\t\\t\\t\\t\\t\\t\\t<span class=\"blind\">\\xc7\\xcf\\xb6\\xf4</span>\\n\\t\\t\\t\\t\\t\\t</div>\\n\\t\\t\\t\\t\\t</a>\\n\\t\\t\\t\\t\\t\\n\\t\\t\\t\\t\\t<a href=\"/marketindex/worldExchangeDetail.naver?marketindexCd=FX_USDX\" class=\"graph_img\" onClick=\"clickcr(this, \\'fr2.indc\\', \\'\\', \\'\\', event);\">\\n\\t\\t\\t\\t\\t\\t<img src=\"https://ssl.pstatic.net/imgfinance/chart/marketindex/FX_USDX.png\" alt=\"\" width=\"295\" height=\"153\">\\n\\t\\t\\t\\t\\t</a>\\n\\t\\t\\t\\t\\t\\n\\t\\t\\t\\t\\t<div class=\"graph_info\">\\n\\t\\t\\t\\t\\t\\t<span class=\"time\">2024.06.03</span>\\n\\t\\t\\t\\t\\t\\t<span class=\"source\">ICE \\xb1\\xe2\\xc1\\xd8</span>\\n\\t\\t\\t\\t\\t</div>\\t\\t\\t\\t\\t\\t\\t\\t\\t\\t\\n\\t\\t\\t\\t</li>\\n\\t\\t\\t\\t\\n\\t\\t\\t\\t</ul>\\t\\t\\t\\t\\t\\t\\t\\t\\n\\t\\t\\t</div>\\n\\t\\t\\t<!-- //data -->\\n\\t\\t</div>\\n\\t\\t<div class=\"market3\">\\n\\t\\t\\t<div class=\"title\">\\n\\t\\t\\t\\t<h2 class=\"h_market3\"><span>\\xc0\\xaf\\xb0\\xa1&middot;\\xb1\\xdd\\xbd\\xc3\\xbc\\xbc</span></h2>\\n\\t\\t\\t</div>\\n\\t\\t\\t<!-- data -->\\n\\t\\t\\t<div class=\"data\">\\n\\t\\t\\t\\t\\n\\t\\t\\t\\t<ul class=\"data_lst\" id=\"oilGoldList\">\\n\\t\\t\\t\\t\\n\\t\\t\\t\\t\\t\\n\\t\\t\\t\\t\\t\\t\\n\\t\\t\\t\\t\\t\\t\\n\\t\\t\\t\\t\\t    \\n\\t\\t\\t\\t\\t\\t\\n\\t\\t\\t\\t\\t    \\t\\n\\t\\t\\t\\t\\t<li class=\"on\">\\n   \\t\\t\\t\\t   \\t<a href=\"/marketindex/worldOilDetail.naver?marketindexCd=OIL_CL&fdtc=2\" class=\"head wti\" onClick=\"clickcr(this, \\'fr3.wtit\\', \\'\\', \\'\\', event);\">\\n\\t\\t\\t\\t\\t\\t<h3 class=\"h_lst\"><span class=\"blind\">WTI</span></h3>\\n\\t\\t\\t\\t\\t\\t \\n\\t\\t\\t\\t\\t\\t\\n\\t\\t\\t\\t         \\t\\n\\t\\t\\t\\t         \\t\\n\\t\\t\\t\\t         \\t\\t\\t\\t\\t         \\t\\t\\t         \\n\\t\\t\\t\\t     \\t    \\n\\t\\t\\t\\t\\t\\t<div class=\"head_info point_dn\">\\n\\t\\t\\t\\t\\t\\t\\t<span class=\"value\">74.22</span>\\n\\t\\t\\t\\t\\t\\t\\t<span class=\"txt_usd\"><span class=\"blind\">\\xb4\\xde\\xb7\\xaf</span></span>\\n\\t\\t\\t\\t\\t\\t\\t<span class=\"change\"> 2.77</span>\\n\\t\\t\\t\\t\\t\\t\\t<span class=\"blind\">\\xc7\\xcf\\xb6\\xf4</span>\\n\\t\\t\\t\\t\\t\\t</div>\\n\\t\\t\\t\\t\\t</a>\\n\\t\\t\\t\\t\\t\\n\\t\\t\\t\\t\\t<a href=\"/marketindex/worldOilDetail.naver?marketindexCd=OIL_CL&fdtc=2\" class=\"graph_img\" onClick=\"clickcr(this, \\'fr3.wtic\\', \\'\\', \\'\\', event);\">\\n\\t\\t\\t\\t\\t\\t<img src=\"https://ssl.pstatic.net/imgfinance/chart/marketindex/OIL_CL.png\" alt=\"\" width=\"295\" height=\"153\">\\n\\t\\t\\t\\t\\t</a>\\n\\t\\t\\t\\t\\t\\n\\t\\t\\t\\t\\t<div class=\"graph_info\">\\n\\t\\t\\t\\t\\t\\t\\t<span class=\"time\">2024.06.03</span>\\n\\t\\t\\t\\t\\t\\t\\t<span class=\"source\">NYMEX(\\xb4\\xba\\xbf\\xe5\\xbb\\xf3\\xbe\\xf7\\xb0\\xc5\\xb7\\xa1\\xbc\\xd2) \\xb1\\xe2\\xc1\\xd8</span>\\n\\t\\t\\t\\t\\t\\t\\t\\t\\t\\t\\n\\t\\t\\t\\t\\t</div>\\t\\t\\t\\t\\t\\t\\t\\t\\t\\t\\t\\n\\t\\t\\t\\t</li>\\n\\t\\t\\t\\t\\n\\t\\t\\t\\t\\t\\n\\t\\t\\t\\t\\t\\t\\n\\t\\t\\t\\t\\t\\t\\n\\t\\t\\t\\t\\t    \\n\\t\\t\\t\\t\\t\\t\\n\\t\\t\\t\\t\\t    \\t\\n\\t\\t\\t\\t\\t<li class=\"\">\\n   \\t\\t\\t\\t   \\t<a href=\"/marketindex/oilDetail.naver?marketindexCd=OIL_GSL\" class=\"head gasoline\" onClick=\"clickcr(this, \\'fr3.oilt\\', \\'\\', \\'\\', event);\">\\n\\t\\t\\t\\t\\t\\t<h3 class=\"h_lst\"><span class=\"blind\">\\xc8\\xd6\\xb9\\xdf\\xc0\\xaf</span></h3>\\n\\t\\t\\t\\t\\t\\t \\n\\t\\t\\t\\t\\t\\t\\n\\t\\t\\t\\t         \\t\\n\\t\\t\\t\\t         \\t\\n\\t\\t\\t\\t         \\t\\t\\t\\t\\t         \\t\\t\\t         \\n\\t\\t\\t\\t     \\t    \\n\\t\\t\\t\\t\\t\\t<div class=\"head_info point_dn\">\\n\\t\\t\\t\\t\\t\\t\\t<span class=\"value\">1667.78</span>\\n\\t\\t\\t\\t\\t\\t\\t<span class=\"txt_krw\"><span class=\"blind\">\\xbf\\xf8</span></span>\\n\\t\\t\\t\\t\\t\\t\\t<span class=\"change\"> 1.77</span>\\n\\t\\t\\t\\t\\t\\t\\t<span class=\"blind\">\\xc7\\xcf\\xb6\\xf4</span>\\n\\t\\t\\t\\t\\t\\t</div>\\n\\t\\t\\t\\t\\t</a>\\n\\t\\t\\t\\t\\t\\n\\t\\t\\t\\t\\t<a href=\"/marketindex/oilDetail.naver?marketindexCd=OIL_GSL\" class=\"graph_img\" onClick=\"clickcr(this, \\'fr3.oilc\\', \\'\\', \\'\\', event);\">\\n\\t\\t\\t\\t\\t\\t<img src=\"https://ssl.pstatic.net/imgfinance/chart/marketindex/OIL_GSL.png\" alt=\"\" width=\"295\" height=\"153\">\\n\\t\\t\\t\\t\\t</a>\\n\\t\\t\\t\\t\\t\\n\\t\\t\\t\\t\\t<div class=\"graph_info\">\\n\\t\\t\\t\\t\\t\\t\\t<span class=\"time\">2024.06.04</span>\\n\\t\\t\\t\\t\\t\\t\\t<span class=\"source\">\\xc7\\xd1\\xb1\\xb9\\xbc\\xae\\xc0\\xaf\\xb0\\xf8\\xbb\\xe7 Opinet \\xb1\\xe2\\xc1\\xd8</span>\\n\\t\\t\\t\\t\\t\\t\\t\\t\\t\\t\\n\\t\\t\\t\\t\\t</div>\\t\\t\\t\\t\\t\\t\\t\\t\\t\\t\\t\\n\\t\\t\\t\\t</li>\\n\\t\\t\\t\\t\\n\\t\\t\\t\\t\\t\\n\\t\\t\\t\\t\\t\\t\\n\\t\\t\\t\\t\\t\\t\\n\\t\\t\\t\\t\\t    \\n\\t\\t\\t\\t\\t\\t\\n\\t\\t\\t\\t\\t    \\t\\n\\t\\t\\t\\t\\t<li class=\"\">\\n   \\t\\t\\t\\t   \\t<a href=\"/marketindex/worldGoldDetail.naver?marketindexCd=CMDT_GC&fdtc=2\" class=\"head gold_inter\" onClick=\"clickcr(this, \\'fr3.agoldt\\', \\'\\', \\'\\', event);\">\\n\\t\\t\\t\\t\\t\\t<h3 class=\"h_lst\"><span class=\"blind\">\\xb1\\xb9\\xc1\\xa6 \\xb1\\xdd</span></h3>\\n\\t\\t\\t\\t\\t\\t \\n\\t\\t\\t\\t\\t\\t\\n\\t\\t\\t\\t         \\t\\n\\t\\t\\t\\t         \\t\\n\\t\\t\\t\\t         \\t\\t\\t\\t\\t         \\t\\t\\t         \\n\\t\\t\\t\\t     \\t    \\n\\t\\t\\t\\t\\t\\t<div class=\"head_info point_up\">\\n\\t\\t\\t\\t\\t\\t\\t<span class=\"value\">2369.3</span>\\n\\t\\t\\t\\t\\t\\t\\t<span class=\"txt_usd\"><span class=\"blind\">\\xb4\\xde\\xb7\\xaf</span></span>\\n\\t\\t\\t\\t\\t\\t\\t<span class=\"change\">23.50</span>\\n\\t\\t\\t\\t\\t\\t\\t<span class=\"blind\">\\xbb\\xf3\\xbd\\xc2</span>\\n\\t\\t\\t\\t\\t\\t</div>\\n\\t\\t\\t\\t\\t</a>\\n\\t\\t\\t\\t\\t\\n\\t\\t\\t\\t\\t<a href=\"/marketindex/worldGoldDetail.naver?marketindexCd=CMDT_GC&fdtc=2\" class=\"graph_img\" onClick=\"clickcr(this, \\'fr3.agoldc\\', \\'\\', \\'\\', event);\">\\n\\t\\t\\t\\t\\t\\t<img src=\"https://ssl.pstatic.net/imgfinance/chart/marketindex/CMDT_GC.png\" alt=\"\" width=\"295\" height=\"153\">\\n\\t\\t\\t\\t\\t</a>\\n\\t\\t\\t\\t\\t\\n\\t\\t\\t\\t\\t<div class=\"graph_info\">\\n\\t\\t\\t\\t\\t\\t\\t<span class=\"time\">2024.06.03</span>\\n\\t\\t\\t\\t\\t\\t\\t<span class=\"source\">COMEX(\\xb4\\xba\\xbf\\xe5\\xbb\\xf3\\xc7\\xb0\\xb0\\xc5\\xb7\\xa1\\xbc\\xd2) \\xb1\\xe2\\xc1\\xd8</span>\\n\\t\\t\\t\\t\\t\\t\\t\\t\\t\\t\\n\\t\\t\\t\\t\\t</div>\\t\\t\\t\\t\\t\\t\\t\\t\\t\\t\\t\\n\\t\\t\\t\\t</li>\\n\\t\\t\\t\\t\\n\\t\\t\\t\\t\\t\\n\\t\\t\\t\\t\\t\\t\\n\\t\\t\\t\\t\\t\\t\\n\\t\\t\\t\\t\\t    \\n\\t\\t\\t\\t\\t\\t\\n\\t\\t\\t\\t\\t    \\t\\n\\t\\t\\t\\t\\t<li class=\"\">\\n   \\t\\t\\t\\t   \\t<a href=\"/marketindex/goldDetail.naver\" class=\"head gold_domestic\" onClick=\"clickcr(this, \\'fr3.kgoldt\\', \\'\\', \\'\\', event);\">\\n\\t\\t\\t\\t\\t\\t<h3 class=\"h_lst\"><span class=\"blind\">\\xb1\\xb9\\xb3\\xbb \\xb1\\xdd</span></h3>\\n\\t\\t\\t\\t\\t\\t \\n\\t\\t\\t\\t\\t\\t\\n\\t\\t\\t\\t         \\t\\n\\t\\t\\t\\t         \\t\\n\\t\\t\\t\\t         \\t\\t\\t\\t\\t         \\t\\t\\t         \\n\\t\\t\\t\\t     \\t    \\n\\t\\t\\t\\t\\t\\t<div class=\"head_info point_up\">\\n\\t\\t\\t\\t\\t\\t\\t<span class=\"value\">103746.18</span>\\n\\t\\t\\t\\t\\t\\t\\t<span class=\"txt_krw\"><span class=\"blind\">\\xbf\\xf8</span></span>\\n\\t\\t\\t\\t\\t\\t\\t<span class=\"change\">114.24</span>\\n\\t\\t\\t\\t\\t\\t\\t<span class=\"blind\">\\xbb\\xf3\\xbd\\xc2</span>\\n\\t\\t\\t\\t\\t\\t</div>\\n\\t\\t\\t\\t\\t</a>\\n\\t\\t\\t\\t\\t\\n\\t\\t\\t\\t\\t<a href=\"/marketindex/goldDetail.naver\" class=\"graph_img\" onClick=\"clickcr(this, \\'fr3.kgoldc\\', \\'\\', \\'\\', event);\">\\n\\t\\t\\t\\t\\t\\t<img src=\"https://ssl.pstatic.net/imgfinance/chart/marketindex/CMDT_GD.png\" alt=\"\" width=\"295\" height=\"153\">\\n\\t\\t\\t\\t\\t</a>\\n\\t\\t\\t\\t\\t\\n\\t\\t\\t\\t\\t<div class=\"graph_info\">\\n\\t\\t\\t\\t\\t\\t\\t<span class=\"time\">2024.06.04 14:37</span>\\n\\t\\t\\t\\t\\t\\t\\t<span class=\"source\">\\xbd\\xc5\\xc7\\xd1\\xc0\\xba\\xc7\\xe0 \\xb1\\xe2\\xc1\\xd8</span>\\n\\t\\t\\t\\t\\t\\t\\t(<span class=\"num\">148</span>\\xc8\\xb8\\xc2\\xf7)\\t\\t\\t\\n\\t\\t\\t\\t\\t</div>\\t\\t\\t\\t\\t\\t\\t\\t\\t\\t\\t\\n\\t\\t\\t\\t</li>\\n\\t\\t\\t\\t\\n\\t\\t\\t\\t</ul>\\t\\t\\t\\t\\t\\t\\t\\t\\n\\t\\t\\t</div>\\n\\t\\t\\t<!-- //data -->\\n\\t\\t</div>\\n\\t</div>\\n</div>\\t\\n<div id=\"content\" class=\"marketindex_content _replaceNewsLink\">\\n\\t<div class=\"section_news\">\\n\\t\\t<h3 class=\"h_market\"><span>\\xc8\\xaf\\xc0\\xb2 \\xc1\\xd6\\xbf\\xe4\\xb4\\xba\\xbd\\xba</span></h3>\\n\\t\\t<div class=\"list_area\">\\n\\t\\t<ul>\\n\\t\\t\\t\\n\\t\\t\\t<li>\\n\\t\\t\\t\\t<p><a href=\"/news/news_read.naver?mode=LSS3D&section_id=101&section_id2=258&section_id3=429&office_id=001&article_id=0014727014\" onClick=\"clickcr(this, \\'mhn.list\\', \\'001_0014727014\\', \\'0\\', event);\">\\xec\\xed\\xc0\\xe7\\xb9\\xab\\xbb\\xf3 \"\\xbf\\xa3\\xc8\\xad \\xbd\\xc3\\xc0\\xe5 \\xb0\\xb3\\xc0\\xd4, \\xb0\\xfa\\xb5\\xb5\\xc7\\xd1 \\xba\\xaf\\xb5\\xbf </a><img src=\"https://ssl.pstatic.net/static/nfinance/ico_new.gif\" width=\"8\" height=\"8\" alt=\"NEW\"></p>\\n\\t\\t\\t\\t<span>06.04 12:20</span>\\n\\t\\t\\t</li>\\n\\t\\t\\t\\n\\t\\t\\t<li>\\n\\t\\t\\t\\t<p><a href=\"/news/news_read.naver?mode=LSS3D&section_id=101&section_id2=258&section_id3=429&office_id=015&article_id=0004992877\" onClick=\"clickcr(this, \\'mhn.list\\', \\'015_0004992877\\', \\'1\\', event);\">\\xc7\\xd1\\xc0\\xba, \\xb4\\xde\\xb7\\xaf-\\xc0\\xaf\\xb7\\xce\\xa1\\xa4\\xbf\\xa3\\xc8\\xad \\xb5\\xee \\xbf\\xdc\\xc8\\xaf \\xb0\\xc5\\xb7\\xa1 \\xb1\\xb9\\xb3\\xbb</a><img src=\"https://ssl.pstatic.net/static/nfinance/ico_new.gif\" width=\"8\" height=\"8\" alt=\"NEW\"></p>\\n\\t\\t\\t\\t<span>06.04 12:01</span>\\n\\t\\t\\t</li>\\n\\t\\t\\t\\n\\t\\t\\t<li>\\n\\t\\t\\t\\t<p><a href=\"/news/news_read.naver?mode=LSS3D&section_id=101&section_id2=258&section_id3=429&office_id=001&article_id=0014726952\" onClick=\"clickcr(this, \\'mhn.list\\', \\'001_0014726952\\', \\'2\\', event);\">\\xc7\\xd1\\xc0\\xba, \\xb1\\xb9\\xb3\\xbb\\xc0\\xba\\xc7\\xe0\\xb0\\xfa\\xb5\\xb5 \\xc0\\xcc\\xc1\\xbe\\xc5\\xeb\\xc8\\xad \\xbf\\xdc\\xc8\\xaf\\xb8\\xc5\\xb8\\xc5 \\xb0\\xc5\\xb7\\xa1</a><img src=\"https://ssl.pstatic.net/static/nfinance/ico_new.gif\" width=\"8\" height=\"8\" alt=\"NEW\"></p>\\n\\t\\t\\t\\t<span>06.04 12:00</span>\\n\\t\\t\\t</li>\\n\\t\\t\\t\\n\\t\\t\\t<li>\\n\\t\\t\\t\\t<p><a href=\"/news/news_read.naver?mode=LSS3D&section_id=101&section_id2=258&section_id3=429&office_id=001&article_id=0014726937\" onClick=\"clickcr(this, \\'mhn.list\\', \\'001_0014726937\\', \\'3\\', event);\">\\xb1\\xe2\\xc0\\xe7\\xc2\\xf7\\xb0\\xfc \"\\xbf\\xdc\\xc8\\xaf\\xbd\\xc3\\xc0\\xe5 \\xb1\\xb8\\xc1\\xb6\\xb0\\xb3\\xbc\\xb1 \\xbe\\xc8\\xc2\\xf8 \\xc0\\xa7\\xc7\\xd8 \\xb1\\xdb</a><img src=\"https://ssl.pstatic.net/static/nfinance/ico_new.gif\" width=\"8\" height=\"8\" alt=\"NEW\"></p>\\n\\t\\t\\t\\t<span>06.04 12:00</span>\\n\\t\\t\\t</li>\\n\\t\\t\\t\\n\\t\\t\\t<li>\\n\\t\\t\\t\\t<p><a href=\"/news/news_read.naver?mode=LSS3D&section_id=101&section_id2=258&section_id3=429&office_id=001&article_id=0014726725\" onClick=\"clickcr(this, \\'mhn.list\\', \\'001_0014726725\\', \\'4\\', event);\">\"\\xbf\\xf9\\xb1\\xde\\xc0\\xb8\\xb7\\xce \\xc7\\xcf\\xb7\\xe7 \\xbb\\xa7 \\xc7\\xd1\\xc1\\xb6\\xb0\\xa2\\xb5\\xb5 \\xb8\\xf8\\xbb\\xe7\"\\xa1\\xa6\\xc3\\xd1\\xc6\\xc4\\xbe\\xf7</a><img src=\"https://ssl.pstatic.net/static/nfinance/ico_new.gif\" width=\"8\" height=\"8\" alt=\"NEW\"></p>\\n\\t\\t\\t\\t<span>06.04 11:14</span>\\n\\t\\t\\t</li>\\n\\t\\t\\t\\n\\t\\t\\t<li>\\n\\t\\t\\t\\t<p><a href=\"/news/news_read.naver?mode=LSS3D&section_id=101&section_id2=258&section_id3=429&office_id=001&article_id=0014726413\" onClick=\"clickcr(this, \\'mhn.list\\', \\'001_0014726413\\', \\'5\\', event);\">\\xb8\\xdf\\xbd\\xc3\\xc4\\xda \\xc1\\xd6\\xbd\\xc4\\xa1\\xa4\\xc6\\xe4\\xbc\\xd2 \\xc6\\xf8\\xb6\\xf4\\xa1\\xa6\\xc1\\xfd\\xb1\\xc7\\xb4\\xe7\\xc0\\xc7 \\xbf\\xb9\\xbb\\xf3 \\xb9\\xdb </a><img src=\"https://ssl.pstatic.net/static/nfinance/ico_new.gif\" width=\"8\" height=\"8\" alt=\"NEW\"></p>\\n\\t\\t\\t\\t<span>06.04 10:08</span>\\n\\t\\t\\t</li>\\n\\t\\t\\t\\n\\t\\t\\t<li>\\n\\t\\t\\t\\t<p><a href=\"/news/news_read.naver?mode=LSS3D&section_id=101&section_id2=258&section_id3=429&office_id=001&article_id=0014726251\" onClick=\"clickcr(this, \\'mhn.list\\', \\'001_0014726251\\', \\'6\\', event);\">\\xbf\\xf8/\\xb4\\xde\\xb7\\xaf \\xc8\\xaf\\xc0\\xb2, \\xc0\\xe5 \\xc3\\xca\\xb9\\xdd \\xc7\\xcf\\xb6\\xf4\\xa1\\xa61,370\\xbf\\xf8</a><img src=\"https://ssl.pstatic.net/static/nfinance/ico_new.gif\" width=\"8\" height=\"8\" alt=\"NEW\"></p>\\n\\t\\t\\t\\t<span>06.04 09:32</span>\\n\\t\\t\\t</li>\\n\\t\\t\\t\\n\\t\\t\\t<li>\\n\\t\\t\\t\\t<p><a href=\"/news/news_read.naver?mode=LSS3D&section_id=101&section_id2=258&section_id3=429&office_id=015&article_id=0004992483\" onClick=\"clickcr(this, \\'mhn.list\\', \\'015_0004992483\\', \\'7\\', event);\">\\xc0\\xa7\\xc7\\xe8\\xbc\\xb1\\xc8\\xa3 \\xc8\\xb8\\xba\\xb9\\xa1\\xa6\\xbf\\xf8\\xa1\\xa4\\xb4\\xde\\xb7\\xaf \\xc8\\xaf\\xc0\\xb2 8.4\\xbf\\xf8 \\xc7\\xcf\\xb6\\xf4</a><img src=\"https://ssl.pstatic.net/static/nfinance/ico_new.gif\" width=\"8\" height=\"8\" alt=\"NEW\"></p>\\n\\t\\t\\t\\t<span>06.03 16:05</span>\\n\\t\\t\\t</li>\\n\\t\\t\\t\\n\\t\\t\\t<li>\\n\\t\\t\\t\\t<p><a href=\"/news/news_read.naver?mode=LSS3D&section_id=101&section_id2=258&section_id3=429&office_id=001&article_id=0014725069\" onClick=\"clickcr(this, \\'mhn.list\\', \\'001_0014725069\\', \\'8\\', event);\">\\xbf\\xf8/\\xb4\\xde\\xb7\\xaf \\xc8\\xaf\\xc0\\xb2, 8.4\\xbf\\xf8 \\xc7\\xcf\\xb6\\xf4\\xa1\\xa61,376.</a><img src=\"https://ssl.pstatic.net/static/nfinance/ico_new.gif\" width=\"8\" height=\"8\" alt=\"NEW\"></p>\\n\\t\\t\\t\\t<span>06.03 15:38</span>\\n\\t\\t\\t</li>\\n\\t\\t\\t\\n\\t\\t\\t<li>\\n\\t\\t\\t\\t<p><a href=\"/news/news_read.naver?mode=LSS3D&section_id=101&section_id2=258&section_id3=429&office_id=001&article_id=0014723500\" onClick=\"clickcr(this, \\'mhn.list\\', \\'001_0014723500\\', \\'9\\', event);\">\\xbf\\xf8/\\xb4\\xde\\xb7\\xaf \\xc8\\xaf\\xc0\\xb2, \\xc0\\xe5 \\xc3\\xca\\xb9\\xdd \\xc7\\xcf\\xb6\\xf4\\xa1\\xa61,380\\xbf\\xf8</a><img src=\"https://ssl.pstatic.net/static/nfinance/ico_new.gif\" width=\"8\" height=\"8\" alt=\"NEW\"></p>\\n\\t\\t\\t\\t<span>06.03 09:21</span>\\n\\t\\t\\t</li>\\n\\t\\t\\t\\n\\t\\t</ul>\\n\\t\\t</div>\\n\\t\\t<a href=\"/news/news_list.naver?mode=LSS3D&section_id=101&section_id2=258&section_id3=429\" class=\"btn_more\" onClick=\"clickcr(this, \\'mhn.more\\', \\'\\', \\'\\', event);\"><img src=\"https://ssl.pstatic.net/static/nfinance/btn_more.gif\" width=\"34\" height=\"18\" alt=\"\\xb4\\xf5\\xba\\xb8\\xb1\\xe2\"></a>\\n\\t</div>\\n\\t\\n\\t<div class=\"tab_default1\" id=\"tab_section\">\\n            <ul>\\n            <li class=\"on\"><a href=\"./?tabSel=exchange#tab_section\" onClick=\"clickcr(this, \\'mtb.exnoti\\', \\'\\', \\'\\', event);\"><span class=\"tab1\">\\xc8\\xaf\\xc0\\xfc\\xb0\\xed\\xbd\\xc3 \\xc8\\xaf\\xc0\\xb2</span></a></li>\\n            <li class=\"\"><a href=\"./?tabSel=worldExchange#tab_section\" onClick=\"clickcr(this, \\'mtb.interex\\', \\'\\', \\'\\', event);\"><span class=\"tab2\">\\xb1\\xb9\\xc1\\xa6\\xbd\\xc3\\xc0\\xe5 \\xc8\\xaf\\xc0\\xb2</span></a></li>\\n            <li class=\"\"><a href=\"./?tabSel=gold#tab_section\" onClick=\"clickcr(this, \\'mtb.oilgold\\', \\'\\', \\'\\', event);\"><span class=\"tab3\">\\xc0\\xaf\\xb0\\xa1 \\xb1\\xdd\\xbd\\xc3\\xbc\\xbc</span></a></li>\\n            <li class=\"\"><a href=\"./?tabSel=materials#tab_section\" onClick=\"clickcr(this, \\'mtb.material\\', \\'\\', \\'\\', event);\"><span class=\"tab4\">\\xbf\\xf8\\xc0\\xda\\xc0\\xe7</span></a></li>\\n            </ul>\\n            <h2 class=\"blind\">\\xc8\\xaf\\xc0\\xfc\\xb0\\xed\\xbd\\xc3 \\xc8\\xaf\\xc0\\xb2</h2>\\n    </div>\\n\\t\\n<div class=\"section_calculator\">\\n\\t<h3 class=\"h_calculator\"><span>\\xc8\\xaf\\xc0\\xb2\\xb0\\xe8\\xbb\\xea\\xb1\\xe2 (\\xb8\\xc5\\xb8\\xc5\\xb1\\xe2\\xc1\\xd8\\xc0\\xb2 \\xb1\\xe2\\xc1\\xd8)</span></h3>\\n\\t<div class=\"calculator\">\\n\\t\\t<div class=\"inner\">\\n\\t\\t\\t<div class=\"input\">\\n\\t\\t\\t\\t<div id=\"sInput\" class=\"selectbox-noscript\">\\n\\t\\t\\t\\t\\t<select id=\"select_from\" class=\"selectbox-source\">\\n\\t\\t\\t\\t\\t\\t<option value=\"1\" label=\"1\">\\xb4\\xeb\\xc7\\xd1\\xb9\\xce\\xb1\\xb9 \\xbf\\xf8 KRW</option>\\n\\t\\t\\t\\t\\t\\t\\n\\t\\t\\t\\t\\t\\t\\t\\n\\t\\t\\t\\t\\t\\t\\t \\n\\t\\t\\t\\t\\t\\t\\t <option value=\"1374.6\" label=\"1\" class=\"selectbox-default\" selected=\"selected\"> \\xb9\\xcc\\xb1\\xb9 \\xb4\\xde\\xb7\\xaf USD</option>  \\n\\t\\t\\t\\t\\t\\t\\t\\n\\t\\t\\t\\t\\t\\t\\t<option value=\"1374.6\" label=\"1\"> \\xb9\\xcc\\xb1\\xb9 \\xb4\\xde\\xb7\\xaf USD</option>\\n\\t\\t\\t\\t\\t\\t\\n\\t\\t\\t\\t\\t\\t\\t\\n\\t\\t\\t\\t\\t\\t\\t\\n\\t\\t\\t\\t\\t\\t\\t<option value=\"1499.14\" label=\"1\"> \\xc0\\xaf\\xb7\\xb4\\xbf\\xac\\xc7\\xd5 \\xc0\\xaf\\xb7\\xce EUR</option>\\n\\t\\t\\t\\t\\t\\t\\n\\t\\t\\t\\t\\t\\t\\t\\n\\t\\t\\t\\t\\t\\t\\t\\n\\t\\t\\t\\t\\t\\t\\t<option value=\"8.8048\" label=\"100\"> \\xc0\\xcf\\xba\\xbb \\xbf\\xa3 JPY</option>\\n\\t\\t\\t\\t\\t\\t\\n\\t\\t\\t\\t\\t\\t\\t\\n\\t\\t\\t\\t\\t\\t\\t\\n\\t\\t\\t\\t\\t\\t\\t<option value=\"189.42\" label=\"1\"> \\xc1\\xdf\\xb1\\xb9 \\xc0\\xa7\\xbe\\xc8 CNY</option>\\n\\t\\t\\t\\t\\t\\t\\n\\t\\t\\t\\t\\t\\t\\t\\n\\t\\t\\t\\t\\t\\t\\t\\n\\t\\t\\t\\t\\t\\t\\t<option value=\"175.82\" label=\"1\"> \\xc8\\xab\\xc4\\xe1 \\xb4\\xde\\xb7\\xaf HKD</option>\\n\\t\\t\\t\\t\\t\\t\\n\\t\\t\\t\\t\\t\\t\\t\\n\\t\\t\\t\\t\\t\\t\\t\\n\\t\\t\\t\\t\\t\\t\\t<option value=\"42.42\" label=\"1\"> \\xb4\\xeb\\xb8\\xb8 \\xb4\\xde\\xb7\\xaf TWD</option>\\n\\t\\t\\t\\t\\t\\t\\n\\t\\t\\t\\t\\t\\t\\t\\n\\t\\t\\t\\t\\t\\t\\t\\n\\t\\t\\t\\t\\t\\t\\t<option value=\"1760.24\" label=\"1\"> \\xbf\\xb5\\xb1\\xb9 \\xc6\\xc4\\xbf\\xee\\xb5\\xe5 GBP</option>\\n\\t\\t\\t\\t\\t\\t\\n\\t\\t\\t\\t\\t\\t\\t\\n\\t\\t\\t\\t\\t\\t\\t\\n\\t\\t\\t\\t\\t\\t\\t<option value=\"3570.3\" label=\"1\"> \\xbf\\xc0\\xb8\\xb8 \\xb8\\xae\\xbe\\xcb OMR</option>\\n\\t\\t\\t\\t\\t\\t\\n\\t\\t\\t\\t\\t\\t\\t\\n\\t\\t\\t\\t\\t\\t\\t\\n\\t\\t\\t\\t\\t\\t\\t<option value=\"1007.22\" label=\"1\"> \\xc4\\xb3\\xb3\\xaa\\xb4\\xd9 \\xb4\\xde\\xb7\\xaf CAD</option>\\n\\t\\t\\t\\t\\t\\t\\n\\t\\t\\t\\t\\t\\t\\t\\n\\t\\t\\t\\t\\t\\t\\t\\n\\t\\t\\t\\t\\t\\t\\t<option value=\"1535.78\" label=\"1\"> \\xbd\\xba\\xc0\\xa7\\xbd\\xba \\xc7\\xc1\\xb6\\xfb CHF</option>\\n\\t\\t\\t\\t\\t\\t\\n\\t\\t\\t\\t\\t\\t\\t\\n\\t\\t\\t\\t\\t\\t\\t\\n\\t\\t\\t\\t\\t\\t\\t<option value=\"131.97\" label=\"1\"> \\xbd\\xba\\xbf\\xfe\\xb5\\xa7 \\xc5\\xa9\\xb7\\xce\\xb3\\xaa SEK</option>\\n\\t\\t\\t\\t\\t\\t\\n\\t\\t\\t\\t\\t\\t\\t\\n\\t\\t\\t\\t\\t\\t\\t\\n\\t\\t\\t\\t\\t\\t\\t<option value=\"917.41\" label=\"1\"> \\xc8\\xa3\\xc1\\xd6 \\xb4\\xde\\xb7\\xaf AUD</option>\\n\\t\\t\\t\\t\\t\\t\\n\\t\\t\\t\\t\\t\\t\\t\\n\\t\\t\\t\\t\\t\\t\\t\\n\\t\\t\\t\\t\\t\\t\\t<option value=\"850.53\" label=\"1\"> \\xb4\\xba\\xc1\\xfa\\xb7\\xa3\\xb5\\xe5 \\xb4\\xde\\xb7\\xaf NZD</option>\\n\\t\\t\\t\\t\\t\\t\\n\\t\\t\\t\\t\\t\\t\\t\\n\\t\\t\\t\\t\\t\\t\\t\\n\\t\\t\\t\\t\\t\\t\\t<option value=\"60.74\" label=\"1\"> \\xc3\\xbc\\xc4\\xda \\xc4\\xda\\xb7\\xe7\\xb3\\xaa CZK</option>\\n\\t\\t\\t\\t\\t\\t\\n\\t\\t\\t\\t\\t\\t\\t\\n\\t\\t\\t\\t\\t\\t\\t\\n\\t\\t\\t\\t\\t\\t\\t<option value=\"1.52\" label=\"1\"> \\xc4\\xa5\\xb7\\xb9 \\xc6\\xe4\\xbc\\xd2 CLP</option>\\n\\t\\t\\t\\t\\t\\t\\n\\t\\t\\t\\t\\t\\t\\t\\n\\t\\t\\t\\t\\t\\t\\t\\n\\t\\t\\t\\t\\t\\t\\t<option value=\"42.7\" label=\"1\"> \\xc6\\xa2\\xb8\\xa3\\xc5\\xb0\\xbf\\xb9 \\xb4\\xba\\xb8\\xae\\xb6\\xf3 TRY</option>\\n\\t\\t\\t\\t\\t\\t\\n\\t\\t\\t\\t\\t\\t\\t\\n\\t\\t\\t\\t\\t\\t\\t\\n\\t\\t\\t\\t\\t\\t\\t<option value=\"0.4\" label=\"1\"> \\xb8\\xf9\\xb0\\xf1 \\xc5\\xf5\\xb1\\xd7\\xb8\\xaf MNT</option>\\n\\t\\t\\t\\t\\t\\t\\n\\t\\t\\t\\t\\t\\t\\t\\n\\t\\t\\t\\t\\t\\t\\t\\n\\t\\t\\t\\t\\t\\t\\t<option value=\"375.67\" label=\"1\"> \\xc0\\xcc\\xbd\\xba\\xb6\\xf3\\xbf\\xa4 \\xbc\\xbc\\xc4\\xcc ILS</option>\\n\\t\\t\\t\\t\\t\\t\\n\\t\\t\\t\\t\\t\\t\\t\\n\\t\\t\\t\\t\\t\\t\\t\\n\\t\\t\\t\\t\\t\\t\\t<option value=\"200.99\" label=\"1\"> \\xb5\\xa7\\xb8\\xb6\\xc5\\xa9 \\xc5\\xa9\\xb7\\xce\\xb3\\xd7 DKK</option>\\n\\t\\t\\t\\t\\t\\t\\n\\t\\t\\t\\t\\t\\t\\t\\n\\t\\t\\t\\t\\t\\t\\t\\n\\t\\t\\t\\t\\t\\t\\t<option value=\"131.38\" label=\"1\"> \\xb3\\xeb\\xb8\\xa3\\xbf\\xfe\\xc0\\xcc \\xc5\\xa9\\xb7\\xce\\xb3\\xd7 NOK</option>\\n\\t\\t\\t\\t\\t\\t\\n\\t\\t\\t\\t\\t\\t\\t\\n\\t\\t\\t\\t\\t\\t\\t\\n\\t\\t\\t\\t\\t\\t\\t<option value=\"366.49\" label=\"1\"> \\xbb\\xe7\\xbf\\xec\\xb5\\xf0\\xbe\\xc6\\xb6\\xf3\\xba\\xf1\\xbe\\xc6 \\xb8\\xae\\xbe\\xe2 SAR</option>\\n\\t\\t\\t\\t\\t\\t\\n\\t\\t\\t\\t\\t\\t\\t\\n\\t\\t\\t\\t\\t\\t\\t\\n\\t\\t\\t\\t\\t\\t\\t<option value=\"4487.02\" label=\"1\"> \\xc4\\xed\\xbf\\xfe\\xc0\\xcc\\xc6\\xae \\xb5\\xf0\\xb3\\xaa\\xb8\\xa3 KWD</option>\\n\\t\\t\\t\\t\\t\\t\\n\\t\\t\\t\\t\\t\\t\\t\\n\\t\\t\\t\\t\\t\\t\\t\\n\\t\\t\\t\\t\\t\\t\\t<option value=\"3645.96\" label=\"1\"> \\xb9\\xd9\\xb7\\xb9\\xc0\\xce \\xb5\\xf0\\xb3\\xaa\\xb8\\xa3 BHD</option>\\n\\t\\t\\t\\t\\t\\t\\n\\t\\t\\t\\t\\t\\t\\t\\n\\t\\t\\t\\t\\t\\t\\t\\n\\t\\t\\t\\t\\t\\t\\t<option value=\"374.25\" label=\"1\"> \\xbe\\xc6\\xb6\\xf8\\xbf\\xa1\\xb9\\xcc\\xb8\\xae\\xc6\\xae \\xb5\\xf0\\xb8\\xa3\\xc7\\xd4 AED</option>\\n\\t\\t\\t\\t\\t\\t\\n\\t\\t\\t\\t\\t\\t\\t\\n\\t\\t\\t\\t\\t\\t\\t\\n\\t\\t\\t\\t\\t\\t\\t<option value=\"1938.79\" label=\"1\"> \\xbf\\xe4\\xb8\\xa3\\xb4\\xdc \\xb5\\xf0\\xb3\\xaa\\xb8\\xa3 JOD</option>\\n\\t\\t\\t\\t\\t\\t\\n\\t\\t\\t\\t\\t\\t\\t\\n\\t\\t\\t\\t\\t\\t\\t\\n\\t\\t\\t\\t\\t\\t\\t<option value=\"29.18\" label=\"1\"> \\xc0\\xcc\\xc1\\xfd\\xc6\\xae \\xc6\\xc4\\xbf\\xee\\xb5\\xe5 EGP</option>\\n\\t\\t\\t\\t\\t\\t\\n\\t\\t\\t\\t\\t\\t\\t\\n\\t\\t\\t\\t\\t\\t\\t\\n\\t\\t\\t\\t\\t\\t\\t<option value=\"37.62\" label=\"1\"> \\xc5\\xc2\\xb1\\xb9 \\xb9\\xd9\\xc6\\xae THB</option>\\n\\t\\t\\t\\t\\t\\t\\n\\t\\t\\t\\t\\t\\t\\t\\n\\t\\t\\t\\t\\t\\t\\t\\n\\t\\t\\t\\t\\t\\t\\t<option value=\"1020.76\" label=\"1\"> \\xbd\\xcc\\xb0\\xa1\\xc6\\xf7\\xb8\\xa3 \\xb4\\xde\\xb7\\xaf SGD</option>\\n\\t\\t\\t\\t\\t\\t\\n\\t\\t\\t\\t\\t\\t\\t\\n\\t\\t\\t\\t\\t\\t\\t\\n\\t\\t\\t\\t\\t\\t\\t<option value=\"292.78\" label=\"1\"> \\xb8\\xbb\\xb7\\xb9\\xc0\\xcc\\xbd\\xc3\\xbe\\xc6 \\xb8\\xb5\\xb1\\xea MYR</option>\\n\\t\\t\\t\\t\\t\\t\\n\\t\\t\\t\\t\\t\\t\\t\\n\\t\\t\\t\\t\\t\\t\\t\\n\\t\\t\\t\\t\\t\\t\\t<option value=\"0.0849\" label=\"100\"> \\xc0\\xce\\xb5\\xb5\\xb3\\xd7\\xbd\\xc3\\xbe\\xc6 \\xb7\\xe7\\xc7\\xc7\\xbe\\xc6 IDR</option>\\n\\t\\t\\t\\t\\t\\t\\n\\t\\t\\t\\t\\t\\t\\t\\n\\t\\t\\t\\t\\t\\t\\t\\n\\t\\t\\t\\t\\t\\t\\t<option value=\"377.11\" label=\"1\"> \\xc4\\xab\\xc5\\xb8\\xb8\\xa3 \\xb8\\xae\\xbe\\xe2 QAR</option>\\n\\t\\t\\t\\t\\t\\t\\n\\t\\t\\t\\t\\t\\t\\t\\n\\t\\t\\t\\t\\t\\t\\t\\n\\t\\t\\t\\t\\t\\t\\t<option value=\"3.07\" label=\"1\"> \\xc4\\xab\\xc0\\xda\\xc8\\xe5\\xbd\\xba\\xc5\\xba \\xc5\\xde\\xb0\\xd4 KZT</option>\\n\\t\\t\\t\\t\\t\\t\\n\\t\\t\\t\\t\\t\\t\\t\\n\\t\\t\\t\\t\\t\\t\\t\\n\\t\\t\\t\\t\\t\\t\\t<option value=\"1020.76\" label=\"1\"> \\xba\\xea\\xb7\\xe7\\xb3\\xaa\\xc0\\xcc \\xb4\\xde\\xb7\\xaf BND</option>\\n\\t\\t\\t\\t\\t\\t\\n\\t\\t\\t\\t\\t\\t\\t\\n\\t\\t\\t\\t\\t\\t\\t\\n\\t\\t\\t\\t\\t\\t\\t<option value=\"16.47\" label=\"1\"> \\xc0\\xce\\xb5\\xb5 \\xb7\\xe7\\xc7\\xc7 INR</option>\\n\\t\\t\\t\\t\\t\\t\\n\\t\\t\\t\\t\\t\\t\\t\\n\\t\\t\\t\\t\\t\\t\\t\\n\\t\\t\\t\\t\\t\\t\\t<option value=\"4.94\" label=\"1\"> \\xc6\\xc4\\xc5\\xb0\\xbd\\xba\\xc5\\xba \\xb7\\xe7\\xc7\\xc7 PKR</option>\\n\\t\\t\\t\\t\\t\\t\\n\\t\\t\\t\\t\\t\\t\\t\\n\\t\\t\\t\\t\\t\\t\\t\\n\\t\\t\\t\\t\\t\\t\\t<option value=\"11.7\" label=\"1\"> \\xb9\\xe6\\xb1\\xdb\\xb6\\xf3\\xb5\\xa5\\xbd\\xc3 \\xc5\\xb8\\xc4\\xab BDT</option>\\n\\t\\t\\t\\t\\t\\t\\n\\t\\t\\t\\t\\t\\t\\t\\n\\t\\t\\t\\t\\t\\t\\t\\n\\t\\t\\t\\t\\t\\t\\t<option value=\"23.41\" label=\"1\"> \\xc7\\xca\\xb8\\xae\\xc7\\xc9 \\xc6\\xe4\\xbc\\xd2 PHP</option>\\n\\t\\t\\t\\t\\t\\t\\n\\t\\t\\t\\t\\t\\t\\t\\n\\t\\t\\t\\t\\t\\t\\t\\n\\t\\t\\t\\t\\t\\t\\t<option value=\"77.83\" label=\"1\"> \\xb8\\xdf\\xbd\\xc3\\xc4\\xda \\xc6\\xe4\\xbc\\xd2 MXN</option>\\n\\t\\t\\t\\t\\t\\t\\n\\t\\t\\t\\t\\t\\t\\t\\n\\t\\t\\t\\t\\t\\t\\t\\n\\t\\t\\t\\t\\t\\t\\t<option value=\"261.77\" label=\"1\"> \\xba\\xea\\xb6\\xf3\\xc1\\xfa \\xb7\\xb9\\xbe\\xcb BRL</option>\\n\\t\\t\\t\\t\\t\\t\\n\\t\\t\\t\\t\\t\\t\\t\\n\\t\\t\\t\\t\\t\\t\\t\\n\\t\\t\\t\\t\\t\\t\\t<option value=\"0.0541\" label=\"100\"> \\xba\\xa3\\xc6\\xae\\xb3\\xb2 \\xb5\\xbf VND</option>\\n\\t\\t\\t\\t\\t\\t\\n\\t\\t\\t\\t\\t\\t\\t\\n\\t\\t\\t\\t\\t\\t\\t\\n\\t\\t\\t\\t\\t\\t\\t<option value=\"74.08\" label=\"1\"> \\xb3\\xb2\\xbe\\xc6\\xc7\\xc1\\xb8\\xae\\xc4\\xab \\xb0\\xf8\\xc8\\xad\\xb1\\xb9 \\xb7\\xa3\\xb5\\xe5 ZAR</option>\\n\\t\\t\\t\\t\\t\\t\\n\\t\\t\\t\\t\\t\\t\\t\\n\\t\\t\\t\\t\\t\\t\\t\\n\\t\\t\\t\\t\\t\\t\\t<option value=\"15.4\" label=\"1\"> \\xb7\\xaf\\xbd\\xc3\\xbe\\xc6 \\xb7\\xe7\\xba\\xed RUB</option>\\n\\t\\t\\t\\t\\t\\t\\n\\t\\t\\t\\t\\t\\t\\t\\n\\t\\t\\t\\t\\t\\t\\t\\n\\t\\t\\t\\t\\t\\t\\t<option value=\"3.84\" label=\"1\"> \\xc7\\xeb\\xb0\\xa1\\xb8\\xae \\xc6\\xf7\\xb8\\xb0\\xc6\\xae HUF</option>\\n\\t\\t\\t\\t\\t\\t\\n\\t\\t\\t\\t\\t\\t\\t\\n\\t\\t\\t\\t\\t\\t\\t\\n\\t\\t\\t\\t\\t\\t\\t<option value=\"350.73\" label=\"1\"> \\xc6\\xfa\\xb6\\xf5\\xb5\\xe5 \\xc1\\xee\\xbf\\xf6\\xc6\\xbc PLN</option>\\n\\t\\t\\t\\t\\t\\t\\n\\t\\t\\t\\t\\t\\t\\t\\n\\t\\t\\t\\t\\t\\t\\t\\n\\t\\t\\t\\t\\t\\t\\t<option value=\"4.55\" label=\"1\"> \\xbd\\xba\\xb8\\xae\\xb6\\xfb\\xc4\\xab \\xb7\\xe7\\xc7\\xc7 LKR</option>\\n\\t\\t\\t\\t\\t\\t\\n\\t\\t\\t\\t\\t\\t\\t\\n\\t\\t\\t\\t\\t\\t\\t\\n\\t\\t\\t\\t\\t\\t\\t<option value=\"10.23\" label=\"1\"> \\xbe\\xcb\\xc1\\xa6\\xb8\\xae \\xbe\\xcb\\xc1\\xa6\\xb8\\xae \\xb5\\xf0\\xb3\\xaa\\xb8\\xa3 DZD</option>\\n\\t\\t\\t\\t\\t\\t\\n\\t\\t\\t\\t\\t\\t\\t\\n\\t\\t\\t\\t\\t\\t\\t\\n\\t\\t\\t\\t\\t\\t\\t<option value=\"10.53\" label=\"1\"> \\xc4\\xc9\\xb3\\xc4 \\xbd\\xc7\\xb8\\xb5 KES</option>\\n\\t\\t\\t\\t\\t\\t\\n\\t\\t\\t\\t\\t\\t\\t\\n\\t\\t\\t\\t\\t\\t\\t\\n\\t\\t\\t\\t\\t\\t\\t<option value=\"0.36\" label=\"1\"> \\xc4\\xdd\\xb7\\xd2\\xba\\xf1\\xbe\\xc6 \\xc6\\xe4\\xbc\\xd2 COP</option>\\n\\t\\t\\t\\t\\t\\t\\n\\t\\t\\t\\t\\t\\t\\t\\n\\t\\t\\t\\t\\t\\t\\t\\n\\t\\t\\t\\t\\t\\t\\t<option value=\"0.53\" label=\"1\"> \\xc5\\xba\\xc0\\xda\\xb4\\xcf\\xbe\\xc6 \\xbd\\xc7\\xb8\\xb5 TZS</option>\\n\\t\\t\\t\\t\\t\\t\\n\\t\\t\\t\\t\\t\\t\\t\\n\\t\\t\\t\\t\\t\\t\\t\\n\\t\\t\\t\\t\\t\\t\\t<option value=\"10.3\" label=\"1\"> \\xb3\\xd7\\xc6\\xc8 \\xb7\\xe7\\xc7\\xc7 NPR</option>\\n\\t\\t\\t\\t\\t\\t\\n\\t\\t\\t\\t\\t\\t\\t\\n\\t\\t\\t\\t\\t\\t\\t\\n\\t\\t\\t\\t\\t\\t\\t<option value=\"301.3\" label=\"1\"> \\xb7\\xe7\\xb8\\xb6\\xb4\\xcf\\xbe\\xc6 \\xb7\\xb9\\xbf\\xec RON</option>\\n\\t\\t\\t\\t\\t\\t\\n\\t\\t\\t\\t\\t\\t\\t\\n\\t\\t\\t\\t\\t\\t\\t\\n\\t\\t\\t\\t\\t\\t\\t<option value=\"283.83\" label=\"1\"> \\xb8\\xae\\xba\\xf1\\xbe\\xc6 \\xb8\\xae\\xba\\xf1\\xbe\\xc6 \\xb5\\xf0\\xb3\\xaa\\xb8\\xa3 LYD</option>\\n\\t\\t\\t\\t\\t\\t\\n\\t\\t\\t\\t\\t\\t\\t\\n\\t\\t\\t\\t\\t\\t\\t\\n\\t\\t\\t\\t\\t\\t\\t<option value=\"170.61\" label=\"1\"> \\xb8\\xb6\\xc4\\xab\\xbf\\xc0 \\xc6\\xc4\\xc5\\xb8\\xc4\\xab MOP</option>\\n\\t\\t\\t\\t\\t\\t\\n\\t\\t\\t\\t\\t\\t\\t\\n\\t\\t\\t\\t\\t\\t\\t\\n\\t\\t\\t\\t\\t\\t\\t<option value=\"0.65\" label=\"1\"> \\xb9\\xcc\\xbe\\xe1\\xb8\\xb6 \\xc2\\xad MMK</option>\\n\\t\\t\\t\\t\\t\\t\\n\\t\\t\\t\\t\\t\\t\\t\\n\\t\\t\\t\\t\\t\\t\\t\\n\\t\\t\\t\\t\\t\\t\\t<option value=\"23.91\" label=\"1\"> \\xbf\\xa1\\xc6\\xbc\\xbf\\xc0\\xc7\\xc7\\xbe\\xc6 \\xba\\xf1\\xb8\\xa3 ETB</option>\\n\\t\\t\\t\\t\\t\\t\\n\\t\\t\\t\\t\\t\\t\\t\\n\\t\\t\\t\\t\\t\\t\\t\\n\\t\\t\\t\\t\\t\\t\\t<option value=\"0.11\" label=\"1\"> \\xbf\\xec\\xc1\\xee\\xba\\xa3\\xc5\\xb0\\xbd\\xba\\xc5\\xba \\xbc\\xfb UZS</option>\\n\\t\\t\\t\\t\\t\\t\\n\\t\\t\\t\\t\\t\\t\\t\\n\\t\\t\\t\\t\\t\\t\\t\\n\\t\\t\\t\\t\\t\\t\\t<option value=\"0.33\" label=\"1\"> \\xc4\\xaf\\xba\\xb8\\xb5\\xf0\\xbe\\xc6 \\xb8\\xae\\xbf\\xa4 KHR</option>\\n\\t\\t\\t\\t\\t\\t\\n\\t\\t\\t\\t\\t\\t\\t\\n\\t\\t\\t\\t\\t\\t\\t\\n\\t\\t\\t\\t\\t\\t\\t<option value=\"608.54\" label=\"1\"> \\xc7\\xc7\\xc1\\xf6 \\xc7\\xc7\\xc1\\xf6 \\xb4\\xde\\xb7\\xaf FJD</option>\\n\\t\\t\\t\\t\\t\\t\\n\\t\\t\\t\\t\\t</select>\\n\\t\\t\\t\\t\\t<div class=\"selectbox-box\" onclick=\"clickcr(this, \\'exl*c.clist1\\', \\'\\', \\'\\', event);\">\\n\\t\\t\\t\\t\\t\\t<div class=\"selectbox-label\"></div>\\n\\t\\t\\t\\t\\t</div>\\n\\t\\t\\t\\t\\t<div class=\"selectbox-layer ly_calculator\">\\n\\t\\t\\t\\t\\t\\t<div class=\"selectbox-list\"></div>\\n\\t\\t\\t\\t\\t</div>\\n\\t\\t\\t\\t</div>\\n\\t\\t\\t\\t<div id=\"input_from\" class=\"input_area\">\\n\\t\\t\\t\\t\\t<input id=\"input_from_money\" value=\"1\" maxlength=\"10\" type=\"text\" onfocus=\"changeActiveInput(\\'from\\', \\'to\\'); return false;\" onkeyup=\"calcExchange(\\'from\\', \\'to\\', \\'on\\', event);\" onclick=\"clickcr(this, \\'exl*c.unit1\\', \\'\\', \\'\\', event);\">\\n\\t\\t\\t\\t\\t<img id=\"img_from_monetary\" src=\"https://ssl.pstatic.net/static/nfinance/img_money_USD.gif\" width=\"26\" height=\"13\" alt=\"\">\\n\\t\\t\\t\\t</div>\\n\\t\\t\\t</div>\\n\\t\\t\\t<div class=\"same\"><img src=\"https://ssl.pstatic.net/static/nfinance/ico_same.gif\" width=\"28\" height=\"15\" alt=\"\"></div>\\n\\t\\t\\t<div class=\"view\">\\n\\t\\t\\t\\t<div id=\"sView\" class=\"selectbox-noscript\">\\n\\t\\t\\t\\t\\t<select id=\"select_to\" class=\"selectbox-source\">\\n\\t\\t\\t\\t\\t\\t<option value=\"1\" class=\"selectbox-default\" label=\"1\">\\xb4\\xeb\\xc7\\xd1\\xb9\\xce\\xb1\\xb9 \\xbf\\xf8 KRW</option>\\n\\t\\t\\t\\t\\t\\t<option value=\"1\" label=\"1\">\\xb4\\xeb\\xc7\\xd1\\xb9\\xce\\xb1\\xb9 \\xbf\\xf8 KRW</option>\\n\\t\\t\\t\\t\\t\\t\\n\\t\\t\\t\\t\\t\\t\\t\\n\\t\\t\\t\\t\\t\\t\\t<option value=\"1374.6\" label=\"1\">\\xb9\\xcc\\xb1\\xb9 \\xb4\\xde\\xb7\\xaf USD</option>\\n\\t\\t\\t\\t\\t\\t\\n\\t\\t\\t\\t\\t\\t\\t\\n\\t\\t\\t\\t\\t\\t\\t<option value=\"1499.14\" label=\"1\">\\xc0\\xaf\\xb7\\xb4\\xbf\\xac\\xc7\\xd5 \\xc0\\xaf\\xb7\\xce EUR</option>\\n\\t\\t\\t\\t\\t\\t\\n\\t\\t\\t\\t\\t\\t\\t\\n\\t\\t\\t\\t\\t\\t\\t<option value=\"8.8048\" label=\"100\">\\xc0\\xcf\\xba\\xbb \\xbf\\xa3 JPY</option>\\n\\t\\t\\t\\t\\t\\t\\n\\t\\t\\t\\t\\t\\t\\t\\n\\t\\t\\t\\t\\t\\t\\t<option value=\"189.42\" label=\"1\">\\xc1\\xdf\\xb1\\xb9 \\xc0\\xa7\\xbe\\xc8 CNY</option>\\n\\t\\t\\t\\t\\t\\t\\n\\t\\t\\t\\t\\t\\t\\t\\n\\t\\t\\t\\t\\t\\t\\t<option value=\"175.82\" label=\"1\">\\xc8\\xab\\xc4\\xe1 \\xb4\\xde\\xb7\\xaf HKD</option>\\n\\t\\t\\t\\t\\t\\t\\n\\t\\t\\t\\t\\t\\t\\t\\n\\t\\t\\t\\t\\t\\t\\t<option value=\"42.42\" label=\"1\">\\xb4\\xeb\\xb8\\xb8 \\xb4\\xde\\xb7\\xaf TWD</option>\\n\\t\\t\\t\\t\\t\\t\\n\\t\\t\\t\\t\\t\\t\\t\\n\\t\\t\\t\\t\\t\\t\\t<option value=\"1760.24\" label=\"1\">\\xbf\\xb5\\xb1\\xb9 \\xc6\\xc4\\xbf\\xee\\xb5\\xe5 GBP</option>\\n\\t\\t\\t\\t\\t\\t\\n\\t\\t\\t\\t\\t\\t\\t\\n\\t\\t\\t\\t\\t\\t\\t<option value=\"3570.3\" label=\"1\">\\xbf\\xc0\\xb8\\xb8 \\xb8\\xae\\xbe\\xcb OMR</option>\\n\\t\\t\\t\\t\\t\\t\\n\\t\\t\\t\\t\\t\\t\\t\\n\\t\\t\\t\\t\\t\\t\\t<option value=\"1007.22\" label=\"1\">\\xc4\\xb3\\xb3\\xaa\\xb4\\xd9 \\xb4\\xde\\xb7\\xaf CAD</option>\\n\\t\\t\\t\\t\\t\\t\\n\\t\\t\\t\\t\\t\\t\\t\\n\\t\\t\\t\\t\\t\\t\\t<option value=\"1535.78\" label=\"1\">\\xbd\\xba\\xc0\\xa7\\xbd\\xba \\xc7\\xc1\\xb6\\xfb CHF</option>\\n\\t\\t\\t\\t\\t\\t\\n\\t\\t\\t\\t\\t\\t\\t\\n\\t\\t\\t\\t\\t\\t\\t<option value=\"131.97\" label=\"1\">\\xbd\\xba\\xbf\\xfe\\xb5\\xa7 \\xc5\\xa9\\xb7\\xce\\xb3\\xaa SEK</option>\\n\\t\\t\\t\\t\\t\\t\\n\\t\\t\\t\\t\\t\\t\\t\\n\\t\\t\\t\\t\\t\\t\\t<option value=\"917.41\" label=\"1\">\\xc8\\xa3\\xc1\\xd6 \\xb4\\xde\\xb7\\xaf AUD</option>\\n\\t\\t\\t\\t\\t\\t\\n\\t\\t\\t\\t\\t\\t\\t\\n\\t\\t\\t\\t\\t\\t\\t<option value=\"850.53\" label=\"1\">\\xb4\\xba\\xc1\\xfa\\xb7\\xa3\\xb5\\xe5 \\xb4\\xde\\xb7\\xaf NZD</option>\\n\\t\\t\\t\\t\\t\\t\\n\\t\\t\\t\\t\\t\\t\\t\\n\\t\\t\\t\\t\\t\\t\\t<option value=\"60.74\" label=\"1\">\\xc3\\xbc\\xc4\\xda \\xc4\\xda\\xb7\\xe7\\xb3\\xaa CZK</option>\\n\\t\\t\\t\\t\\t\\t\\n\\t\\t\\t\\t\\t\\t\\t\\n\\t\\t\\t\\t\\t\\t\\t<option value=\"1.52\" label=\"1\">\\xc4\\xa5\\xb7\\xb9 \\xc6\\xe4\\xbc\\xd2 CLP</option>\\n\\t\\t\\t\\t\\t\\t\\n\\t\\t\\t\\t\\t\\t\\t\\n\\t\\t\\t\\t\\t\\t\\t<option value=\"42.7\" label=\"1\">\\xc6\\xa2\\xb8\\xa3\\xc5\\xb0\\xbf\\xb9 \\xb4\\xba\\xb8\\xae\\xb6\\xf3 TRY</option>\\n\\t\\t\\t\\t\\t\\t\\n\\t\\t\\t\\t\\t\\t\\t\\n\\t\\t\\t\\t\\t\\t\\t<option value=\"0.4\" label=\"1\">\\xb8\\xf9\\xb0\\xf1 \\xc5\\xf5\\xb1\\xd7\\xb8\\xaf MNT</option>\\n\\t\\t\\t\\t\\t\\t\\n\\t\\t\\t\\t\\t\\t\\t\\n\\t\\t\\t\\t\\t\\t\\t<option value=\"375.67\" label=\"1\">\\xc0\\xcc\\xbd\\xba\\xb6\\xf3\\xbf\\xa4 \\xbc\\xbc\\xc4\\xcc ILS</option>\\n\\t\\t\\t\\t\\t\\t\\n\\t\\t\\t\\t\\t\\t\\t\\n\\t\\t\\t\\t\\t\\t\\t<option value=\"200.99\" label=\"1\">\\xb5\\xa7\\xb8\\xb6\\xc5\\xa9 \\xc5\\xa9\\xb7\\xce\\xb3\\xd7 DKK</option>\\n\\t\\t\\t\\t\\t\\t\\n\\t\\t\\t\\t\\t\\t\\t\\n\\t\\t\\t\\t\\t\\t\\t<option value=\"131.38\" label=\"1\">\\xb3\\xeb\\xb8\\xa3\\xbf\\xfe\\xc0\\xcc \\xc5\\xa9\\xb7\\xce\\xb3\\xd7 NOK</option>\\n\\t\\t\\t\\t\\t\\t\\n\\t\\t\\t\\t\\t\\t\\t\\n\\t\\t\\t\\t\\t\\t\\t<option value=\"366.49\" label=\"1\">\\xbb\\xe7\\xbf\\xec\\xb5\\xf0\\xbe\\xc6\\xb6\\xf3\\xba\\xf1\\xbe\\xc6 \\xb8\\xae\\xbe\\xe2 SAR</option>\\n\\t\\t\\t\\t\\t\\t\\n\\t\\t\\t\\t\\t\\t\\t\\n\\t\\t\\t\\t\\t\\t\\t<option value=\"4487.02\" label=\"1\">\\xc4\\xed\\xbf\\xfe\\xc0\\xcc\\xc6\\xae \\xb5\\xf0\\xb3\\xaa\\xb8\\xa3 KWD</option>\\n\\t\\t\\t\\t\\t\\t\\n\\t\\t\\t\\t\\t\\t\\t\\n\\t\\t\\t\\t\\t\\t\\t<option value=\"3645.96\" label=\"1\">\\xb9\\xd9\\xb7\\xb9\\xc0\\xce \\xb5\\xf0\\xb3\\xaa\\xb8\\xa3 BHD</option>\\n\\t\\t\\t\\t\\t\\t\\n\\t\\t\\t\\t\\t\\t\\t\\n\\t\\t\\t\\t\\t\\t\\t<option value=\"374.25\" label=\"1\">\\xbe\\xc6\\xb6\\xf8\\xbf\\xa1\\xb9\\xcc\\xb8\\xae\\xc6\\xae \\xb5\\xf0\\xb8\\xa3\\xc7\\xd4 AED</option>\\n\\t\\t\\t\\t\\t\\t\\n\\t\\t\\t\\t\\t\\t\\t\\n\\t\\t\\t\\t\\t\\t\\t<option value=\"1938.79\" label=\"1\">\\xbf\\xe4\\xb8\\xa3\\xb4\\xdc \\xb5\\xf0\\xb3\\xaa\\xb8\\xa3 JOD</option>\\n\\t\\t\\t\\t\\t\\t\\n\\t\\t\\t\\t\\t\\t\\t\\n\\t\\t\\t\\t\\t\\t\\t<option value=\"29.18\" label=\"1\">\\xc0\\xcc\\xc1\\xfd\\xc6\\xae \\xc6\\xc4\\xbf\\xee\\xb5\\xe5 EGP</option>\\n\\t\\t\\t\\t\\t\\t\\n\\t\\t\\t\\t\\t\\t\\t\\n\\t\\t\\t\\t\\t\\t\\t<option value=\"37.62\" label=\"1\">\\xc5\\xc2\\xb1\\xb9 \\xb9\\xd9\\xc6\\xae THB</option>\\n\\t\\t\\t\\t\\t\\t\\n\\t\\t\\t\\t\\t\\t\\t\\n\\t\\t\\t\\t\\t\\t\\t<option value=\"1020.76\" label=\"1\">\\xbd\\xcc\\xb0\\xa1\\xc6\\xf7\\xb8\\xa3 \\xb4\\xde\\xb7\\xaf SGD</option>\\n\\t\\t\\t\\t\\t\\t\\n\\t\\t\\t\\t\\t\\t\\t\\n\\t\\t\\t\\t\\t\\t\\t<option value=\"292.78\" label=\"1\">\\xb8\\xbb\\xb7\\xb9\\xc0\\xcc\\xbd\\xc3\\xbe\\xc6 \\xb8\\xb5\\xb1\\xea MYR</option>\\n\\t\\t\\t\\t\\t\\t\\n\\t\\t\\t\\t\\t\\t\\t\\n\\t\\t\\t\\t\\t\\t\\t<option value=\"0.0849\" label=\"100\">\\xc0\\xce\\xb5\\xb5\\xb3\\xd7\\xbd\\xc3\\xbe\\xc6 \\xb7\\xe7\\xc7\\xc7\\xbe\\xc6 IDR</option>\\n\\t\\t\\t\\t\\t\\t\\n\\t\\t\\t\\t\\t\\t\\t\\n\\t\\t\\t\\t\\t\\t\\t<option value=\"377.11\" label=\"1\">\\xc4\\xab\\xc5\\xb8\\xb8\\xa3 \\xb8\\xae\\xbe\\xe2 QAR</option>\\n\\t\\t\\t\\t\\t\\t\\n\\t\\t\\t\\t\\t\\t\\t\\n\\t\\t\\t\\t\\t\\t\\t<option value=\"3.07\" label=\"1\">\\xc4\\xab\\xc0\\xda\\xc8\\xe5\\xbd\\xba\\xc5\\xba \\xc5\\xde\\xb0\\xd4 KZT</option>\\n\\t\\t\\t\\t\\t\\t\\n\\t\\t\\t\\t\\t\\t\\t\\n\\t\\t\\t\\t\\t\\t\\t<option value=\"1020.76\" label=\"1\">\\xba\\xea\\xb7\\xe7\\xb3\\xaa\\xc0\\xcc \\xb4\\xde\\xb7\\xaf BND</option>\\n\\t\\t\\t\\t\\t\\t\\n\\t\\t\\t\\t\\t\\t\\t\\n\\t\\t\\t\\t\\t\\t\\t<option value=\"16.47\" label=\"1\">\\xc0\\xce\\xb5\\xb5 \\xb7\\xe7\\xc7\\xc7 INR</option>\\n\\t\\t\\t\\t\\t\\t\\n\\t\\t\\t\\t\\t\\t\\t\\n\\t\\t\\t\\t\\t\\t\\t<option value=\"4.94\" label=\"1\">\\xc6\\xc4\\xc5\\xb0\\xbd\\xba\\xc5\\xba \\xb7\\xe7\\xc7\\xc7 PKR</option>\\n\\t\\t\\t\\t\\t\\t\\n\\t\\t\\t\\t\\t\\t\\t\\n\\t\\t\\t\\t\\t\\t\\t<option value=\"11.7\" label=\"1\">\\xb9\\xe6\\xb1\\xdb\\xb6\\xf3\\xb5\\xa5\\xbd\\xc3 \\xc5\\xb8\\xc4\\xab BDT</option>\\n\\t\\t\\t\\t\\t\\t\\n\\t\\t\\t\\t\\t\\t\\t\\n\\t\\t\\t\\t\\t\\t\\t<option value=\"23.41\" label=\"1\">\\xc7\\xca\\xb8\\xae\\xc7\\xc9 \\xc6\\xe4\\xbc\\xd2 PHP</option>\\n\\t\\t\\t\\t\\t\\t\\n\\t\\t\\t\\t\\t\\t\\t\\n\\t\\t\\t\\t\\t\\t\\t<option value=\"77.83\" label=\"1\">\\xb8\\xdf\\xbd\\xc3\\xc4\\xda \\xc6\\xe4\\xbc\\xd2 MXN</option>\\n\\t\\t\\t\\t\\t\\t\\n\\t\\t\\t\\t\\t\\t\\t\\n\\t\\t\\t\\t\\t\\t\\t<option value=\"261.77\" label=\"1\">\\xba\\xea\\xb6\\xf3\\xc1\\xfa \\xb7\\xb9\\xbe\\xcb BRL</option>\\n\\t\\t\\t\\t\\t\\t\\n\\t\\t\\t\\t\\t\\t\\t\\n\\t\\t\\t\\t\\t\\t\\t<option value=\"0.0541\" label=\"100\">\\xba\\xa3\\xc6\\xae\\xb3\\xb2 \\xb5\\xbf VND</option>\\n\\t\\t\\t\\t\\t\\t\\n\\t\\t\\t\\t\\t\\t\\t\\n\\t\\t\\t\\t\\t\\t\\t<option value=\"74.08\" label=\"1\">\\xb3\\xb2\\xbe\\xc6\\xc7\\xc1\\xb8\\xae\\xc4\\xab \\xb0\\xf8\\xc8\\xad\\xb1\\xb9 \\xb7\\xa3\\xb5\\xe5 ZAR</option>\\n\\t\\t\\t\\t\\t\\t\\n\\t\\t\\t\\t\\t\\t\\t\\n\\t\\t\\t\\t\\t\\t\\t<option value=\"15.4\" label=\"1\">\\xb7\\xaf\\xbd\\xc3\\xbe\\xc6 \\xb7\\xe7\\xba\\xed RUB</option>\\n\\t\\t\\t\\t\\t\\t\\n\\t\\t\\t\\t\\t\\t\\t\\n\\t\\t\\t\\t\\t\\t\\t<option value=\"3.84\" label=\"1\">\\xc7\\xeb\\xb0\\xa1\\xb8\\xae \\xc6\\xf7\\xb8\\xb0\\xc6\\xae HUF</option>\\n\\t\\t\\t\\t\\t\\t\\n\\t\\t\\t\\t\\t\\t\\t\\n\\t\\t\\t\\t\\t\\t\\t<option value=\"350.73\" label=\"1\">\\xc6\\xfa\\xb6\\xf5\\xb5\\xe5 \\xc1\\xee\\xbf\\xf6\\xc6\\xbc PLN</option>\\n\\t\\t\\t\\t\\t\\t\\n\\t\\t\\t\\t\\t\\t\\t\\n\\t\\t\\t\\t\\t\\t\\t<option value=\"4.55\" label=\"1\">\\xbd\\xba\\xb8\\xae\\xb6\\xfb\\xc4\\xab \\xb7\\xe7\\xc7\\xc7 LKR</option>\\n\\t\\t\\t\\t\\t\\t\\n\\t\\t\\t\\t\\t\\t\\t\\n\\t\\t\\t\\t\\t\\t\\t<option value=\"10.23\" label=\"1\">\\xbe\\xcb\\xc1\\xa6\\xb8\\xae \\xbe\\xcb\\xc1\\xa6\\xb8\\xae \\xb5\\xf0\\xb3\\xaa\\xb8\\xa3 DZD</option>\\n\\t\\t\\t\\t\\t\\t\\n\\t\\t\\t\\t\\t\\t\\t\\n\\t\\t\\t\\t\\t\\t\\t<option value=\"10.53\" label=\"1\">\\xc4\\xc9\\xb3\\xc4 \\xbd\\xc7\\xb8\\xb5 KES</option>\\n\\t\\t\\t\\t\\t\\t\\n\\t\\t\\t\\t\\t\\t\\t\\n\\t\\t\\t\\t\\t\\t\\t<option value=\"0.36\" label=\"1\">\\xc4\\xdd\\xb7\\xd2\\xba\\xf1\\xbe\\xc6 \\xc6\\xe4\\xbc\\xd2 COP</option>\\n\\t\\t\\t\\t\\t\\t\\n\\t\\t\\t\\t\\t\\t\\t\\n\\t\\t\\t\\t\\t\\t\\t<option value=\"0.53\" label=\"1\">\\xc5\\xba\\xc0\\xda\\xb4\\xcf\\xbe\\xc6 \\xbd\\xc7\\xb8\\xb5 TZS</option>\\n\\t\\t\\t\\t\\t\\t\\n\\t\\t\\t\\t\\t\\t\\t\\n\\t\\t\\t\\t\\t\\t\\t<option value=\"10.3\" label=\"1\">\\xb3\\xd7\\xc6\\xc8 \\xb7\\xe7\\xc7\\xc7 NPR</option>\\n\\t\\t\\t\\t\\t\\t\\n\\t\\t\\t\\t\\t\\t\\t\\n\\t\\t\\t\\t\\t\\t\\t<option value=\"301.3\" label=\"1\">\\xb7\\xe7\\xb8\\xb6\\xb4\\xcf\\xbe\\xc6 \\xb7\\xb9\\xbf\\xec RON</option>\\n\\t\\t\\t\\t\\t\\t\\n\\t\\t\\t\\t\\t\\t\\t\\n\\t\\t\\t\\t\\t\\t\\t<option value=\"283.83\" label=\"1\">\\xb8\\xae\\xba\\xf1\\xbe\\xc6 \\xb8\\xae\\xba\\xf1\\xbe\\xc6 \\xb5\\xf0\\xb3\\xaa\\xb8\\xa3 LYD</option>\\n\\t\\t\\t\\t\\t\\t\\n\\t\\t\\t\\t\\t\\t\\t\\n\\t\\t\\t\\t\\t\\t\\t<option value=\"170.61\" label=\"1\">\\xb8\\xb6\\xc4\\xab\\xbf\\xc0 \\xc6\\xc4\\xc5\\xb8\\xc4\\xab MOP</option>\\n\\t\\t\\t\\t\\t\\t\\n\\t\\t\\t\\t\\t\\t\\t\\n\\t\\t\\t\\t\\t\\t\\t<option value=\"0.65\" label=\"1\">\\xb9\\xcc\\xbe\\xe1\\xb8\\xb6 \\xc2\\xad MMK</option>\\n\\t\\t\\t\\t\\t\\t\\n\\t\\t\\t\\t\\t\\t\\t\\n\\t\\t\\t\\t\\t\\t\\t<option value=\"23.91\" label=\"1\">\\xbf\\xa1\\xc6\\xbc\\xbf\\xc0\\xc7\\xc7\\xbe\\xc6 \\xba\\xf1\\xb8\\xa3 ETB</option>\\n\\t\\t\\t\\t\\t\\t\\n\\t\\t\\t\\t\\t\\t\\t\\n\\t\\t\\t\\t\\t\\t\\t<option value=\"0.11\" label=\"1\">\\xbf\\xec\\xc1\\xee\\xba\\xa3\\xc5\\xb0\\xbd\\xba\\xc5\\xba \\xbc\\xfb UZS</option>\\n\\t\\t\\t\\t\\t\\t\\n\\t\\t\\t\\t\\t\\t\\t\\n\\t\\t\\t\\t\\t\\t\\t<option value=\"0.33\" label=\"1\">\\xc4\\xaf\\xba\\xb8\\xb5\\xf0\\xbe\\xc6 \\xb8\\xae\\xbf\\xa4 KHR</option>\\n\\t\\t\\t\\t\\t\\t\\n\\t\\t\\t\\t\\t\\t\\t\\n\\t\\t\\t\\t\\t\\t\\t<option value=\"608.54\" label=\"1\">\\xc7\\xc7\\xc1\\xf6 \\xc7\\xc7\\xc1\\xf6 \\xb4\\xde\\xb7\\xaf FJD</option>\\n\\t\\t\\t\\t\\t\\t\\n\\t\\t\\t\\t\\t</select>\\n\\t\\t\\t\\t\\t<div class=\"selectbox-box\"  onclick=\"clickcr(this, \\'exl*c.clist2\\', \\'\\', \\'\\', event);\">\\n\\t\\t\\t\\t\\t\\t<div class=\"selectbox-label\"></div>\\n\\t\\t\\t\\t\\t</div>\\n\\t\\t\\t\\t\\t<div class=\"selectbox-layer ly_calculator\">\\n\\t\\t\\t\\t\\t\\t<div class=\"selectbox-list\"></div>\\n\\t\\t\\t\\t\\t</div>\\n\\t\\t\\t\\t</div>\\n\\t\\t\\t\\t<div id =\"input_to\" class=\"input_area\">\\n\\t\\t\\t\\t\\t<input id=\"input_to_money\" maxlength=\"10\" type=\"text\" onfocus=\"changeActiveInput(\\'to\\', \\'from\\'); return false;\" onkeyup=\"calcExchange(\\'to\\', \\'from\\', \\'on\\', event);\" onclick=\"clickcr(this, \\'exl*c.unit2\\', \\'\\', \\'\\', event);\">\\n\\t\\t\\t\\t\\t<img id=\"img_to_monetary\" src=\"https://ssl.pstatic.net/static/nfinance/img_money_KRW.gif\" width=\"26\" height=\"13\" alt=\"\">\\n\\t\\t\\t\\t</div>\\n\\t\\t\\t</div>\\n\\t\\t</div>\\n\\t</div>\\n</div>\\t\\t\\t\\t\\n\\t\\n<div class=\"section_exchange\">\\n\\t<div id=\"section_ex1\">\\n\\t\\t<h3 id=\"exchange1\" class=\"blind\">\\xc8\\xaf\\xc0\\xfc \\xb0\\xed\\xbd\\xc3 \\xc8\\xaf\\xc0\\xb2</h3>\\n\\t\\t<div class=\"exchange_info\">\\n\\n\\t\\t\\t<span class=\"date\">2024.06.04 14:41</span>\\n\\t\\t\\t<span class=\"standard\">\\xc7\\xcf\\xb3\\xaa\\xc0\\xba\\xc7\\xe0 \\xb1\\xe2\\xc1\\xd8</span>\\n\\t\\t\\t<span class=\"round\">\\xb0\\xed\\xbd\\xc3\\xc8\\xb8\\xc2\\xf7 <em>277</em>\\xc8\\xb8</span>\\n\\n\\t\\t</div>\\n\\t\\t<iframe id=\"frame_ex1\" title=\"\\xc8\\xaf\\xc0\\xfc \\xb0\\xed\\xbd\\xc3 \\xc8\\xaf\\xc0\\xb2\" src=\"/marketindex/exchangeList.naver\" width=\"100%\" height=\"1800px\" frameborder=\"0\" scrolling=\"no\" marginheight=\"0\" marginwidth=\"0\"></iframe>\\n\\t</div>\\n\\t<ul class=\"tbl_info\">\\n\\t<li>\\xc5\\xeb\\xc8\\xad\\xb8\\xed\\xb0\\xfa \\xbd\\xc9\\xba\\xbc\\xc0\\xba \\xbe\\xd5\\xbf\\xa1 \\xc0\\xa7\\xc4\\xa1\\xc7\\xd1 \\xc5\\xeb\\xc8\\xad\\xbf\\xa1 1\\xc0\\xcc \\xbb\\xfd\\xb7\\xab\\xb5\\xc8 \\xc7\\xfc\\xc5\\xc2\\xb7\\xce, \\xb4\\xde\\xb7\\xaf/\\xc0\\xcf\\xba\\xbb \\xbf\\xa3(\\xbd\\xc9\\xba\\xbc: USDJPY)\\xc0\\xce \\xb0\\xe6\\xbf\\xec 1 USD(\\xb4\\xde\\xb7\\xaf)\\xb0\\xa1 JPY(\\xc0\\xcf\\xba\\xbb \\xbf\\xa3)\\xc0\\xb8\\xb7\\xce \\xbe\\xf3\\xb8\\xb6\\xc0\\xce\\xb0\\xa1\\xb8\\xa6 \\xc0\\xc7\\xb9\\xcc\\xc7\\xd5\\xb4\\xcf\\xb4\\xd9.</li>\\n\\t</ul>\\n</div>\\n\\n<script type=\"text/javascript\" language=\"javascript\" src=\"https://ssl.pstatic.net/imgstock/static.pc/20240530183512/js/jindoComponent/jindo.Component.1.0.3.js\"></script>\\n<script type=\"text/javascript\" language=\"javascript\" src=\"https://ssl.pstatic.net/imgstock/static.pc/20240530183512/js/jindoComponent/jindo.UIComponent.1.0.1.js\"></script>\\n<script type=\"text/javascript\" language=\"javascript\" src=\"https://ssl.pstatic.net/imgstock/static.pc/20240530183512/js/jindoComponent/jindo.HTMLComponent.1.0.1.js\"></script>\\n<script type=\"text/javascript\" language=\"javascript\" src=\"https://ssl.pstatic.net/imgstock/static.pc/20240530183512/js/jindoComponent/jindo.Timer.1.0.3.js\"></script>\\n<script type=\"text/javascript\" language=\"javascript\" src=\"https://ssl.pstatic.net/imgstock/static.pc/20240530183512/js/jindoComponent/jindo.LayerManager.1.0.1.js\"></script>\\n<script type=\"text/javascript\" language=\"javascript\" src=\"https://ssl.pstatic.net/imgstock/static.pc/20240530183512/js/jindoComponent/jindo.LayerPosition.1.0.1.js\"></script>\\n<script type=\"text/javascript\" language=\"javascript\" src=\"https://ssl.pstatic.net/imgstock/static.pc/20240530183512/js/jindoComponent/jindo.RolloverArea.1.0.1.js\"></script>\\n<script type=\"text/javascript\" language=\"javascript\" src=\"https://ssl.pstatic.net/imgstock/static.pc/20240530183512/js/jindoComponent/jindo.RolloverClick.1.0.1.js\"></script>\\n<script type=\"text/javascript\" language=\"javascript\" src=\"https://ssl.pstatic.net/imgstock/static.pc/20240530183512/js/jindoComponent/jindo.SelectBox.1.0.1.js\"></script>\\n<script type=\"text/javascript\" language=\"javascript\" charset=\"euckr\" src=\"https://ssl.pstatic.net/imgstock/static.pc/20240530183512/js/jindoComponent/jindo.TextRange.1.0.1.js\"></script>\\n<script type=\"text/javascript\" language=\"javascript\" charset=\"euckr\" src=\"https://ssl.pstatic.net/imgstock/static.pc/20240530183512/js/jindoComponent/jindo.WatchInput.1.0.1.js\"></script>\\n<script type=\"text/javascript\" language=\"javascript\" charset=\"euckr\" src=\"https://ssl.pstatic.net/imgstock/static.pc/20240530183512/js/jindoComponent/jindo.Formatter.1.1.0.js\"></script>\\n<script type=\"text/javascript\" language=\"javascript\" charset=\"euckr\" src=\"https://ssl.pstatic.net/imgstock/static.pc/20240530183512/js/jindoComponent/jindo.NumberFormatter.1.0.1.js\"></script>\\n<script type=\"text/javascript\" language=\"javascript\" src=\"https://ssl.pstatic.net/imgstock/static.pc/20240530183512/js/exchange.js\"></script>\\n<script type=\"text/javascript\">\\n// exchangeDetail.jsp\\xbf\\xa1\\xb5\\xb5 \\xb5\\xbf\\xc0\\xcf \\xbd\\xba\\xc5\\xa9\\xb8\\xb3\\xc6\\xae \\xc0\\xd6\\xc0\\xbd - \\xb7\\xce\\xb5\\xf9\\xbd\\xc3 \\xb5\\xf0\\xc0\\xda\\xc0\\xce\\xc0\\xcc 0.5\\xc3\\xca\\xb0\\xa3 \\xb5\\xf0\\xc0\\xda\\xc0\\xce\\xc0\\xcc \\xbe\\xc8\\xb6\\xe1\\xb4\\xd9\\xb4\\xc2 \\xc0\\xcc\\xbd\\xb4\\xb7\\xce include\\xc7\\xcf\\xc1\\xf6 \\xbe\\xca\\xb0\\xed \\xb0\\xb0\\xc0\\xba \\xbd\\xba\\xc5\\xa9\\xb8\\xb3\\xc6\\xae\\xb8\\xa6 \\xb5\\xce\\xb9\\xfa\\xb7\\xce \\xb0\\xfc\\xb8\\xae\\xc7\\xd4\\n\\n//\\xc8\\xaf\\xc0\\xb2 \\xb0\\xe8\\xbb\\xea\\nfunction calcExchange(str1, str2, cssOn, event) {\\n\\tvar oEvent = event || window.event;\\n    var sKeyCode = (undefined === oEvent) ? undefined : jindo.$Event(oEvent).key().keyCode;\\n\\t\\n\\tif (sKeyCode != 13 && sKeyCode != 27 && sKeyCode != 37 && sKeyCode != 38 && sKeyCode != 110 && sKeyCode != 229) {\\n\\t\\tif (str1 == \\'\\' && str2 == \\'\\') {\\n\\t\\t\\tif (jindo.$(\\'input_to\\').className == \\'input_area\\') {\\n\\t\\t\\t\\tstr1 = \\'from\\';\\n\\t\\t\\t\\tstr2 = \\'to\\';\\n\\t\\t\\t} else {\\n\\t\\t\\t\\tstr1 = \\'to\\';\\n\\t\\t\\t\\tstr2 = \\'from\\';\\n\\t\\t\\t}\\n\\t\\t}\\n\\t\\t\\n\\t\\tvar regExp = new RegExp(\"[^0-9\\\\.\\\\,]\");\\n\\t    var sInputValue = jindo.$(\\'input_\\' + str1 + \\'_money\\').value;\\n\\t\\t\\n\\t    if(regExp.test(sInputValue)){\\n\\t\\t\\talert(\\'\\xbc\\xfd\\xc0\\xda, \\xbc\\xd2\\xbc\\xf6\\xc1\\xa1(.)\\xb8\\xb8 \\xc0\\xd4\\xb7\\xc2\\xc7\\xcf\\xbd\\xc7 \\xbc\\xf6 \\xc0\\xd6\\xbd\\xc0\\xb4\\xcf\\xb4\\xd9.\\');\\n\\t\\t\\tjindo.$(\\'input_\\' + str1 + \\'_money\\').value = revertInputText(sInputValue);\\n\\t\\t\\treturn false;\\n\\t\\t}\\n\\t\\t\\n\\t\\t// \\xbb\\xe7\\xbf\\xeb\\xc0\\xda\\xb0\\xa1 \\xc0\\xd4\\xb7\\xc2\\xc7\\xd1 \\xc4\\xde\\xb8\\xb6(,) \\xc1\\xa6\\xb0\\xc5\\n\\t    if (sInputValue.substr(sInputValue.length - 1, 1) == \\',\\') {\\n\\t    \\tjindo.$(\\'input_\\' + str1 + \\'_money\\').value = revertInputText(sInputValue);\\n\\t    \\treturn false;\\n\\t    }\\n\\t\\t\\n\\t\\t// \\xb8\\xc7 \\xbe\\xd5\\xbf\\xa1 \\xc0\\xd6\\xb4\\xc2 \\xbc\\xfd\\xc0\\xda 0 \\xbe\\xf8\\xbe\\xd6\\xb1\\xe2\\n\\t\\tif (sInputValue == \\'0\\' || sInputValue == \\'.\\' || sInputValue == \\',\\') {\\n\\t\\t\\tjindo.$(\\'input_\\' + str1 + \\'_money\\').value = revertInputText(sInputValue);\\n\\t\\t\\treturn false;\\n\\t\\t}\\n\\t\\t\\n\\t\\t// \\xbc\\xd2\\xbc\\xf6\\xc1\\xa1 2\\xb0\\xb3\\xb0\\xa1 \\xbe\\xf8\\xb5\\xb5\\xb7\\xcf\\n\\t\\tvar match = sInputValue.match(/\\\\./g);\\n\\t\\tif (match != null && match.length >= 2) {\\n\\t\\t\\tjindo.$(\\'input_\\' + str1 + \\'_money\\').value = revertInputText(sInputValue);\\n\\t\\t\\treturn false;\\n\\t\\t}\\n\\t\\t\\n\\t\\t// \\xbc\\xd2\\xbc\\xf6\\xc1\\xa1\\xc0\\xbb \\xc0\\xd4\\xb7\\xc2\\xc7\\xd1 \\xb0\\xe6\\xbf\\xec, \\xc0\\xcf\\xb4\\xdc \\xb4\\xeb\\xb1\\xe2\\n\\t\\tvar pointPosIndex = sInputValue.indexOf(\\'.\\');\\n\\t\\tif (pointPosIndex != -1 && pointPosIndex == sInputValue.length - 1) {\\n\\t\\t\\treturn false;\\n\\t\\t}\\n\\t\\t\\n\\t\\t// \\xbc\\xd2\\xbc\\xf6\\xc1\\xa1 2\\xc0\\xda\\xb8\\xae \\xc0\\xaf\\xc1\\xf6\\n\\t\\tif (pointPosIndex != -1 && sInputValue.substring(pointPosIndex + 1, sInputValue.length).length > 2) {\\n\\t\\t\\tjindo.$(\\'input_\\' + str1 + \\'_money\\').value = revertInputText(sInputValue);\\n\\t\\t\\treturn false;\\n\\t\\t}\\n\\t\\t\\n\\t\\tvar e_select_from\\t= jindo.$(\\'select_\\'+str1);\\n\\t\\tvar e_select_to\\t= jindo.$(\\'select_\\'+str2);\\n\\t\\n\\t\\tvar input_from_money\\t= jindo.$(\\'input_\\'+str1+\\'_money\\').value ;\\n\\t\\tvar input_from\\t\\t= e_select_from.options[e_select_from.selectedIndex].value ;\\n\\t\\tvar input_to\\t\\t= e_select_to.options[e_select_to.selectedIndex].value ;\\n\\t\\tvar unit_from\\t= e_select_from.options[e_select_from.selectedIndex].text ;\\n\\t\\tvar unit_to\\t\\t= e_select_to.options[e_select_to.selectedIndex].text ;\\n\\t\\tinput_from_money = input_from_money.replace(/ |,|\\\\t/g, \"\") ;\\n\\t\\tinput_from\\t= input_from.replace(/ |,|\\\\t/g, \"\") ;\\n\\t\\tinput_to\\t= input_to.replace(/ |,|\\\\t/g, \"\") ;\\n\\t\\tunit_from = unit_from.substr(unit_from.length-3, 3);\\n\\t\\tunit_to = unit_to.substr(unit_to.length-3, 3);\\n\\t\\n\\t\\tvar str1_result = input_from_money * 1 ;\\n\\t\\tvar str1_str\\t= str1_result.toFixed(0) ;\\n\\t\\tvar str1_len = str1_str.length ;\\n\\t\\tvar str1_result_str = new String(\"\") ;\\n\\t\\n\\t\\tif(str1_str > str1_result)\\n\\t\\t\\tstr1_str = new String(str1_str-1) ;\\n\\t\\n\\t\\tif (str1_len >= 3) {\\n\\t\\t\\tfor (i = str1_len - 3; i > 0; i-=3)\\n\\t\\t\\t\\tstr1_result_str = \",\" + str1_str.substr(i, 3) + str1_result_str ;\\n\\t\\n\\t\\t\\tstr1_result_str = str1_str.substr(0, 3+i) + str1_result_str ;\\n\\t\\n\\t\\t\\tfor (var i=0; i<input_from_money.length; i++) {\\n\\t\\t\\t\\tif (input_from_money.substr(i,1) != \\'0\\') {\\n\\t\\t\\t\\t\\tinput_from_money = input_from_money.substring(i,input_from_money.length) ;\\n\\t\\t\\t\\t\\tbreak;\\n\\t\\t\\t\\t}\\n\\t\\t\\t}\\n\\t\\n\\t\\t\\tif (str1_str != input_from_money) {\\n\\t\\t\\t\\tstr1_result_str += str1_result.toFixed(input_from_money.split(\".\")[1].length).substr(str1_len, input_from_money.split(\".\")[1].length + 1) ;\\n\\t\\t\\t}\\n\\t\\t} else\\n\\t\\t\\tstr1_result_str = input_from_money ;\\n\\t\\n\\t\\tvar str2_result = input_from_money * input_from / input_to ;\\n\\t\\tvar str2_str\\t= str2_result.toFixed(0) ;\\n\\t\\tvar str2_len = str2_str.length ;\\n\\t\\tvar str2_result_str = new String(\"\") ;\\n\\t\\n\\t\\tif (str2_str > str2_result)\\n\\t\\t\\tstr2_str = new String(str2_str-1) ;\\n\\t\\n\\t\\tif (str2_len >= 3) {\\n\\t\\t\\tfor (i = str2_len - 3; i > 0; i-=3)\\n\\t\\t\\t\\tstr2_result_str = \",\" + str2_str.substr(i, 3) + str2_result_str ;\\n\\t\\n\\t\\t\\tstr2_result_str = str2_str.substr(0, 3+i) + str2_result_str ;\\n\\t\\t\\tstr2_result_str += str2_result.toFixed(2).substr(str2_len, 3) ;\\n\\t\\t} else\\n\\t\\t\\tstr2_result_str = str2_result.toFixed(2) ;\\n\\t\\n\\t\\tjindo.$(\\'input_\\'+str1+\\'_money\\').value = str1_result_str;\\n\\t\\tjindo.$(\\'input_\\'+str2+\\'_money\\').value = str2_result_str;\\n\\t\\tjindo.$(\\'img_\\'+str1+\\'_monetary\\').src = \"https://ssl.pstatic.net/static/nfinance/img_money_\"+unit_from+\".gif\";\\n\\t\\tjindo.$(\\'img_\\'+str2+\\'_monetary\\').src = \"https://ssl.pstatic.net/static/nfinance/img_money_\"+unit_to+\".gif\";\\n\\t\\tjindo.$Element(jindo.$(\\'input_\\'+str1)).addClass(\"on\");\\n\\t\\tjindo.$Element(jindo.$(\\'input_\\'+str2)).removeClass(\"on\");\\n\\t\\tif (cssOn == \"off\"){\\n\\t\\t\\tjindo.$Element(jindo.$(\\'input_\\'+str1)).removeClass(\"on\");\\n\\t\\t}\\n\\t}\\n}\\n\\nfunction revertInputText(sOrgText) {\\n\\tvar sResult = sOrgText;\\n\\t\\n\\tif (sOrgText != \\'\\') {\\n\\t\\tsResult = sOrgText.substr(0, sOrgText.length - 1);\\n\\t}\\n\\t\\n\\treturn sResult;\\n}\\n\\njindo.$Fn(function(){\\n\\tchartMouseOverEvent(\\'exchangeList\\');\\t\\t\\n   }).attach(document, \"domready\");\\n</script>\\n\\n\\t\\n\\t\\n\\t\\n</div>\\n<script language=\"javascript\" src=\"https://ssl.pstatic.net/imgstock/static.pc/20240530183512/js/jindo_ellipse.js\"></script>\\n<script language=\"javascript\" src=\"https://ssl.pstatic.net/imgstock/static.pc/20240530183512/js/util.js\"></script>\\n<script type=\"text/javascript\">\\n\\nfunction ellipseTopNewsTitle() {\\n\\tjindo.EllipseText.factory(jindo.$$(\".news_list ul li\"), {nAssistWidth: 10});\\n}\\n\\nvar basicDates;\\n\\nfunction initDate() {\\n\\tbasicDates = jindo.$H();\\n\\tbasicDates.add(\\'\\', \\'\\');\\n\\tbasicDates.add(\\'\\', \\'\\');\\n\\tbasicDates.add(\\'\\', \\'\\');\\n\\tbasicDates.add(\\'\\', \\'\\');\\n\\tbasicDates.add(\\'\\', \\'\\');\\n\\tbasicDates.add(\\'\\', \\'\\');\\n}\\n\\nvar basicDescriptions;\\n\\nfunction initDescription() {\\n\\tbasicDescriptions = jindo.$H();\\n\\tbasicDescriptions.add(\\'CMDT_CDY\\',\\'<em></em>  \\xb1\\xe2\\xc1\\xd8<span>\\xb4\\xdc\\xc0\\xa7:</span>\\');\\n\\tbasicDescriptions.add(\\'CMDT_PDY\\',\\'<em></em>  \\xb1\\xe2\\xc1\\xd8<span>\\xb4\\xdc\\xc0\\xa7:</span>\\');\\n\\tbasicDescriptions.add(\\'CMDT_NG\\',\\'<em></em>  \\xb1\\xe2\\xc1\\xd8<span>\\xb4\\xdc\\xc0\\xa7:</span>\\');\\n\\tbasicDescriptions.add(\\'CMDT_S\\',\\'<em></em>  \\xb1\\xe2\\xc1\\xd8<span>\\xb4\\xdc\\xc0\\xa7:</span>\\');\\n\\tbasicDescriptions.add(\\'CMDT_C\\',\\'<em></em>  \\xb1\\xe2\\xc1\\xd8<span>\\xb4\\xdc\\xc0\\xa7:</span>\\');\\n\\tbasicDescriptions.add(\\'CMDT_SB\\',\\'<em></em>  \\xb1\\xe2\\xc1\\xd8<span>\\xb4\\xdc\\xc0\\xa7:</span>\\');\\n}\\n\\nfunction setEvent(num, imgChartUrl){\\t\\n\\tvar parentElemnt = jindo.$$(\\'.tbl_market\\')[num];\\n\\tvar elementList = jindo.$$(\\'tr\\',parentElemnt);\\n\\t\\n\\tjindo.$Fn(function(e){\\t\\n\\t\\tvar elementListSize = elementList.length;\\n\\t\\t\\n\\t\\tfor(var i = 0 ; i < elementListSize ; i ++)\\n\\t\\t{\\n\\t\\t\\tvar selectedElement = jindo.$Element(elementList[i]);\\n\\t\\t\\tvar selectedClassName = selectedElement.className();\\n\\t\\t\\tif (selectedClassName != \"\") {\\n\\t\\t\\t\\tselectedElement.removeClass(selectedClassName);\\n\\t\\t\\t\\tselectedElement.addClass(selectedClassName.replace(\"on\",\"\"));\\n\\t\\t\\t}\\n\\t\\t} \\n\\t\\t\\n\\t\\tvar ele = jindo.$Element(jindo.$Event(e).currentElement);\\n\\t\\tvar linkUrl = jindo.$$.getSingle(\\'a\\' , ele.$value()).href;\\n\\t\\tvar marketindexCd = linkUrl.split(\\'=\\')[1];\\n\\t\\tvar className = ele.className();\\n\\t\\tele.removeClass(className);\\n\\t\\tele.addClass(className+\" on\");\\n\\t\\tvar graphElement = jindo.$Element(jindo.$$(\\'.thum\\')[num]);\\n\\t\\tgraphElement.html(\\'<a href=\\\\\"\\'+linkUrl+\\'\\\\\"><img src=\\\\\"https://ssl.pstatic.net/imgfinance/chart/marketindex/\\' + marketindexCd + \\'.png\\\\\" width=\\\\\"295\\\\\" height=\\\\\"153\\\\\" alt=\"\"></a>\\');\\n\\t\\t\\n\\t\\tif (basicDates.hasKey(marketindexCd)) {\\n\\t\\t\\tjindo.$Element(\"basicDate\").text(basicDates.$(marketindexCd));\\n\\t\\t}\\n\\t\\tif (basicDescriptions.hasKey(marketindexCd)) {\\n\\t\\t\\tjindo.$Element(\"basicDescription\").html(basicDescriptions.$(marketindexCd));\\n\\t\\t}\\n\\t\\n\\t}).attach(elementList, \"mouseover\");\\t\\n}\\n\\njindo.$Fn(function(){\\n\\t\\tinitDate();\\n\\t\\tinitDescription();\\n\\t\\tchartMouseOverEvent(\\'exchangeList\\');\\n\\t\\tchartMouseOverEvent(\\'worldExchangeList\\');\\n\\t\\tchartMouseOverEvent(\\'oilGoldList\\');\\n\\t\\tjindo.$$(\\'title\\')[0].innerHTML = \"\\xbd\\xc3\\xc0\\xe5\\xc1\\xf6\\xc7\\xa5 : \\xb3\\xd7\\xc0\\xcc\\xb9\\xf6\\xc6\\xe4\\xc0\\xcc \\xc1\\xf5\\xb1\\xc7\";\\n}).attach(document, \"domready\");\\n\\n</script>\\n\\t\\t\\n<div class=\"aside\" id=\"marketindex_aside\">\\n\\t\\t<div class=\"section_aside\" >\\n\\t\\t\\t\\n\\t\\t\\t\\n\\t\\t\\t\\t\\n\\t\\t\\t\\t\\t\\n\\t\\t\\t\\t\\t\\t\\n\\t\\t\\t\\t\\t\\n\\t\\t\\t\\t\\t\\n\\t\\t\\t\\t\\t\\n\\t\\t\\t\\t\\t\\n\\t\\t\\t\\t\\t\\n\\t\\t\\t\\t\\t\\n\\t\\t\\t\\t\\n\\t\\t\\t\\t\\t\\n\\t\\t\\t\\t\\t\\n\\t\\t\\t\\t\\t\\n\\t\\t\\t\\t\\t\\t\\n\\t\\t\\t\\t\\t\\n\\t\\t\\t\\t\\t\\n\\t\\t\\t\\t\\t\\n\\t\\t\\t\\t\\t\\n\\t\\t\\t\\t\\n\\t\\t\\t\\t\\t\\n\\t\\t\\t\\t\\t\\n\\t\\t\\t\\t\\t\\t\\n\\t\\t\\t\\t\\t\\n\\t\\t\\t\\t\\t\\n\\t\\t\\t\\t\\t\\n\\t\\t\\t\\t\\t\\n\\t\\t\\t\\t\\t\\n\\t\\t\\t\\t\\n\\t\\t\\t\\t\\t\\n\\t\\t\\t\\t\\t\\n\\t\\t\\t\\t\\t\\n\\t\\t\\t\\t\\t\\n\\t\\t\\t\\t\\t\\t\\n\\t\\t\\t\\t\\t\\n\\t\\t\\t\\t\\t\\n\\t\\t\\t\\t\\t\\n\\t\\t\\t\\t\\n\\t\\t\\t\\t\\t\\n\\t\\t\\t\\t\\t\\n\\t\\t\\t\\t\\t\\n\\t\\t\\t\\t\\t\\n\\t\\t\\t\\t\\t\\n\\t\\t\\t\\t\\t\\n\\t\\t\\t\\t\\t\\t\\n\\t\\t\\t\\t\\t\\n\\t\\t\\t\\t\\n\\t\\t\\t\\t\\t\\n\\t\\t\\t\\t\\t\\n\\t\\t\\t\\t\\t\\n\\t\\t\\t\\t\\t\\n\\t\\t\\t\\t\\t\\n\\t\\t\\t\\t\\t\\t\\n\\t\\t\\t\\t\\t\\n\\t\\t\\t\\t\\t\\n\\t\\t\\t\\t\\n\\t\\t\\t\\t<h3 class=\"h_interest\"><span>\\xb1\\xb9\\xb3\\xbb\\xbd\\xc3\\xc0\\xe5\\xb1\\xdd\\xb8\\xae</span></h3>\\n\\t\\t\\t\\t<table class=\"tbl_exchange market\" summary=\"\\xb1\\xb9\\xc1\\xa6\\xbd\\xc3\\xc0\\xe5 \\xc8\\xaf\\xc0\\xb2 \\xb8\\xae\\xbd\\xba\\xc6\\xae\">\\n\\t\\t\\t\\t<caption>\\xb1\\xb9\\xb3\\xbb\\xbd\\xc3\\xc0\\xe5\\xb1\\xdd\\xb8\\xae</caption>\\n\\t\\t\\t\\t<colgroup>\\n\\t\\t\\t\\t<col width=\"94\">\\n\\t\\t\\t\\t<col width=\"50\">\\n\\t\\t\\t\\t<col width=\"75\">\\n\\t\\t\\t\\t</colgroup>\\n\\t\\t\\t\\t<thead>\\n\\t\\t\\t\\t<tr>\\n\\t\\t\\t\\t<th>\\xb1\\xb8\\xba\\xd0</th>\\n\\t\\t\\t\\t<th>\\xb1\\xdd\\xb8\\xae</th>\\n\\t\\t\\t\\t<th>\\xb5\\xee\\xb6\\xf4\\xc0\\xb2</th>\\n\\t\\t\\t\\t</tr>\\n\\t\\t\\t\\t</thead>\\n\\t\\t\\t\\t<tbody>\\n\\t\\t\\t\\t\\t\\n\\t\\t\\t\\t\\t\\n\\t\\t\\t\\t\\t\\n\\t\\t\\t\\t\\t\\t<tr class=\"same\">\\n\\t\\t\\t\\t\\t\\t\\t<th class=\"th_inter4\"><a href=\"/marketindex/interestDetail.naver?marketindexCd=IRR_CD91\" onclick=\"clickcr(this, \\'rid.local\\', \\'IRR_CD91\\', \\'1\\', event);\"><span>CD\\xb1\\xdd\\xb8\\xae(91\\xc0\\xcf)</span></a></th>\\n\\t\\t\\t\\t\\t\\t\\t<td>3.61</td>\\n\\t\\t\\t\\t\\t\\t\\t<td><img src=\"https://ssl.pstatic.net/static/nfinance/ico_same2.gif\" width=\"7\" height=\"6\" alt=\"\\xba\\xb8\\xc7\\xd5\"> 0.00</td>\\n\\t\\t\\t\\t\\t\\t</tr>\\n\\t\\t\\t\\t\\t\\n\\t\\t\\t\\t\\t\\n\\t\\t\\t\\t\\t\\n\\t\\t\\t\\t\\t\\n\\t\\t\\t\\t\\t\\n\\t\\t\\t\\t\\t\\t<tr class=\"down\">\\n\\t\\t\\t\\t\\t\\t\\t<th class=\"th_inter1\"><a href=\"/marketindex/interestDetail.naver?marketindexCd=IRR_CALL\" onclick=\"clickcr(this, \\'met.8\\', \\'IRR_CALL\\', \\'2\\', event);\"><span>\\xc4\\xdd \\xb1\\xdd\\xb8\\xae</span></a></th>\\n\\t\\t\\t\\t\\t\\t\\t<td>3.53</td>\\n\\t\\t\\t\\t\\t\\t\\t<td><img src=\"https://ssl.pstatic.net/static/nfinance/ico_down.gif\" width=\"7\" height=\"6\" alt=\"\\xc7\\xcf\\xb6\\xf4\"> 0.05</td>\\n\\t\\t\\t\\t\\t\\t</tr>\\n\\t\\t\\t\\t\\t\\n\\t\\t\\t\\t\\t\\n\\t\\t\\t\\t\\t\\n\\t\\t\\t\\t\\t\\n\\t\\t\\t\\t\\t\\n\\t\\t\\t\\t\\t\\t<tr class=\"down\">\\n\\t\\t\\t\\t\\t\\t\\t<th class=\"th_inter2\"><a href=\"/marketindex/interestDetail.naver?marketindexCd=IRR_GOVT03Y\" onclick=\"clickcr(this, \\'met.8\\', \\'IRR_GOVT03Y\\', \\'3\\', event);\"><span>\\xb1\\xb9\\xb0\\xed\\xc3\\xa4 (3\\xb3\\xe2)</span></a></th>\\n\\t\\t\\t\\t\\t\\t\\t<td>3.43</td>\\n\\t\\t\\t\\t\\t\\t\\t<td><img src=\"https://ssl.pstatic.net/static/nfinance/ico_down.gif\" width=\"7\" height=\"6\" alt=\"\\xc7\\xcf\\xb6\\xf4\"> 0.02</td>\\n\\t\\t\\t\\t\\t\\t</tr>\\n\\t\\t\\t\\t\\t\\n\\t\\t\\t\\t\\t\\n\\t\\t\\t\\t\\t\\n\\t\\t\\t\\t\\t\\n\\t\\t\\t\\t\\t\\n\\t\\t\\t\\t\\t\\t<tr class=\"down\">\\n\\t\\t\\t\\t\\t\\t\\t<th class=\"th_inter3\"><a href=\"/marketindex/interestDetail.naver?marketindexCd=IRR_CORP03Y\" onclick=\"clickcr(this, \\'met.8\\', \\'IRR_CORP03Y\\', \\'4\\', event);\"><span>\\xc8\\xb8\\xbb\\xe7\\xc3\\xa4 (3\\xb3\\xe2)</span></a></th>\\n\\t\\t\\t\\t\\t\\t\\t<td>3.85</td>\\n\\t\\t\\t\\t\\t\\t\\t<td><img src=\"https://ssl.pstatic.net/static/nfinance/ico_down.gif\" width=\"7\" height=\"6\" alt=\"\\xc7\\xcf\\xb6\\xf4\"> 0.02</td>\\n\\t\\t\\t\\t\\t\\t</tr>\\n\\t\\t\\t\\t\\t\\n\\t\\t\\t\\t\\t\\n\\t\\t\\t\\t\\t\\n\\t\\t\\t\\t\\t\\n\\t\\t\\t\\t\\t\\n\\t\\t\\t\\t\\t\\t<tr class=\"down\">\\n\\t\\t\\t\\t\\t\\t\\t<th class=\"th_inter5\"><a href=\"/marketindex/interestDetail.naver?marketindexCd=IRR_COFIXBAL\" onclick=\"clickcr(this, \\'met.8\\', \\'IRR_COFIXBAL\\', \\'5\\', event);\"><span>COFIX \\xc0\\xdc\\xbe\\xd7</span></a></th>\\n\\t\\t\\t\\t\\t\\t\\t<td>3.76</td>\\n\\t\\t\\t\\t\\t\\t\\t<td><img src=\"https://ssl.pstatic.net/static/nfinance/ico_down.gif\" width=\"7\" height=\"6\" alt=\"\\xc7\\xcf\\xb6\\xf4\"> 0.02</td>\\n\\t\\t\\t\\t\\t\\t</tr>\\n\\t\\t\\t\\t\\t\\n\\t\\t\\t\\t\\t\\n\\t\\t\\t\\t\\t\\n\\t\\t\\t\\t\\t\\n\\t\\t\\t\\t\\t\\n\\t\\t\\t\\t\\t\\t<tr class=\"down\">\\n\\t\\t\\t\\t\\t\\t\\t<th class=\"th_inter6\"><a href=\"/marketindex/interestDetail.naver?marketindexCd=IRR_COFIXNEW\" onclick=\"clickcr(this, \\'met.8\\', \\'IRR_COFIXNEW\\', \\'6\\', event);\"><span>COFIX \\xbd\\xc5\\xb1\\xd4\\xc3\\xeb\\xb1\\xde\\xbe\\xd7</span></a></th>\\n\\t\\t\\t\\t\\t\\t\\t<td>3.54</td>\\n\\t\\t\\t\\t\\t\\t\\t<td><img src=\"https://ssl.pstatic.net/static/nfinance/ico_down.gif\" width=\"7\" height=\"6\" alt=\"\\xc7\\xcf\\xb6\\xf4\"> 0.05</td>\\n\\t\\t\\t\\t\\t\\t</tr>\\n\\t\\t\\t\\t\\t\\n\\t\\t\\t\\t\\t\\n\\t\\t\\t\\t\\t\\n\\t\\t\\t\\t</tbody>\\n\\t\\t\\t\\t</table>\\n\\t\\t\\t\\n\\t\\t\\t\\n\\t\\t\\t\\n\\t\\t\\t\\n\\t\\t\\t\\n\\t\\t\\t\\n\\t\\t\\t\\n\\t\\t\\t\\t\\n\\t\\t\\t\\t\\t\\n\\t\\t\\t\\t\\t\\t<table class=\"tbl_exchange tbl_exchange_v1 market\" summary=\"\\xb4\\xde\\xb7\\xaf \\xc0\\xce\\xb5\\xa6\\xbd\\xba\" style=\"margin-top:10px;\">\\n\\t\\t\\t\\t\\t\\t\\t<caption>\\xb4\\xde\\xb7\\xaf \\xc0\\xce\\xb5\\xa6\\xbd\\xba</caption>\\n\\t\\t\\t\\t\\t\\t\\t<colgroup>\\n\\t\\t\\t\\t\\t\\t\\t<col width=\"88\">\\n\\t\\t\\t\\t\\t\\t\\t<col width=\"46\">\\n\\t\\t\\t\\t\\t\\t\\t<col width=\"66\">\\n\\t\\t\\t\\t\\t\\t\\t</colgroup>\\n\\t\\t\\t\\t\\t\\t\\t<thead>\\n\\t\\t\\t\\t\\t\\t\\t<tr>\\n\\t\\t\\t\\t\\t\\t\\t<th>\\xb1\\xb8\\xba\\xd0</th>\\n\\t\\t\\t\\t\\t\\t\\t<th>\\xb1\\xdd\\xb8\\xae</th>\\n\\t\\t\\t\\t\\t\\t\\t<th>\\xb5\\xee\\xb6\\xf4\\xc0\\xb2</th>\\n\\t\\t\\t\\t\\t\\t\\t</tr>\\n\\t\\t\\t\\t\\t\\t\\t</thead>\\n\\t\\t\\t\\t\\t\\t\\t<tbody>\\n\\t\\t\\t\\t\\t\\t\\t\\n\\t\\t\\t\\t\\t\\t\\t\\t\\n\\t\\t\\t\\t\\t\\t\\t\\n\\t\\t\\t\\t\\t\\t\\t\\t\\n\\t\\t\\t\\t\\t\\t\\t\\n\\t\\t\\t\\t\\t\\t\\t\\t\\n\\t\\t\\t\\t\\t\\t\\t\\n\\t\\t\\t\\t\\t\\t\\t\\t\\n\\t\\t\\t\\t\\t\\t\\t\\n\\t\\t\\t\\t\\t\\t\\t\\t\\n\\t\\t\\t\\t\\t\\t\\t\\n\\t\\t\\t\\t\\t\\t\\t\\t\\n\\t\\t\\t\\t\\t\\t\\t\\n\\t\\t\\t\\t\\t\\t\\t\\t\\n\\t\\t\\t\\t\\t\\t\\t\\n\\t\\t\\t\\t\\t\\t\\t\\t\\n\\t\\t\\t\\t\\t\\t\\t\\n\\t\\t\\t\\t\\t\\t\\t\\t\\n\\t\\t\\t\\t\\t\\t\\t\\t\\t\\n\\t\\t\\t\\t\\t\\t\\t\\t\\n\\t\\t\\t\\t\\t\\t\\t\\n\\t\\t\\t\\t\\t\\t\\t\\n\\t\\t\\t\\t\\t\\t\\t\\t\\n\\t\\t\\t\\t\\t\\t\\t\\t\\t\\n\\t\\t\\t\\t\\t\\t\\t\\t\\t\\n\\t\\t\\t\\t\\t\\t\\t\\t\\n\\t\\t\\t\\t\\t\\t\\t\\t\\n\\t\\t\\t\\t\\t\\t\\t\\t\\n\\t\\t\\t\\t\\t\\t\\t\\n\\t\\t\\t\\t\\t\\t\\t<tr class=\"other_t1 down\">\\n\\t\\t\\t\\t\\t\\t\\t\\t<th class=\"th_inter7\"><a href=\"/marketindex/worldExchangeDetail.naver?marketindexCd=FX_USDX&fdtc=4\" onclick=\"clickcr(this, \\'rid.dollar\\', \\'FX_USDX\\', \\'\\', event);\"><span>\\xb4\\xde\\xb7\\xaf \\xc0\\xce\\xb5\\xa6\\xbd\\xba</span></a></th>\\n\\t\\t\\t\\t\\t\\t\\t\\t<td>104.0700</td>\\n\\t\\t\\t\\t\\t\\t\\t\\t<td><img src=\"https://ssl.pstatic.net/static/nfinance/ico_down.gif\" width=\"7\" height=\"6\" alt=\"\\xc7\\xcf\\xb6\\xf4\">  0.5500</td>\\n\\t\\t\\t\\t\\t\\t\\t</tr>\\n\\t\\t\\t\\t\\t\\n\\t\\t\\t\\t\\t\\n\\t\\t\\t\\t\\n\\t\\t\\t\\t</tbody>\\n\\t\\t\\t\\t</table>\\n\\t\\t\\t\\n\\t\\t\\t\\n\\t\\t\\t\\n\\t\\t\\t\\n\\t\\t\\t\\n\\t\\t\\t</div>\\n\\n            \\n\\n\\t\\t\\t<div class=\"section_aside\">\\n\\t\\t\\t\\t<div class=\"tab_search search3\">\\n\\t\\t\\t\\t\\t<a href=\"#\" onclick=\"clickcr(this, \\'rch.1\\', \\'\\', \\'\\', event); return false;\"><span>\\xc3\\xd6\\xb1\\xd9\\xc1\\xb6\\xc8\\xb8</span></a>\\n\\t\\t\\t\\t\\t<a href=\"#\" onclick=\"clickcr(this, \\'rch.3\\', \\'\\', \\'\\', event); return false;\"><span>MY STOCK</span></a>\\n\\t\\t\\t\\t</div>\\n\\t\\t\\t\\t<h3 class=\"blind\">\\xc3\\xd6\\xb1\\xd9\\xc1\\xb6\\xc8\\xb8</h3>\\n\\t\\t\\t\\t<table class=\"tbl_search\" summary=\"\\xc3\\xd6\\xb1\\xd9\\xc1\\xb6\\xc8\\xb8 \\xb8\\xae\\xbd\\xba\\xc6\\xae\">\\n\\t\\t\\t\\t<caption>\\xc3\\xd6\\xb1\\xd9\\xc1\\xb6\\xc8\\xb8</caption>\\n\\t\\t\\t\\t<colgroup>\\n\\t\\t\\t\\t<col>\\n\\t\\t\\t\\t<col width=\"55\">\\n\\t\\t\\t\\t<col width=\"87\">\\n\\t\\t\\t\\t</colgroup>\\n\\t\\t\\t\\t<thead>\\n\\t\\t\\t\\t<tr>\\n\\t\\t\\t\\t<th>\\xbe\\xf7\\xc3\\xbc\\xb8\\xed</th>\\n\\t\\t\\t\\t<th>\\xb0\\xc5\\xb7\\xa1\\xb7\\xae</th>\\n\\t\\t\\t\\t<th>\\xc0\\xfc\\xc0\\xcf\\xba\\xf1</th>\\n\\t\\t\\t\\t</tr>\\n\\t\\t\\t\\t</thead>\\n\\t\\t\\t\\t<tbody>\\n\\t\\t\\t\\t</tbody>\\n\\t\\t\\t\\t</table>\\n\\t\\t\\t\\t<div class=\"more_info\">\\n\\t\\t\\t\\t\\t<span>\\n\\t\\t\\t\\t\\t\\t<a href=\"#\" onclick=\"clickcr(this, \\'rch.5\\', \\'\\', \\'\\', event); return false;\"><img src=\"https://ssl.pstatic.net/static/nfinance/btn_prev2.gif\" width=\"17\" height=\"15\" alt=\"\\xc0\\xcc\\xc0\\xfc\"></a>\\n\\t\\t\\t\\t\\t\\t<a href=\"#\" onclick=\"clickcr(this, \\'rch.6\\', \\'\\', \\'\\', event); return false;\"><img src=\"https://ssl.pstatic.net/static/nfinance/btn_next2.gif\" width=\"17\" height=\"15\" alt=\"\\xb4\\xd9\\xc0\\xbd\"></a>\\n\\t\\t\\t\\t\\t</span>\\n\\t\\t\\t\\t\\t<a href=\"#\" onclick=\"javascript:openMyitemNew(\\'https://\\' + window.location.hostname); clickcr(this, \\'rch.7\\', \\'\\', \\'\\', event);\" class=\"btn_more _mystock_more_info\"><img src=\"https://ssl.pstatic.net/static/nfinance/btn_more5.gif\" width=\"33\" height=\"10\" alt=\"\\xb4\\xf5\\xba\\xb8\\xb1\\xe2\"></a>\\n\\t\\t\\t\\t</div>\\n\\t\\t\\t</div>\\n\\t\\t\\t\\n\\n\\t\\t\\t\\n\\t\\t\\t<div class=\"section_aside\">\\n\\t\\t\\t\\t<h3 class=\"h_report\"><span>\\xb0\\xe6\\xc1\\xa6\\xba\\xd0\\xbc\\xae \\xb8\\xae\\xc6\\xf7\\xc6\\xae </span></h3>\\n\\t\\t\\t\\t<ul class=\"list_report\">\\n\\t\\t\\t\\t\\n\\t\\t\\t\\t\\t<li><a href=\"/research/economy_read.naver?nid=10351\" onclick=\"clickcr(this, \\'rer.list\\', \\'\\', \\'\\', event);\">\\xb0\\xd4\\xc0\\xd3 \\xc3\\xbc\\xc0\\xce\\xc0\\xfa \\xbf\\xaa\\xc7\\xd2\\xc0\\xbb \\xc7\\xd1 ISM \\xc1\\xa6...</a></li>\\n\\t\\t\\t\\t\\n\\t\\t\\t\\t\\t<li><a href=\"/research/economy_read.naver?nid=10350\" onclick=\"clickcr(this, \\'rer.list\\', \\'\\', \\'\\', event);\">\\xb9\\xcc\\xb1\\xb9 5\\xbf\\xf9 ISM; \\xbe\\xc6\\xc1\\xf7\\xb1\\xee\\xc1\\xf6 \\xc1\\xa6\\xc7\\xd1...</a></li>\\n\\t\\t\\t\\t\\n\\t\\t\\t\\t\\t<li><a href=\"/research/economy_read.naver?nid=10349\" onclick=\"clickcr(this, \\'rer.list\\', \\'\\', \\'\\', event);\">\\xb1\\xb9\\xc1\\xa6\\xc0\\xaf\\xb0\\xa1: OPEC+\\xb5\\xb5 \\xb1\\xe2\\xb4\\xd9\\xb8\\xae\\xb4\\xc2 ...</a></li>\\n\\t\\t\\t\\t\\n\\t\\t\\t\\t\\t<li><a href=\"/research/economy_read.naver?nid=10348\" onclick=\"clickcr(this, \\'rer.list\\', \\'\\', \\'\\', event);\">\\xb0\\xe6\\xb1\\xe2 \\xb5\\xd0\\xc8\\xad\\xbf\\xcd \\xb9\\xb0\\xb0\\xa1 \\xbe\\xc8\\xc1\\xa4\\xc0\\xc7  \\xbc\\xd3\\xb5\\xb5\\xc2\\xf7...</a></li>\\n\\t\\t\\t\\t\\n\\t\\t\\t\\t\\t<li><a href=\"/research/economy_read.naver?nid=10347\" onclick=\"clickcr(this, \\'rer.list\\', \\'\\', \\'\\', event);\">06/04 Kiwoom Morni...</a></li>\\n\\t\\t\\t\\t\\n\\t\\t\\t\\t</ul>\\n\\t\\t\\t\\t<a href=\"/research/economy_list.naver\" class=\"btn_more\" onclick=\"clickcr(this, \\'rer.more\\', \\'\\', \\'\\', event);\"><img src=\"https://ssl.pstatic.net/static/nfinance/btn_more.gif\" width=\"34\" height=\"18\" alt=\"\\xb0\\xe6\\xc1\\xa6\\xba\\xd0\\xbc\\xae \\xb8\\xae\\xc6\\xf7\\xc6\\xae \\xb4\\xf5\\xba\\xb8\\xb1\\xe2\"></a>\\n\\t\\t\\t</div>\\n\\t\\t\\t\\n\\t\\t</div>\\n<script type=\"text/javascript\" language=\"javascript\" src=\"https://ssl.pstatic.net/imgstock/static.pc/20240530183512/js/info/myStock.js\"></script>\\n<script type=\"text/javascript\" language=\"javascript\" src=\"https://ssl.pstatic.net/imgstock/static.pc/20240530183512/js/util.js\"></script>\\n<script language=\"javascript\">\\n\\nfunction toggleTabSearch(e){\\n\\tvar currentElement = jindo.$Element(jindo.$Event(e).currentElement);\\n\\tvar parentElement = currentElement.parent();\\n\\tvar id = currentElement.className();\\n\\tvar order = parentElement.indexOf(currentElement) + 3;\\n\\tparentElement.className(\"tab_search search\"+ order);\\n\\n\\t// \\xc6\\xe4\\xc0\\xcc\\xc2\\xa1\\xc0\\xbb \\xc0\\xa7\\xc7\\xd8\\xbc\\xad order\\xb0\\xaa\\xbf\\xa1 \\xb5\\xfb\\xb6\\xf3 \\xc3\\xd6\\xb1\\xd9\\xc1\\xb6\\xc8\\xb8\\xc0\\xce\\xc1\\xf6 mystock\\xc0\\xce\\xc1\\xf6 type\\xc0\\xbb \\xc0\\xfa\\xc0\\xe5\\n\\tif (order == 3) {\\n\\t\\tcurrentType = \"recent\";\\n\\t} else {\\n\\t\\tcurrentType = \"mystock\";\\n\\t}\\n}\\n\\njindo.$Fn(function(){\\n\\tif (\\'true\\' == \\'true\\') {\\n\\t\\tgetStockRightMenuData(\\'000000\\', \\'recent\\', 1, \\'https://\\' + window.location.hostname, \\'https://ssl.pstatic.net/static/nfinance\\');\\n\\n\\t\\tvar tabSearchArea = jindo.$$.getSingle(\\'.tab_search\\');\\n\\t\\tvar moreInfoArea = jindo.$Element(jindo.$$.getSingle(\\'.tbl_search\\')).next().$value();\\n\\n\\t\\tjindo.$Fn(function(e) {toggleTabSearch(e); getStockRightMenuData(\\'000000\\', \\'recent\\', 1, \\'https://\\' + window.location.hostname, \\'https://ssl.pstatic.net/static/nfinance\\'); }).attach(jindo.$$.getSingle(\\'a\\' ,tabSearchArea), \\'click\\');\\n\\t\\tjindo.$Fn(function(e) {toggleTabSearch(e); getStockRightMenuData(\\'000000\\', \\'mystock\\', 1, \\'https://\\' + window.location.hostname, \\'https://ssl.pstatic.net/static/nfinance\\'); }).attach(jindo.$$(\\'a\\' ,tabSearchArea)[1], \\'click\\');\\n\\t\\tjindo.$Fn(function(e) {updatePageForPaging (currentType, \\'up\\', \\'https://\\' + window.location.hostname, \\'https://ssl.pstatic.net/static/nfinance\\'); }).attach(jindo.$$.getSingle(\\'a\\', moreInfoArea), \\'click\\');\\n\\t\\tjindo.$Fn(function(e) {updatePageForPaging (currentType, \\'down\\', \\'https://\\' + window.location.hostname, \\'https://ssl.pstatic.net/static/nfinance\\'); }).attach(jindo.$$(\\'a\\', moreInfoArea)[1], \\'click\\');\\n\\t}\\n\\n}).attach(document,\"domready\");\\n\\nfunction openMyitemNew(stockHost) {\\n\\tvar selectedElement = jindo.$Element(jindo.$$.getSingle(\".tab_search\"));\\n\\tif (selectedElement != null) {\\n\\t\\tif (selectedElement.hasClass(\"search1\")) {\\n\\t\\t\\tdocument.location.href = stockHost + \\'/mystock/recentSearchItemList.naver\\';\\n\\t\\t} else {\\n\\t\\t\\tdocument.location.href = stockHost + \\'/mystock/itemList.naver\\';\\n\\t\\t}\\n\\t}\\n}\\n\\n</script>\\n\\n\\t</div>\\n\\t<div id=\"footer\" >\\n\\t<ul>\\n\\t\\t<li class=\"first\">\\n\\t\\t\\t<a href=\"https://new-m.pay.naver.com/member/terms-policy/naver-financial-service\" onClick=\"clickcr(this, \\'fot.service\\', \\'\\', \\'\\', event);\" target=\"_blank\">\\xc0\\xcc\\xbf\\xeb\\xbe\\xe0\\xb0\\xfc</a>\\n\\t\\t</li>\\n\\t\\t<li>\\n\\t\\t\\t<a href=\"https://new-m.pay.naver.com/member/terms-policy/privacy\" onClick=\"clickcr(this, \\'fot.privacy\\', \\'\\', \\'\\', event);\" target=\"_blank\"><strong>\\xb0\\xb3\\xc0\\xce\\xc1\\xa4\\xba\\xb8\\xc3\\xb3\\xb8\\xae\\xb9\\xe6\\xc4\\xa7</strong></a>\\n\\t\\t</li>\\n\\t\\t<li>\\n\\t\\t\\t<a href=\"/rules.naver\" onClick=\"clickcr(this, \\'fot.policy\\', \\'\\', \\'\\', event);\" target=\"_blank\">\\xb0\\xd4\\xbd\\xc3\\xc6\\xc7 \\xbf\\xee\\xbf\\xb5\\xbf\\xf8\\xc4\\xa2</a>\\n\\t\\t</li>\\n\\t\\t<li>\\n\\t\\t\\t<a href=\"https://help.naver.com/alias/contents2/finance/finance_1.naver\" onclick=\"clickcr(this, \\'fot.help\\', \\'\\', \\'\\', event);\" target=\"_blank\">\\xc1\\xf5\\xb1\\xc7 \\xb0\\xed\\xb0\\xb4\\xbc\\xbe\\xc5\\xcd</a>\\n\\t\\t</li>\\n\\t</ul>\\n\\t<p class=\"desc\">\\n\\t\\t\\xb3\\xd7\\xc0\\xcc\\xb9\\xf6\\xc6\\xc4\\xc0\\xcc\\xb3\\xbd\\xbc\\xc8(\\xc1\\xd6)\\xc0\\xcc \\xc1\\xa6\\xb0\\xf8\\xc7\\xcf\\xb4\\xc2 \\xb1\\xdd\\xc0\\xb6 \\xc1\\xa4\\xba\\xb8\\xb4\\xc2 <a href=\"javascript:;\" onclick=\"togglePanelFooter(\\'footerPanel0\\');\" class=\"desc_help\">\\xc4\\xdc\\xc5\\xd9\\xc3\\xf7 \\xc1\\xa6\\xb0\\xf8\\xbe\\xf7\\xc3\\xbc</a>\\xb7\\xce\\xba\\xce\\xc5\\xcd \\xb9\\xde\\xb4\\xc2 \\xc5\\xf5\\xc0\\xda \\xc2\\xfc\\xb0\\xed\\xbb\\xe7\\xc7\\xd7\\xc0\\xcc\\xb8\\xe7, \\xbf\\xc0\\xb7\\xf9\\xb0\\xa1 \\xb9\\xdf\\xbb\\xfd\\xc7\\xcf\\xb0\\xc5\\xb3\\xaa \\xc1\\xf6\\xbf\\xac\\xb5\\xc9 \\xbc\\xf6 \\xc0\\xd6\\xbd\\xc0\\xb4\\xcf\\xb4\\xd9.<br/>\\n\\t\\t\\xb3\\xd7\\xc0\\xcc\\xb9\\xf6\\xc6\\xc4\\xc0\\xcc\\xb3\\xbd\\xbc\\xc8(\\xc1\\xd6)\\xb0\\xfa \\xc4\\xdc\\xc5\\xd9\\xc3\\xf7 \\xc1\\xa6\\xb0\\xf8\\xbe\\xf7\\xc3\\xbc\\xb4\\xc2 \\xc1\\xa6\\xb0\\xf8\\xb5\\xc8 \\xc1\\xa4\\xba\\xb8\\xbf\\xa1 \\xc0\\xc7\\xc7\\xd1 \\xc5\\xf5\\xc0\\xda \\xb0\\xe1\\xb0\\xfa\\xbf\\xa1 \\xb9\\xfd\\xc0\\xfb\\xc0\\xce \\xc3\\xa5\\xc0\\xd3\\xc0\\xbb \\xc1\\xf6\\xc1\\xf6 \\xbe\\xca\\xbd\\xc0\\xb4\\xcf\\xb4\\xd9. \\xb0\\xd4\\xbd\\xc3\\xb5\\xc8 \\xc1\\xa4\\xba\\xb8\\xb4\\xc2 \\xb9\\xab\\xb4\\xdc\\xc0\\xb8\\xb7\\xce \\xb9\\xe8\\xc6\\xf7\\xc7\\xd2 \\xbc\\xf6 \\xbe\\xf8\\xbd\\xc0\\xb4\\xcf\\xb4\\xd9.\\n\\t</p>\\n\\t<div id=\"footerPanel0\" class=\"provider_layer\" style=\"display:none\" tabindex=\"0\" onblur=\"hidePannel(\\'footerPanel0\\')\">\\n\\t\\t<strong class=\"provider_layer__tit\">\\xb3\\xd7\\xc0\\xcc\\xb9\\xf6\\xc6\\xc4\\xc0\\xcc\\xb3\\xbd\\xbc\\xc8\\xbf\\xa1 \\xc4\\xdc\\xc5\\xd9\\xc3\\xf7 \\xc1\\xa6\\xb0\\xf8</strong>\\n\\t\\t<div class=\"provider_layer__txt\">\\n\\t\\t\\t<strong>\\xbf\\xa1\\xc7\\xc1\\xbe\\xd8\\xb0\\xa1\\xc0\\xcc\\xb5\\xe5</strong> \\xb1\\xe2\\xbe\\xf7 \\xb9\\xd7 \\xc0\\xe7\\xb9\\xab\\xc1\\xa4\\xba\\xb8<br>\\n\\t\\t\\t<strong>KG\\xc1\\xa6\\xb7\\xce\\xc0\\xce</strong> \\xc7\\xd8\\xbf\\xdc \\xbd\\xc3\\xbc\\xbc, \\xbd\\xc3\\xc0\\xe5\\xc1\\xf6\\xc7\\xa5 \\xc1\\xa4\\xba\\xb8<br>\\n\\t\\t\\t<strong>\\xc7\\xd1\\xb1\\xb9\\xbf\\xb9\\xc5\\xb9\\xb0\\xe1\\xc1\\xa6\\xbf\\xf8</strong> \\xc1\\xd6\\xc1\\xd6\\xc3\\xd1\\xc8\\xb8\\xc0\\xcf, \\xc0\\xfc\\xc0\\xda\\xc5\\xf5\\xc7\\xa5 \\xc1\\xa4\\xba\\xb8<br>\\n\\t\\t\\t<strong>\\xc0\\xce\\xc6\\xf7\\xbd\\xba\\xc5\\xb9</strong> \\xb1\\xb9\\xb3\\xbb \\xc5\\xd7\\xb8\\xb6 \\xc1\\xa4\\xba\\xb8\\n\\t\\t</div>\\n\\t\\t<div class=\"provider_layer__info\">\\n\\t\\t\\t<strong class=\"provider_layer__tit\">\\xb3\\xd7\\xc0\\xcc\\xb9\\xf6\\xbf\\xa1 \\xc4\\xdc\\xc5\\xd9\\xc3\\xf7 \\xc1\\xa6\\xb0\\xf8</strong>\\n\\t\\t\\t<div class=\"provider_layer__txt\">\\n\\t\\t\\t\\t<strong>\\xc4\\xda\\xbd\\xba\\xc4\\xde</strong> \\xb1\\xb9\\xb3\\xbb \\xbd\\xc3\\xbc\\xbc \\xc1\\xa4\\xba\\xb8\\n\\t\\t\\t</div>\\n\\t\\t</div>\\n\\t\\t<button type=\"button\" class=\"button_close\" onclick=\"hidePannel(\\'footerPanel0\\')\">\\n\\t\\t\\t<img src=\"https://ssl.pstatic.net/static/nfinance/2022/footer_close.png\" width=\"20\" height=\"20\" alt=\"\\xb4\\xdd\\xb1\\xe2\">\\n\\t\\t</button>\\n\\t</div>\\n\\t<address>\\n\\t\\t<a href=\"https://www.naverfincorp.com/\" onClick=\"clickcr(this, \\'fot.nhn\\', \\'\\', \\'\\', event);\" target=\"_blank\" class=\"logo\"><img src=\"https://ssl.pstatic.net/static/nfinance/img/logo_financial.png\" width=\"160\" height=\"12\" alt=\"NAVER FINANCIAL\"></a>\\n\\t</address>\\n\\t\\n\\t\\n\\t\\n</div>\\n<script type=\"text/javascript\">\\nfunction isVisible(obj) {\\n    if (obj == document) return true\\n \\n    if (!obj) return false\\n    if (!obj.parentNode) return false\\n    if (obj.style) {\\n        if (obj.style.display == \\'none\\') return false\\n        if (obj.style.visibility == \\'hidden\\') return false\\n    }\\n \\n    if (window.getComputedStyle) {\\n        var style = window.getComputedStyle(obj, \"\")\\n        if (style.display == \\'none\\') return false\\n        if (style.visibility == \\'hidden\\') return false\\n    }\\n \\n    var style = obj.currentStyle\\n    if (style) {\\n        if (style[\\'display\\'] == \\'none\\') return false\\n        if (style[\\'visibility\\'] == \\'hidden\\') return false\\n    }\\n \\n    return isVisible(obj.parentNode)\\n}\\n\\nfunction isChildOf(myobj, containerObj) {\\n\\twhile(myobj != undefined) {\\n\\t\\tif (myobj == document.body) {\\n\\t\\t\\tbreak;\\n\\t\\t} \\n\\t\\tif (myobj == containerObj) {\\n\\t\\t\\treturn true;\\n\\t\\t}\\n\\t\\tmyobj = myobj.parentElement;\\n\\t}\\n\\treturn false;\\t\\n}\\n\\nfunction gnbLayerClose(e){\\n\\tvar target = e.target ? e.target : e.srcElement;\\n\\tif (isVisible(document.getElementById(\\'gnb_service_lyr\\')) || isVisible(document.getElementById(\\'gnb_notice_lyr\\')) ||isVisible(document.getElementById(\\'gnb_my_lyr\\')) ) {\\n\\t\\tif (!isChildOf(target, document.getElementById(\\'gnb\\'))) {\\n\\t\\t\\tgnbAllLayerClose();\\n\\t\\t}\\n\\t}\\t\\n}\\n\\nfunction showPannel(layerId){\\n\\tvar layer = jindo.$(layerId);\\n\\tlayer.style.display=\\'block\\';\\n\\n\\tif (layerId == \"summary_lyr\") {\\n\\t\\tvar layerHeight = jindo.$Element(layer).height();\\n\\t\\tjindo.$Element(\"summary_ifr\").height(layerHeight);\\n\\t}\\n}\\n\\nfunction hidePannel(layerId){\\n\\tvar layer = jindo.$(layerId);\\n\\tlayer.style.display=\\'none\\';\\n}\\n\\nfunction togglePanelFooter(layerId) {\\n\\tvar elTargetLayer = jindo.$Element(jindo.$$.getSingle(\"#\" + layerId));\\n\\n\\tif (elTargetLayer != null) {\\n\\t\\tif (elTargetLayer.visible()) {\\n\\t\\t\\thidePannel(layerId);\\n\\t\\t} else {\\n\\t\\t\\tshowPannel(layerId);\\n\\t\\t}\\n\\t}\\n}\\n\\nvar isIE = (navigator.userAgent.toLowerCase().indexOf(\"msie\")!=-1 && window.document.all) ? true:false;\\nif (isIE) {\\n\\tdocument.attachEvent(\\'onmousedown\\', gnbLayerClose);\\n} else {\\n\\twindow.addEventListener(\\'mousedown\\', gnbLayerClose);\\n}\\n\\n// _replaceNewsLink class \\xc7\\xcf\\xc0\\xa7\\xc0\\xc7 a \\xc5\\xc2\\xb1\\xd7 \\xc1\\xb6\\xc8\\xb8 \\xc8\\xc4 redirect\\njindo.$Fn(function () {\\n\\tjindo.$$(\"._replaceNewsLink a\").forEach(function(ele){\\n\\t\\tvar urls = ele.href.split(\"?\");\\n\\t\\tif (urls[0].indexOf(\"/news_read.naver\") > 0 || urls[0].indexOf(\"/newsRead.naver\") > 0) {\\n\\t\\t\\tvar param = jindo.$S(urls[1]).parseString();\\n\\t\\t\\tvar oid = param.office_id ? param.office_id : param.officeId;\\n\\t\\t\\tvar aid = param.article_id ? param.article_id : param.articleId;\\n\\n\\t\\t\\tele.target = \"_blank\";\\n\\t\\t\\tele.href = jindo.$S(\"https://n.news.naver.com/mnews/article/%s/%s\").format(oid, aid);\\n\\t\\t}\\n\\t});\\n}).attach(document, \"domready\");\\n</script>\\n\\n</div>\\n</body>\\n</html>'"
      ]
     },
     "execution_count": 11,
     "metadata": {},
     "output_type": "execute_result"
    }
   ],
   "source": [
    "marketindex.content  # html 파일"
   ]
  },
  {
   "cell_type": "code",
   "execution_count": 12,
   "id": "0014e88a-030e-4a87-90d4-793eb0c2d4c1",
   "metadata": {},
   "outputs": [
    {
     "name": "stdout",
     "output_type": "stream",
     "text": [
      "미국 USD\n",
      "일본 JPY(100엔)\n",
      "유럽연합 EUR\n",
      "중국 CNY\n",
      "달러/일본 엔\n",
      "유로/달러\n",
      "영국 파운드/달러\n",
      "달러인덱스\n",
      "WTI\n",
      "휘발유\n",
      "국제 금\n",
      "국내 금\n"
     ]
    }
   ],
   "source": [
    "title = soup.select('h3.h_lst > span.blind')\n",
    "for idx in range(len(title)):\n",
    "    print(title[idx].text)"
   ]
  },
  {
   "cell_type": "code",
   "execution_count": 13,
   "id": "30a71e04-fb0c-4c99-8e88-8a421968e7df",
   "metadata": {},
   "outputs": [
    {
     "data": {
      "text/plain": [
       "['원', '원', '원', '원', '엔', '달러', '달러', '', '달러', '원', '달러', '원']"
      ]
     },
     "execution_count": 13,
     "metadata": {},
     "output_type": "execute_result"
    }
   ],
   "source": [
    "unit = soup.select('div.head_info > span > span.blind')\n",
    "unit = [u.text for u in unit]\n",
    "unit.insert(7,'')\n",
    "unit"
   ]
  },
  {
   "cell_type": "code",
   "execution_count": 14,
   "id": "dcfd4e29-82ee-447b-9230-c02229f0d87c",
   "metadata": {},
   "outputs": [
    {
     "name": "stdout",
     "output_type": "stream",
     "text": [
      "상승, 상승, 상승, 하락, 하락, 상승, 상승, 하락, 하락, 하락, 상승, 상승, "
     ]
    }
   ],
   "source": [
    "status = soup.select('div.head_info > span.blind')\n",
    "for idx in range(len(status)):\n",
    "    print(status[idx].text, end=', ')"
   ]
  },
  {
   "cell_type": "code",
   "execution_count": 15,
   "id": "06eb451e-21b8-4fb8-a7c1-659f9259b5a2",
   "metadata": {},
   "outputs": [
    {
     "data": {
      "text/plain": [
       "(12, 12, 12, 12)"
      ]
     },
     "execution_count": 15,
     "metadata": {},
     "output_type": "execute_result"
    }
   ],
   "source": [
    "len(title), len(price), len(unit), len(status)"
   ]
  },
  {
   "cell_type": "code",
   "execution_count": 16,
   "id": "94cca83c-c552-484a-92f7-b94799a6c98c",
   "metadata": {},
   "outputs": [
    {
     "name": "stdout",
     "output_type": "stream",
     "text": [
      "미국 USD : 1,374.60원 - 상승\n",
      "일본 JPY(100엔) : 880.48원 - 상승\n",
      "유럽연합 EUR : 1,499.14원 - 상승\n",
      "중국 CNY : 189.42원 - 하락\n",
      "달러/일본 엔 : 156.1800엔 - 하락\n",
      "유로/달러 : 1.0869달러 - 상승\n",
      "영국 파운드/달러 : 1.2771달러 - 상승\n",
      "달러인덱스 : 104.0700 - 하락\n",
      "WTI : 74.22달러 - 하락\n",
      "휘발유 : 1667.78원 - 하락\n",
      "국제 금 : 2369.3달러 - 상승\n",
      "국내 금 : 103746.18원 - 상승\n"
     ]
    }
   ],
   "source": [
    "for idx in range(len(title)):\n",
    "    print(\"{} : {}{} - {}\".format(title[idx].text, price[idx].text, \n",
    "                                 unit[idx], status[idx].text))"
   ]
  },
  {
   "cell_type": "markdown",
   "id": "151d00cb-a1c8-4e99-89e9-12d7c1944b74",
   "metadata": {},
   "source": [
    "# 2.2 yest24의 베스트 셀러를 출력"
   ]
  },
  {
   "cell_type": "code",
   "execution_count": 20,
   "id": "612abca9-ee0d-4a66-919b-9ae7e879fa07",
   "metadata": {},
   "outputs": [
    {
     "ename": "KeyError",
     "evalue": "0",
     "output_type": "error",
     "traceback": [
      "\u001b[1;31m---------------------------------------------------------------------------\u001b[0m",
      "\u001b[1;31mKeyError\u001b[0m                                  Traceback (most recent call last)",
      "Cell \u001b[1;32mIn[20], line 11\u001b[0m\n\u001b[0;32m      9\u001b[0m authors_ \u001b[38;5;241m=\u001b[39m soup\u001b[38;5;241m.\u001b[39mselect(\u001b[38;5;124m\"\u001b[39m\u001b[38;5;124mdiv.info_row > span.info_auth.authPub\u001b[39m\u001b[38;5;124m\"\u001b[39m)\n\u001b[0;32m     10\u001b[0m \u001b[38;5;28;01mfor\u001b[39;00m idx \u001b[38;5;129;01min\u001b[39;00m \u001b[38;5;28mrange\u001b[39m(\u001b[38;5;28mlen\u001b[39m(el)):\n\u001b[1;32m---> 11\u001b[0m     \u001b[38;5;28mprint\u001b[39m(el[idx]\u001b[38;5;241m.\u001b[39mselect_one(\u001b[38;5;124m'\u001b[39m\u001b[38;5;124ma\u001b[39m\u001b[38;5;124m'\u001b[39m)\u001b[38;5;241m.\u001b[39mtext, end\u001b[38;5;241m=\u001b[39m\u001b[38;5;124m\"\u001b[39m\u001b[38;5;130;01m\\n\u001b[39;00m\u001b[38;5;130;01m\\n\u001b[39;00m\u001b[38;5;124m\"\u001b[39m)\n",
      "File \u001b[1;32m~\\anaconda3\\Lib\\site-packages\\bs4\\element.py:1573\u001b[0m, in \u001b[0;36mTag.__getitem__\u001b[1;34m(self, key)\u001b[0m\n\u001b[0;32m   1570\u001b[0m \u001b[38;5;28;01mdef\u001b[39;00m \u001b[38;5;21m__getitem__\u001b[39m(\u001b[38;5;28mself\u001b[39m, key):\n\u001b[0;32m   1571\u001b[0m \u001b[38;5;250m    \u001b[39m\u001b[38;5;124;03m\"\"\"tag[key] returns the value of the 'key' attribute for the Tag,\u001b[39;00m\n\u001b[0;32m   1572\u001b[0m \u001b[38;5;124;03m    and throws an exception if it's not there.\"\"\"\u001b[39;00m\n\u001b[1;32m-> 1573\u001b[0m     \u001b[38;5;28;01mreturn\u001b[39;00m \u001b[38;5;28mself\u001b[39m\u001b[38;5;241m.\u001b[39mattrs[key]\n",
      "\u001b[1;31mKeyError\u001b[0m: 0"
     ]
    }
   ],
   "source": [
    "import requests\n",
    "from urllib.request import urlopen\n",
    "from bs4 import BeautifulSoup\n",
    "url = \"http://www.yes24.com/24/category/bestseller\"\n",
    "# bestseller = requests.get(url)\n",
    "# soup = BeautifulSoup(bestseller.content, \"html.parser\")\n",
    "bestseller = urlopen(url)\n",
    "soup = BeautifulSoup(bestseller, \"html.parser\")\n",
    "authors_ = soup.select(\"div.info_row > span.info_auth.authPub\")\n",
    "for idx in range(len(el)):\n",
    "    print(el[idx].select_one('a').text, end=\"\\n\\n\")"
   ]
  },
  {
   "cell_type": "code",
   "execution_count": 18,
   "id": "21b2dca3-163b-4366-b3bd-9243952d3368",
   "metadata": {},
   "outputs": [
    {
     "name": "stdout",
     "output_type": "stream",
     "text": [
      "순위,책이름,저자및출판사,가격\n",
      "1,선재 업고 튀어 대본집 세트,이시은,45,000\n",
      "2,리틀 라이프 1,한야 야나기하라,13,320\n",
      "3,리틀 라이프 2,한야 야나기하라,13,320\n",
      "4,하루 한 장 나의 어휘력을 위한 필사 노트,유선경,21,420\n",
      "5,불변의 법칙,모건 하우절,22,500\n",
      "6,나를 소모하지 않는 현명한 태도에 관하여,마티아스 뇔케,16,020\n",
      "7,쿠이 료코 낙서집 데이드림 아워,쿠이 료코,18,000\n",
      "8,나는 다정한 관찰자가 되기로 했다,이은경,16,020\n",
      "9,세이노의 가르침,세이노(SayNo),6,480\n",
      "10,부자의 마지막 가르침,다우치 마나부,17,820\n",
      "11,신화의 숲,김헌,16,200\n",
      "12,컬러의 세계,찰스 브라메스코,17,820\n",
      "13,원피스 ONE PIECE 108,오다 에이이치로,4,950\n",
      "14,흔한남매 과학 탐험대 10 생태계,흔한남매,13,320\n",
      "15,마흔에 읽는 쇼펜하우어,강용수,15,300\n",
      "16,국어 잘하는 아이가 이깁니다,나민애,15,750\n",
      "17,THE MONEY BOOK 더 머니북,토스,19,800\n",
      "18,룬의 아이들 - 블러디드 7,전민희,15,300\n",
      "19,꽃길이 따로 있나, 내 삶이 꽃인 것을,오평선,15,120\n",
      "20,나는 메트로폴리탄 미술관의 경비원입니다,패트릭 브링리,15,750\n",
      "21,돈의 심리학 (30만 부 기념 스페셜 에디션) ,모건 하우절,17,820\n",
      "22,설민석의 한국사 대모험 29,설민석,11,700\n",
      "23,빨모쌤의 라이브 영어회화,신용하,19,800\n",
      "24,나의 돈키호테,김호연,16,200\n"
     ]
    }
   ],
   "source": [
    "import requests\n",
    "from urllib.request import urlopen\n",
    "from bs4 import BeautifulSoup\n",
    "url = \"http://www.yes24.com/24/category/bestseller\"\n",
    "# bestseller = requests.get(url)\n",
    "# soup = BeautifulSoup(bestseller.content, \"html.parser\")\n",
    "bestseller = urlopen(url)\n",
    "soup = BeautifulSoup(bestseller, \"html.parser\")\n",
    "titles=soup.select(\"div.item_info > div.info_row > a.gd_name\")\n",
    "# authors = soup.select(\"div.info_row > span.info_auth.authPub > a\")\n",
    "authors_wrap = soup.select(\"div.info_row > span.info_auth.authPub\")\n",
    "prices = soup.select(\"div.info_row > strong.txt_num > em.yes_b\")\n",
    "# 화면출력\n",
    "print(\"순위,책이름,저자및출판사,가격\")\n",
    "title = []\n",
    "author = []\n",
    "price = []\n",
    "for idx in range(len(titles)):\n",
    "    authors = authors_wrap[idx].select_one('a')\n",
    "    print(\"{},{},{},{}\".format(idx+1, titles[idx].text, authors.text,  prices[idx].text))\n",
    "    # print(\"{},{},{},{}\".format(idx+1, titles[idx].text, authors[idx].text,  prices[idx].text))\n",
    "    title.append(titles[idx].text)\n",
    "    author.append(authors.text)\n",
    "    price.append(prices[idx].text)"
   ]
  },
  {
   "cell_type": "code",
   "execution_count": 21,
   "id": "d4ee07d1-2d6d-4aa7-8251-8a6a09b245d2",
   "metadata": {},
   "outputs": [
    {
     "data": {
      "text/html": [
       "<div>\n",
       "<style scoped>\n",
       "    .dataframe tbody tr th:only-of-type {\n",
       "        vertical-align: middle;\n",
       "    }\n",
       "\n",
       "    .dataframe tbody tr th {\n",
       "        vertical-align: top;\n",
       "    }\n",
       "\n",
       "    .dataframe thead th {\n",
       "        text-align: right;\n",
       "    }\n",
       "</style>\n",
       "<table border=\"1\" class=\"dataframe\">\n",
       "  <thead>\n",
       "    <tr style=\"text-align: right;\">\n",
       "      <th></th>\n",
       "      <th>순위</th>\n",
       "      <th>책이름</th>\n",
       "      <th>저자및출판사</th>\n",
       "      <th>가격</th>\n",
       "    </tr>\n",
       "  </thead>\n",
       "  <tbody>\n",
       "    <tr>\n",
       "      <th>0</th>\n",
       "      <td>1</td>\n",
       "      <td>선재 업고 튀어 대본집 세트</td>\n",
       "      <td>이시은</td>\n",
       "      <td>45,000</td>\n",
       "    </tr>\n",
       "    <tr>\n",
       "      <th>1</th>\n",
       "      <td>2</td>\n",
       "      <td>리틀 라이프 1</td>\n",
       "      <td>한야 야나기하라</td>\n",
       "      <td>13,320</td>\n",
       "    </tr>\n",
       "    <tr>\n",
       "      <th>2</th>\n",
       "      <td>3</td>\n",
       "      <td>리틀 라이프 2</td>\n",
       "      <td>한야 야나기하라</td>\n",
       "      <td>13,320</td>\n",
       "    </tr>\n",
       "    <tr>\n",
       "      <th>3</th>\n",
       "      <td>4</td>\n",
       "      <td>하루 한 장 나의 어휘력을 위한 필사 노트</td>\n",
       "      <td>유선경</td>\n",
       "      <td>21,420</td>\n",
       "    </tr>\n",
       "    <tr>\n",
       "      <th>4</th>\n",
       "      <td>5</td>\n",
       "      <td>불변의 법칙</td>\n",
       "      <td>모건 하우절</td>\n",
       "      <td>22,500</td>\n",
       "    </tr>\n",
       "    <tr>\n",
       "      <th>5</th>\n",
       "      <td>6</td>\n",
       "      <td>나를 소모하지 않는 현명한 태도에 관하여</td>\n",
       "      <td>마티아스 뇔케</td>\n",
       "      <td>16,020</td>\n",
       "    </tr>\n",
       "    <tr>\n",
       "      <th>6</th>\n",
       "      <td>7</td>\n",
       "      <td>쿠이 료코 낙서집 데이드림 아워</td>\n",
       "      <td>쿠이 료코</td>\n",
       "      <td>18,000</td>\n",
       "    </tr>\n",
       "    <tr>\n",
       "      <th>7</th>\n",
       "      <td>8</td>\n",
       "      <td>나는 다정한 관찰자가 되기로 했다</td>\n",
       "      <td>이은경</td>\n",
       "      <td>16,020</td>\n",
       "    </tr>\n",
       "    <tr>\n",
       "      <th>8</th>\n",
       "      <td>9</td>\n",
       "      <td>세이노의 가르침</td>\n",
       "      <td>세이노(SayNo)</td>\n",
       "      <td>6,480</td>\n",
       "    </tr>\n",
       "    <tr>\n",
       "      <th>9</th>\n",
       "      <td>10</td>\n",
       "      <td>부자의 마지막 가르침</td>\n",
       "      <td>다우치 마나부</td>\n",
       "      <td>17,820</td>\n",
       "    </tr>\n",
       "    <tr>\n",
       "      <th>10</th>\n",
       "      <td>11</td>\n",
       "      <td>신화의 숲</td>\n",
       "      <td>김헌</td>\n",
       "      <td>16,200</td>\n",
       "    </tr>\n",
       "    <tr>\n",
       "      <th>11</th>\n",
       "      <td>12</td>\n",
       "      <td>컬러의 세계</td>\n",
       "      <td>찰스 브라메스코</td>\n",
       "      <td>17,820</td>\n",
       "    </tr>\n",
       "    <tr>\n",
       "      <th>12</th>\n",
       "      <td>13</td>\n",
       "      <td>원피스 ONE PIECE 108</td>\n",
       "      <td>오다 에이이치로</td>\n",
       "      <td>4,950</td>\n",
       "    </tr>\n",
       "    <tr>\n",
       "      <th>13</th>\n",
       "      <td>14</td>\n",
       "      <td>흔한남매 과학 탐험대 10 생태계</td>\n",
       "      <td>흔한남매</td>\n",
       "      <td>13,320</td>\n",
       "    </tr>\n",
       "    <tr>\n",
       "      <th>14</th>\n",
       "      <td>15</td>\n",
       "      <td>마흔에 읽는 쇼펜하우어</td>\n",
       "      <td>강용수</td>\n",
       "      <td>15,300</td>\n",
       "    </tr>\n",
       "    <tr>\n",
       "      <th>15</th>\n",
       "      <td>16</td>\n",
       "      <td>국어 잘하는 아이가 이깁니다</td>\n",
       "      <td>나민애</td>\n",
       "      <td>15,750</td>\n",
       "    </tr>\n",
       "    <tr>\n",
       "      <th>16</th>\n",
       "      <td>17</td>\n",
       "      <td>THE MONEY BOOK 더 머니북</td>\n",
       "      <td>토스</td>\n",
       "      <td>19,800</td>\n",
       "    </tr>\n",
       "    <tr>\n",
       "      <th>17</th>\n",
       "      <td>18</td>\n",
       "      <td>룬의 아이들 - 블러디드 7</td>\n",
       "      <td>전민희</td>\n",
       "      <td>15,300</td>\n",
       "    </tr>\n",
       "    <tr>\n",
       "      <th>18</th>\n",
       "      <td>19</td>\n",
       "      <td>꽃길이 따로 있나, 내 삶이 꽃인 것을</td>\n",
       "      <td>오평선</td>\n",
       "      <td>15,120</td>\n",
       "    </tr>\n",
       "    <tr>\n",
       "      <th>19</th>\n",
       "      <td>20</td>\n",
       "      <td>나는 메트로폴리탄 미술관의 경비원입니다</td>\n",
       "      <td>패트릭 브링리</td>\n",
       "      <td>15,750</td>\n",
       "    </tr>\n",
       "    <tr>\n",
       "      <th>20</th>\n",
       "      <td>21</td>\n",
       "      <td>돈의 심리학 (30만 부 기념 스페셜 에디션)</td>\n",
       "      <td>모건 하우절</td>\n",
       "      <td>17,820</td>\n",
       "    </tr>\n",
       "    <tr>\n",
       "      <th>21</th>\n",
       "      <td>22</td>\n",
       "      <td>설민석의 한국사 대모험 29</td>\n",
       "      <td>설민석</td>\n",
       "      <td>11,700</td>\n",
       "    </tr>\n",
       "    <tr>\n",
       "      <th>22</th>\n",
       "      <td>23</td>\n",
       "      <td>빨모쌤의 라이브 영어회화</td>\n",
       "      <td>신용하</td>\n",
       "      <td>19,800</td>\n",
       "    </tr>\n",
       "    <tr>\n",
       "      <th>23</th>\n",
       "      <td>24</td>\n",
       "      <td>나의 돈키호테</td>\n",
       "      <td>김호연</td>\n",
       "      <td>16,200</td>\n",
       "    </tr>\n",
       "  </tbody>\n",
       "</table>\n",
       "</div>"
      ],
      "text/plain": [
       "    순위                         책이름      저자및출판사      가격\n",
       "0    1             선재 업고 튀어 대본집 세트         이시은  45,000\n",
       "1    2                    리틀 라이프 1    한야 야나기하라  13,320\n",
       "2    3                    리틀 라이프 2    한야 야나기하라  13,320\n",
       "3    4     하루 한 장 나의 어휘력을 위한 필사 노트         유선경  21,420\n",
       "4    5                      불변의 법칙      모건 하우절  22,500\n",
       "5    6      나를 소모하지 않는 현명한 태도에 관하여     마티아스 뇔케  16,020\n",
       "6    7           쿠이 료코 낙서집 데이드림 아워       쿠이 료코  18,000\n",
       "7    8          나는 다정한 관찰자가 되기로 했다         이은경  16,020\n",
       "8    9                    세이노의 가르침  세이노(SayNo)   6,480\n",
       "9   10                 부자의 마지막 가르침     다우치 마나부  17,820\n",
       "10  11                       신화의 숲          김헌  16,200\n",
       "11  12                      컬러의 세계    찰스 브라메스코  17,820\n",
       "12  13           원피스 ONE PIECE 108    오다 에이이치로   4,950\n",
       "13  14          흔한남매 과학 탐험대 10 생태계        흔한남매  13,320\n",
       "14  15                마흔에 읽는 쇼펜하우어         강용수  15,300\n",
       "15  16             국어 잘하는 아이가 이깁니다         나민애  15,750\n",
       "16  17        THE MONEY BOOK 더 머니북          토스  19,800\n",
       "17  18             룬의 아이들 - 블러디드 7         전민희  15,300\n",
       "18  19       꽃길이 따로 있나, 내 삶이 꽃인 것을         오평선  15,120\n",
       "19  20       나는 메트로폴리탄 미술관의 경비원입니다     패트릭 브링리  15,750\n",
       "20  21  돈의 심리학 (30만 부 기념 스페셜 에디션)       모건 하우절  17,820\n",
       "21  22             설민석의 한국사 대모험 29         설민석  11,700\n",
       "22  23               빨모쌤의 라이브 영어회화         신용하  19,800\n",
       "23  24                     나의 돈키호테         김호연  16,200"
      ]
     },
     "execution_count": 21,
     "metadata": {},
     "output_type": "execute_result"
    }
   ],
   "source": [
    "import pandas as pd\n",
    "df = pd.DataFrame({'순위':range(1,25),\n",
    "                   '책이름':title,\n",
    "                   '저자및출판사':author,\n",
    "                   '가격':price})\n",
    "df"
   ]
  },
  {
   "cell_type": "code",
   "execution_count": 22,
   "id": "c078a8bd-cdde-42e3-b8cd-8463e6177121",
   "metadata": {},
   "outputs": [],
   "source": [
    "df.to_csv('data/yes24.csv', encoding='utf-8', index=False)"
   ]
  },
  {
   "cell_type": "code",
   "execution_count": null,
   "id": "19348671-6bf6-4057-8a31-223bc437edc6",
   "metadata": {},
   "outputs": [],
   "source": []
  }
 ],
 "metadata": {
  "kernelspec": {
   "display_name": "Python 3 (ipykernel)",
   "language": "python",
   "name": "python3"
  },
  "language_info": {
   "codemirror_mode": {
    "name": "ipython",
    "version": 3
   },
   "file_extension": ".py",
   "mimetype": "text/x-python",
   "name": "python",
   "nbconvert_exporter": "python",
   "pygments_lexer": "ipython3",
   "version": "3.11.7"
  }
 },
 "nbformat": 4,
 "nbformat_minor": 5
}
