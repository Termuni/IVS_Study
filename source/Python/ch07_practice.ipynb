{
 "cells": [
  {
   "cell_type": "markdown",
   "id": "7414654b-7110-4122-9ad2-0be87b37f594",
   "metadata": {},
   "source": [
    "```\n",
    "1. 다음조건을만족하는클래스를작성하세요\r",
    " 도형(Shape)클래스와삼각형(Triangle) 클래스 를만들어 야합니다.\r",
    " 도형(Shape)클래스\r\n",
    "• 생성자를통해width, heig ht를 초 기 화할수있습니다. width, heig ht의기본값은0 0\r\n",
    "입다.\r\n",
    " • width, height를 조절할수있는modif y 함수가있니다.\r\n",
    " • width, height 값 정보를 문자열로리턴하는__str __ 함수가있습니다 \r\n",
    "•  도형 의면적을구하는함수(calc _area)가습니다. \r\n",
    " ‘삼각형(Trian gle)클래스는도형(Shap e)클 래스이다 ’관계가립해야합니 다\r\n",
    " 생성자를통해, width, hei ght, x, y 좌표를 초기화하고x, y 좌표의 기본값0, 0입 니다\r",
    " \n",
    "  삼각형 의면적을구하는메소드 calc_ara를재정의 합니다 \r\n",
    "  삼각형의 정보를문자열로() 함수가 있습니다.반환하는() 함수가있습니다."
   ]
  },
  {
   "cell_type": "markdown",
   "id": "118f66f7-0a5d-4b56-a384-b5d29c7f7e72",
   "metadata": {},
   "source": [
    "s1 = Shape(2,3)  #정의용 함수\n",
    "s1.modify(-1,1)  #값 조절하는 함수\n",
    "__str__\n",
    "s1.calc_area()        #넓이 반환하는 함수\n",
    "\n",
    "triangle은 Shape 클래스이다 라는 관계가 성립해야함\n",
    "width, height, x, y\n",
    "t1 = Triangle(2,3,0,0)\n",
    "t1.area()\n",
    "__str__ 도 상속받아야함                                                                                                                                                                                                                                                                                                                                "
   ]
  },
  {
   "cell_type": "code",
   "execution_count": 18,
   "id": "d6198247-8853-4675-9eed-aea542c14c78",
   "metadata": {},
   "outputs": [],
   "source": [
    "class Shape:\n",
    "    \"\"\"\n",
    "    가로, 세로의 크기를 받아서 사각형으로 저장하는 클래스\n",
    "    이때 가로와 세로의 크기는 0 이상이어야 한다\n",
    "    modify(가로, 세로)로 저장된 값을 변경 가능\n",
    "    calc_area()로 크기 계산 가능\n",
    "    \"\"\"\n",
    "    def __init__(self, width = 0, height = 0):\n",
    "        if width < 0 or height < 0:\n",
    "            print(\"가로 또는 세로의 값이 음수인지 확인해주십시오.\")\n",
    "        self.width = width\n",
    "        self.height = height\n",
    "    \n",
    "    def __str__(self):\n",
    "        return \"가로 : {}, 세로 : {}\".format(self.width, self.height)\n",
    "\n",
    "    def modify(self, width, height):\n",
    "        if self.width + width < 0 or self.height + height < 0:\n",
    "            print(\"변경하려는 가로 또는 세로값에 문제가 있습니다.\")\n",
    "        self.width += width\n",
    "        self.height += height\n",
    "        \n",
    "    def calc_area(self):\n",
    "        return self.width * self.height"
   ]
  },
  {
   "cell_type": "code",
   "execution_count": 19,
   "id": "62e11cdc-d8aa-4927-aada-5512560b7a99",
   "metadata": {},
   "outputs": [
    {
     "name": "stdout",
     "output_type": "stream",
     "text": [
      "가로 : 2, 세로 : 3\n",
      "6\n",
      "가로 : 1, 세로 : 4\n",
      "4\n"
     ]
    }
   ],
   "source": [
    "s1 = Shape(2, 3)\n",
    "print(s1)\n",
    "print(s1.calc_area())\n",
    "s1.modify(-1, 1)\n",
    "print(s1)\n",
    "print(s1.calc_area())"
   ]
  },
  {
   "cell_type": "code",
   "execution_count": 20,
   "id": "7a7770d7-ac9a-4465-830d-a241a3930290",
   "metadata": {},
   "outputs": [],
   "source": [
    "class Triangle(Shape):\n",
    "    \"\"\"\n",
    "    Shape 클래스를 상속받아 x, y 좌표를 저장하는 클래스\n",
    "    \"\"\"\n",
    "    def __init__(self, width, height, x = 0, y = 0):\n",
    "        super().__init__(width, height)\n",
    "        self.x = x\n",
    "        self.y = y\n",
    "\n",
    "    def __str__(self):\n",
    "        return super().__str__() + \", x : {}, y: {}\".format(self.x, self.y)\n",
    "\n",
    "    def calc_area(self):\n",
    "        return super().calc_area() / 2"
   ]
  },
  {
   "cell_type": "code",
   "execution_count": 21,
   "id": "9b646c8d-43b4-4041-a274-6480030759f2",
   "metadata": {},
   "outputs": [
    {
     "name": "stdout",
     "output_type": "stream",
     "text": [
      "가로 : 3, 세로 : 4, x : 0, y: 0\n",
      "6.0\n",
      "가로 : 2, 세로 : 5, x : 0, y: 0\n",
      "5.0\n"
     ]
    }
   ],
   "source": [
    "t1 = Triangle(3, 4, 0, 0)\n",
    "print(t1)\n",
    "print(t1.calc_area())\n",
    "t1.modify(-1, 1)\n",
    "print(t1)\n",
    "print(t1.calc_area())"
   ]
  },
  {
   "cell_type": "code",
   "execution_count": null,
   "id": "4c2b07ca-c269-490e-a1f6-52c33aa95b5d",
   "metadata": {},
   "outputs": [],
   "source": []
  }
 ],
 "metadata": {
  "kernelspec": {
   "display_name": "Python 3 (ipykernel)",
   "language": "python",
   "name": "python3"
  },
  "language_info": {
   "codemirror_mode": {
    "name": "ipython",
    "version": 3
   },
   "file_extension": ".py",
   "mimetype": "text/x-python",
   "name": "python",
   "nbconvert_exporter": "python",
   "pygments_lexer": "ipython3",
   "version": "3.11.9"
  }
 },
 "nbformat": 4,
 "nbformat_minor": 5
}
