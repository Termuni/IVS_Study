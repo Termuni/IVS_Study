{
 "cells": [
  {
   "cell_type": "markdown",
   "id": "0491a557-cc7f-4cee-a40c-2cbb03582113",
   "metadata": {},
   "source": [
    "CH05 함수\n",
    "- 반복해서 사용할 코드를 묶어서 구현해 놓은 것\n",
    "- 같은 이름의 함수는 덮어씀(오버로딩 불가능, 매개변수 다르게 해서 같은 이름으로 두개 쓰는 것)\n",
    "- 함수 정의(구현)\n",
    "```\n",
    "    def 함수명([인수1, 인수2, ...]):\n",
    "        \"명령어1\"\n",
    "        \"명령어2\"\n",
    "        ...\n",
    "        (return은 선택사항)\n",
    "```\n",
    "- 람다식 -> 한 번 사용할 것이지만 만들어 놓은 것"
   ]
  },
  {
   "cell_type": "markdown",
   "id": "f104db1f-72f4-45a5-8dad-1c4e4df41ba1",
   "metadata": {},
   "source": [
    "# 1절 함수의 정의 및 사용(호출)\n",
    "## 1.1 함수의 정의"
   ]
  },
  {
   "cell_type": "code",
   "execution_count": null,
   "id": "89670948-6717-4060-81c8-ec566bbab375",
   "metadata": {},
   "outputs": [],
   "source": [
    "def MyHello(x, msg):   #함수 정의, 매개변수 2개짜리임\n",
    "    for i in range(x):\n",
    "        print(i, msg)\n",
    "#파이썬에서 함수는 변수다"
   ]
  },
  {
   "cell_type": "code",
   "execution_count": null,
   "id": "52d40f45-379a-410c-a53e-a1657dd6bd99",
   "metadata": {},
   "outputs": [],
   "source": [
    "MyHello(4, \"행복합니다\")"
   ]
  },
  {
   "cell_type": "code",
   "execution_count": null,
   "id": "f6d15f9f-0120-4f1d-89bd-7787c44343dd",
   "metadata": {},
   "outputs": [],
   "source": [
    "type(MyHello)"
   ]
  },
  {
   "cell_type": "code",
   "execution_count": null,
   "id": "463036b1-fa8b-4dfb-8e95-5f8be15fd552",
   "metadata": {},
   "outputs": [],
   "source": [
    "MyHello = 10\n",
    "type(MyHello)"
   ]
  },
  {
   "cell_type": "code",
   "execution_count": null,
   "id": "c852beb1-baa2-4310-8b4e-acee9cd32bb7",
   "metadata": {},
   "outputs": [],
   "source": [
    "def MyHello(x):   #함수 정의, 매개변수 1개짜리로 overwrite\n",
    "    for i in range(x):\n",
    "        print(i, \"함수는 복습필수\")\n",
    "#파이썬에서 함수는 변수다"
   ]
  },
  {
   "cell_type": "code",
   "execution_count": null,
   "id": "2d6974e5-ed4e-4926-9a6f-e709ea0ef802",
   "metadata": {},
   "outputs": [],
   "source": [
    "#MyHello(4,\"함수는?\")  #overloading이 안 됨, 덮어씌어짐\n",
    "MyHello(4)"
   ]
  },
  {
   "cell_type": "code",
   "execution_count": null,
   "id": "9ef3a530-ffe7-4612-84dc-9e669e04cce9",
   "metadata": {},
   "outputs": [],
   "source": [
    "def MyAdd(num1, num2, num3 = 0): #num3 -> 기본값을 갖는 인수\n",
    "#def MyAdd(num1, num2 = 0, num3): --> 이렇게 정의하면 컴파일러에서 오류남\n",
    "    return num1 + num2 + num3\n",
    "print(MyAdd(1,2,3))\n",
    "print(MyAdd(1,2))\n",
    "#기본값을 갖지 않는 인수 -> 순서 인수\n",
    "#기본값을 갖는 인수 -> 순서 인수 뒤에 와야함"
   ]
  },
  {
   "cell_type": "markdown",
   "id": "aa5d98dc-b969-460b-8eec-8197455341f7",
   "metadata": {},
   "source": [
    "## 1.2 DocString(함수 도움말)\n",
    "- 함수 도움말 (shift + tab 으로 볼 수 있음)"
   ]
  },
  {
   "cell_type": "code",
   "execution_count": null,
   "id": "79177020-d347-43e5-b5ae-1516412ad3d4",
   "metadata": {},
   "outputs": [],
   "source": [
    "def Fibonacci(n):\n",
    "    \"\"\"\n",
    "    매개변수(인수)로 들어온 n값 미만의 피보나치 수열을 출력하는 함수\n",
    "    ex. 인수로 10 -> 0, 1, 1, 2, 3, 5, 8\n",
    "    \"\"\"\n",
    "    a, b = 0, 1   #내부적으로 튜플 (a, b) = (0, 1)로 할당됨\n",
    "    while a < n:\n",
    "        print(a, end='. ')\n",
    "        a, b = b, a + b\n",
    "    print()  #개행용 빈 프린트"
   ]
  },
  {
   "cell_type": "code",
   "execution_count": null,
   "id": "64ec9109-4c5f-4a09-81ae-8ff6d465a2da",
   "metadata": {},
   "outputs": [],
   "source": [
    "type(Fibonacci)"
   ]
  },
  {
   "cell_type": "code",
   "execution_count": null,
   "id": "7cf21193-9ea1-4777-a43a-c9a9222464d5",
   "metadata": {},
   "outputs": [],
   "source": [
    "Fibonacci"
   ]
  },
  {
   "cell_type": "code",
   "execution_count": null,
   "id": "4228e5b0-368a-433a-a787-3cb656c7eff9",
   "metadata": {},
   "outputs": [],
   "source": [
    "__name__  #이 변수는 main영역에서 실행된다는 것을 출력, __name__은 기본적으로 존재함"
   ]
  },
  {
   "cell_type": "code",
   "execution_count": null,
   "id": "640936b0-475a-4b16-8232-83b8d2226810",
   "metadata": {},
   "outputs": [],
   "source": [
    "if __name__ == '__main__':\n",
    "    Fibonacci(100)"
   ]
  },
  {
   "cell_type": "code",
   "execution_count": null,
   "id": "0e4fca7a-ecca-441f-b065-d81deb36f422",
   "metadata": {},
   "outputs": [],
   "source": [
    "import fibonacci #같은 폴더의 fibonacci.py가 해석되서 메모리에 로드"
   ]
  },
  {
   "cell_type": "code",
   "execution_count": null,
   "id": "2552198a-7bfa-492c-9e93-dd0c93e8647a",
   "metadata": {},
   "outputs": [],
   "source": [
    "fibonacci.Fibonacci(100)\n",
    "print(__name__)"
   ]
  },
  {
   "cell_type": "markdown",
   "id": "12564bd5-9bab-471e-aa53-1676fd892a29",
   "metadata": {},
   "source": [
    "## 1.3 지역변수(local var)와 전역변수(global var)"
   ]
  },
  {
   "cell_type": "code",
   "execution_count": null,
   "id": "4b961c5b-e25a-46d0-93d7-6a6452b8fe0b",
   "metadata": {},
   "outputs": [],
   "source": [
    "global_var = 100 # 전역 변수 -> 커널 종료 전까지 사용 가능\n",
    "def func1():\n",
    "    print(global_var)\n",
    "func1()\n",
    "print(global_var)"
   ]
  },
  {
   "cell_type": "code",
   "execution_count": null,
   "id": "a095e9bb-b67e-4976-8511-34ae0d581de7",
   "metadata": {},
   "outputs": [],
   "source": [
    "def func2():\n",
    "    local_var = 100  # 지역 변수 -> 함수 내에서만 사용 가능한 변수\n",
    "    print(local_var)\n",
    "func2()\n",
    "#local_var -> 함수 밖에서는 호출 불가능"
   ]
  },
  {
   "cell_type": "code",
   "execution_count": null,
   "id": "dbc38160-b8a7-41e7-9c47-ee8af4ff4c6f",
   "metadata": {},
   "outputs": [],
   "source": [
    "g_var = 100\n",
    "def func3():\n",
    "    g_var = 200   # 이 g_var --> 지역변수로 선언 된 것\n",
    "    print(g_var)  \n",
    "func3()\n",
    "print(g_var)"
   ]
  },
  {
   "cell_type": "markdown",
   "id": "fb535a8a-8617-4e63-aab6-e7fd5ffc2dc2",
   "metadata": {},
   "source": [
    "## 1.4 Lexical 특성"
   ]
  },
  {
   "cell_type": "code",
   "execution_count": null,
   "id": "fb156a20-3f1c-443b-803e-dd37ca2dc624",
   "metadata": {},
   "outputs": [],
   "source": [
    "\n",
    "# 함수를 해석한 뒤 실행하는데, g_var를 사용할 것이라는 것을 먼저 확인함\n",
    "# 즉 실행하면서 컴파일러는\n",
    "# 1. g_var가 함수에 있다는 것을 확인한다\n",
    "# 2. 함수에 g_var에 필요하다는 것을 확인\n",
    "# 3. 전역변수가 있는지 확인하는 것보다, 함수에 문제가 있다는 것을 확인했기에 오류가 나옴\n",
    "\n",
    "g_var = 100       # 전역변수를 선언\n",
    "\n",
    "def func3():\n",
    "    #print(g_var)  # 이 g_var --> global g_var를 참조하지 못함, 오류라서 참조로 수정해둠\n",
    "    g_var = 200   # 이 g_var --> 지역변수로 선언 된 것\n",
    "    print(g_var)  \n",
    "\n",
    "func3()\n",
    "print(g_var)"
   ]
  },
  {
   "cell_type": "markdown",
   "id": "0630342b-12b6-4f25-876d-aeafe3b8381c",
   "metadata": {},
   "source": [
    "## 1.5 전역변수 수정"
   ]
  },
  {
   "cell_type": "code",
   "execution_count": null,
   "id": "efc159f5-bd62-48fe-9155-228f43604a0c",
   "metadata": {},
   "outputs": [],
   "source": [
    "g_var = 100\n",
    "def func3():\n",
    "    global g_var  # 이 함수 내에서 g_var는 전역변수를 사용할 것이라고 미리 얘기하는 것\n",
    "    print(g_var)\n",
    "    g_var = 200   # 전역 변수에 값을 할당  \n",
    "func3()\n",
    "print(g_var)      # g_var가 바뀜"
   ]
  },
  {
   "cell_type": "markdown",
   "id": "ec5252ae-8588-4449-b7da-d82e4ccf9661",
   "metadata": {},
   "source": [
    "## 1.6 Call By Value (값에 의한 호출)\n",
    "- 함수에 인수로 전달되는 변수가 스칼라 변수(숫자, 문자, 논리)일 경우"
   ]
  },
  {
   "cell_type": "code",
   "execution_count": null,
   "id": "25697f05-7d92-4205-a74f-665cea1ca5ff",
   "metadata": {},
   "outputs": [],
   "source": [
    "foo = 'ab'\n",
    "id(foo)"
   ]
  },
  {
   "cell_type": "code",
   "execution_count": null,
   "id": "ab99704c-a7e5-4418-b657-1bcbdac5d1d1",
   "metadata": {},
   "outputs": [],
   "source": [
    "def func1(f):\n",
    "    print(\"Before : {}의 주소는 {}\".format(f, id(f)))  #이때 f의 주소값은 foo의 주소값과 동일함\n",
    "    f *= 3 #매개변수는 지역변수\n",
    "    print(\"After : {}의 주소는 {}\".format(f, id(f)))   #값을 바꾸면 새로운 주소 사용\n",
    "func1(foo)\n",
    "print(\"함수 호출 후 foo : {}의 주소는 {}\".format(foo, id(foo)))"
   ]
  },
  {
   "cell_type": "markdown",
   "id": "de3be2a8-a935-4ed0-b0b2-615b433a5079",
   "metadata": {},
   "source": [
    "## 1.7 Call By Reference (참조에 의한 호출)\n",
    "- 함수에 전달되는 인수가 list, dictionary, set 인 경우 Call By Reference로 전달되는 것 처럼 보임"
   ]
  },
  {
   "cell_type": "code",
   "execution_count": null,
   "id": "61988835-75dd-4fef-aaa4-df842bcada58",
   "metadata": {},
   "outputs": [],
   "source": [
    "L = [1, 2, 3]\n",
    "print(\"L의 내용은 {}, 주소는 {}\".format(L, id(L)))"
   ]
  },
  {
   "cell_type": "code",
   "execution_count": null,
   "id": "daa4ea1d-e83d-4be8-8d39-35320d088d12",
   "metadata": {},
   "outputs": [],
   "source": [
    "def func2(f):\n",
    "    print(\"함수 내 before : L의 내용은 {}, 주소는 {}\".format(L, id(L)))\n",
    "    print(\"함수 내 before : f의 내용은 {}, 주소는 {}\".format(f, id(f)))\n",
    "    f.append(4)\n",
    "    print(\"함수 내 after : L의 내용은 {}, 주소는 {}\".format(L, id(L)))\n",
    "    print(\"함수 내 after : f의 내용은 {}, 주소는 {}\".format(f, id(f)))\n",
    "\n",
    "func2(L)\n",
    "print(\"함수 수행 후 L의 내용은 {}, 주소는 {}\".format(L, id(L)))"
   ]
  },
  {
   "cell_type": "markdown",
   "id": "be8fdba2-ff01-4e78-bbd7-4e717d4c40ea",
   "metadata": {},
   "source": [
    "# 2절 함수의 실행 결과를 반환하는 return\n",
    "- return 2,3과 같이 여러개의 값을 반환할 수 있음(하나의 튜플로 반환)"
   ]
  },
  {
   "cell_type": "code",
   "execution_count": null,
   "id": "694200e7-bad5-4e9d-af91-1a2f34ea83f2",
   "metadata": {},
   "outputs": [],
   "source": [
    "# return multiple values\n",
    "def swap(a, b):\n",
    "    \"a와 b를 바꾸는 함수\"\n",
    "    return b, a   # 이렇게 하면 자동으로 튜플로 인식함"
   ]
  },
  {
   "cell_type": "code",
   "execution_count": null,
   "id": "a4608797-b3f0-4de0-9b17-dc63bbbd3cba",
   "metadata": {},
   "outputs": [],
   "source": [
    "x, y = 5, 10   # 이렇게 하면 자동으로 튜플로 인식함\n",
    "print(\"함수 실행 전 x={}, y={}\".format(x,y))\n",
    "x, y = swap(x, y)\n",
    "print(\"함수 실행 후 x={}, y={}\".format(x,y))"
   ]
  },
  {
   "cell_type": "markdown",
   "id": "724f9311-1768-4b29-9339-5a3ca15a6fbe",
   "metadata": {},
   "source": [
    "# 3절 함수의 매개변수 ★중요☆\n",
    "## 3.1 기본값을 갖는 매개변수"
   ]
  },
  {
   "cell_type": "code",
   "execution_count": null,
   "id": "bd39e0c0-3bf1-4099-aced-8502e3aea3e3",
   "metadata": {},
   "outputs": [],
   "source": [
    "def MakeURL(ip, port = 80): #기본값을 가지는 인수 -> 반드시 순서인수 뒤에 와야 함\n",
    "    #순서인수, 기본값을 갖는 인수 순으로 적어야함\n",
    "    return \"http://{}:{}\".format(ip, port)"
   ]
  },
  {
   "cell_type": "code",
   "execution_count": null,
   "id": "03747ec1-942a-43a1-a57f-13472d2e7529",
   "metadata": {},
   "outputs": [],
   "source": [
    "print(MakeURL(\"localhost\"))\n",
    "print(MakeURL(\"localhost\", 8090))\n",
    "print(MakeURL(port=8090, ip=\"localhost\"))"
   ]
  },
  {
   "cell_type": "markdown",
   "id": "d7c7dc8d-f324-4d91-9b29-e8658c29d641",
   "metadata": {},
   "source": [
    "## 3.2 tuple(튜플)을 매개변수로 이용한 가변인수 설정\n",
    "- 가변인수 : 인수가 1개~n개인 인수\n",
    "- 대표적인 예시 -> print"
   ]
  },
  {
   "cell_type": "code",
   "execution_count": null,
   "id": "58fcd290-d1ff-40c5-b728-95ac86f78626",
   "metadata": {},
   "outputs": [],
   "source": [
    "print('hello', 'world')  #인수의 개수가 가변"
   ]
  },
  {
   "cell_type": "code",
   "execution_count": null,
   "id": "29ce31f9-927b-4daa-aac4-35640615cab4",
   "metadata": {},
   "outputs": [],
   "source": [
    "def add(args):\n",
    "    sum = 0\n",
    "    print(\"전달받은 args : \", args)\n",
    "    print(type(args))\n",
    "    for num in args:\n",
    "        sum = sum + num\n",
    "    return sum"
   ]
  },
  {
   "cell_type": "code",
   "execution_count": null,
   "id": "c3d6ac9a-28f2-44e3-80ae-996b4662f3ac",
   "metadata": {},
   "outputs": [],
   "source": [
    "add((1,))  #함수에 튜플로 넘겨서 동일한 결과 받을 수 있음"
   ]
  },
  {
   "cell_type": "code",
   "execution_count": null,
   "id": "1eb02399-0d93-49fc-854d-8220ab31335a",
   "metadata": {},
   "outputs": [],
   "source": [
    "# args 앞에 * 붙임 --> args가 튜플로 전달 받음 : 튜플 매개변수\n",
    "def add(*args):\n",
    "    sum = 0\n",
    "    print(\"전달받은 args : \", args)\n",
    "    print(type(args))\n",
    "    for num in args:\n",
    "        sum = sum + num\n",
    "    return sum"
   ]
  },
  {
   "cell_type": "code",
   "execution_count": null,
   "id": "289665fb-b3cf-480f-b651-e56d3c892c9a",
   "metadata": {},
   "outputs": [],
   "source": [
    "print(add(1,2,3))\n",
    "print(add(1,2,3,4,5))\n",
    "print(add(1))"
   ]
  },
  {
   "cell_type": "markdown",
   "id": "ebc8dd5b-269d-4041-b59a-b5af11537f40",
   "metadata": {},
   "source": [
    "### ※튜플 매개변수 사용간 주의사항※"
   ]
  },
  {
   "cell_type": "code",
   "execution_count": null,
   "id": "79593420-dc8f-4dad-a416-9fe2e4821b31",
   "metadata": {},
   "outputs": [],
   "source": [
    "def concat(*args, sep):    #*args로 받으면 어디서부터 어디까지 args인지 알 수 없음!!\n",
    "    return sep.join(args)  #맨 뒤의 아이만 sep이고, 나머지는 args이고싶다..."
   ]
  },
  {
   "cell_type": "code",
   "execution_count": null,
   "id": "f5b4f8c8-5d3b-4f06-886a-4281d36c2582",
   "metadata": {},
   "outputs": [],
   "source": [
    "#concat(\"C\", \"Python\", \"Oracle\", \"~\") # 앞의 세개를 \"~\" 로 연결해주고 싶은 것\n",
    "#해결책 1\n",
    "concat(\"C\", \"Python\", \"Oracle\", sep = \"~\")"
   ]
  },
  {
   "cell_type": "code",
   "execution_count": null,
   "id": "d4af4359-ba44-4c85-8e5a-2ab46f5f3749",
   "metadata": {},
   "outputs": [],
   "source": [
    "#해결책 2(강추)\n",
    "def concat(sep, *args): # 순서인수 > 튜플인수 순서로 설정해주기\n",
    "    return sep.join(args)\n",
    "concat(\"~\", \"C\", \"Python\", \"Oracle\")\n",
    "#concat(\"~\", \"C\", \"Python\", \"Oracle\", sep = \" \")    #이렇게 하면 sep을 두개 쓰게되어 오류생김\n",
    "\n",
    "#문제점\n",
    "def concat(sep = \"/\", *args): # 순서인수 > 튜플인수 순서로 설정해주기\n",
    "    return sep.join(args)\n",
    "concat(\"~\", \"C\", \"Python\", \"Oracle\") #이와 같이 sep이 덮어씌워짐"
   ]
  },
  {
   "cell_type": "markdown",
   "id": "8e3e301b-8d74-4025-95f5-4740ac651de2",
   "metadata": {},
   "source": [
    "## 3.3 키워드 매개변수 "
   ]
  },
  {
   "cell_type": "code",
   "execution_count": null,
   "id": "9a2e9a74-e0ba-4675-b874-ba58fc1ca4d4",
   "metadata": {},
   "outputs": [],
   "source": [
    "#해결책 3\n",
    "def concat(*args, sep=\"/\"): # 순서인수 > 튜플인수 > 키워드인수(기본값 갖는 매개변수)순서로 설정해주기\n",
    "    return sep.join(args)\n",
    "# 키워드인수 --> 넣지 않으면 원하는 결과와 달라지는 경우!!\n",
    "concat(\"C\", \"Python\", \"Oracle\", \"~\")"
   ]
  },
  {
   "cell_type": "code",
   "execution_count": null,
   "id": "eeb920a2-7743-4705-a18a-669df597773c",
   "metadata": {},
   "outputs": [],
   "source": [
    "concat(\"C\", \"Python\", \"Oracle\", sep = \"~\")"
   ]
  },
  {
   "cell_type": "markdown",
   "id": "54307ac7-ef8a-4e48-901e-eb3b7b8d291e",
   "metadata": {},
   "source": [
    "## 3.4 Dictionary(딕셔너리) 매개변수\n",
    "- 순서가 매우 중요!"
   ]
  },
  {
   "cell_type": "code",
   "execution_count": null,
   "id": "89d32e29-6c06-4a7c-aaa4-7b5e5f43364f",
   "metadata": {},
   "outputs": [],
   "source": [
    "def func(**args):   # ** -> args가 dictionary로 전달 됨\n",
    "    # print(args)\n",
    "    # print(type(args))\n",
    "    for key, value in args.items():\n",
    "        print(\"{} : {}\".format(key, value))"
   ]
  },
  {
   "cell_type": "code",
   "execution_count": null,
   "id": "fc12297f-ff87-4a87-afde-57b4c2eda6b6",
   "metadata": {},
   "outputs": [],
   "source": [
    "dict = {\"name\":\"홍길동\", \"age\":20}\n",
    "#func(dict)  이러면 오류남, 그럴거면 ** 안 썼음\n",
    "func(name = \"홍길동\", age = 20)  #마치 키워드 인수처럼 사용"
   ]
  },
  {
   "cell_type": "code",
   "execution_count": null,
   "id": "243ee886-2d5d-4066-a63b-45fe263ba421",
   "metadata": {},
   "outputs": [],
   "source": [
    "func(gamename = \"서바이벌C\", year = 2024, price = 33000)"
   ]
  },
  {
   "cell_type": "markdown",
   "id": "89122334-1d07-48ac-a17d-0adb3850ad1e",
   "metadata": {},
   "source": [
    "## 3.5 함수 정의시 매개변수의 순서\n",
    "- 순서인수(a) > 튜플인수(*b) > 키워드인수(c = ?와 같이, 매개변수 이름 명시해야하는 경우) > 딕셔너리인수(**d)"
   ]
  },
  {
   "cell_type": "code",
   "execution_count": null,
   "id": "e073b364-3f79-4c21-b4b3-45830adf0d46",
   "metadata": {},
   "outputs": [],
   "source": [
    "def func(a, b, c, *d, e=10, **f):\n",
    "    print(\"a = \", a)\n",
    "    print(\"b = \", b)\n",
    "    print(\"c = \", c)\n",
    "    print(\"d = \", d)\n",
    "    print(\"e = \", e)\n",
    "    print(\"f = \", f)"
   ]
  },
  {
   "cell_type": "code",
   "execution_count": null,
   "id": "fb59f03d-9cf8-4446-b6f6-e1f1a5f93d2b",
   "metadata": {},
   "outputs": [],
   "source": [
    "func(10, 20, 30, 1, 2, 3, 4, 5, height = 180, name = \"홍길동\", address = \"서울시\")\n",
    "#e를 skip해도 괜찮음\n",
    "print()\n",
    "func(10, 20, 30, 1, 2, 3, 4, 5, e = 100 ,height = 180, name = \"홍길동\", address = \"서울시\")\n",
    "#e를 넣어도 괜찮음"
   ]
  },
  {
   "cell_type": "code",
   "execution_count": null,
   "id": "53786d12-f88a-4d40-b8ac-0b878f899324",
   "metadata": {},
   "outputs": [],
   "source": [
    "#파이썬 -> 모든 변수를 객체 형태로 저장\n",
    "#파라미터 넘길 때 모두 주소를 넘김\n",
    "#객체 -> 주소 타고 가면 값이 있는 것"
   ]
  },
  {
   "cell_type": "markdown",
   "id": "8de81a44-d505-49b3-b570-dbec9eecfe6d",
   "metadata": {},
   "source": [
    "## 3.6 매개변수의 Unpacking\n",
    "### *튜플 매개변수 언패킹"
   ]
  },
  {
   "cell_type": "code",
   "execution_count": null,
   "id": "f21a47a7-b9d5-47d2-bcf6-420c2034cca1",
   "metadata": {},
   "outputs": [],
   "source": [
    "def add(*args):  #매개변수로 튜플을 그냥은 못 받음\n",
    "    sum = 0\n",
    "    for num in args:\n",
    "        sum = sum + num\n",
    "    return sum"
   ]
  },
  {
   "cell_type": "code",
   "execution_count": null,
   "id": "7ccedd75-cf3f-41d0-9b6e-b703bd70b4c1",
   "metadata": {},
   "outputs": [],
   "source": [
    "data = (1,2,3)\n",
    "# add(data) --> 이렇게 쓰면 오류남\n",
    "add(*data)   #튜플 변수의 언패킹"
   ]
  },
  {
   "cell_type": "markdown",
   "id": "97fa075d-094a-4c98-845d-c0e81637043b",
   "metadata": {},
   "source": [
    "### **딕셔너리 매개변수 언패킹"
   ]
  },
  {
   "cell_type": "code",
   "execution_count": null,
   "id": "9d144a80-1ba4-4a9b-9b37-a16dee9e024f",
   "metadata": {},
   "outputs": [],
   "source": [
    "def func(**args):  #매개변수에 딕셔너리를 못 받음\n",
    "    for key, value in args.items():\n",
    "        print(\"{} : {}\".format(key, value))"
   ]
  },
  {
   "cell_type": "code",
   "execution_count": null,
   "id": "d4273280-0a76-4e25-9bb0-b235b8c86d10",
   "metadata": {},
   "outputs": [],
   "source": [
    "dict = {\"name\" : \"홍길동\", \"age\" : 30} \n",
    "#func(dict) --> ERROR\n",
    "func(**dict)\n",
    "#func(name = \"홍길동\", age = 30)"
   ]
  },
  {
   "cell_type": "markdown",
   "id": "2ba94a01-9bec-4e1b-987c-168ad915f75c",
   "metadata": {},
   "source": [
    "# 4절 Lambda(람다)식\n",
    "- 람다식은 작은 익명함수를 의미함\n",
    "- 딱 1줄짜리 리턴만 있는 이름없는 함수\n",
    "- 실행할 문장을 한문장만 작성할 수 있음\n",
    "- 리스트 컴프리헨션과 같이 참조해서 학습할 것을 추천\n",
    "- 함수에 매개변수로 함수를 넣기 위해 사용\n",
    "- ex : map(), filter()에서 사용할 예정\n",
    "- map -> 빅데이터에서 잘못 측정된 값을 걸러내기 위해 필요"
   ]
  },
  {
   "cell_type": "code",
   "execution_count": null,
   "id": "bbb042c3-0fe0-4def-b221-dc19cfcdb3d3",
   "metadata": {},
   "outputs": [],
   "source": [
    "#일반 함수\n",
    "def add(a, b):\n",
    "    return a+b\n",
    "print(add(3,2))\n",
    "print(type(add))"
   ]
  },
  {
   "cell_type": "code",
   "execution_count": null,
   "id": "498fd6de-b0e1-43f2-ac73-4f4b754fd0f2",
   "metadata": {},
   "outputs": [],
   "source": [
    "#Lambda식\n",
    "# 아래는 편의상 대입 해준 것\n",
    "# 함수 = lambda (매개변수1, 변수2, ...) : (return값)\n",
    "add = lambda a,b : a + b\n",
    "print(add(3,5))\n",
    "print(type(add))"
   ]
  },
  {
   "cell_type": "code",
   "execution_count": null,
   "id": "cddce080-4ec7-4692-9b1e-35aaa39cd544",
   "metadata": {},
   "outputs": [],
   "source": [
    "(lambda a,b : a + b)(5, 6)"
   ]
  },
  {
   "cell_type": "markdown",
   "id": "d7a51d74-41e8-4433-97ba-c57fc75fe09c",
   "metadata": {},
   "source": [
    "### ※함수 매개변수로 람다식 이용(map, filter)"
   ]
  },
  {
   "cell_type": "code",
   "execution_count": 2,
   "id": "37e9ff50-b6eb-4c11-8cb4-1c9f3462b5f1",
   "metadata": {},
   "outputs": [
    {
     "data": {
      "text/plain": [
       "9"
      ]
     },
     "execution_count": 2,
     "metadata": {},
     "output_type": "execute_result"
    }
   ],
   "source": [
    "(lambda x : x**2)(3)"
   ]
  },
  {
   "cell_type": "code",
   "execution_count": 3,
   "id": "4f573460-6511-4c92-9f21-ea92822b66fc",
   "metadata": {},
   "outputs": [],
   "source": [
    "def map_template(func, L=[]): #func는 순서인수, L은 기본값을 가짐\n",
    "    result = []\n",
    "    for data in L: #두번째 매개변수의 데이터들 하나 하나씩\n",
    "        result.append(func(data))  #append에 func을 한 데이터를 넣음\n",
    "    return result"
   ]
  },
  {
   "cell_type": "code",
   "execution_count": 4,
   "id": "5b27b801-ef21-413a-8c53-fced24ac0d23",
   "metadata": {},
   "outputs": [
    {
     "data": {
      "text/plain": [
       "[1, 4, 9, 16, 25]"
      ]
     },
     "execution_count": 4,
     "metadata": {},
     "output_type": "execute_result"
    }
   ],
   "source": [
    "list_data = [1,2,3,4,5]\n",
    "# f = lambda x : x**2\n",
    "# map_template(f, list_data)\n",
    "map_template(lambda x : x**2, list_data)"
   ]
  },
  {
   "cell_type": "code",
   "execution_count": 6,
   "id": "73a5844c-386c-4e27-b656-7825226ffc01",
   "metadata": {},
   "outputs": [
    {
     "data": {
      "text/plain": [
       "[2, 4, 6, 8, 10]"
      ]
     },
     "execution_count": 6,
     "metadata": {},
     "output_type": "execute_result"
    }
   ],
   "source": [
    "list(map(lambda x:x*2, list_data))   #map()은 list로 한번 감싸줘야함"
   ]
  },
  {
   "cell_type": "code",
   "execution_count": 7,
   "id": "c90869d9-007d-43c7-ac6a-8c766f890b80",
   "metadata": {},
   "outputs": [
    {
     "data": {
      "text/plain": [
       "[2, 4, 6, 8, 10]"
      ]
     },
     "execution_count": 7,
     "metadata": {},
     "output_type": "execute_result"
    }
   ],
   "source": [
    "#list comprehension과 차이점 확인\n",
    "[data*2 for data in list_data]"
   ]
  },
  {
   "cell_type": "code",
   "execution_count": 8,
   "id": "3a82784d-42e5-4ba1-8397-99a8bdf581be",
   "metadata": {},
   "outputs": [],
   "source": [
    "#map 쓰는 이유 --> 엄청 크고 복잡한 데이터는 map 쓰는게 더 편하기 때문!"
   ]
  },
  {
   "cell_type": "code",
   "execution_count": null,
   "id": "4ba6de48-d350-45a0-98b7-2c0aab1dcdb1",
   "metadata": {},
   "outputs": [],
   "source": [
    "list_data = [1,2,3,4,5]"
   ]
  },
  {
   "cell_type": "code",
   "execution_count": 10,
   "id": "bbb54776-61fe-48e7-8baa-cdf86119efe4",
   "metadata": {},
   "outputs": [],
   "source": [
    "def filter_template(func, L=[]):  # func -> filtering 할 조건이 들어가있는 함수 넣어줌\n",
    "    result = []\n",
    "    for data in L:\n",
    "        if func(data):\n",
    "            result.append(data)\n",
    "    return result"
   ]
  },
  {
   "cell_type": "code",
   "execution_count": 13,
   "id": "a6284ed4-ce6b-4615-ad68-b4dc88153eae",
   "metadata": {},
   "outputs": [
    {
     "data": {
      "text/plain": [
       "[2, 4]"
      ]
     },
     "execution_count": 13,
     "metadata": {},
     "output_type": "execute_result"
    }
   ],
   "source": [
    "filter_template(lambda x : x%2 == 0, list_data)"
   ]
  },
  {
   "cell_type": "code",
   "execution_count": 15,
   "id": "2483c54b-8db4-4401-9ec6-4283ebde59d8",
   "metadata": {},
   "outputs": [
    {
     "data": {
      "text/plain": [
       "[2, 4]"
      ]
     },
     "execution_count": 15,
     "metadata": {},
     "output_type": "execute_result"
    }
   ],
   "source": [
    "list(filter(lambda x : x%2==0, list_data))"
   ]
  },
  {
   "cell_type": "code",
   "execution_count": 17,
   "id": "4e45996a-56d3-4b81-bc7d-bf52d2b2cc8e",
   "metadata": {},
   "outputs": [
    {
     "data": {
      "text/plain": [
       "[2, 4]"
      ]
     },
     "execution_count": 17,
     "metadata": {},
     "output_type": "execute_result"
    }
   ],
   "source": [
    "#list comprehension\n",
    "[data for data in list_data if data%2==0]"
   ]
  },
  {
   "cell_type": "markdown",
   "id": "7b8b216e-346a-4df8-bc11-89dc66c20d1d",
   "metadata": {},
   "source": [
    "# 5절 파이썬 내장 함수\n",
    "- print처럼 import 없이 즉시 사용 가능한 함수\n",
    "- ch05 함수 교안 p.32부터 참조"
   ]
  },
  {
   "cell_type": "code",
   "execution_count": null,
   "id": "cd2f6914-1f7c-4154-a6ca-e64472fc3149",
   "metadata": {},
   "outputs": [],
   "source": []
  },
  {
   "cell_type": "code",
   "execution_count": null,
   "id": "958206d7-1415-47af-ac6e-1009017e91c8",
   "metadata": {},
   "outputs": [],
   "source": []
  },
  {
   "cell_type": "code",
   "execution_count": null,
   "id": "0b30b315-c25c-4e0d-9804-be71f9de1d84",
   "metadata": {},
   "outputs": [],
   "source": []
  },
  {
   "cell_type": "code",
   "execution_count": null,
   "id": "d2806a24-a4cf-4494-b125-47d3fc27ca50",
   "metadata": {},
   "outputs": [],
   "source": []
  }
 ],
 "metadata": {
  "kernelspec": {
   "display_name": "Python 3 (ipykernel)",
   "language": "python",
   "name": "python3"
  },
  "language_info": {
   "codemirror_mode": {
    "name": "ipython",
    "version": 3
   },
   "file_extension": ".py",
   "mimetype": "text/x-python",
   "name": "python",
   "nbconvert_exporter": "python",
   "pygments_lexer": "ipython3",
   "version": "3.11.7"
  }
 },
 "nbformat": 4,
 "nbformat_minor": 5
}
