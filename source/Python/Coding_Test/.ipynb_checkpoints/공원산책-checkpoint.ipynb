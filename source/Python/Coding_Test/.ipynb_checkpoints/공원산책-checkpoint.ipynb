{
 "cells": [
  {
   "cell_type": "markdown",
   "id": "08141691-349b-4640-a3ed-4a3cadd5f5ee",
   "metadata": {},
   "source": [
    "```\n",
    "지나다니는 길을 'O', 장애물을 'X'로 나타낸 직사각형 격자 모양의 공원에서 로봇 강아지가 산책을 하려합니다.\n",
    "산책은 로봇 강아지에 미리 입력된 명령에 따라 진행하며, 명령은 다음과 같은 형식으로 주어집니다.\r\n",
    "\r\n",
    "[\"방향 거리\", \"방향 거리\" … ]\r\n",
    "예를 들어 \"E 5\"는 로봇 강아지가 현재 위치에서 동쪽으로 5칸 이동했다는 의미입\n",
    "다. 로봇 강아지는 명령을 수행하기 전에 다음 두 가지를 먼저 확인합니다.\r\n",
    "\r\n",
    "주어진 방향으로 이동할 때 공원을 벗어나는지 확인합니다.\r\n",
    "주어진 방향으로 이동 중 장애물을 만나는지 확인합니다.\r\n",
    "위 두 가지중 어느 하나라도 해당된다면, 로봇 강아지는 해당 명령을 무시하고 다음 명령을 수행합니다.\r\n",
    "공원의 가로 길이가 W, 세로 길이가 H라고 할 때, 공원의 좌측 상단의 좌표는 (0, 0), 우측 하단의 좌표는 (H - 1, W - 1) 입니다.\n",
    "```"
   ]
  },
  {
   "cell_type": "code",
   "execution_count": 1,
   "id": "68c1f76f-0767-4a95-b2bf-692374fdd867",
   "metadata": {},
   "outputs": [],
   "source": [
    "# 1. Park 지도만들기 -> print로 확인까지 하기\n",
    "# 2. 최대 가로, 최대 세로 확인하기 -> 직사각형이니 가로/세로는 받는 str의 len과 list의 len 확인하기\n",
    "# 3. Route 받아서 방향과 거리 쪼개기 -> split 함수로 띄어쓰기 쪼개서 받기\n",
    "# 4. 현재 좌표와 목표 좌표 사이 확인하기\n",
    "#  4-1. 장애물 존재 유무 확인\n",
    "#  4-2. 벽 끝인지 확인\n",
    "# 5. 3~4 반복\n",
    "# 6. 반복하고 최종 결과 보내기"
   ]
  },
  {
   "cell_type": "code",
   "execution_count": 13,
   "id": "a26470d9-5673-49b0-94df-dd23c6f6a622",
   "metadata": {},
   "outputs": [],
   "source": [
    "def solution(park, routes):\n",
    "    #가로, 세로 확인\n",
    "    width = len(park[0]) - 1\n",
    "    height = len(park) - 1\n",
    "\n",
    "    map_park = []\n",
    "    startPoint = [0,0]\n",
    "    stpH = 0\n",
    "    \n",
    "    #Park 지도 제작\n",
    "    #지도 제작하면서 동시에 시작지점 넣어주기\n",
    "    for p in park:\n",
    "        arr = []\n",
    "        st = 0\n",
    "        while st <= width:\n",
    "            if p[st] == 'S':\n",
    "                startPoint = [st, stpH]\n",
    "            arr.append(p[st])\n",
    "            st+=1\n",
    "        else:\n",
    "            map_park.append(arr)\n",
    "        \n",
    "        stpH += 1\n",
    "    #print(map_park)\n",
    "    #print(startPoint)\n",
    "\n",
    "    #------ 현재까지 세팅된 값 : 가로, 세로, 지도(2차원 리스트), 시작지점 좌표 ------#\n",
    "    \n",
    "    nowPos = startPoint\n",
    "    \n",
    "    for route in routes:\n",
    "        print(\"Now Pos : {}\".format(nowPos))\n",
    "        way, distance = route.split(' ')\n",
    "        distance = int(distance)\n",
    "        \n",
    "        #E -> W -> S -> N 순으로 확인\n",
    "        #E 확인 -> OK\n",
    "        if way == 'E':\n",
    "            if nowPos[0] + distance >= width:\n",
    "                break\n",
    "            #가로 확인 == 현재의 앞 좌표 확인해서 자기의 뒤 좌표부터 걸리는게 있는지 확인\n",
    "            for info in map_park[nowPos[1]][nowPos[0]:nowPos[0]+distance]: \n",
    "                if info == 'X':\n",
    "                    break #이러고 아무것도 안 함\n",
    "            else:\n",
    "                nowPos[0] += distance\n",
    "\n",
    "        #W 확인 -> OK\n",
    "        if way == 'W':\n",
    "            if nowPos[0] - distance < 0:\n",
    "                #print(nowPos, distance)\n",
    "                break\n",
    "            #가로 확인 == 현재의 앞 좌표 확인해서 자기의 뒤 좌표부터 걸리는게 있는지 확인\n",
    "            for info in map_park[nowPos[1]][nowPos[0]-distance:nowPos[0]]:\n",
    "                if info == 'X':\n",
    "                    break #이러고 아무것도 안 함\n",
    "            else:\n",
    "                nowPos[0] -= distance\n",
    "\n",
    "        if way == 'S':\n",
    "            print(height)\n",
    "            if nowPos[1] + distance > height:  #0 + 3 > 2\n",
    "                break\n",
    "            for idx in range(nowPos[1], nowPos[1] + distance):  #현재 높이 ~ 최대 가는 높이\n",
    "                #세로로 x있는지 확인해서 break\n",
    "                if map_park[nowPos[0]][idx] == 'X':\n",
    "                    break\n",
    "            else:\n",
    "                nowPos[1] += distance\n",
    "\n",
    "    \n",
    "        if way == 'N':\n",
    "            if nowPos[1] - distance < 0:  #1 - 2 < 0\n",
    "                break\n",
    "            for idx in range(nowPos[1]-distance, nowPos[1] + 1):  #최저 가는 높이 ~ 현재 높이\n",
    "                #세로로 x있는지 확인해서 break\n",
    "                if map_park[nowPos[0]][idx] == 'X':\n",
    "                    break\n",
    "            else:\n",
    "                nowPos[1] += distance\n",
    "            \n",
    "            \n",
    "    print(nowPos)\n",
    "\n",
    "    answer = [nowPos[1], nowPos[0]]\n",
    "    \n",
    "    return answer"
   ]
  },
  {
   "cell_type": "code",
   "execution_count": 14,
   "id": "99931f4a-2fd3-46b7-8941-2f3bca862a63",
   "metadata": {},
   "outputs": [
    {
     "name": "stdout",
     "output_type": "stream",
     "text": [
      "[['S', 'O', 'O'], ['O', 'O', 'O'], ['O', 'O', 'O']]\n",
      "Now Pos : [0, 0]\n",
      "[0, 0]\n",
      "[['S', 'O', 'O'], ['O', 'X', 'X'], ['O', 'O', 'O']]\n",
      "Now Pos : [0, 0]\n",
      "[0, 0]\n"
     ]
    },
    {
     "data": {
      "text/plain": [
       "[0, 0]"
      ]
     },
     "execution_count": 14,
     "metadata": {},
     "output_type": "execute_result"
    }
   ],
   "source": [
    "solution([\"SOO\",\"OOO\",\"OOO\"],[\"E 2\",\"S 3\",\"W 1\"])\n",
    "solution([\"SOO\", \"OXX\", \"OOO\"], [\"E 2\", \"S 2\", \"W 1\"])"
   ]
  },
  {
   "cell_type": "code",
   "execution_count": null,
   "id": "34a449e1-a082-4e04-891b-a1733087e6dc",
   "metadata": {},
   "outputs": [],
   "source": []
  }
 ],
 "metadata": {
  "kernelspec": {
   "display_name": "Python 3 (ipykernel)",
   "language": "python",
   "name": "python3"
  },
  "language_info": {
   "codemirror_mode": {
    "name": "ipython",
    "version": 3
   },
   "file_extension": ".py",
   "mimetype": "text/x-python",
   "name": "python",
   "nbconvert_exporter": "python",
   "pygments_lexer": "ipython3",
   "version": "3.11.7"
  }
 },
 "nbformat": 4,
 "nbformat_minor": 5
}
