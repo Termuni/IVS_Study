{
 "cells": [
  {
   "cell_type": "code",
   "execution_count": null,
   "id": "73891a9e-39d0-4178-b4cc-5c268373d0d5",
   "metadata": {},
   "outputs": [],
   "source": []
  },
  {
   "cell_type": "markdown",
   "id": "b806632a-830c-40fe-9039-e9f0f7c2901f",
   "metadata": {},
   "source": [
    "어떤 게임에는 붕대 감기라는 기술이 있습니다.\r\n",
    "\r\n",
    "붕대 감기는 t초 동안 붕대를 감으면서 1초마다 x만큼의 체력을 회복합니다\n",
    ". t초 연속으로 붕대를 감는 데 성공한다면 y만큼의 체력을 추가로 회복합니다\n",
    ". 게임 캐릭터에는 최대 체력이 존재해 현재 체력이 최대 체력보다 커지는 것은 불가능합니다.\r\n",
    "\r\n",
    "기술을 쓰는 도중 몬스터에게 공격을 당하면 기술이 취소되고, 공격을 당하는 순간에는 체력을 회복할 수 없습\n",
    "니다. 몬스터에게 공격당해 기술이 취소당하거나 기술이 끝나면 그 즉시 붕대 감기를 다시 사용하며, 연속 성공 시간이 0으로 초기화됩니다.\r\n",
    "\r\n",
    "몬스터의 공격을 받으면 정해진 피해량만큼 현재 체력이 줄\n",
    "어듭니다. 이때, 현재 체력이 0 이하가 되면 캐릭터가 죽으며 더 이상 체력을 회복할 수 없습니다.\r\n",
    "\r\n",
    "당신은 붕대감기 기술의 정보, 캐릭터가 가진 최대 체력과 몬스터의 공격 패턴이 주어질 때 캐릭터가 끝까지 생존할 수 있는지 궁금합니다.\r\n",
    "\r\n",
    "붕대 감기 기\n",
    "술의 시전 시간,\n",
    " 1초당 회복량, 추가 회복량을 담은 1차원 정수 배열\n",
    "\n",
    " bandage와 최대 체력을 의미하는 정\n",
    "수 health, 몬스터의 공격 시간과 피해량을 담은 2차원 정수 배열\n",
    "\n",
    " attacks가 매개변\n",
    "\n",
    "수로 주어집니다. 모든 공격이 끝난 직후 남은 체력을 return 하도록 solution 함수를\n",
    " 완성해 주세요. 만약 몬스터의 공격을 받고 캐릭터의 체력이 0 이하가 되어 죽는다면 -1을 return 해주세요."
   ]
  },
  {
   "cell_type": "markdown",
   "id": "9cc1b276-8f8f-4e97-bdbf-26e6a471ae36",
   "metadata": {},
   "source": [
    "bandage는 [시전 시간, 초당 회복량, 추가 회복량] 형태의 길이가 3인 정수 배열입니다.\n",
    "이때 5,1,5 의 경우\n",
    "0초 -> 0\n",
    "1초 -> +1\n",
    "2초 -> +1\n",
    "3초 -> +1\n",
    "4초 -> +1\n",
    "5초 -> +1 +5"
   ]
  },
  {
   "cell_type": "code",
   "execution_count": null,
   "id": "cff6bcc5-5dc9-43bd-9381-c649bc40bf12",
   "metadata": {},
   "outputs": [],
   "source": [
    "#1. bandage 정보 확인, 값 세팅\n",
    "#2. 체력 확인\n",
    "#3. 시간 시작 후 한 줄씩 데미지 입히기\n",
    "#4. 중간에 체력 다 떨어지면 죽이기\n",
    "#5. 다 끝나면 return 하기"
   ]
  },
  {
   "cell_type": "code",
   "execution_count": 10,
   "id": "f2d4f0f3-88fd-4e45-ba88-4759e8f560d5",
   "metadata": {},
   "outputs": [],
   "source": [
    "def solution(bandage, health, attacks):\n",
    "    #bandage 정보 확인 후 값 세팅\n",
    "    coolTime, healPerSec, additionalHeal = bandage\n",
    "    #DEBUG : print(coolTime, healPerSec, additionalHeal)\n",
    "    answer = health\n",
    "    #시간 세팅\n",
    "    time = 0\n",
    "    healtime = 0\n",
    "    endTime = attacks[len(attacks)-1][0]\n",
    "\n",
    "    #모든 시간을 확인하고 그 시간에 따라 한 번씩 데미지?\n",
    "    #매 초마다 공격 맨 앞의 시간과 일치하는지 확인, 일치하면 데미지 입히고 attacks에서 빼내기\n",
    "    while time < endTime:\n",
    "        time += 1\n",
    "        healtime += 1\n",
    "        if time == attacks[0][0]: #적 공격하는 시간\n",
    "            answer -= attacks[0][1]\n",
    "            del attacks[0]\n",
    "            healtime = 0\n",
    "            #print(attacks)\n",
    "        else:                     #적 공격 없는 시간\n",
    "            answer += healPerSec\n",
    "    \n",
    "    return answer"
   ]
  },
  {
   "cell_type": "code",
   "execution_count": 11,
   "id": "913ce46b-6c7a-40d4-b377-56eb3b4e68a9",
   "metadata": {},
   "outputs": [
    {
     "name": "stdout",
     "output_type": "stream",
     "text": [
      "[[2, 1]]\n",
      "[]\n"
     ]
    },
    {
     "data": {
      "text/plain": [
       "8"
      ]
     },
     "execution_count": 11,
     "metadata": {},
     "output_type": "execute_result"
    }
   ],
   "source": [
    "solution([5,1,5], 10, [[1,1],[2,1]])"
   ]
  },
  {
   "cell_type": "code",
   "execution_count": null,
   "id": "fed568ef-73a6-4b32-a2e4-4175a523a7a8",
   "metadata": {},
   "outputs": [],
   "source": []
  }
 ],
 "metadata": {
  "kernelspec": {
   "display_name": "Python 3 (ipykernel)",
   "language": "python",
   "name": "python3"
  },
  "language_info": {
   "codemirror_mode": {
    "name": "ipython",
    "version": 3
   },
   "file_extension": ".py",
   "mimetype": "text/x-python",
   "name": "python",
   "nbconvert_exporter": "python",
   "pygments_lexer": "ipython3",
   "version": "3.11.7"
  }
 },
 "nbformat": 4,
 "nbformat_minor": 5
}
