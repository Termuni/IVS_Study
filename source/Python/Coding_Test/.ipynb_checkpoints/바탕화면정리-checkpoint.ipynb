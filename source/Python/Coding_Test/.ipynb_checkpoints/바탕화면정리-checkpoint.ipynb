{
 "cells": [
  {
   "cell_type": "markdown",
   "id": "b46e8d55-00fe-4a19-ab8f-4e5b723d47b8",
   "metadata": {},
   "source": [
    "```\n",
    "문제 설명.\r\n",
    "\r\n",
    "컴퓨터 바탕화면은 각 칸이 정사각형인 격자판입\n",
    "다. 이때 컴퓨터 바탕화면의 상태를 나타낸 문자열 배열 wallpaper가 주어집\n",
    "다. 파일들은 바탕화면의 격자칸에 위\n",
    "하고 바탕화면의 격자점들은 바탕화면의 가장 왼쪽 위를 (0, 0)으로 시작해 (세로 좌표, 가로 좌표)로 표현합\n",
    "다. 빈칸은 \".\", 파일이 있는 칸은 \"#\"의 값을 가집\n",
    "다. 드래그를 하면 파일들을 선택할 수 있고, 선택된 파일들을 삭제할 수 있습\n",
    "다. 머쓱이는 최소한의 이동거리를 갖는 한 번의 드래그로 모든 파일을 선택해서 한 번에 지우합니다.니다.\r\n",
    "\r\n",
    "드래그는 바탕화면의 격자점 S(lux, luy)를 마우스 왼쪽 버튼으로 클릭\n",
    " 상태로 격자점 E(rdx, rdy)로 \n",
    "동한 뒤 마우스 왼쪽 버튼을 떼는 행\n",
    "입니다. 이때, \"점 S에서 점 E로 드래그한다\"고\n",
    "표현하고 점 S와 점 E를 각각 드래그의 시작점, 끝점이라고 표현합니다.\r\n",
    "\r\n",
    "점 S(lux, luy)에서 점 E(rdx, rdy)로 드래\n",
    "를 할 때, \"드래그 한 거리\"는 |rdx - lux| + |rdy - luy|로 --> fabs, abs의 float 타입 정의합니다.\r\n",
    "\r\n",
    "점 S에서 점 E로 드래그를 하면 바탕화면에서 두 격자점을 각각 왼쪽 위, 오른쪽 아래로 하는 직사각형 내부에 있는 모든 파일이 선택됩니다.\r\n",
    "\r\n",
    "예를 들어 wallpaper = [\".#...\", \"..#..\", \"...#.\"]인 바탕화면을 그림으로 나타내면.#...\n",
    "..#..\n",
    "...#.니다.\r\n",
    "eg1.png\r\n",
    "이러한 바탕화\n",
    "에서 다음 그림과 같이 S(0, 1)에서 E(3, 4)로 드래그하면 세 개의\n",
    "파일이 모두 선택되므로 드래그 한 거리 (3 - 0) + (4 - 1) = 6을 최솟값으로 모든 파\n",
    "다.\r\n",
    "eg1-2.png\r\n",
    "(0, 0)에서 (3, 5)로 드래그해도 모\n",
    " 파일을 선택할 수 있지만 이때 드래그 한 거리는 (3 - 0) + (5 - 0) = 8이고 이전의 방법보다 거리가 늘어납니다.\r\n",
    "\r\n",
    "머쓱이의 컴퓨터 바탕화면의 상태를 나타내는 문자열 배열 wallp\n",
    "per가 매개변수로 주어질 때 바탕화면의 \n",
    "일들을 한 번에 삭제하기 위해 최소한의 이동거리를 갖는 드래그의 시작점과 끝점을 담은 정수 배열을 return하는 solu\n",
    "ion 함수를 작성해 주세요. 드래그의 시작점이 (lux, luy), 끝점이 (rdx, rdy)라면 정수 배열 [lux, luy, rdx, rd\n",
    "```y]를 return하면 됩니다."
   ]
  },
  {
   "cell_type": "code",
   "execution_count": 21,
   "id": "ddb5aff4-ba6d-458c-8481-458b1d699e63",
   "metadata": {},
   "outputs": [],
   "source": [
    "#미리 minX, minY, maxX, maxY 정의\n",
    "# minX는 find('#'), maxX('#')\n",
    "# minY는 최초에 '#' 나오면 그 값 저장, maxY는 최후에 '#'나오면 그 값 저장\n",
    "def solution(wallpaper):\n",
    "    #최초에 min, max 값 저장, 이때 길이 1~50임\n",
    "    minX = 51\n",
    "    maxX = 0\n",
    "    minY = 51 \n",
    "    maxY = 0\n",
    "    \n",
    "    for idx, p in enumerate(wallpaper):\n",
    "        if p.find('#') >= 0:\n",
    "            minX = min(minX, p.find('#'))\n",
    "            minY = min(minY, idx)\n",
    "        if p.rfind('#') >= 0:\n",
    "            maxX = max(maxX, p.rfind('#'))\n",
    "            maxY = max(maxY, idx)\n",
    "    \n",
    "    mini = [minY, minX]\n",
    "    maxi = [maxY+1, maxX+1]\n",
    "    answer = []\n",
    "    answer.extend(mini)\n",
    "    answer.extend(maxi)\n",
    "    return answer\n",
    "    "
   ]
  },
  {
   "cell_type": "code",
   "execution_count": 22,
   "id": "c12b6a5c-06f8-45c2-bbc8-b5e5070cfa9e",
   "metadata": {},
   "outputs": [
    {
     "data": {
      "text/plain": [
       "[0, 0, 7, 9]"
      ]
     },
     "execution_count": 22,
     "metadata": {},
     "output_type": "execute_result"
    }
   ],
   "source": [
    "solution([\".#...\", \"..#..\", \"...#.\"])\n",
    "solution([\"..........\", \".....#....\", \"......##..\", \"...##.....\", \"....#.....\"])\n",
    "solution([\".##...##.\", \"#..#.#..#\", \"#...#...#\", \".#.....#.\", \"..#...#..\", \"...#.#...\", \"....#....\"])"
   ]
  },
  {
   "cell_type": "code",
   "execution_count": null,
   "id": "938fb713-15d1-45ac-a5b2-c490a79518ed",
   "metadata": {},
   "outputs": [],
   "source": []
  }
 ],
 "metadata": {
  "kernelspec": {
   "display_name": "Python 3 (ipykernel)",
   "language": "python",
   "name": "python3"
  },
  "language_info": {
   "codemirror_mode": {
    "name": "ipython",
    "version": 3
   },
   "file_extension": ".py",
   "mimetype": "text/x-python",
   "name": "python",
   "nbconvert_exporter": "python",
   "pygments_lexer": "ipython3",
   "version": "3.11.7"
  }
 },
 "nbformat": 4,
 "nbformat_minor": 5
}
