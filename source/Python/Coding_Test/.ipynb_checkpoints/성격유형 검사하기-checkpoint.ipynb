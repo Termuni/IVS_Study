{
 "cells": [
  {
   "cell_type": "markdown",
   "id": "5c37e7b0-2251-4ca4-a94c-beca5befbbbf",
   "metadata": {},
   "source": [
    "```\n",
    "\n",
    "```\n",
    "                   \n",
    "\n",
    "1.2.3.4.5.6.7.\n",
    "                \n",
    "\n",
    "\n",
    "\n",
    "\n",
    "\n",
    "\n",
    " -> 50ㄷ대 50ㅇ이임이며면 sortㄱ가간가나낟나다달다라 ㅅ수순 ㅃ빠빨빠르른르너넉너ㄴㄹ르ㄹㄹ르른ㄱ거?\n",
    "\n",
    "\n",
    "ㅁ뮤뮻뮤ㅁABC \"\""
   ]
  },
  {
   "cell_type": "code",
   "execution_count": 45,
   "id": "63d5f420-ea52-4371-a901-b215f3f39473",
   "metadata": {},
   "outputs": [],
   "source": [
    "# 먼저 해당 사람에 대해 질문 유형과 선택값 리스트 저장\n",
    "# 저장할때 알파벳 순으로 저장, 만약 알파벳 순서가 반대인 경우 8-답변값 적용\n",
    "# 저장된 값 하나씩 읽으면서 조건따라 값 입력\n",
    "# 인덱스 하나씩 점수 봐서 양/음수 따라 결과 출력\n",
    "def solution(survey, choices):\n",
    "    ansList = []\n",
    "    answer = ''\n",
    "    \n",
    "    #ansList 하나씩 입력\n",
    "    #이때 NA같이 앞뒤 뒤집힌거는 다시 뒤집어서 입력\n",
    "    for idx, sur in enumerate(survey):\n",
    "        if sur[0] < sur[1]:\n",
    "            ansList.append([sur,choices[idx]])\n",
    "        else:\n",
    "            temp = '{}{}'.format(sur[1],sur[0])\n",
    "            ansList.append([temp, 8-choices[idx]])\n",
    "\n",
    "    #print(\"Debug : \", ansList)\n",
    "    MBTI = [0,0,0,0]\n",
    "    for ans in ansList:\n",
    "        if ans[0] == 'RT':\n",
    "            MBTI[0] = MBTI[0] + 4 - ans[1]\n",
    "        elif ans[0] == 'CF':\n",
    "            MBTI[1] = MBTI[1] + 4 - ans[1]\n",
    "        elif ans[0] == 'JM':\n",
    "            MBTI[2] = MBTI[2] + 4 - ans[1]\n",
    "        elif ans[0] == 'AN':\n",
    "            MBTI[3] = MBTI[3] + 4 - ans[1]\n",
    "\n",
    "    #print(\"Debug : \", MBTI)\n",
    "    if MBTI[0] >= 0:\n",
    "        answer += 'R'\n",
    "    else:\n",
    "        answer += 'T'\n",
    "        \n",
    "    if MBTI[1] >= 0:\n",
    "        answer += 'C'\n",
    "    else:\n",
    "        answer += 'F'\n",
    "        \n",
    "    if MBTI[2] >= 0:\n",
    "        answer += 'J'\n",
    "    else:\n",
    "        answer += 'M'\n",
    "        \n",
    "    if MBTI[3] >= 0:\n",
    "        answer += 'A'\n",
    "    else:\n",
    "        answer += 'N'\n",
    "\n",
    "    return answer"
   ]
  },
  {
   "cell_type": "code",
   "execution_count": 46,
   "id": "e013df5f-6282-4f1e-b9f0-a271d69a5901",
   "metadata": {},
   "outputs": [
    {
     "name": "stdout",
     "output_type": "stream",
     "text": [
      "Debug :  [['AN', 5], ['CF', 3], ['JM', 6], ['RT', 7], ['AN', 3]]\n",
      "Debug :  [-3, 1, -2, 0]\n"
     ]
    },
    {
     "data": {
      "text/plain": [
       "'TCMA'"
      ]
     },
     "execution_count": 46,
     "metadata": {},
     "output_type": "execute_result"
    }
   ],
   "source": [
    "solution([\"AN\", \"CF\", \"MJ\", \"RT\", \"NA\"], [5, 3, 2, 7, 5])"
   ]
  },
  {
   "cell_type": "code",
   "execution_count": null,
   "id": "5f46cd55-d473-4541-af4e-2038f7fa135b",
   "metadata": {},
   "outputs": [],
   "source": []
  }
 ],
 "metadata": {
  "kernelspec": {
   "display_name": "Python 3 (ipykernel)",
   "language": "python",
   "name": "python3"
  },
  "language_info": {
   "codemirror_mode": {
    "name": "ipython",
    "version": 3
   },
   "file_extension": ".py",
   "mimetype": "text/x-python",
   "name": "python",
   "nbconvert_exporter": "python",
   "pygments_lexer": "ipython3",
   "version": "3.11.7"
  }
 },
 "nbformat": 4,
 "nbformat_minor": 5
}
