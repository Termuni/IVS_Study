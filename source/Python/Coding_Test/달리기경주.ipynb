{
 "cells": [
  {
   "cell_type": "markdown",
   "id": "f3c35d58-45a3-4a42-a134-a1c6513c62ed",
   "metadata": {},
   "source": [
    "```\n",
    "문제 설명\r\n",
    "얀에서는 매년 달리기 경주가 열립니다\n",
    " 해설진들은 선수들이 자기 바로 앞의 선수를 추월할 때 추월한 선수의 이름을 부릅니다\n",
    " 예를 들어 1등부터 3등까지 \"mumu\", \"soe\", \"poe\" 선수들이 순서대로 달리고 있을 때\n",
    " 해설진이 \"soe\"선수를 불렀다면 2등인 \"soe\" 선수가 1등인 \"mumu\" 선수를 추월했다는 것입니다\n",
    " 즉 \"soe\" 선수가 1등, \"mumu\" 선수가 2등으로 바뀝니다.\r\n",
    "\r\n",
    "선수들의 이름이 1등부터 현재 등수 순서대로 담긴 문자열 배열 playe\n",
    "s와 해설진이 부른 이름을 담은 문자열 배열 callings가 매개변수로 주어질\n",
    "때, 경주가 끝났을 때 선수들의 이름을 1등부터 등수 순서대로 배열에 담아 return 하는 solution 함수를 완성해주세요.\n",
    "```"
   ]
  },
  {
   "cell_type": "code",
   "execution_count": 2,
   "id": "25232bc7-0cc6-4abf-a379-43683f98091e",
   "metadata": {},
   "outputs": [],
   "source": [
    "def solution(players, callings):\n",
    "    for name in callings:\n",
    "        for idx, player in enumerate(players):\n",
    "            if name == player:\n",
    "                players[idx - 1], players[idx] = players[idx], players[idx -1]\n",
    "    answer = players\n",
    "    return answer\n",
    "#--> Time out Error"
   ]
  },
  {
   "cell_type": "code",
   "execution_count": 3,
   "id": "3ef1bf3e-a374-48c1-8179-5eac926e30af",
   "metadata": {},
   "outputs": [],
   "source": [
    "#이름마다 번호를 \n",
    "def solution(players, callings):\n",
    "    countList = range(len(players))\n",
    "    \n",
    "    for name in callings:\n",
    "        countList[players.find(name)] += 1\n",
    "    answer = []\n",
    "    return answer"
   ]
  },
  {
   "cell_type": "code",
   "execution_count": 4,
   "id": "b884c35e-f6d7-46cc-8795-524a841a5316",
   "metadata": {},
   "outputs": [
    {
     "ename": "AttributeError",
     "evalue": "'list' object has no attribute 'find'",
     "output_type": "error",
     "traceback": [
      "\u001b[1;31m---------------------------------------------------------------------------\u001b[0m",
      "\u001b[1;31mAttributeError\u001b[0m                            Traceback (most recent call last)",
      "Cell \u001b[1;32mIn[4], line 1\u001b[0m\n\u001b[1;32m----> 1\u001b[0m solution([\u001b[38;5;124m\"\u001b[39m\u001b[38;5;124mmumu\u001b[39m\u001b[38;5;124m\"\u001b[39m, \u001b[38;5;124m\"\u001b[39m\u001b[38;5;124msoe\u001b[39m\u001b[38;5;124m\"\u001b[39m, \u001b[38;5;124m\"\u001b[39m\u001b[38;5;124mpoe\u001b[39m\u001b[38;5;124m\"\u001b[39m, \u001b[38;5;124m\"\u001b[39m\u001b[38;5;124mkai\u001b[39m\u001b[38;5;124m\"\u001b[39m, \u001b[38;5;124m\"\u001b[39m\u001b[38;5;124mmine\u001b[39m\u001b[38;5;124m\"\u001b[39m], [\u001b[38;5;124m\"\u001b[39m\u001b[38;5;124mkai\u001b[39m\u001b[38;5;124m\"\u001b[39m, \u001b[38;5;124m\"\u001b[39m\u001b[38;5;124mkai\u001b[39m\u001b[38;5;124m\"\u001b[39m, \u001b[38;5;124m\"\u001b[39m\u001b[38;5;124mmine\u001b[39m\u001b[38;5;124m\"\u001b[39m, \u001b[38;5;124m\"\u001b[39m\u001b[38;5;124mmine\u001b[39m\u001b[38;5;124m\"\u001b[39m])\n",
      "Cell \u001b[1;32mIn[3], line 6\u001b[0m, in \u001b[0;36msolution\u001b[1;34m(players, callings)\u001b[0m\n\u001b[0;32m      3\u001b[0m countList \u001b[38;5;241m=\u001b[39m \u001b[38;5;28mrange\u001b[39m(\u001b[38;5;28mlen\u001b[39m(players))\n\u001b[0;32m      5\u001b[0m \u001b[38;5;28;01mfor\u001b[39;00m name \u001b[38;5;129;01min\u001b[39;00m callings:\n\u001b[1;32m----> 6\u001b[0m     countList[players\u001b[38;5;241m.\u001b[39mfind(name)] \u001b[38;5;241m+\u001b[39m\u001b[38;5;241m=\u001b[39m \u001b[38;5;241m1\u001b[39m\n\u001b[0;32m      7\u001b[0m answer \u001b[38;5;241m=\u001b[39m []\n\u001b[0;32m      8\u001b[0m \u001b[38;5;28;01mreturn\u001b[39;00m answer\n",
      "\u001b[1;31mAttributeError\u001b[0m: 'list' object has no attribute 'find'"
     ]
    }
   ],
   "source": [
    "solution([\"mumu\", \"soe\", \"poe\", \"kai\", \"mine\"], [\"kai\", \"kai\", \"mine\", \"mine\"])"
   ]
  },
  {
   "cell_type": "code",
   "execution_count": null,
   "id": "3e879ba6-d78a-49ee-87b0-7f9874aafe22",
   "metadata": {},
   "outputs": [],
   "source": []
  }
 ],
 "metadata": {
  "kernelspec": {
   "display_name": "Python 3 (ipykernel)",
   "language": "python",
   "name": "python3"
  },
  "language_info": {
   "codemirror_mode": {
    "name": "ipython",
    "version": 3
   },
   "file_extension": ".py",
   "mimetype": "text/x-python",
   "name": "python",
   "nbconvert_exporter": "python",
   "pygments_lexer": "ipython3",
   "version": "3.11.7"
  }
 },
 "nbformat": 4,
 "nbformat_minor": 5
}
