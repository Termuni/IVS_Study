{
 "cells": [
  {
   "cell_type": "markdown",
   "id": "57fd0005-dfc0-4762-ba27-83ebcf628ff6",
   "metadata": {},
   "source": [
    "### CH01. Python 개요 및 환경설정\n",
    "(주석은 #이용해서 가능"
   ]
  },
  {
   "cell_type": "markdown",
   "id": "83e8fb7a-05c0-4a32-9f40-8a58d05285b6",
   "metadata": {},
   "source": [
    "### 1. 주피터 노트북 사용법\n",
    "    - shift + Enter -> 포커스 셀 실행 후 다음셀로 이동\n",
    "    - alt + Enter -> 포커스 셀 실행, 다음셀 생성 후 이동\n",
    "    - ctrl + Enter -> 포커스 셀 실행, 포커스 이동 없음\n",
    "    - Enter(또는 좌클릭) -> 셀 포커스 (편집 상태로 이동)"
   ]
  },
  {
   "cell_type": "code",
   "execution_count": null,
   "id": "f19f8506-9d9e-478b-9c48-d1800f746661",
   "metadata": {},
   "outputs": [],
   "source": [
    "#esc + m -> 해당 셀을 마크업 셀로 변경, 해당 셀은 html처럼 변경됨\n",
    "#esc + b -> 아래로 한 줄 추가\n",
    "#esc + a -> 위로 한 줄 추가\n",
    "#shift+enter -> 해당 줄 실행"
   ]
  },
  {
   "cell_type": "code",
   "execution_count": 1,
   "id": "2d462c31-2128-478a-ac4b-37216e12cf8e",
   "metadata": {},
   "outputs": [
    {
     "name": "stdout",
     "output_type": "stream",
     "text": [
      "Hello\n"
     ]
    }
   ],
   "source": [
    "print('Hello')"
   ]
  },
  {
   "cell_type": "code",
   "execution_count": 2,
   "id": "741bf344-d8e1-442f-aba3-8a61772c960e",
   "metadata": {},
   "outputs": [
    {
     "name": "stdout",
     "output_type": "stream",
     "text": [
      "Hello\n"
     ]
    }
   ],
   "source": [
    "print(\"Hello\") #이와 같이 print 안에 '' 도 되고, \"\" 도 됨"
   ]
  },
  {
   "cell_type": "code",
   "execution_count": 3,
   "id": "aa1aba25-a006-4304-b43b-cd2547f30356",
   "metadata": {},
   "outputs": [
    {
     "data": {
      "text/plain": [
       "3"
      ]
     },
     "execution_count": 3,
     "metadata": {},
     "output_type": "execute_result"
    }
   ],
   "source": [
    "a = 1\n",
    "b = '2'\n",
    "a + int(b) # 문자 + 숫자 불가능, 형 변환 필요"
   ]
  },
  {
   "cell_type": "code",
   "execution_count": null,
   "id": "fcb38c0e-9968-406f-a957-e33d850e5707",
   "metadata": {},
   "outputs": [],
   "source": [
    "#잘못해서 무한 반복문 실행한 경우\n",
    "#for i in range(10000000000000):  #괄호 대신 ':' 이용해서 들여쓰기 \n",
    "#    print(i)   #왼쪽의 중지 버튼 눌러서 중지 가능\n",
    "#               #또는 위의 Kernal Menu에서 Kernal Shut Down 가능"
   ]
  },
  {
   "cell_type": "markdown",
   "id": "89da0732-def3-4d47-bed8-b4953385a5c6",
   "metadata": {},
   "source": [
    "### 2. ESC + 핫키들\n",
    "- dd : 셀 삭제\n",
    "- a : 윗 셀 추가\n",
    "- b : 아랫 셀 추가\n",
    "- m : 마크다운 셀로 전환\n",
    "- y : 코드 셀로 전환"
   ]
  },
  {
   "cell_type": "markdown",
   "id": "e3edee6b-1131-4185-bc6c-c3a2c2bf10c2",
   "metadata": {},
   "source": [
    "### 3. 마크다운이란?\n",
    "    - 코드와 함께 문서화 가능\n",
    "\n",
    "여러줄 설명은\n",
    "줄바꿈으로 할 수 있으나\n",
    "틸트없으면 한 줄로 변합니다\n",
    "\n",
    "```\n",
    "여러줄 설명은\n",
    "줄바꿈으로 가능\n",
    "```"
   ]
  },
  {
   "cell_type": "markdown",
   "id": "6510e46b-b807-4127-9b2f-ca6840c2c82a",
   "metadata": {},
   "source": [
    "### Table of contents\n",
    "좌측 화면의 메뉴를 보면 # 세번 통해서 만들어놓은 마크다운 셀들 볼 수 있음"
   ]
  },
  {
   "cell_type": "code",
   "execution_count": 4,
   "id": "790a7b23-0708-4a94-9d57-7466275cccc5",
   "metadata": {},
   "outputs": [
    {
     "name": "stdout",
     "output_type": "stream",
     "text": [
      " Volume in drive C has no label.\n",
      " Volume Serial Number is 82E2-A836\n",
      "\n",
      " Directory of C:\\IVS\\C_Python\\source\\Python\n",
      "\n",
      "\n",
      " Directory of C:\\IVS\\C_Python\\source\\Python\n",
      "\n",
      "\n",
      " Directory of C:\\IVS\\C_Python\\source\\Python\n",
      "\n",
      "\n",
      " Directory of C:\\IVS\\C_Python\\source\\Python\n",
      "\n",
      "\n",
      " Directory of C:\\IVS\\C_Python\\source\\Python\n",
      "\n",
      "\n",
      " Directory of C:\\IVS\\C_Python\\source\\Python\n",
      "\n",
      "\n",
      " Directory of C:\\IVS\\C_Python\\source\\Python\n",
      "\n",
      "\n",
      " Directory of C:\\IVS\\C_Python\\source\\Python\n",
      "\n",
      "\n",
      " Directory of C:\\IVS\\C_Python\\source\\Python\n",
      "\n"
     ]
    },
    {
     "name": "stderr",
     "output_type": "stream",
     "text": [
      "File Not Found\n"
     ]
    }
   ],
   "source": [
    "!dir #주피터 노트북에서 '!' 사용 시 cmd 명령어 수행 가능"
   ]
  }
 ],
 "metadata": {
  "kernelspec": {
   "display_name": "Python 3 (ipykernel)",
   "language": "python",
   "name": "python3"
  },
  "language_info": {
   "codemirror_mode": {
    "name": "ipython",
    "version": 3
   },
   "file_extension": ".py",
   "mimetype": "text/x-python",
   "name": "python",
   "nbconvert_exporter": "python",
   "pygments_lexer": "ipython3",
   "version": "3.11.7"
  }
 },
 "nbformat": 4,
 "nbformat_minor": 5
}
