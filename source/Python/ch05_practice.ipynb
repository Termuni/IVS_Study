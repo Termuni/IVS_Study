{
 "cells": [
  {
   "cell_type": "markdown",
   "id": "3db48804-5f8b-455b-9d50-4dce4f19aff7",
   "metadata": {},
   "source": [
    "숙제로!\n",
    "\n",
    "1. 함수의 인자로 리스트를 받은 후, 리스트 내에 있는 모든 정수값에 대하여 최\n",
    "대값 과최소값 을return하 는함 수get_max_min(data_list)를 구현하 고호\r\n",
    "출하시오\r\n",
    "2. 1 ~45 사이의로 또번호 6개를반 환하는make_lotto() 함수를정 의하호출\r\n",
    "-> return 해야함! 직접 쳐보기\n",
    "하시오\r\n",
    "3. 3 69게 임은숫자에3 ,6,9 가들어 가면박수를치고,  나머 지는숫 는그대로\r",
    " \n",
    "이야기하 게임이다.  369게임을시 뮬레이 션하는함수 를정의하라\r\n",
    "1단계: game_369([1,2,3,4,5,6,7,8,9,13,20,33])- 결과: [1,2, ‘짝’, 4,5, ‘짝’,7,8, ‘짝’, ‘짝’, 20,‘짝짝’]\r\n",
    " 2단계: game_369(1,2,3,4,5,6,7,8,9,13,20,33) #튜플인수이용- 결과: [1,2, ‘짝’, 4,5, ‘짝’,7,8, ‘짝’, ‘짝’,]\n",
    " 20,‘짝짝’"
   ]
  },
  {
   "cell_type": "code",
   "execution_count": 1,
   "id": "db4fcd14-cbf0-40af-b49e-8be209b92aaa",
   "metadata": {},
   "outputs": [
    {
     "data": {
      "text/plain": [
       "(232, 1)"
      ]
     },
     "execution_count": 1,
     "metadata": {},
     "output_type": "execute_result"
    }
   ],
   "source": [
    "#1\n",
    "list_ = [1,232,3,4,71]\n",
    "def get_max_min(data_list):\n",
    "    return max(data_list), min(data_list)\n",
    "get_max_min(list_)"
   ]
  },
  {
   "cell_type": "code",
   "execution_count": 2,
   "id": "c25a83fa-ee09-4e72-a4e9-397a5a103089",
   "metadata": {},
   "outputs": [],
   "source": [
    "#2 -> skip"
   ]
  },
  {
   "cell_type": "code",
   "execution_count": 36,
   "id": "10863070-31b9-4204-8638-863ca5c8b31e",
   "metadata": {},
   "outputs": [
    {
     "name": "stdout",
     "output_type": "stream",
     "text": [
      "None\n"
     ]
    }
   ],
   "source": [
    "#3\n",
    "#[1,2,3,4,5,6,7,8,9,13,20,33]\n",
    "def game_369(num_list):\n",
    "    return\n",
    "print(game_369([1,2,3,4,5,6,7,8,9,13,20,33]))"
   ]
  },
  {
   "cell_type": "code",
   "execution_count": 39,
   "id": "a630da94-7059-4071-a918-7daa70682878",
   "metadata": {},
   "outputs": [],
   "source": [
    "def game_369(*num_list):\n",
    "    return\n",
    "\n",
    "game_369(1,2,3,4,5,6,7,8,9,13,20,33)"
   ]
  },
  {
   "cell_type": "code",
   "execution_count": null,
   "id": "61bb1085-50ca-404d-b433-fd25a5fd5c0e",
   "metadata": {},
   "outputs": [],
   "source": []
  }
 ],
 "metadata": {
  "kernelspec": {
   "display_name": "Python 3 (ipykernel)",
   "language": "python",
   "name": "python3"
  },
  "language_info": {
   "codemirror_mode": {
    "name": "ipython",
    "version": 3
   },
   "file_extension": ".py",
   "mimetype": "text/x-python",
   "name": "python",
   "nbconvert_exporter": "python",
   "pygments_lexer": "ipython3",
   "version": "3.11.7"
  }
 },
 "nbformat": 4,
 "nbformat_minor": 5
}
