{
 "cells": [
  {
   "cell_type": "markdown",
   "id": "a3e74d5b-7e38-450c-97f8-9e05ab2bf66f",
   "metadata": {},
   "source": [
    "문제 설명\n",
    "머쓱이는 태어난 지 6개월 된 조카를 돌보고 있습니다. 조카는 아직 \"aya\", \"ye\", \"woo\", \"ma\" 네 가지 발음을 최대 한 번씩 사용해 조합한(이어 붙인) 발음밖에 하지 못합니다. 문자열 배열 babbling이 매개변수로 주어질 때, 머쓱이의 조카가 발음할 수 있는 단어의 개수를 return하도록 solution 함수를 완성해주세요.\n",
    "\n",
    "제한사항\n",
    "1 ≤ babbling의 길이 ≤ 100\n",
    "1 ≤ babbling[i]의 길이 ≤ 15\n",
    "babbling의 각 문자열에서 \"aya\", \"ye\", \"woo\", \"ma\"는 각각 최대 한 번씩만 등장합니다.\n",
    "즉, 각 문자열의 가능한 모든 부분 문자열 중에서 \"aya\", \"ye\", \"woo\", \"ma\"가 한 번씩만 등장합니다.\n",
    "문자열은 알파벳 소문자로만 이루어져 있습니다.\n",
    "입출력 예\n",
    "babbling\tresult\n",
    "[\"aya\", \"yee\", \"u\", \"maa\", \"wyeoo\"]\t1\n",
    "[\"ayaye\", \"uuuma\", \"ye\", \"yemawoo\", \"ayaa\"]\t3\n",
    "입출력 예 설명\n",
    "입출력 예 #1\n",
    "\n",
    "[\"aya\", \"yee\", \"u\", \"maa\", \"wyeoo\"]에서 발음할 수 있는 것은 \"aya\"뿐입니다. 따라서 1을 return합니다.\n",
    "입출력 예 #2\n",
    "\n",
    "[\"ayaye\", \"uuuma\", \"ye\", \"yemawoo\", \"ayaa\"]에서 발음할 수 있는 것은 \"aya\" + \"ye\" = \"ayaye\", \"ye\", \"ye\" + \"ma\" + \"woo\" = \"yemawoo\"로 3개입니다. 따라서 3을 return합니다.\n",
    "유의사항\n",
    "네 가지를 붙여 만들 수 있는 발음 이외에는 어떤 발음도 할 수 없는 것으로 규정합니다. 예를 들어 \"woowo\"는 \"woo\"는 발음할 수 있지만 \"wo\"를 발음할 수 없기 때문에 할 수 없는 발음입니다."
   ]
  },
  {
   "cell_type": "code",
   "execution_count": 44,
   "id": "fe71378d-36a9-433b-9afd-81319cc9aac8",
   "metadata": {},
   "outputs": [
    {
     "name": "stdout",
     "output_type": "stream",
     "text": [
      " \n",
      " e\n",
      " a\n",
      "w oo\n"
     ]
    },
    {
     "data": {
      "text/plain": [
       "1"
      ]
     },
     "execution_count": 44,
     "metadata": {},
     "output_type": "execute_result"
    }
   ],
   "source": [
    "def checkAvailable(word):\n",
    "    if word.find(\"aya\") == -1 and word.find(\"ye\") == -1 and word.find(\"woo\") == -1 and word.find(\"ma\") == -1:\n",
    "        return -1\n",
    "    return 1\n",
    "def solution(babbling):\n",
    "    checkList = []\n",
    "    answer = 0\n",
    "    for word in babbling:  #for\n",
    "        while checkAvailable(word) != -1: #while\n",
    "            word = word.replace('aya', ' ')\n",
    "            word = word.replace('ye', ' ')\n",
    "            word = word.replace('woo', ' ')\n",
    "            word = word.replace('ma', ' ')\n",
    "            print(word)\n",
    "            #while\n",
    "        checkList.append(word)\n",
    "        #for\n",
    "    \n",
    "    for word in checkList:\n",
    "        for c in word:\n",
    "            if c != ' ':\n",
    "                break\n",
    "        else:\n",
    "            answer += 1\n",
    "    return answer\n",
    "\n",
    "word = [\"aya\", \"yee\", \"u\", \"maa\", \"wyeoo\"]\n",
    "solution(word)\n",
    "#print(checkAvailable(word))"
   ]
  },
  {
   "cell_type": "code",
   "execution_count": null,
   "id": "dadd4dfe-43a8-45b1-8f10-735d62252836",
   "metadata": {},
   "outputs": [],
   "source": []
  }
 ],
 "metadata": {
  "kernelspec": {
   "display_name": "Python 3 (ipykernel)",
   "language": "python",
   "name": "python3"
  },
  "language_info": {
   "codemirror_mode": {
    "name": "ipython",
    "version": 3
   },
   "file_extension": ".py",
   "mimetype": "text/x-python",
   "name": "python",
   "nbconvert_exporter": "python",
   "pygments_lexer": "ipython3",
   "version": "3.11.7"
  }
 },
 "nbformat": 4,
 "nbformat_minor": 5
}
