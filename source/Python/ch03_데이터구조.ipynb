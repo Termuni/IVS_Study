{
 "cells": [
  {
   "cell_type": "code",
   "execution_count": 1,
   "id": "de0f5315-1ce5-43b1-8b08-1d4765c6309d",
   "metadata": {},
   "outputs": [],
   "source": [
    "#튜플 -> 데이터 수정 불가\n",
    "#딕셔러니 -> 구조체 같은 거\n",
    "#셋 -> 배열 중복데이터 안 넣어짐\n",
    "#저장방식 : 데이터 변수(+함수)가 따로 잡혀있고, 변수명은 포인터 역할\n",
    "#리스트에 시간 쓰기"
   ]
  },
  {
   "cell_type": "markdown",
   "id": "35d0adc4-3e97-46af-8e92-1f5dec14a15d",
   "metadata": {},
   "source": [
    "# 데이터 구조\n",
    "- 리스트 [], 튜플 (), 딕셔너리 {구조체와 유사}, 셋(집합)"
   ]
  },
  {
   "cell_type": "markdown",
   "id": "e2373e3c-601c-4ca1-9d6b-dcc9d37fb626",
   "metadata": {},
   "source": [
    "# 1절 리스트\n",
    "## 1.1 리스트 만들기\n",
    " - [] 이용\n",
    " - 인덱스 : 0부터 시작, -1은 맨 마지막 인덱스\n",
    " - 슬라이싱([from:to:step])을 이용하여 추출 가능"
   ]
  },
  {
   "cell_type": "code",
   "execution_count": 2,
   "id": "90e37145-9e78-49d7-ba64-c72d89edbca5",
   "metadata": {},
   "outputs": [
    {
     "data": {
      "text/plain": [
       "list"
      ]
     },
     "execution_count": 2,
     "metadata": {},
     "output_type": "execute_result"
    }
   ],
   "source": [
    "fruits = ['banana', 'apple', 'orange', 'grape', 0]   #늘리고 줄이기 가능, 변수 타입 섞어서 출력 가능\n",
    "type(fruits)"
   ]
  },
  {
   "cell_type": "code",
   "execution_count": 3,
   "id": "bcbb576e-db2f-49df-9ac1-8ea9aff2a487",
   "metadata": {},
   "outputs": [
    {
     "name": "stdout",
     "output_type": "stream",
     "text": [
      "['banana', 'apple', 'orange', 'grape', 0]\n",
      "banana\n"
     ]
    }
   ],
   "source": [
    "print(fruits)\n",
    "print(fruits[0])"
   ]
  },
  {
   "cell_type": "code",
   "execution_count": 4,
   "id": "807b96c4-01e9-4fa9-9825-ad771eeb2955",
   "metadata": {},
   "outputs": [
    {
     "name": "stdout",
     "output_type": "stream",
     "text": [
      "mango\n"
     ]
    }
   ],
   "source": [
    "fruits[0] = 'mango'\n",
    "print(fruits[0])"
   ]
  },
  {
   "cell_type": "code",
   "execution_count": 5,
   "id": "5c7e4698-e0a9-4043-84f9-0a66e2d29788",
   "metadata": {},
   "outputs": [
    {
     "name": "stdout",
     "output_type": "stream",
     "text": [
      "mango\n",
      "apple\n",
      "orange\n",
      "grape\n",
      "0\n"
     ]
    }
   ],
   "source": [
    "for fruit in fruits:\n",
    "    print(fruit)"
   ]
  },
  {
   "cell_type": "code",
   "execution_count": 6,
   "id": "588673a7-487b-475c-9d62-f27dbb140ffd",
   "metadata": {},
   "outputs": [
    {
     "name": "stdout",
     "output_type": "stream",
     "text": [
      "0번째 과일은 mango\n",
      "1번째 과일은 apple\n",
      "2번째 과일은 orange\n",
      "3번째 과일은 grape\n",
      "4번째 과일은 0\n",
      "0\n",
      "grape\n",
      "orange\n",
      "apple\n",
      "mango\n"
     ]
    }
   ],
   "source": [
    "for i in [0, 1, 2, 3, 4]:\n",
    "    print(\"{}번째 과일은 {}\".format(i, fruits[i]))\n",
    "for i in range(len(fruits)):\n",
    "    print(fruits[len(fruits) - 1 - i])"
   ]
  },
  {
   "cell_type": "code",
   "execution_count": 7,
   "id": "11d07ff4-f516-4a6f-ab72-14b840de7db5",
   "metadata": {},
   "outputs": [
    {
     "name": "stdout",
     "output_type": "stream",
     "text": [
      "<enumerate object at 0x0000022BA00AD8F0>\n",
      "0 re\n",
      "1 2\n",
      "2 0\n"
     ]
    }
   ],
   "source": [
    "fruits = ['re', 2, 0]\n",
    "print(enumerate(fruits))\n",
    "for idx, value in enumerate(fruits):\n",
    "    print(idx, value)"
   ]
  },
  {
   "cell_type": "markdown",
   "id": "28ab9b9a-965a-46be-a34b-a3d7513e957e",
   "metadata": {},
   "source": [
    "## 1.2 기본정보 조회"
   ]
  },
  {
   "cell_type": "code",
   "execution_count": 8,
   "id": "933c0ffb-5b67-446d-ae4b-924c358152ed",
   "metadata": {},
   "outputs": [],
   "source": [
    "#데이터와 함께 함수를 사용 가능\n",
    "#교안 ch03 p.3에 있음"
   ]
  },
  {
   "cell_type": "code",
   "execution_count": 9,
   "id": "ced0f6a8-847f-4cdd-af13-acfe8d34d5ee",
   "metadata": {},
   "outputs": [
    {
     "name": "stdout",
     "output_type": "stream",
     "text": [
      "요소의 수 : 5\n",
      "최소값 : 1\n",
      "최대값 : 5\n"
     ]
    }
   ],
   "source": [
    "numbers = [1, 2, 3, 4, 5]\n",
    "print(\"요소의 수 :\", len(numbers))\n",
    "print(\"최소값 :\", min(numbers))\n",
    "print(\"최대값 :\", max(numbers))"
   ]
  },
  {
   "cell_type": "markdown",
   "id": "d2197e84-2dff-48f2-a50c-ac5b97400f03",
   "metadata": {},
   "source": [
    "## 1.3 요소 추가"
   ]
  },
  {
   "cell_type": "code",
   "execution_count": 10,
   "id": "e017a328-0536-4447-af92-3b44b0d09f4a",
   "metadata": {},
   "outputs": [],
   "source": [
    "# + 통해 두 리스트 연결 가능\n",
    "# * 통해 리스트를 n만큼 반복 가능\n",
    "# append() : 요소 뒤에 추가\n",
    "# extend() : 리스트의 요소별로 뒤에 추가"
   ]
  },
  {
   "cell_type": "code",
   "execution_count": 11,
   "id": "88961b0a-58a7-431d-aee1-3f63b3f43458",
   "metadata": {},
   "outputs": [
    {
     "data": {
      "text/plain": [
       "[1, 2, 3, 1, 2, 3]"
      ]
     },
     "execution_count": 11,
     "metadata": {},
     "output_type": "execute_result"
    }
   ],
   "source": [
    "numbers = [1, 2, 3]\n",
    "numbers = numbers + numbers\n",
    "numbers"
   ]
  },
  {
   "cell_type": "code",
   "execution_count": 12,
   "id": "01a69ebd-adfc-424d-baae-3bf173be368e",
   "metadata": {},
   "outputs": [
    {
     "name": "stdout",
     "output_type": "stream",
     "text": [
      "[1, 2, 3, 1, 2, 3, 1, 2, 3]\n"
     ]
    }
   ],
   "source": [
    "numbers = [1, 2, 3]\n",
    "print(numbers * 3)"
   ]
  },
  {
   "cell_type": "code",
   "execution_count": 13,
   "id": "70e924c6-9d6e-413a-8ce3-68f5479797cf",
   "metadata": {},
   "outputs": [
    {
     "name": "stdout",
     "output_type": "stream",
     "text": [
      "[1, 2, 3, 4]\n"
     ]
    }
   ],
   "source": [
    "numbers = [1, 2, 3]\n",
    "numbers.append(4)\n",
    "print(numbers)"
   ]
  },
  {
   "cell_type": "code",
   "execution_count": 14,
   "id": "41a9b5ca-6ced-48dc-86e7-e1774ef9daf8",
   "metadata": {},
   "outputs": [
    {
     "data": {
      "text/plain": [
       "[1, 2, 3, 4, [5, 6]]"
      ]
     },
     "execution_count": 14,
     "metadata": {},
     "output_type": "execute_result"
    }
   ],
   "source": [
    "numbers = [1, 2, 3, 4]\n",
    "num = [5, 6]\n",
    "#numbers를 [1,2,3,4, [5,6] ] 으로\n",
    "numbers.append(num)\n",
    "numbers"
   ]
  },
  {
   "cell_type": "code",
   "execution_count": 15,
   "id": "beb75b30-9a20-4fa9-b15c-c3f4f102c7a9",
   "metadata": {},
   "outputs": [
    {
     "data": {
      "text/plain": [
       "[1, 2, 3, 4, 5, 6]"
      ]
     },
     "execution_count": 15,
     "metadata": {},
     "output_type": "execute_result"
    }
   ],
   "source": [
    "numbers = [1, 2, 3, 4]\n",
    "num = [5, 6]\n",
    "#numbers를 [1,2,3,4,5,6]으로\n",
    "numbers.extend(num)\n",
    "numbers"
   ]
  },
  {
   "cell_type": "code",
   "execution_count": 16,
   "id": "051f4b50-097f-45a0-9dc5-a32aefa3d3f3",
   "metadata": {},
   "outputs": [
    {
     "data": {
      "text/plain": [
       "[1, 2, 3, 4, 5, 6]"
      ]
     },
     "execution_count": 16,
     "metadata": {},
     "output_type": "execute_result"
    }
   ],
   "source": [
    "numbers = [1, 2, 3, 4]\n",
    "num = [5, 6]\n",
    "#numbers를 [1,2,3,4,5,6] 으로\n",
    "numbers = numbers + num\n",
    "numbers"
   ]
  },
  {
   "cell_type": "code",
   "execution_count": 17,
   "id": "9fbbc66c-9b44-49b4-a12d-35e9379c35ce",
   "metadata": {},
   "outputs": [
    {
     "data": {
      "text/plain": [
       "[1, 2, 3, 4, 'Hello']"
      ]
     },
     "execution_count": 17,
     "metadata": {},
     "output_type": "execute_result"
    }
   ],
   "source": [
    "numbers = [1, 2, 3, 4]\n",
    "numbers.append(\"Hello\")\n",
    "numbers"
   ]
  },
  {
   "cell_type": "code",
   "execution_count": 18,
   "id": "52748ffc-f3e0-47c1-9a43-90fb8a594d67",
   "metadata": {},
   "outputs": [
    {
     "data": {
      "text/plain": [
       "[1, 2, 3, 4, 'H', 'e', 'l', 'l', 'o']"
      ]
     },
     "execution_count": 18,
     "metadata": {},
     "output_type": "execute_result"
    }
   ],
   "source": [
    "numbers = [1, 2, 3, 4]\n",
    "numbers.extend(\"Hello\")\n",
    "numbers   #문자열로 보고 얻어냄"
   ]
  },
  {
   "cell_type": "markdown",
   "id": "a2145ef4-dee2-4258-9f5a-549ed66b3fb3",
   "metadata": {},
   "source": [
    "## 1.4 인덱싱\n",
    "- index(찾고자 하는 값, n) : 찾고자 하는 값이 n번 인덱스부터 찾아 그 위치를 반환\n",
    "- count(찾고자 하는 값) : 찾고자 하는 값이 몇번 나오는지 확인 후 반환"
   ]
  },
  {
   "cell_type": "code",
   "execution_count": 19,
   "id": "401ccbff-7a21-4f75-bf14-eca39c50165b",
   "metadata": {},
   "outputs": [
    {
     "name": "stdout",
     "output_type": "stream",
     "text": [
      "2가 몇개인지 : 2\n",
      "5가 몇개인지 : 0\n"
     ]
    }
   ],
   "source": [
    "numbers = [1,2,3,4, [2,3,4], [1,2,3], 1,2,3]\n",
    "print(\"2가 몇개인지 : {}\".format(numbers.count(2)))\n",
    "print(\"5가 몇개인지 : {}\".format(numbers.count(5)))"
   ]
  },
  {
   "cell_type": "code",
   "execution_count": 20,
   "id": "b1b49ea9-71e2-4628-81de-9742a93c1180",
   "metadata": {},
   "outputs": [
    {
     "data": {
      "text/plain": [
       "True"
      ]
     },
     "execution_count": 20,
     "metadata": {},
     "output_type": "execute_result"
    }
   ],
   "source": [
    "2 in numbers  #"
   ]
  },
  {
   "cell_type": "code",
   "execution_count": 21,
   "id": "1efab068-7f7d-4ba7-b231-75562aa82bf3",
   "metadata": {},
   "outputs": [
    {
     "data": {
      "text/plain": [
       "6"
      ]
     },
     "execution_count": 21,
     "metadata": {},
     "output_type": "execute_result"
    }
   ],
   "source": [
    "numbers.index(1, 2) #3번째 인덱스부터 2가 처음 나오는 인덱스를 반환\n",
    "#len(numbers)"
   ]
  },
  {
   "cell_type": "markdown",
   "id": "a504f3cb-280c-4c3f-9715-5aa31543a267",
   "metadata": {},
   "source": [
    "## 1.5 리스트의 원하는 내용만 추출\n",
    "- 슬라이싱 [from:to:step] 을 이용 : 원하는 \"인덱스\"의 값 추출\n",
    "- 리스트 컴프리헨션을 이용 : 원하는 \"데이터\"만 추출"
   ]
  },
  {
   "cell_type": "code",
   "execution_count": 22,
   "id": "3f932467-c675-46e4-a00b-46cc8b0a31d8",
   "metadata": {},
   "outputs": [
    {
     "data": {
      "text/plain": [
       "[20, 19, 18, 13, 12, 10, 9, 5, 3, 1]"
      ]
     },
     "execution_count": 22,
     "metadata": {},
     "output_type": "execute_result"
    }
   ],
   "source": [
    "numbers = [1,3,5,9,10,12,13,18,19,20]\n",
    "numbers[::-1]"
   ]
  },
  {
   "cell_type": "code",
   "execution_count": 23,
   "id": "85de8dd3-2401-478f-afc9-31847adcfe54",
   "metadata": {},
   "outputs": [
    {
     "data": {
      "text/plain": [
       "[1, 5, 10, 13, 19]"
      ]
     },
     "execution_count": 23,
     "metadata": {},
     "output_type": "execute_result"
    }
   ],
   "source": [
    "numbers[::2] #얘는 2개씩 건너뛰면서 원하는 \"인덱스\"의 값을 가져옴, 즉 인덱스가 짝수인 값을 추출"
   ]
  },
  {
   "cell_type": "code",
   "execution_count": 24,
   "id": "2449be11-51ea-48c0-9519-dc29e59b0687",
   "metadata": {},
   "outputs": [
    {
     "data": {
      "text/plain": [
       "[10, 12, 18, 20]"
      ]
     },
     "execution_count": 24,
     "metadata": {},
     "output_type": "execute_result"
    }
   ],
   "source": [
    "#리스트 컴프리헨션 -> 인덱스 中 원하는 \"값\"을 가져옴\n",
    "result = []\n",
    "for num in numbers:\n",
    "    if num%2 == 0:\n",
    "        result.append(num)\n",
    "result"
   ]
  },
  {
   "cell_type": "code",
   "execution_count": 25,
   "id": "b682c514-9f77-47a3-9f89-fa8acaae0481",
   "metadata": {},
   "outputs": [
    {
     "data": {
      "text/plain": [
       "[10, 12, 18, 20]"
      ]
     },
     "execution_count": 25,
     "metadata": {},
     "output_type": "execute_result"
    }
   ],
   "source": [
    "#리스트 컴프리헨션\n",
    "#result = [num for num in numbers] -> append로 그냥 전부 넣는것과 동일함\n",
    "result = [num for num in numbers if num % 2 == 0] #이러면 if 뒤의 조건문 만족되는 것들만 list로 만들어 줌\n",
    "result"
   ]
  },
  {
   "cell_type": "code",
   "execution_count": 26,
   "id": "e729c92f-b9f2-48a3-80a9-a5b0ec55e676",
   "metadata": {},
   "outputs": [
    {
     "data": {
      "text/plain": [
       "[1, 9, 25]"
      ]
     },
     "execution_count": 26,
     "metadata": {},
     "output_type": "execute_result"
    }
   ],
   "source": [
    "#numbers 리스트의 제곱값을 리스트로 생성하여라\n",
    "numbers = [1,3,5]\n",
    "result = [num**2 for num in numbers]\n",
    "result"
   ]
  },
  {
   "cell_type": "code",
   "execution_count": 27,
   "id": "0e2671b8-ba1b-4828-882c-eb79c5a274ef",
   "metadata": {},
   "outputs": [
    {
     "data": {
      "text/plain": [
       "['orange', 'apple', 'mango']"
      ]
     },
     "execution_count": 27,
     "metadata": {},
     "output_type": "execute_result"
    }
   ],
   "source": [
    "#과일 글자가 5글자 이상인 과일 추출\n",
    "fruits = [\"orange\", \"apple\", \"mango\", \"kiwi\"]\n",
    "result = [fruit for fruit in fruits if len(fruit) >= 5]\n",
    "result"
   ]
  },
  {
   "cell_type": "code",
   "execution_count": 28,
   "id": "e1fcf40b-7965-4e76-934d-39df75e7d460",
   "metadata": {},
   "outputs": [
    {
     "data": {
      "text/plain": [
       "[6, 5, 5]"
      ]
     },
     "execution_count": 28,
     "metadata": {},
     "output_type": "execute_result"
    }
   ],
   "source": [
    "#과일 글자가 5글자 이상인 과일의 글자수 출력\n",
    "fruits = [\"orange\", \"apple\", \"mango\", \"kiwi\"]\n",
    "result = [len(fruit) for fruit in fruits if len(fruit) >= 5]\n",
    "result"
   ]
  },
  {
   "cell_type": "markdown",
   "id": "801ea691-74a4-4798-a4aa-a1bf8c6e8f6e",
   "metadata": {},
   "source": [
    "## 1.6 삭제하기\n",
    "- remove(data) : list에서 해당 data 제거\n",
    "- del 리스트변수[idx] : idx번째 요소 제거\n",
    "- pop() : 가장 마지막 index 요소 return되고 삭제"
   ]
  },
  {
   "cell_type": "code",
   "execution_count": 29,
   "id": "50f5907a-8b77-457c-98fa-6d037119cfc1",
   "metadata": {},
   "outputs": [
    {
     "name": "stdout",
     "output_type": "stream",
     "text": [
      "4\n",
      "[1, 2, 3]\n"
     ]
    }
   ],
   "source": [
    "numbers = [1,2,3,4]\n",
    "print(numbers.pop())\n",
    "print(numbers)"
   ]
  },
  {
   "cell_type": "code",
   "execution_count": 30,
   "id": "d8cd4b41-9547-4d99-a701-57e19276b532",
   "metadata": {},
   "outputs": [
    {
     "name": "stdout",
     "output_type": "stream",
     "text": [
      "[2, 3]\n"
     ]
    }
   ],
   "source": [
    "numbers.remove(1) #없는 상태에서 삭제하면 에러남\n",
    "print(numbers)"
   ]
  },
  {
   "cell_type": "code",
   "execution_count": 31,
   "id": "cc608019-78fb-4719-a2c3-2c70cf287493",
   "metadata": {},
   "outputs": [
    {
     "name": "stdout",
     "output_type": "stream",
     "text": [
      "[3]\n"
     ]
    }
   ],
   "source": [
    "del numbers[0]\n",
    "print(numbers)"
   ]
  },
  {
   "cell_type": "code",
   "execution_count": 32,
   "id": "49e347b1-3fa1-4ea4-8b60-755f8f8545f4",
   "metadata": {},
   "outputs": [],
   "source": [
    "del numbers\n",
    "# print(numbers)  -> ERROR!"
   ]
  },
  {
   "cell_type": "markdown",
   "id": "5ecd4d89-c399-4d04-8502-d01939893360",
   "metadata": {},
   "source": [
    "## 1.7 정렬하기"
   ]
  },
  {
   "cell_type": "code",
   "execution_count": 33,
   "id": "3b03e4ce-ee3c-43cc-928c-518a3bf6f781",
   "metadata": {},
   "outputs": [
    {
     "data": {
      "text/plain": [
       "[10, 9, 5, 5, 1]"
      ]
     },
     "execution_count": 33,
     "metadata": {},
     "output_type": "execute_result"
    }
   ],
   "source": [
    "numbers = [9, 10, 1, 5, 5]\n",
    "numbers.sort(reverse=True)  #기본 reverse = False, 오름차순 / reverse = True, 오름차순\n",
    "numbers"
   ]
  },
  {
   "cell_type": "markdown",
   "id": "3d069a0e-bdaf-457c-9ca7-1305bca86350",
   "metadata": {},
   "source": [
    "## 1.8 리스트 복제"
   ]
  },
  {
   "cell_type": "code",
   "execution_count": 34,
   "id": "f03d7434-66d3-4546-be9f-ee1c8a92cbee",
   "metadata": {},
   "outputs": [
    {
     "name": "stdout",
     "output_type": "stream",
     "text": [
      "정렬 전 데이터? : [1, 2, 6]\n",
      "정렬 후 데이터 : [1, 2, 6]\n"
     ]
    }
   ],
   "source": [
    "numbers = [6,1,2]\n",
    "new_numbers = numbers; #얕은 복사 (가르키는 주소만 복사)\n",
    "numbers.sort()\n",
    "print(\"정렬 전 데이터? :\", new_numbers)\n",
    "print(\"정렬 후 데이터 :\", numbers)"
   ]
  },
  {
   "cell_type": "code",
   "execution_count": 35,
   "id": "e91b3563-cad8-4ce7-b89b-eea20da2a4be",
   "metadata": {},
   "outputs": [
    {
     "name": "stdout",
     "output_type": "stream",
     "text": [
      "정렬 전 데이터 : [6, 1, 2]\n",
      "정렬 후 데이터 : [1, 2, 6]\n"
     ]
    }
   ],
   "source": [
    "numbers = [6,1,2]\n",
    "new_numbers = numbers.copy(); #깊은 복사 (똑같은 리스트를 그대로 복사해서 가져다 놓고, 그 복사된 리스트의 주소를 피킹)\n",
    "numbers.sort()\n",
    "print(\"정렬 전 데이터 :\", new_numbers)\n",
    "print(\"정렬 후 데이터 :\", numbers)"
   ]
  },
  {
   "cell_type": "markdown",
   "id": "4bee2539-61b5-4a1a-95e7-9a5984c5fb47",
   "metadata": {},
   "source": [
    "# 2절 튜플(Tuple)\n",
    "-> 리스트와 유사함, 허나 읽기 전용\n",
    "-> 리스트와 다른 점 : 한번 만들면 수정이 불가능\n",
    "-> () 이용해서 생성"
   ]
  },
  {
   "cell_type": "code",
   "execution_count": 36,
   "id": "1fc5d002-9be5-4d1c-b362-cdd593332a05",
   "metadata": {},
   "outputs": [
    {
     "name": "stdout",
     "output_type": "stream",
     "text": [
      "<class 'tuple'>\n",
      "('서울', '부산', '광주', '대전')\n"
     ]
    }
   ],
   "source": [
    "city = ('서울', '부산', '광주', '대전')\n",
    "print(type(city))\n",
    "print(city)"
   ]
  },
  {
   "cell_type": "code",
   "execution_count": 37,
   "id": "434320d1-83eb-462c-b73a-0e7093298583",
   "metadata": {},
   "outputs": [
    {
     "data": {
      "text/plain": [
       "'서울~부산~광주~대전'"
      ]
     },
     "execution_count": 37,
     "metadata": {},
     "output_type": "execute_result"
    }
   ],
   "source": [
    "'~'.join(city)"
   ]
  },
  {
   "cell_type": "code",
   "execution_count": 38,
   "id": "f85e0798-4fa9-408a-823d-c3dcfe1a03bf",
   "metadata": {},
   "outputs": [
    {
     "name": "stdout",
     "output_type": "stream",
     "text": [
      "<class 'str'>\n",
      "<class 'tuple'>\n"
     ]
    }
   ],
   "source": [
    "t = ('서울')\n",
    "print(type(t))  #1개짜리 튜플은 위와 같이 그냥 붙이면 안 됨\n",
    "t = ('서울',)\n",
    "print(type(t))  #1개짜리 튜플은 뒤에 컴마(,) 필수"
   ]
  },
  {
   "cell_type": "markdown",
   "id": "2153bce3-7ea7-4ab1-a433-63b71d877081",
   "metadata": {},
   "source": [
    "# 3절 딕셔너리(Dictionary)\n",
    "- 구조체와 유사\n",
    "- {} 이용해서 생성, key 와 value 의 쌍으로 구성\n",
    "- key는 중복될 수 없음, value는 중복 가능\n",
    "- index를 이용한 참조 불가(index가 없음)"
   ]
  },
  {
   "cell_type": "code",
   "execution_count": 39,
   "id": "4d6c31fd-33e0-4c1a-a768-0c213ce319df",
   "metadata": {},
   "outputs": [
    {
     "name": "stdout",
     "output_type": "stream",
     "text": [
      "<class 'dict'>\n",
      "{'name': '강선민', 'address': '서울시 강동구'}\n"
     ]
    }
   ],
   "source": [
    "dict = {'name':'강선민', 'address':'서울시 강동구'}\n",
    "print(type(dict))\n",
    "print(dict)"
   ]
  },
  {
   "cell_type": "code",
   "execution_count": 40,
   "id": "1b609715-3535-4662-a881-5dc050fe59b8",
   "metadata": {},
   "outputs": [
    {
     "name": "stdout",
     "output_type": "stream",
     "text": [
      "접근 : 강선민 서울시 강동구\n"
     ]
    },
    {
     "data": {
      "text/plain": [
       "('강선민', '서울시 강동구')"
      ]
     },
     "execution_count": 40,
     "metadata": {},
     "output_type": "execute_result"
    }
   ],
   "source": [
    "print(\"접근 :\", dict['name'], dict[\"address\"])\n",
    "dict['name'], dict[\"address\"]  #이대로 콤마 해서 붙여놓으면 튜플로 인식함 (놀랍게도)"
   ]
  },
  {
   "cell_type": "code",
   "execution_count": 41,
   "id": "f44d34d6-fb1a-46e4-9ac5-490583180ba8",
   "metadata": {},
   "outputs": [
    {
     "data": {
      "text/plain": [
       "('강선민', '서울시 강동구', None)"
      ]
     },
     "execution_count": 41,
     "metadata": {},
     "output_type": "execute_result"
    }
   ],
   "source": [
    "#dict['score'] -> ERROR!\n",
    "dict.get('name'), dict.get('address'), dict.get('score')"
   ]
  },
  {
   "cell_type": "code",
   "execution_count": 42,
   "id": "1585de3f-3e8b-4413-8dce-f240fa77786e",
   "metadata": {},
   "outputs": [
    {
     "name": "stdout",
     "output_type": "stream",
     "text": [
      "{'name': '강선민', 'address': '서울시 강동구', 'score': 100, 'sport': 'sleep'}\n",
      "{'name': '강선민', 'address': '서울시 강동구', 'score': 100}\n"
     ]
    }
   ],
   "source": [
    "#dictionary -> 얼마든지 수정 가능! score를 까먹었으니 추가하는 예제\n",
    "dict['score'] = 100      #그냥 추가 가능\n",
    "dict['sport'] = 'sleep' #그냥 추가 가능\n",
    "print(dict)\n",
    "dict.pop('sport')       #제거도 가능\n",
    "print(dict)"
   ]
  },
  {
   "cell_type": "code",
   "execution_count": 43,
   "id": "1129c1c1-98a0-43be-8934-5a2741749240",
   "metadata": {},
   "outputs": [
    {
     "name": "stdout",
     "output_type": "stream",
     "text": [
      "name\n",
      "address\n",
      "score\n",
      "0 name\n",
      "1 address\n",
      "2 score\n"
     ]
    }
   ],
   "source": [
    "for data in dict:\n",
    "    print(data)  #data가 아닌 key만 나옴\n",
    "for idx, value in enumerate(dict):\n",
    "    print(idx, value) #동일하게 인덱스 번호랑 "
   ]
  },
  {
   "cell_type": "code",
   "execution_count": 44,
   "id": "12e74e0e-515a-413a-95b7-36892f42d198",
   "metadata": {},
   "outputs": [
    {
     "name": "stdout",
     "output_type": "stream",
     "text": [
      "dict_keys(['name', 'address', 'score'])\n",
      "dict_values(['강선민', '서울시 강동구', 100])\n",
      "dict_items([('name', '강선민'), ('address', '서울시 강동구'), ('score', 100)])\n"
     ]
    }
   ],
   "source": [
    "print(dict.keys())\n",
    "print(dict.values())\n",
    "print(dict.items())  #for문에서는 이 친구를 이용!"
   ]
  },
  {
   "cell_type": "code",
   "execution_count": 45,
   "id": "9730d20e-f88d-4535-852d-a2bba8a2a938",
   "metadata": {},
   "outputs": [
    {
     "name": "stdout",
     "output_type": "stream",
     "text": [
      "강선민\n",
      "서울시 강동구\n",
      "100\n"
     ]
    }
   ],
   "source": [
    "for data in dict.values():\n",
    "    print(data)"
   ]
  },
  {
   "cell_type": "code",
   "execution_count": 46,
   "id": "b5701cf5-3033-46e4-8009-d4bc5e0b8881",
   "metadata": {},
   "outputs": [
    {
     "name": "stdout",
     "output_type": "stream",
     "text": [
      "name : 강선민\n",
      "address : 서울시 강동구\n",
      "score : 100\n"
     ]
    }
   ],
   "source": [
    "for key, value in dict.items():\n",
    "    print(\"{} : {}\".format(key, value))"
   ]
  },
  {
   "cell_type": "code",
   "execution_count": 47,
   "id": "f2715aba-03c6-486a-9551-3632a298a2e8",
   "metadata": {},
   "outputs": [
    {
     "data": {
      "text/plain": [
       "True"
      ]
     },
     "execution_count": 47,
     "metadata": {},
     "output_type": "execute_result"
    }
   ],
   "source": [
    "l = ['a', 'b', 'c']\n",
    "'c' in l   #in 연산자 -> 뒤에있는 요소에 앞에있는 대상이 있는지 검색하는 기능"
   ]
  },
  {
   "cell_type": "code",
   "execution_count": 48,
   "id": "b519c346-9940-47fc-a50e-40109b383c65",
   "metadata": {},
   "outputs": [
    {
     "name": "stdout",
     "output_type": "stream",
     "text": [
      "True\n",
      "False\n"
     ]
    }
   ],
   "source": [
    "dict = {'name' : '홍길동', 'score' : 100}\n",
    "print('name' in dict)  #True\n",
    "print('홍길동' in dict) #False"
   ]
  },
  {
   "cell_type": "code",
   "execution_count": 49,
   "id": "c4dd220f-b511-4d36-af5f-607f0474211e",
   "metadata": {},
   "outputs": [
    {
     "data": {
      "text/plain": [
       "2"
      ]
     },
     "execution_count": 49,
     "metadata": {},
     "output_type": "execute_result"
    }
   ],
   "source": [
    "len(dict) #데이터 갯수"
   ]
  },
  {
   "cell_type": "markdown",
   "id": "9fd4f5b4-f833-4a8a-864d-c027751bb3f1",
   "metadata": {},
   "source": [
    "# 4절 셋 (Set)\n",
    "- 중복을 허용하지 않는 집합(순서 X = 인덱스 X)\n",
    "- ~번째 아이를 찾아라 -> 불가능!"
   ]
  },
  {
   "cell_type": "code",
   "execution_count": 50,
   "id": "e5d2dcde-b9a6-4c48-9b32-9f32fc729874",
   "metadata": {},
   "outputs": [
    {
     "name": "stdout",
     "output_type": "stream",
     "text": [
      "['apple', 'orange', 'banana', 'banana']\n",
      "('apple', 'orange', 'banana', 'banana')\n",
      "{0, 'banana', 'orange', 'apple'}\n",
      "<class 'set'>\n"
     ]
    }
   ],
   "source": [
    "fruits_list = ['apple', 'orange', 'banana', 'banana']\n",
    "fruits_tuple = ('apple', 'orange', 'banana', 'banana')\n",
    "fruits_set = {'apple', 'orange', 'banana', 'banana', 0, 0}\n",
    "print(\"{}\\n{}\\n{}\".format(fruits_list, fruits_tuple, fruits_set))\n",
    "print(type(fruits_set))"
   ]
  },
  {
   "cell_type": "code",
   "execution_count": 51,
   "id": "6fe4817a-1b4e-417d-b60a-0bc38362bd98",
   "metadata": {},
   "outputs": [
    {
     "name": "stdout",
     "output_type": "stream",
     "text": [
      "{0, 'kiwi', 'banana', 'orange', 'apple'}\n"
     ]
    }
   ],
   "source": [
    "fruits_set.add('kiwi')\n",
    "fruits_set.add('banana')\n",
    "print(fruits_set)"
   ]
  },
  {
   "cell_type": "code",
   "execution_count": 52,
   "id": "21f8c50a-83bd-41e4-810d-841c03b1e31c",
   "metadata": {},
   "outputs": [
    {
     "name": "stdout",
     "output_type": "stream",
     "text": [
      "0:0\n",
      "1:kiwi\n",
      "2:banana\n",
      "3:orange\n",
      "4:apple\n"
     ]
    }
   ],
   "source": [
    "for i, value in enumerate(fruits_set):  #순서 뒤죽박죽임\n",
    "    print(\"{}:{}\".format(i, value))"
   ]
  },
  {
   "cell_type": "code",
   "execution_count": 53,
   "id": "8d9b758f-f3a3-4d33-91f8-7ebbd9648f4e",
   "metadata": {},
   "outputs": [
    {
     "name": "stdout",
     "output_type": "stream",
     "text": [
      "0\n",
      "kiwi\n",
      "banana\n",
      "orange\n",
      "apple\n"
     ]
    }
   ],
   "source": [
    "for data in fruits_set:\n",
    "    print(data)"
   ]
  }
 ],
 "metadata": {
  "kernelspec": {
   "display_name": "Python 3 (ipykernel)",
   "language": "python",
   "name": "python3"
  },
  "language_info": {
   "codemirror_mode": {
    "name": "ipython",
    "version": 3
   },
   "file_extension": ".py",
   "mimetype": "text/x-python",
   "name": "python",
   "nbconvert_exporter": "python",
   "pygments_lexer": "ipython3",
   "version": "3.11.9"
  }
 },
 "nbformat": 4,
 "nbformat_minor": 5
}
