{
 "cells": [
  {
   "cell_type": "markdown",
   "id": "3c742928-7ca1-4a0c-8963-ffa26909c581",
   "metadata": {},
   "source": [
    "# 8절 연습문제"
   ]
  },
  {
   "cell_type": "code",
   "execution_count": 1,
   "id": "3d044abd-2f1d-42f0-b104-c082b3be6b54",
   "metadata": {},
   "outputs": [
    {
     "name": "stdin",
     "output_type": "stream",
     "text": [
      "이름을 입력하세요 강선민\n",
      "나이를 입력하세요 27\n"
     ]
    },
    {
     "name": "stdout",
     "output_type": "stream",
     "text": [
      "강선민님의 나이는 27살입니다\n"
     ]
    }
   ],
   "source": [
    "#1 사용자로부터이름과나이변수를입력받아다음형식으로출력하도록format() 함수를 이용해 형식화하세요\n",
    "# [출력형식: 홍길동님의나이는23살입니다]\n",
    "name = input(\"이름을 입력하세요\")\n",
    "age = input(\"나이를 입력하세요\")\n",
    "print(\"{}님의 나이는 {}살입니다\".format(name, age))"
   ]
  },
  {
   "cell_type": "code",
   "execution_count": 2,
   "id": "fe3fb38c-1fd7-48b9-885e-955e1fbb03ec",
   "metadata": {},
   "outputs": [
    {
     "name": "stdin",
     "output_type": "stream",
     "text": [
      "1번 정수 입력  30\n",
      "2번 정수 입력  12\n"
     ]
    },
    {
     "name": "stdout",
     "output_type": "stream",
     "text": [
      "두 수의 덧셈 :  42\n",
      "두 수의 뺄셈 :  18\n",
      "두 수의 곱셈 :  360\n",
      "두 수의 나눗셈 :  2.5\n",
      "두 수의 몫 :  2\n",
      "두 수의 나머지 :  6\n"
     ]
    }
   ],
   "source": [
    "#2  두정수를입력받아두수의덧셈, 뺄셈, 곱셈, 나눗셈, 몫, 나머지를출력하세요\n",
    "num1 = int(input(\"1번 정수 입력 \"))\n",
    "num2 = int(input(\"2번 정수 입력 \"))\n",
    "print(\"두 수의 덧셈 : \", num1 + num2)\n",
    "print(\"두 수의 뺄셈 : \", num1 - num2)\n",
    "print(\"두 수의 곱셈 : \", num1 * num2)\n",
    "try: #예외가 발생할 수 있는 부분을 try로 감싸줌\n",
    "    print(\"두 수의 나눗셈 : \", num1 / num2)\n",
    "    print(\"두 수의 몫 : \", num1 // num2)\n",
    "    print(\"두 수의 나머지 : \", num1 % num2)\n",
    "except: #예외가 발생한 경우 나오는 것\n",
    "    print(\"입력한 정수를 다시 확인해주십시오\")"
   ]
  },
  {
   "cell_type": "code",
   "execution_count": 3,
   "id": "1d3b22ab-1da1-4bc4-aa7a-9cd0f6d89ab3",
   "metadata": {},
   "outputs": [
    {
     "name": "stdout",
     "output_type": "stream",
     "text": [
      "['World', 'Hello']\n"
     ]
    }
   ],
   "source": [
    "#3 문자열의분리하기와합치기기능을이용하여‘Hello World’가할당된변수를이용하여 ‘World Hello’로 출력하세요\n",
    "word = \"Hello World\"\n",
    "word_list = word.split()\n",
    "print(word_list[::-1])"
   ]
  },
  {
   "cell_type": "code",
   "execution_count": 4,
   "id": "683c4ebf-9109-4cc6-bc2c-2cf4e8cb9130",
   "metadata": {},
   "outputs": [
    {
     "name": "stdout",
     "output_type": "stream",
     "text": [
      "bcdefa\n",
      "bcdefa\n"
     ]
    }
   ],
   "source": [
    "#4 x = 'abcdef＇를 이용하여 ‘bcdefa’로 출력하세요(문자슬라이싱이용).\n",
    "x = 'abcdef'\n",
    "print(x[1:]+x[0])\n",
    "print(x[1:],x[0],sep='')"
   ]
  },
  {
   "cell_type": "code",
   "execution_count": 5,
   "id": "feb50200-6484-4f8e-9b9d-d8fee4d1dba9",
   "metadata": {},
   "outputs": [
    {
     "name": "stdout",
     "output_type": "stream",
     "text": [
      "fedcba\n"
     ]
    }
   ],
   "source": [
    "#5 x = ‘abcdef’를 이용하여 ‘fedcba’로 출력하세요\n",
    "print(x[::-1])"
   ]
  },
  {
   "cell_type": "markdown",
   "id": "291208f3-679a-4d68-8e64-e29a340f8109",
   "metadata": {},
   "source": [
    "```\n",
    "6\n",
    "오늘의온도를섭씨온도로입력받아화씨온도로변환하는프로그램을작성하세요. 화\r\n",
    "씨온도는소수점이있을경우만 두번째자리까지출력되고, 소수점이하값이없는경\r\n",
    "우소수점을출력하지않도록합니다.(다음은섭씨와화씨의변환공식입니다. C는섭\r\n",
    "씨, F는 화씨)\r\n",
    " C = (F-32) / 1.8\r\n",
    " 46\r\n",
    " F = (C*1.8) + 32\r\n",
    "\n",
    "```"
   ]
  },
  {
   "cell_type": "code",
   "execution_count": 6,
   "id": "22c98f1e-f8d9-4d44-9269-dce2b11de451",
   "metadata": {},
   "outputs": [
    {
     "name": "stdin",
     "output_type": "stream",
     "text": [
      "오늘의 온도를 섭씨로 입력하세요 26\n"
     ]
    },
    {
     "name": "stdout",
     "output_type": "stream",
     "text": [
      "섭씨 26도는 화씨온도로 바꾸면 78.80도입니다.\n"
     ]
    }
   ],
   "source": [
    "c = int(input(\"오늘의 온도를 섭씨로 입력하세요\"))\n",
    "f = (c*1.8) + 32\n",
    "if f==round(f):\n",
    "    print('섭씨 {}도는 화씨온도로 바꾸면 {:.0f}도입니다.'.format(c,f))\n",
    "else:\n",
    "    print('섭씨 {}도는 화씨온도로 바꾸면 {:.2f}도입니다.'.format(c,f))"
   ]
  },
  {
   "cell_type": "code",
   "execution_count": 7,
   "id": "939c4c70-e6e1-49d8-a835-aee1b7e7ea19",
   "metadata": {},
   "outputs": [],
   "source": [
    "#7 -> 1, 2, 3번"
   ]
  },
  {
   "cell_type": "code",
   "execution_count": 8,
   "id": "2a1f7aef-8d75-477a-9fef-d965872d9ac2",
   "metadata": {},
   "outputs": [
    {
     "name": "stdout",
     "output_type": "stream",
     "text": [
      "SeounSeoul\n",
      "Seou n Seoul\n"
     ]
    }
   ],
   "source": [
    "#8 \n",
    "text = \"Seoul A001 - programming with python\"\n",
    "print(text[:4] + text[-1] + text.split()[0])\n",
    "print(text[:4], text[-1], text.split()[0])"
   ]
  },
  {
   "cell_type": "code",
   "execution_count": 9,
   "id": "87077087-b1bd-49ba-a175-13c93202ef51",
   "metadata": {},
   "outputs": [],
   "source": [
    "#9 -> 아마 2번?"
   ]
  }
 ],
 "metadata": {
  "kernelspec": {
   "display_name": "Python 3 (ipykernel)",
   "language": "python",
   "name": "python3"
  },
  "language_info": {
   "codemirror_mode": {
    "name": "ipython",
    "version": 3
   },
   "file_extension": ".py",
   "mimetype": "text/x-python",
   "name": "python",
   "nbconvert_exporter": "python",
   "pygments_lexer": "ipython3",
   "version": "3.11.7"
  }
 },
 "nbformat": 4,
 "nbformat_minor": 5
}
